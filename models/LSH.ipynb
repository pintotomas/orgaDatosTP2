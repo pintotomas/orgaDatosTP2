{
 "cells": [
  {
   "cell_type": "code",
   "execution_count": 1,
   "metadata": {
    "collapsed": true
   },
   "outputs": [],
   "source": [
    "   \n",
    "    #http://lijiancheng0614.github.io/scikit-learn/modules/generated/sklearn.neighbors.LSHForest.html\n",
    "    import numpy\n",
    "    import pandas\n",
    "    from sklearn.neighbors import LSHForest\n",
    "    from sklearn.model_selection import cross_val_score"
   ]
  },
  {
   "cell_type": "code",
   "execution_count": 2,
   "metadata": {
    "collapsed": false
   },
   "outputs": [
    {
     "data": {
      "text/html": [
       "<div>\n",
       "<table border=\"1\" class=\"dataframe\">\n",
       "  <thead>\n",
       "    <tr style=\"text-align: right;\">\n",
       "      <th></th>\n",
       "      <th>description</th>\n",
       "      <th>floor</th>\n",
       "      <th>lat-lon</th>\n",
       "      <th>place_name</th>\n",
       "      <th>place_with_parent_names</th>\n",
       "      <th>property_type</th>\n",
       "      <th>rooms</th>\n",
       "      <th>state_name</th>\n",
       "      <th>surface_covered_in_m2</th>\n",
       "      <th>surface_total_in_m2</th>\n",
       "      <th>...</th>\n",
       "      <th>amenities</th>\n",
       "      <th>patio</th>\n",
       "      <th>parrilla</th>\n",
       "      <th>pileta</th>\n",
       "      <th>quincho</th>\n",
       "      <th>rooms1</th>\n",
       "      <th>rooms2</th>\n",
       "      <th>surface_total_in_m21</th>\n",
       "      <th>surface_total_in_m22</th>\n",
       "      <th>id</th>\n",
       "    </tr>\n",
       "  </thead>\n",
       "  <tbody>\n",
       "    <tr>\n",
       "      <th>0</th>\n",
       "      <td>0.787823</td>\n",
       "      <td>NaN</td>\n",
       "      <td>0.104345</td>\n",
       "      <td>0.578584</td>\n",
       "      <td>0.718093</td>\n",
       "      <td>1.265273</td>\n",
       "      <td>0.333333</td>\n",
       "      <td>0.378310</td>\n",
       "      <td>NaN</td>\n",
       "      <td>0.000000</td>\n",
       "      <td>...</td>\n",
       "      <td>0.0</td>\n",
       "      <td>0.0</td>\n",
       "      <td>0.0</td>\n",
       "      <td>0.0</td>\n",
       "      <td>0.0</td>\n",
       "      <td>0.333333</td>\n",
       "      <td>0.5</td>\n",
       "      <td>1.0</td>\n",
       "      <td>0.0</td>\n",
       "      <td>3632</td>\n",
       "    </tr>\n",
       "    <tr>\n",
       "      <th>1</th>\n",
       "      <td>0.125275</td>\n",
       "      <td>NaN</td>\n",
       "      <td>NaN</td>\n",
       "      <td>0.624856</td>\n",
       "      <td>0.779815</td>\n",
       "      <td>1.265273</td>\n",
       "      <td>NaN</td>\n",
       "      <td>0.671307</td>\n",
       "      <td>NaN</td>\n",
       "      <td>0.000000</td>\n",
       "      <td>...</td>\n",
       "      <td>0.0</td>\n",
       "      <td>0.0</td>\n",
       "      <td>0.0</td>\n",
       "      <td>1.0</td>\n",
       "      <td>0.0</td>\n",
       "      <td>0.000000</td>\n",
       "      <td>0.0</td>\n",
       "      <td>0.0</td>\n",
       "      <td>0.0</td>\n",
       "      <td>3633</td>\n",
       "    </tr>\n",
       "    <tr>\n",
       "      <th>2</th>\n",
       "      <td>0.582238</td>\n",
       "      <td>NaN</td>\n",
       "      <td>0.535028</td>\n",
       "      <td>0.727655</td>\n",
       "      <td>0.563185</td>\n",
       "      <td>1.265273</td>\n",
       "      <td>0.166667</td>\n",
       "      <td>0.378310</td>\n",
       "      <td>0.000014</td>\n",
       "      <td>0.000265</td>\n",
       "      <td>...</td>\n",
       "      <td>0.0</td>\n",
       "      <td>0.0</td>\n",
       "      <td>1.0</td>\n",
       "      <td>0.0</td>\n",
       "      <td>0.0</td>\n",
       "      <td>0.333333</td>\n",
       "      <td>0.5</td>\n",
       "      <td>0.0</td>\n",
       "      <td>0.0</td>\n",
       "      <td>2263404</td>\n",
       "    </tr>\n",
       "  </tbody>\n",
       "</table>\n",
       "<p>3 rows × 29 columns</p>\n",
       "</div>"
      ],
      "text/plain": [
       "   description  floor   lat-lon  place_name  place_with_parent_names  \\\n",
       "0     0.787823    NaN  0.104345    0.578584                 0.718093   \n",
       "1     0.125275    NaN       NaN    0.624856                 0.779815   \n",
       "2     0.582238    NaN  0.535028    0.727655                 0.563185   \n",
       "\n",
       "   property_type     rooms  state_name  surface_covered_in_m2  \\\n",
       "0       1.265273  0.333333    0.378310                    NaN   \n",
       "1       1.265273       NaN    0.671307                    NaN   \n",
       "2       1.265273  0.166667    0.378310               0.000014   \n",
       "\n",
       "   surface_total_in_m2   ...     amenities  patio  parrilla  pileta  quincho  \\\n",
       "0             0.000000   ...           0.0    0.0       0.0     0.0      0.0   \n",
       "1             0.000000   ...           0.0    0.0       0.0     1.0      0.0   \n",
       "2             0.000265   ...           0.0    0.0       1.0     0.0      0.0   \n",
       "\n",
       "     rooms1  rooms2  surface_total_in_m21  surface_total_in_m22       id  \n",
       "0  0.333333     0.5                   1.0                   0.0     3632  \n",
       "1  0.000000     0.0                   0.0                   0.0     3633  \n",
       "2  0.333333     0.5                   0.0                   0.0  2263404  \n",
       "\n",
       "[3 rows x 29 columns]"
      ]
     },
     "execution_count": 2,
     "metadata": {},
     "output_type": "execute_result"
    }
   ],
   "source": [
    "dataframes = pandas.read_csv(\"../data/files/test_set.csv\", delimiter=',',error_bad_lines=False,compression='gzip')\n",
    "dataframes.head(3)\n"
   ]
  },
  {
   "cell_type": "code",
   "execution_count": 3,
   "metadata": {
    "collapsed": false
   },
   "outputs": [
    {
     "name": "stderr",
     "output_type": "stream",
     "text": [
      "/usr/lib/python2.7/dist-packages/pandas/core/generic.py:3295: SettingWithCopyWarning: \n",
      "A value is trying to be set on a copy of a slice from a DataFrame\n",
      "\n",
      "See the caveats in the documentation: http://pandas.pydata.org/pandas-docs/stable/indexing.html#indexing-view-versus-copy\n",
      "  self._update_inplace(new_data)\n"
     ]
    },
    {
     "data": {
      "text/html": [
       "<div>\n",
       "<table border=\"1\" class=\"dataframe\">\n",
       "  <thead>\n",
       "    <tr style=\"text-align: right;\">\n",
       "      <th></th>\n",
       "      <th>place_name</th>\n",
       "      <th>place_with_parent_names</th>\n",
       "      <th>rooms</th>\n",
       "      <th>surface_covered_in_m2</th>\n",
       "      <th>surface_total_in_m2</th>\n",
       "      <th>expenses</th>\n",
       "    </tr>\n",
       "  </thead>\n",
       "  <tbody>\n",
       "    <tr>\n",
       "      <th>0</th>\n",
       "      <td>0.578584</td>\n",
       "      <td>0.718093</td>\n",
       "      <td>0.333333</td>\n",
       "      <td>0.000110</td>\n",
       "      <td>0.000000</td>\n",
       "      <td>0.000361</td>\n",
       "    </tr>\n",
       "    <tr>\n",
       "      <th>1</th>\n",
       "      <td>0.624856</td>\n",
       "      <td>0.779815</td>\n",
       "      <td>0.282128</td>\n",
       "      <td>0.000110</td>\n",
       "      <td>0.000000</td>\n",
       "      <td>0.000361</td>\n",
       "    </tr>\n",
       "    <tr>\n",
       "      <th>2</th>\n",
       "      <td>0.727655</td>\n",
       "      <td>0.563185</td>\n",
       "      <td>0.166667</td>\n",
       "      <td>0.000014</td>\n",
       "      <td>0.000265</td>\n",
       "      <td>0.000361</td>\n",
       "    </tr>\n",
       "    <tr>\n",
       "      <th>3</th>\n",
       "      <td>0.706435</td>\n",
       "      <td>0.223811</td>\n",
       "      <td>0.282128</td>\n",
       "      <td>0.000012</td>\n",
       "      <td>0.000195</td>\n",
       "      <td>0.000080</td>\n",
       "    </tr>\n",
       "    <tr>\n",
       "      <th>4</th>\n",
       "      <td>0.706435</td>\n",
       "      <td>0.223811</td>\n",
       "      <td>0.282128</td>\n",
       "      <td>0.000015</td>\n",
       "      <td>0.000255</td>\n",
       "      <td>0.000361</td>\n",
       "    </tr>\n",
       "  </tbody>\n",
       "</table>\n",
       "</div>"
      ],
      "text/plain": [
       "   place_name  place_with_parent_names     rooms  surface_covered_in_m2  \\\n",
       "0    0.578584                 0.718093  0.333333               0.000110   \n",
       "1    0.624856                 0.779815  0.282128               0.000110   \n",
       "2    0.727655                 0.563185  0.166667               0.000014   \n",
       "3    0.706435                 0.223811  0.282128               0.000012   \n",
       "4    0.706435                 0.223811  0.282128               0.000015   \n",
       "\n",
       "   surface_total_in_m2  expenses  \n",
       "0             0.000000  0.000361  \n",
       "1             0.000000  0.000361  \n",
       "2             0.000265  0.000361  \n",
       "3             0.000195  0.000080  \n",
       "4             0.000255  0.000361  "
      ]
     },
     "execution_count": 3,
     "metadata": {},
     "output_type": "execute_result"
    }
   ],
   "source": [
    "test = dataframes[['place_name','place_with_parent_names','rooms','surface_covered_in_m2','surface_total_in_m2','expenses']]\n",
    "test.fillna(test.mean(),inplace= True)\n",
    "test.head(5)"
   ]
  },
  {
   "cell_type": "code",
   "execution_count": 4,
   "metadata": {
    "collapsed": true
   },
   "outputs": [],
   "source": [
    "xtest = test.values\n",
    " \n",
    "xtest=xtest[:,0:6]"
   ]
  },
  {
   "cell_type": "code",
   "execution_count": 5,
   "metadata": {
    "collapsed": false
   },
   "outputs": [
    {
     "data": {
      "text/plain": [
       "array([[  5.78584038e-01,   7.18092508e-01,   3.33333333e-01,\n",
       "          1.10466232e-04,   0.00000000e+00,   3.60847426e-04],\n",
       "       [  6.24856105e-01,   7.79815161e-01,   2.82128052e-01,\n",
       "          1.10466232e-04,   0.00000000e+00,   3.60847426e-04],\n",
       "       [  7.27654699e-01,   5.63184836e-01,   1.66666667e-01,\n",
       "          1.44916767e-05,   2.65000000e-04,   3.60847426e-04],\n",
       "       ..., \n",
       "       [  1.03299943e-02,   3.32241786e-01,   5.00000000e-01,\n",
       "          4.13166952e-05,   1.09500000e-03,   3.60847426e-04],\n",
       "       [  6.62960432e-01,   9.33107256e-01,   1.66666667e-01,\n",
       "          1.44916767e-05,   3.10000000e-04,   3.60847426e-04],\n",
       "       [  3.57419325e-01,   9.26926052e-01,   5.00000000e-01,\n",
       "          3.97750275e-05,   1.83500000e-03,   3.60847426e-04]])"
      ]
     },
     "execution_count": 5,
     "metadata": {},
     "output_type": "execute_result"
    }
   ],
   "source": [
    "xtest "
   ]
  },
  {
   "cell_type": "code",
   "execution_count": 6,
   "metadata": {
    "collapsed": false
   },
   "outputs": [
    {
     "data": {
      "text/html": [
       "<div>\n",
       "<table border=\"1\" class=\"dataframe\">\n",
       "  <thead>\n",
       "    <tr style=\"text-align: right;\">\n",
       "      <th></th>\n",
       "      <th>id</th>\n",
       "      <th>description</th>\n",
       "      <th>floor</th>\n",
       "      <th>lat-lon</th>\n",
       "      <th>place_name</th>\n",
       "      <th>place_with_parent_names</th>\n",
       "      <th>property_type</th>\n",
       "      <th>rooms</th>\n",
       "      <th>state_name</th>\n",
       "      <th>surface_covered_in_m2</th>\n",
       "      <th>...</th>\n",
       "      <th>cocina</th>\n",
       "      <th>amenities</th>\n",
       "      <th>patio</th>\n",
       "      <th>parrilla</th>\n",
       "      <th>pileta</th>\n",
       "      <th>quincho</th>\n",
       "      <th>rooms1</th>\n",
       "      <th>rooms2</th>\n",
       "      <th>surface_total_in_m21</th>\n",
       "      <th>surface_total_in_m22</th>\n",
       "    </tr>\n",
       "  </thead>\n",
       "  <tbody>\n",
       "    <tr>\n",
       "      <th>0</th>\n",
       "      <td>0</td>\n",
       "      <td>0.758721</td>\n",
       "      <td>0.070631</td>\n",
       "      <td>0.526570</td>\n",
       "      <td>0.287817</td>\n",
       "      <td>0.632960</td>\n",
       "      <td>0.0</td>\n",
       "      <td>0.268115</td>\n",
       "      <td>0.000000</td>\n",
       "      <td>0.000055</td>\n",
       "      <td>...</td>\n",
       "      <td>1.0</td>\n",
       "      <td>0.0</td>\n",
       "      <td>0.0</td>\n",
       "      <td>0.0</td>\n",
       "      <td>1.0</td>\n",
       "      <td>1.0</td>\n",
       "      <td>0.000000</td>\n",
       "      <td>0.0</td>\n",
       "      <td>0.0</td>\n",
       "      <td>0.0</td>\n",
       "    </tr>\n",
       "    <tr>\n",
       "      <th>1</th>\n",
       "      <td>1</td>\n",
       "      <td>0.606186</td>\n",
       "      <td>0.070631</td>\n",
       "      <td>0.511955</td>\n",
       "      <td>0.879101</td>\n",
       "      <td>0.444374</td>\n",
       "      <td>0.0</td>\n",
       "      <td>0.666667</td>\n",
       "      <td>0.000000</td>\n",
       "      <td>0.000040</td>\n",
       "      <td>...</td>\n",
       "      <td>1.0</td>\n",
       "      <td>0.0</td>\n",
       "      <td>0.0</td>\n",
       "      <td>0.0</td>\n",
       "      <td>1.0</td>\n",
       "      <td>1.0</td>\n",
       "      <td>0.666667</td>\n",
       "      <td>1.0</td>\n",
       "      <td>1.0</td>\n",
       "      <td>0.0</td>\n",
       "    </tr>\n",
       "    <tr>\n",
       "      <th>2</th>\n",
       "      <td>2</td>\n",
       "      <td>0.707316</td>\n",
       "      <td>0.070631</td>\n",
       "      <td>0.353935</td>\n",
       "      <td>0.422263</td>\n",
       "      <td>0.923406</td>\n",
       "      <td>0.0</td>\n",
       "      <td>0.268115</td>\n",
       "      <td>0.788018</td>\n",
       "      <td>0.000049</td>\n",
       "      <td>...</td>\n",
       "      <td>0.0</td>\n",
       "      <td>0.0</td>\n",
       "      <td>0.0</td>\n",
       "      <td>0.0</td>\n",
       "      <td>0.0</td>\n",
       "      <td>1.0</td>\n",
       "      <td>0.000000</td>\n",
       "      <td>0.0</td>\n",
       "      <td>0.0</td>\n",
       "      <td>0.0</td>\n",
       "    </tr>\n",
       "    <tr>\n",
       "      <th>3</th>\n",
       "      <td>3</td>\n",
       "      <td>0.665816</td>\n",
       "      <td>0.070631</td>\n",
       "      <td>0.653331</td>\n",
       "      <td>0.863868</td>\n",
       "      <td>0.024805</td>\n",
       "      <td>1.0</td>\n",
       "      <td>0.000000</td>\n",
       "      <td>0.378310</td>\n",
       "      <td>0.000011</td>\n",
       "      <td>...</td>\n",
       "      <td>0.0</td>\n",
       "      <td>0.0</td>\n",
       "      <td>0.0</td>\n",
       "      <td>1.0</td>\n",
       "      <td>0.0</td>\n",
       "      <td>0.0</td>\n",
       "      <td>0.000000</td>\n",
       "      <td>0.0</td>\n",
       "      <td>0.0</td>\n",
       "      <td>0.0</td>\n",
       "    </tr>\n",
       "    <tr>\n",
       "      <th>4</th>\n",
       "      <td>4</td>\n",
       "      <td>0.377035</td>\n",
       "      <td>0.070631</td>\n",
       "      <td>0.443158</td>\n",
       "      <td>0.297724</td>\n",
       "      <td>1.000000</td>\n",
       "      <td>0.0</td>\n",
       "      <td>0.268115</td>\n",
       "      <td>0.000000</td>\n",
       "      <td>0.000108</td>\n",
       "      <td>...</td>\n",
       "      <td>0.0</td>\n",
       "      <td>0.0</td>\n",
       "      <td>0.0</td>\n",
       "      <td>1.0</td>\n",
       "      <td>0.0</td>\n",
       "      <td>0.0</td>\n",
       "      <td>0.000000</td>\n",
       "      <td>0.0</td>\n",
       "      <td>0.0</td>\n",
       "      <td>0.0</td>\n",
       "    </tr>\n",
       "  </tbody>\n",
       "</table>\n",
       "<p>5 rows × 30 columns</p>\n",
       "</div>"
      ],
      "text/plain": [
       "   id  description     floor   lat-lon  place_name  place_with_parent_names  \\\n",
       "0   0     0.758721  0.070631  0.526570    0.287817                 0.632960   \n",
       "1   1     0.606186  0.070631  0.511955    0.879101                 0.444374   \n",
       "2   2     0.707316  0.070631  0.353935    0.422263                 0.923406   \n",
       "3   3     0.665816  0.070631  0.653331    0.863868                 0.024805   \n",
       "4   4     0.377035  0.070631  0.443158    0.297724                 1.000000   \n",
       "\n",
       "   property_type     rooms  state_name  surface_covered_in_m2  \\\n",
       "0            0.0  0.268115    0.000000               0.000055   \n",
       "1            0.0  0.666667    0.000000               0.000040   \n",
       "2            0.0  0.268115    0.788018               0.000049   \n",
       "3            1.0  0.000000    0.378310               0.000011   \n",
       "4            0.0  0.268115    0.000000               0.000108   \n",
       "\n",
       "           ...           cocina  amenities  patio  parrilla  pileta  quincho  \\\n",
       "0          ...              1.0        0.0    0.0       0.0     1.0      1.0   \n",
       "1          ...              1.0        0.0    0.0       0.0     1.0      1.0   \n",
       "2          ...              0.0        0.0    0.0       0.0     0.0      1.0   \n",
       "3          ...              0.0        0.0    0.0       1.0     0.0      0.0   \n",
       "4          ...              0.0        0.0    0.0       1.0     0.0      0.0   \n",
       "\n",
       "     rooms1  rooms2  surface_total_in_m21  surface_total_in_m22  \n",
       "0  0.000000     0.0                   0.0                   0.0  \n",
       "1  0.666667     1.0                   1.0                   0.0  \n",
       "2  0.000000     0.0                   0.0                   0.0  \n",
       "3  0.000000     0.0                   0.0                   0.0  \n",
       "4  0.000000     0.0                   0.0                   0.0  \n",
       "\n",
       "[5 rows x 30 columns]"
      ]
     },
     "execution_count": 6,
     "metadata": {},
     "output_type": "execute_result"
    }
   ],
   "source": [
    "dataframe = pandas.read_csv(\"../data/files/training_set.csv\", delimiter=',',error_bad_lines=False,compression='gzip')\n",
    "dataframe.head(5)"
   ]
  },
  {
   "cell_type": "code",
   "execution_count": 7,
   "metadata": {
    "collapsed": false
   },
   "outputs": [
    {
     "data": {
      "text/html": [
       "<div>\n",
       "<table border=\"1\" class=\"dataframe\">\n",
       "  <thead>\n",
       "    <tr style=\"text-align: right;\">\n",
       "      <th></th>\n",
       "      <th>place_name</th>\n",
       "      <th>place_with_parent_names</th>\n",
       "      <th>rooms</th>\n",
       "      <th>surface_covered_in_m2</th>\n",
       "      <th>surface_total_in_m2</th>\n",
       "      <th>expenses</th>\n",
       "      <th>price_aprox_usd</th>\n",
       "    </tr>\n",
       "  </thead>\n",
       "  <tbody>\n",
       "    <tr>\n",
       "      <th>0</th>\n",
       "      <td>0.287817</td>\n",
       "      <td>0.632960</td>\n",
       "      <td>0.268115</td>\n",
       "      <td>0.000055</td>\n",
       "      <td>0.001150</td>\n",
       "      <td>0.000395</td>\n",
       "      <td>178000.0</td>\n",
       "    </tr>\n",
       "    <tr>\n",
       "      <th>1</th>\n",
       "      <td>0.879101</td>\n",
       "      <td>0.444374</td>\n",
       "      <td>0.666667</td>\n",
       "      <td>0.000040</td>\n",
       "      <td>0.000650</td>\n",
       "      <td>0.000395</td>\n",
       "      <td>230000.0</td>\n",
       "    </tr>\n",
       "    <tr>\n",
       "      <th>2</th>\n",
       "      <td>0.422263</td>\n",
       "      <td>0.923406</td>\n",
       "      <td>0.268115</td>\n",
       "      <td>0.000049</td>\n",
       "      <td>0.000910</td>\n",
       "      <td>0.000395</td>\n",
       "      <td>240000.0</td>\n",
       "    </tr>\n",
       "    <tr>\n",
       "      <th>3</th>\n",
       "      <td>0.863868</td>\n",
       "      <td>0.024805</td>\n",
       "      <td>0.000000</td>\n",
       "      <td>0.000011</td>\n",
       "      <td>0.000015</td>\n",
       "      <td>0.000080</td>\n",
       "      <td>77000.0</td>\n",
       "    </tr>\n",
       "    <tr>\n",
       "      <th>4</th>\n",
       "      <td>0.297724</td>\n",
       "      <td>1.000000</td>\n",
       "      <td>0.268115</td>\n",
       "      <td>0.000108</td>\n",
       "      <td>0.006040</td>\n",
       "      <td>0.000395</td>\n",
       "      <td>470000.0</td>\n",
       "    </tr>\n",
       "  </tbody>\n",
       "</table>\n",
       "</div>"
      ],
      "text/plain": [
       "   place_name  place_with_parent_names     rooms  surface_covered_in_m2  \\\n",
       "0    0.287817                 0.632960  0.268115               0.000055   \n",
       "1    0.879101                 0.444374  0.666667               0.000040   \n",
       "2    0.422263                 0.923406  0.268115               0.000049   \n",
       "3    0.863868                 0.024805  0.000000               0.000011   \n",
       "4    0.297724                 1.000000  0.268115               0.000108   \n",
       "\n",
       "   surface_total_in_m2  expenses  price_aprox_usd  \n",
       "0             0.001150  0.000395         178000.0  \n",
       "1             0.000650  0.000395         230000.0  \n",
       "2             0.000910  0.000395         240000.0  \n",
       "3             0.000015  0.000080          77000.0  \n",
       "4             0.006040  0.000395         470000.0  "
      ]
     },
     "execution_count": 7,
     "metadata": {},
     "output_type": "execute_result"
    }
   ],
   "source": [
    "entrenamiento = dataframe[['place_name','place_with_parent_names','rooms','surface_covered_in_m2','surface_total_in_m2','expenses','price_aprox_usd']]\n",
    "entrenamiento.head(5)"
   ]
  },
  {
   "cell_type": "code",
   "execution_count": 8,
   "metadata": {
    "collapsed": true
   },
   "outputs": [],
   "source": [
    "dataset = entrenamiento.values\n",
    " \n",
    "X = dataset[0:,0:6]\n",
    "Y = dataset[0:,6:7]"
   ]
  },
  {
   "cell_type": "code",
   "execution_count": 9,
   "metadata": {
    "collapsed": false
   },
   "outputs": [
    {
     "data": {
      "text/plain": [
       "array([[  2.87817478e-01,   6.32959603e-01,   2.68115186e-01,\n",
       "          5.51917048e-05,   1.15000000e-03,   3.95133820e-04],\n",
       "       [  8.79101496e-01,   4.44373754e-01,   6.66666667e-01,\n",
       "          3.97750275e-05,   6.50000000e-04,   3.95133820e-04],\n",
       "       [  4.22262777e-01,   9.23406028e-01,   2.68115186e-01,\n",
       "          4.91575028e-05,   9.10000000e-04,   3.95133820e-04],\n",
       "       [  8.63867657e-01,   2.48049018e-02,   0.00000000e+00,\n",
       "          1.14083412e-05,   1.45379977e-05,   7.98880248e-05]])"
      ]
     },
     "execution_count": 9,
     "metadata": {},
     "output_type": "execute_result"
    }
   ],
   "source": [
    "X[:4]"
   ]
  },
  {
   "cell_type": "code",
   "execution_count": 10,
   "metadata": {
    "collapsed": false
   },
   "outputs": [
    {
     "data": {
      "text/plain": [
       "array([[ 178000.],\n",
       "       [ 230000.],\n",
       "       [ 240000.],\n",
       "       [  77000.]])"
      ]
     },
     "execution_count": 10,
     "metadata": {},
     "output_type": "execute_result"
    }
   ],
   "source": [
    "Y[:4]"
   ]
  },
  {
   "cell_type": "code",
   "execution_count": null,
   "metadata": {
    "collapsed": true
   },
   "outputs": [],
   "source": []
  },
  {
   "cell_type": "code",
   "execution_count": 11,
   "metadata": {
    "collapsed": true
   },
   "outputs": [],
   "source": [
    "X_train = X\n",
    "\n",
    "X_test =xtest \n",
    "\n",
    "\n",
    "\n",
    "\n"
   ]
  },
  {
   "cell_type": "code",
   "execution_count": 12,
   "metadata": {
    "collapsed": false
   },
   "outputs": [
    {
     "name": "stderr",
     "output_type": "stream",
     "text": [
      "/home/yussef/.local/lib/python2.7/site-packages/sklearn/neighbors/approximate.py:220: DeprecationWarning: LSHForest has poor performance and has been deprecated in 0.19. It will be removed in version 0.21.\n",
      "  DeprecationWarning)\n",
      "/home/yussef/.local/lib/python2.7/site-packages/sklearn/neighbors/approximate.py:220: DeprecationWarning: LSHForest has poor performance and has been deprecated in 0.19. It will be removed in version 0.21.\n",
      "  DeprecationWarning)\n",
      "/home/yussef/.local/lib/python2.7/site-packages/sklearn/neighbors/approximate.py:220: DeprecationWarning: LSHForest has poor performance and has been deprecated in 0.19. It will be removed in version 0.21.\n",
      "  DeprecationWarning)\n",
      "/home/yussef/.local/lib/python2.7/site-packages/sklearn/neighbors/approximate.py:220: DeprecationWarning: LSHForest has poor performance and has been deprecated in 0.19. It will be removed in version 0.21.\n",
      "  DeprecationWarning)\n",
      "/home/yussef/.local/lib/python2.7/site-packages/sklearn/neighbors/approximate.py:220: DeprecationWarning: LSHForest has poor performance and has been deprecated in 0.19. It will be removed in version 0.21.\n",
      "  DeprecationWarning)\n",
      "/home/yussef/.local/lib/python2.7/site-packages/sklearn/random_projection.py:378: DataDimensionalityWarning: The number of components is higher than the number of features: n_features < n_components (6 < 32).The dimensionality of the problem will not be reduced.\n",
      "  DataDimensionalityWarning)\n",
      "/home/yussef/.local/lib/python2.7/site-packages/sklearn/random_projection.py:378: DataDimensionalityWarning: The number of components is higher than the number of features: n_features < n_components (6 < 32).The dimensionality of the problem will not be reduced.\n",
      "  DataDimensionalityWarning)\n"
     ]
    },
    {
     "ename": "JoblibAttributeError",
     "evalue": "JoblibAttributeError\n___________________________________________________________________________\nMultiprocessing exception:\n...........................................................................\n/usr/lib/python2.7/runpy.py in _run_module_as_main(mod_name='ipykernel.__main__', alter_argv=1)\n    169     pkg_name = mod_name.rpartition('.')[0]\n    170     main_globals = sys.modules[\"__main__\"].__dict__\n    171     if alter_argv:\n    172         sys.argv[0] = fname\n    173     return _run_code(code, main_globals, None,\n--> 174                      \"__main__\", fname, loader, pkg_name)\n        fname = '/usr/lib/python2.7/dist-packages/ipykernel/__main__.py'\n        loader = <pkgutil.ImpLoader instance>\n        pkg_name = 'ipykernel'\n    175 \n    176 def run_module(mod_name, init_globals=None,\n    177                run_name=None, alter_sys=False):\n    178     \"\"\"Execute a module's code without importing it\n\n...........................................................................\n/usr/lib/python2.7/runpy.py in _run_code(code=<code object <module> at 0x7fa851fe38b0, file \"/...2.7/dist-packages/ipykernel/__main__.py\", line 1>, run_globals={'__builtins__': <module '__builtin__' (built-in)>, '__doc__': None, '__file__': '/usr/lib/python2.7/dist-packages/ipykernel/__main__.py', '__loader__': <pkgutil.ImpLoader instance>, '__name__': '__main__', '__package__': 'ipykernel', 'app': <module 'ipykernel.kernelapp' from '/usr/lib/python2.7/dist-packages/ipykernel/kernelapp.pyc'>}, init_globals=None, mod_name='__main__', mod_fname='/usr/lib/python2.7/dist-packages/ipykernel/__main__.py', mod_loader=<pkgutil.ImpLoader instance>, pkg_name='ipykernel')\n     67         run_globals.update(init_globals)\n     68     run_globals.update(__name__ = mod_name,\n     69                        __file__ = mod_fname,\n     70                        __loader__ = mod_loader,\n     71                        __package__ = pkg_name)\n---> 72     exec code in run_globals\n        code = <code object <module> at 0x7fa851fe38b0, file \"/...2.7/dist-packages/ipykernel/__main__.py\", line 1>\n        run_globals = {'__builtins__': <module '__builtin__' (built-in)>, '__doc__': None, '__file__': '/usr/lib/python2.7/dist-packages/ipykernel/__main__.py', '__loader__': <pkgutil.ImpLoader instance>, '__name__': '__main__', '__package__': 'ipykernel', 'app': <module 'ipykernel.kernelapp' from '/usr/lib/python2.7/dist-packages/ipykernel/kernelapp.pyc'>}\n     73     return run_globals\n     74 \n     75 def _run_module_code(code, init_globals=None,\n     76                     mod_name=None, mod_fname=None,\n\n...........................................................................\n/usr/lib/python2.7/dist-packages/ipykernel/__main__.py in <module>()\n      1 if __name__ == '__main__':\n      2     from ipykernel import kernelapp as app\n----> 3     app.launch_new_instance()\n\n...........................................................................\n/usr/lib/python2.7/dist-packages/traitlets/config/application.py in launch_instance(cls=<class 'ipykernel.kernelapp.IPKernelApp'>, argv=None, **kwargs={})\n    653 \n    654         If a global instance already exists, this reinitializes and starts it\n    655         \"\"\"\n    656         app = cls.instance(**kwargs)\n    657         app.initialize(argv)\n--> 658         app.start()\n        app.start = <bound method IPKernelApp.start of <ipykernel.kernelapp.IPKernelApp object>>\n    659 \n    660 #-----------------------------------------------------------------------------\n    661 # utility functions, for convenience\n    662 #-----------------------------------------------------------------------------\n\n...........................................................................\n/usr/lib/python2.7/dist-packages/ipykernel/kernelapp.py in start(self=<ipykernel.kernelapp.IPKernelApp object>)\n    469             return self.subapp.start()\n    470         if self.poller is not None:\n    471             self.poller.start()\n    472         self.kernel.start()\n    473         try:\n--> 474             ioloop.IOLoop.instance().start()\n    475         except KeyboardInterrupt:\n    476             pass\n    477 \n    478 launch_new_instance = IPKernelApp.launch_instance\n\n...........................................................................\n/usr/lib/python2.7/dist-packages/zmq/eventloop/ioloop.py in start(self=<zmq.eventloop.ioloop.ZMQIOLoop object>)\n    172             )\n    173         return loop\n    174     \n    175     def start(self):\n    176         try:\n--> 177             super(ZMQIOLoop, self).start()\n        self.start = <bound method ZMQIOLoop.start of <zmq.eventloop.ioloop.ZMQIOLoop object>>\n    178         except ZMQError as e:\n    179             if e.errno == ETERM:\n    180                 # quietly return on ETERM\n    181                 pass\n\n...........................................................................\n/usr/lib/python2.7/dist-packages/tornado/ioloop.py in start(self=<zmq.eventloop.ioloop.ZMQIOLoop object>)\n    882                 self._events.update(event_pairs)\n    883                 while self._events:\n    884                     fd, events = self._events.popitem()\n    885                     try:\n    886                         fd_obj, handler_func = self._handlers[fd]\n--> 887                         handler_func(fd_obj, events)\n        handler_func = <function null_wrapper>\n        fd_obj = <zmq.sugar.socket.Socket object>\n        events = 5\n    888                     except (OSError, IOError) as e:\n    889                         if errno_from_exception(e) == errno.EPIPE:\n    890                             # Happens when the client closes the connection\n    891                             pass\n\n...........................................................................\n/usr/lib/python2.7/dist-packages/tornado/stack_context.py in null_wrapper(*args=(<zmq.sugar.socket.Socket object>, 5), **kwargs={})\n    270         # Fast path when there are no active contexts.\n    271         def null_wrapper(*args, **kwargs):\n    272             try:\n    273                 current_state = _state.contexts\n    274                 _state.contexts = cap_contexts[0]\n--> 275                 return fn(*args, **kwargs)\n        args = (<zmq.sugar.socket.Socket object>, 5)\n        kwargs = {}\n    276             finally:\n    277                 _state.contexts = current_state\n    278         null_wrapper._wrapped = True\n    279         return null_wrapper\n\n...........................................................................\n/usr/lib/python2.7/dist-packages/zmq/eventloop/zmqstream.py in _handle_events(self=<zmq.eventloop.zmqstream.ZMQStream object>, fd=<zmq.sugar.socket.Socket object>, events=5)\n    435             # dispatch events:\n    436             if events & IOLoop.ERROR:\n    437                 gen_log.error(\"got POLLERR event on ZMQStream, which doesn't make sense\")\n    438                 return\n    439             if events & IOLoop.READ:\n--> 440                 self._handle_recv()\n        self._handle_recv = <bound method ZMQStream._handle_recv of <zmq.eventloop.zmqstream.ZMQStream object>>\n    441                 if not self.socket:\n    442                     return\n    443             if events & IOLoop.WRITE:\n    444                 self._handle_send()\n\n...........................................................................\n/usr/lib/python2.7/dist-packages/zmq/eventloop/zmqstream.py in _handle_recv(self=<zmq.eventloop.zmqstream.ZMQStream object>)\n    467                 gen_log.error(\"RECV Error: %s\"%zmq.strerror(e.errno))\n    468         else:\n    469             if self._recv_callback:\n    470                 callback = self._recv_callback\n    471                 # self._recv_callback = None\n--> 472                 self._run_callback(callback, msg)\n        self._run_callback = <bound method ZMQStream._run_callback of <zmq.eventloop.zmqstream.ZMQStream object>>\n        callback = <function null_wrapper>\n        msg = [<zmq.sugar.frame.Frame object>, <zmq.sugar.frame.Frame object>, <zmq.sugar.frame.Frame object>, <zmq.sugar.frame.Frame object>, <zmq.sugar.frame.Frame object>, <zmq.sugar.frame.Frame object>, <zmq.sugar.frame.Frame object>]\n    473                 \n    474         # self.update_state()\n    475         \n    476 \n\n...........................................................................\n/usr/lib/python2.7/dist-packages/zmq/eventloop/zmqstream.py in _run_callback(self=<zmq.eventloop.zmqstream.ZMQStream object>, callback=<function null_wrapper>, *args=([<zmq.sugar.frame.Frame object>, <zmq.sugar.frame.Frame object>, <zmq.sugar.frame.Frame object>, <zmq.sugar.frame.Frame object>, <zmq.sugar.frame.Frame object>, <zmq.sugar.frame.Frame object>, <zmq.sugar.frame.Frame object>],), **kwargs={})\n    409         close our socket.\"\"\"\n    410         try:\n    411             # Use a NullContext to ensure that all StackContexts are run\n    412             # inside our blanket exception handler rather than outside.\n    413             with stack_context.NullContext():\n--> 414                 callback(*args, **kwargs)\n        callback = <function null_wrapper>\n        args = ([<zmq.sugar.frame.Frame object>, <zmq.sugar.frame.Frame object>, <zmq.sugar.frame.Frame object>, <zmq.sugar.frame.Frame object>, <zmq.sugar.frame.Frame object>, <zmq.sugar.frame.Frame object>, <zmq.sugar.frame.Frame object>],)\n        kwargs = {}\n    415         except:\n    416             gen_log.error(\"Uncaught exception, closing connection.\",\n    417                           exc_info=True)\n    418             # Close the socket on an uncaught exception from a user callback\n\n...........................................................................\n/usr/lib/python2.7/dist-packages/tornado/stack_context.py in null_wrapper(*args=([<zmq.sugar.frame.Frame object>, <zmq.sugar.frame.Frame object>, <zmq.sugar.frame.Frame object>, <zmq.sugar.frame.Frame object>, <zmq.sugar.frame.Frame object>, <zmq.sugar.frame.Frame object>, <zmq.sugar.frame.Frame object>],), **kwargs={})\n    270         # Fast path when there are no active contexts.\n    271         def null_wrapper(*args, **kwargs):\n    272             try:\n    273                 current_state = _state.contexts\n    274                 _state.contexts = cap_contexts[0]\n--> 275                 return fn(*args, **kwargs)\n        args = ([<zmq.sugar.frame.Frame object>, <zmq.sugar.frame.Frame object>, <zmq.sugar.frame.Frame object>, <zmq.sugar.frame.Frame object>, <zmq.sugar.frame.Frame object>, <zmq.sugar.frame.Frame object>, <zmq.sugar.frame.Frame object>],)\n        kwargs = {}\n    276             finally:\n    277                 _state.contexts = current_state\n    278         null_wrapper._wrapped = True\n    279         return null_wrapper\n\n...........................................................................\n/usr/lib/python2.7/dist-packages/ipykernel/kernelbase.py in dispatcher(msg=[<zmq.sugar.frame.Frame object>, <zmq.sugar.frame.Frame object>, <zmq.sugar.frame.Frame object>, <zmq.sugar.frame.Frame object>, <zmq.sugar.frame.Frame object>, <zmq.sugar.frame.Frame object>, <zmq.sugar.frame.Frame object>])\n    271         if self.control_stream:\n    272             self.control_stream.on_recv(self.dispatch_control, copy=False)\n    273 \n    274         def make_dispatcher(stream):\n    275             def dispatcher(msg):\n--> 276                 return self.dispatch_shell(stream, msg)\n        msg = [<zmq.sugar.frame.Frame object>, <zmq.sugar.frame.Frame object>, <zmq.sugar.frame.Frame object>, <zmq.sugar.frame.Frame object>, <zmq.sugar.frame.Frame object>, <zmq.sugar.frame.Frame object>, <zmq.sugar.frame.Frame object>]\n    277             return dispatcher\n    278 \n    279         for s in self.shell_streams:\n    280             s.on_recv(make_dispatcher(s), copy=False)\n\n...........................................................................\n/usr/lib/python2.7/dist-packages/ipykernel/kernelbase.py in dispatch_shell(self=<ipykernel.ipkernel.IPythonKernel object>, stream=<zmq.eventloop.zmqstream.ZMQStream object>, msg={'buffers': [], 'content': {'allow_stdin': True, 'code': \"lshf = LSHForest(random_state=42)\\nscores = cross...mean_squared_error', n_jobs = -1)\\nprint (scores)\\n\", 'silent': False, 'stop_on_error': True, 'store_history': True, 'user_expressions': {}}, 'header': {'date': '2017-11-25T00:23:18.600609', 'msg_id': '9DAA2BBB705A4BE78DA5301603129700', 'msg_type': 'execute_request', 'session': '9B3CAF2DD339446FAD9CF30EB52422EA', 'username': 'username', 'version': '5.0'}, 'metadata': {}, 'msg_id': '9DAA2BBB705A4BE78DA5301603129700', 'msg_type': 'execute_request', 'parent_header': {}})\n    223             self.log.error(\"UNKNOWN MESSAGE TYPE: %r\", msg_type)\n    224         else:\n    225             self.log.debug(\"%s: %s\", msg_type, msg)\n    226             self.pre_handler_hook()\n    227             try:\n--> 228                 handler(stream, idents, msg)\n        handler = <bound method IPythonKernel.execute_request of <ipykernel.ipkernel.IPythonKernel object>>\n        stream = <zmq.eventloop.zmqstream.ZMQStream object>\n        idents = ['9B3CAF2DD339446FAD9CF30EB52422EA']\n        msg = {'buffers': [], 'content': {'allow_stdin': True, 'code': \"lshf = LSHForest(random_state=42)\\nscores = cross...mean_squared_error', n_jobs = -1)\\nprint (scores)\\n\", 'silent': False, 'stop_on_error': True, 'store_history': True, 'user_expressions': {}}, 'header': {'date': '2017-11-25T00:23:18.600609', 'msg_id': '9DAA2BBB705A4BE78DA5301603129700', 'msg_type': 'execute_request', 'session': '9B3CAF2DD339446FAD9CF30EB52422EA', 'username': 'username', 'version': '5.0'}, 'metadata': {}, 'msg_id': '9DAA2BBB705A4BE78DA5301603129700', 'msg_type': 'execute_request', 'parent_header': {}}\n    229             except Exception:\n    230                 self.log.error(\"Exception in message handler:\", exc_info=True)\n    231             finally:\n    232                 self.post_handler_hook()\n\n...........................................................................\n/usr/lib/python2.7/dist-packages/ipykernel/kernelbase.py in execute_request(self=<ipykernel.ipkernel.IPythonKernel object>, stream=<zmq.eventloop.zmqstream.ZMQStream object>, ident=['9B3CAF2DD339446FAD9CF30EB52422EA'], parent={'buffers': [], 'content': {'allow_stdin': True, 'code': \"lshf = LSHForest(random_state=42)\\nscores = cross...mean_squared_error', n_jobs = -1)\\nprint (scores)\\n\", 'silent': False, 'stop_on_error': True, 'store_history': True, 'user_expressions': {}}, 'header': {'date': '2017-11-25T00:23:18.600609', 'msg_id': '9DAA2BBB705A4BE78DA5301603129700', 'msg_type': 'execute_request', 'session': '9B3CAF2DD339446FAD9CF30EB52422EA', 'username': 'username', 'version': '5.0'}, 'metadata': {}, 'msg_id': '9DAA2BBB705A4BE78DA5301603129700', 'msg_type': 'execute_request', 'parent_header': {}})\n    385         if not silent:\n    386             self.execution_count += 1\n    387             self._publish_execute_input(code, parent, self.execution_count)\n    388 \n    389         reply_content = self.do_execute(code, silent, store_history,\n--> 390                                         user_expressions, allow_stdin)\n        user_expressions = {}\n        allow_stdin = True\n    391 \n    392         # Flush output before sending the reply.\n    393         sys.stdout.flush()\n    394         sys.stderr.flush()\n\n...........................................................................\n/usr/lib/python2.7/dist-packages/ipykernel/ipkernel.py in do_execute(self=<ipykernel.ipkernel.IPythonKernel object>, code=u\"lshf = LSHForest(random_state=42)\\nscores = cr...n_squared_error', n_jobs = -1)\\nprint (scores)\\n\", silent=False, store_history=True, user_expressions={}, allow_stdin=True)\n    191 \n    192         self._forward_input(allow_stdin)\n    193 \n    194         reply_content = {}\n    195         try:\n--> 196             res = shell.run_cell(code, store_history=store_history, silent=silent)\n        res = undefined\n        shell.run_cell = <bound method ZMQInteractiveShell.run_cell of <ipykernel.zmqshell.ZMQInteractiveShell object>>\n        code = u\"lshf = LSHForest(random_state=42)\\nscores = cr...n_squared_error', n_jobs = -1)\\nprint (scores)\\n\"\n        store_history = True\n        silent = False\n    197         finally:\n    198             self._restore_input()\n    199 \n    200         if res.error_before_exec is not None:\n\n...........................................................................\n/usr/lib/python2.7/dist-packages/ipykernel/zmqshell.py in run_cell(self=<ipykernel.zmqshell.ZMQInteractiveShell object>, *args=(u\"lshf = LSHForest(random_state=42)\\nscores = cr...n_squared_error', n_jobs = -1)\\nprint (scores)\\n\",), **kwargs={'silent': False, 'store_history': True})\n    496             )\n    497         self.payload_manager.write_payload(payload)\n    498 \n    499     def run_cell(self, *args, **kwargs):\n    500         self._last_traceback = None\n--> 501         return super(ZMQInteractiveShell, self).run_cell(*args, **kwargs)\n        self.run_cell = <bound method ZMQInteractiveShell.run_cell of <ipykernel.zmqshell.ZMQInteractiveShell object>>\n        args = (u\"lshf = LSHForest(random_state=42)\\nscores = cr...n_squared_error', n_jobs = -1)\\nprint (scores)\\n\",)\n        kwargs = {'silent': False, 'store_history': True}\n    502 \n    503     def _showtraceback(self, etype, evalue, stb):\n    504         # try to preserve ordering of tracebacks and print statements\n    505         sys.stdout.flush()\n\n...........................................................................\n/usr/lib/python2.7/dist-packages/IPython/core/interactiveshell.py in run_cell(self=<ipykernel.zmqshell.ZMQInteractiveShell object>, raw_cell=u\"lshf = LSHForest(random_state=42)\\nscores = cr...n_squared_error', n_jobs = -1)\\nprint (scores)\\n\", store_history=True, silent=False, shell_futures=True)\n   2712                 self.displayhook.exec_result = result\n   2713 \n   2714                 # Execute the user code\n   2715                 interactivity = \"none\" if silent else self.ast_node_interactivity\n   2716                 has_raised = self.run_ast_nodes(code_ast.body, cell_name,\n-> 2717                    interactivity=interactivity, compiler=compiler, result=result)\n        interactivity = 'last_expr'\n        compiler = <IPython.core.compilerop.CachingCompiler instance>\n   2718                 \n   2719                 self.last_execution_succeeded = not has_raised\n   2720 \n   2721                 # Reset this so later displayed values do not modify the\n\n...........................................................................\n/usr/lib/python2.7/dist-packages/IPython/core/interactiveshell.py in run_ast_nodes(self=<ipykernel.zmqshell.ZMQInteractiveShell object>, nodelist=[<_ast.Assign object>, <_ast.Assign object>, <_ast.Print object>], cell_name='<ipython-input-12-295d3a4bdbac>', interactivity='none', compiler=<IPython.core.compilerop.CachingCompiler instance>, result=<ExecutionResult object at 7fa81a23b5d0, executi..._before_exec=None error_in_exec=None result=None>)\n   2816 \n   2817         try:\n   2818             for i, node in enumerate(to_run_exec):\n   2819                 mod = ast.Module([node])\n   2820                 code = compiler(mod, cell_name, \"exec\")\n-> 2821                 if self.run_code(code, result):\n        self.run_code = <bound method ZMQInteractiveShell.run_code of <ipykernel.zmqshell.ZMQInteractiveShell object>>\n        code = <code object <module> at 0x7fa819c18b30, file \"<ipython-input-12-295d3a4bdbac>\", line 2>\n        result = <ExecutionResult object at 7fa81a23b5d0, executi..._before_exec=None error_in_exec=None result=None>\n   2822                     return True\n   2823 \n   2824             for i, node in enumerate(to_run_interactive):\n   2825                 mod = ast.Interactive([node])\n\n...........................................................................\n/usr/lib/python2.7/dist-packages/IPython/core/interactiveshell.py in run_code(self=<ipykernel.zmqshell.ZMQInteractiveShell object>, code_obj=<code object <module> at 0x7fa819c18b30, file \"<ipython-input-12-295d3a4bdbac>\", line 2>, result=<ExecutionResult object at 7fa81a23b5d0, executi..._before_exec=None error_in_exec=None result=None>)\n   2876         outflag = 1  # happens in more places, so it's easier as default\n   2877         try:\n   2878             try:\n   2879                 self.hooks.pre_run_code_hook()\n   2880                 #rprint('Running code', repr(code_obj)) # dbg\n-> 2881                 exec(code_obj, self.user_global_ns, self.user_ns)\n        code_obj = <code object <module> at 0x7fa819c18b30, file \"<ipython-input-12-295d3a4bdbac>\", line 2>\n        self.user_global_ns = {'In': ['', u'import numpy\\nimport pandas\\nfrom sklearn.neig...m sklearn.model_selection import cross_val_score', u'dataframes = pandas.read_csv(\"../data/files/te...=False,compression=\\'gzip\\')\\ndataframes.head(3)', u\"test = dataframes[['place_name','place_with_pa....fillna(test.mean(),inplace= True)\\ntest.head(5)\", u'xtest = test.values\\n \\nxtest=xtest[:,0:6]', u'xtest ', u'dataframe = pandas.read_csv(\"../data/files/tra...s=False,compression=\\'gzip\\')\\ndataframe.head(5)', u\"entrenamiento = dataframe[['place_name','place...nses','price_aprox_usd']]\\nentrenamiento.head(5)\", u'dataset = entrenamiento.values\\n \\nX = dataset[0:,0:6]\\nY = dataset[0:,6:7]', u'X[:4]', u'Y[:4]', u'X_train = X\\n\\nX_test =xtest ', u\"lshf = LSHForest(random_state=42)\\nscores = cr...ean_squared_error', n_jobs = -1)\\nprint (scores)\"], 'LSHForest': <class 'sklearn.neighbors.approximate.LSHForest'>, 'Out': {2:    description  floor   lat-lon  place_name  pla...            0.0  2263404  \n\n[3 rows x 29 columns], 3:    place_name  place_with_parent_names     rooms...95  0.000080  \n4             0.000255  0.000361  , 5: array([[  5.78584038e-01,   7.18092508e-01,   3....750275e-05,   1.83500000e-03,   3.60847426e-04]]), 6:    id  description     floor   lat-lon  place_na....0                   0.0  \n\n[5 rows x 30 columns], 7:    place_name  place_with_parent_names     rooms...            0.006040  0.000395         470000.0  , 9: array([[  2.87817478e-01,   6.32959603e-01,   2....083412e-05,   1.45379977e-05,   7.98880248e-05]]), 10: array([[ 178000.],\n       [ 230000.],\n       [ 240000.],\n       [  77000.]])}, 'X': array([[  2.87817478e-01,   6.32959603e-01,   2....917048e-05,   1.07500000e-03,   3.95133820e-04]]), 'X_test': array([[  5.78584038e-01,   7.18092508e-01,   3....750275e-05,   1.83500000e-03,   3.60847426e-04]]), 'X_train': array([[  2.87817478e-01,   6.32959603e-01,   2....917048e-05,   1.07500000e-03,   3.95133820e-04]]), 'Y': array([[ 178000.],\n       [ 230000.],\n       [ 2... 385000.],\n       [ 425000.],\n       [ 340000.]]), '_': array([[ 178000.],\n       [ 230000.],\n       [ 240000.],\n       [  77000.]]), '_10': array([[ 178000.],\n       [ 230000.],\n       [ 240000.],\n       [  77000.]]), '_2':    description  floor   lat-lon  place_name  pla...            0.0  2263404  \n\n[3 rows x 29 columns], ...}\n        self.user_ns = {'In': ['', u'import numpy\\nimport pandas\\nfrom sklearn.neig...m sklearn.model_selection import cross_val_score', u'dataframes = pandas.read_csv(\"../data/files/te...=False,compression=\\'gzip\\')\\ndataframes.head(3)', u\"test = dataframes[['place_name','place_with_pa....fillna(test.mean(),inplace= True)\\ntest.head(5)\", u'xtest = test.values\\n \\nxtest=xtest[:,0:6]', u'xtest ', u'dataframe = pandas.read_csv(\"../data/files/tra...s=False,compression=\\'gzip\\')\\ndataframe.head(5)', u\"entrenamiento = dataframe[['place_name','place...nses','price_aprox_usd']]\\nentrenamiento.head(5)\", u'dataset = entrenamiento.values\\n \\nX = dataset[0:,0:6]\\nY = dataset[0:,6:7]', u'X[:4]', u'Y[:4]', u'X_train = X\\n\\nX_test =xtest ', u\"lshf = LSHForest(random_state=42)\\nscores = cr...ean_squared_error', n_jobs = -1)\\nprint (scores)\"], 'LSHForest': <class 'sklearn.neighbors.approximate.LSHForest'>, 'Out': {2:    description  floor   lat-lon  place_name  pla...            0.0  2263404  \n\n[3 rows x 29 columns], 3:    place_name  place_with_parent_names     rooms...95  0.000080  \n4             0.000255  0.000361  , 5: array([[  5.78584038e-01,   7.18092508e-01,   3....750275e-05,   1.83500000e-03,   3.60847426e-04]]), 6:    id  description     floor   lat-lon  place_na....0                   0.0  \n\n[5 rows x 30 columns], 7:    place_name  place_with_parent_names     rooms...            0.006040  0.000395         470000.0  , 9: array([[  2.87817478e-01,   6.32959603e-01,   2....083412e-05,   1.45379977e-05,   7.98880248e-05]]), 10: array([[ 178000.],\n       [ 230000.],\n       [ 240000.],\n       [  77000.]])}, 'X': array([[  2.87817478e-01,   6.32959603e-01,   2....917048e-05,   1.07500000e-03,   3.95133820e-04]]), 'X_test': array([[  5.78584038e-01,   7.18092508e-01,   3....750275e-05,   1.83500000e-03,   3.60847426e-04]]), 'X_train': array([[  2.87817478e-01,   6.32959603e-01,   2....917048e-05,   1.07500000e-03,   3.95133820e-04]]), 'Y': array([[ 178000.],\n       [ 230000.],\n       [ 2... 385000.],\n       [ 425000.],\n       [ 340000.]]), '_': array([[ 178000.],\n       [ 230000.],\n       [ 240000.],\n       [  77000.]]), '_10': array([[ 178000.],\n       [ 230000.],\n       [ 240000.],\n       [  77000.]]), '_2':    description  floor   lat-lon  place_name  pla...            0.0  2263404  \n\n[3 rows x 29 columns], ...}\n   2882             finally:\n   2883                 # Reset our crash handler in place\n   2884                 sys.excepthook = old_excepthook\n   2885         except SystemExit as e:\n\n...........................................................................\n/home/yussef/Descargas/datos-exploratory-data-analysis-master/class01/<ipython-input-12-295d3a4bdbac> in <module>()\n      1 lshf = LSHForest(random_state=42)\n----> 2 scores = cross_val_score( lshf, X_train, Y, cv=20, scoring='neg_mean_squared_error', n_jobs = -1)\n      3 print (scores)\n\n...........................................................................\n/home/yussef/.local/lib/python2.7/site-packages/sklearn/model_selection/_validation.py in cross_val_score(estimator=LSHForest(min_hash_match=4, n_candidates=50, n_e...us=1.0, radius_cutoff_ratio=0.9, random_state=42), X=array([[  2.87817478e-01,   6.32959603e-01,   2....917048e-05,   1.07500000e-03,   3.95133820e-04]]), y=array([[ 178000.],\n       [ 230000.],\n       [ 2... 385000.],\n       [ 425000.],\n       [ 340000.]]), groups=None, scoring='neg_mean_squared_error', cv=20, n_jobs=-1, verbose=0, fit_params=None, pre_dispatch='2*n_jobs')\n    337     cv_results = cross_validate(estimator=estimator, X=X, y=y, groups=groups,\n    338                                 scoring={'score': scorer}, cv=cv,\n    339                                 return_train_score=False,\n    340                                 n_jobs=n_jobs, verbose=verbose,\n    341                                 fit_params=fit_params,\n--> 342                                 pre_dispatch=pre_dispatch)\n        pre_dispatch = '2*n_jobs'\n    343     return cv_results['test_score']\n    344 \n    345 \n    346 def _fit_and_score(estimator, X, y, scorer, train, test, verbose,\n\n...........................................................................\n/home/yussef/.local/lib/python2.7/site-packages/sklearn/model_selection/_validation.py in cross_validate(estimator=LSHForest(min_hash_match=4, n_candidates=50, n_e...us=1.0, radius_cutoff_ratio=0.9, random_state=42), X=array([[  2.87817478e-01,   6.32959603e-01,   2....917048e-05,   1.07500000e-03,   3.95133820e-04]]), y=array([[ 178000.],\n       [ 230000.],\n       [ 2... 385000.],\n       [ 425000.],\n       [ 340000.]]), groups=None, scoring={'score': make_scorer(mean_squared_error, greater_is_better=False)}, cv=KFold(n_splits=20, random_state=None, shuffle=False), n_jobs=-1, verbose=0, fit_params=None, pre_dispatch='2*n_jobs', return_train_score=False)\n    201     scores = parallel(\n    202         delayed(_fit_and_score)(\n    203             clone(estimator), X, y, scorers, train, test, verbose, None,\n    204             fit_params, return_train_score=return_train_score,\n    205             return_times=True)\n--> 206         for train, test in cv.split(X, y, groups))\n        cv.split = <bound method KFold.split of KFold(n_splits=20, random_state=None, shuffle=False)>\n        X = array([[  2.87817478e-01,   6.32959603e-01,   2....917048e-05,   1.07500000e-03,   3.95133820e-04]])\n        y = array([[ 178000.],\n       [ 230000.],\n       [ 2... 385000.],\n       [ 425000.],\n       [ 340000.]])\n        groups = None\n    207 \n    208     if return_train_score:\n    209         train_scores, test_scores, fit_times, score_times = zip(*scores)\n    210         train_scores = _aggregate_score_dicts(train_scores)\n\n...........................................................................\n/home/yussef/.local/lib/python2.7/site-packages/sklearn/externals/joblib/parallel.py in __call__(self=Parallel(n_jobs=-1), iterable=<generator object <genexpr>>)\n    784             if pre_dispatch == \"all\" or n_jobs == 1:\n    785                 # The iterable was consumed all at once by the above for loop.\n    786                 # No need to wait for async callbacks to trigger to\n    787                 # consumption.\n    788                 self._iterating = False\n--> 789             self.retrieve()\n        self.retrieve = <bound method Parallel.retrieve of Parallel(n_jobs=-1)>\n    790             # Make sure that we get a last message telling us we are done\n    791             elapsed_time = time.time() - self._start_time\n    792             self._print('Done %3i out of %3i | elapsed: %s finished',\n    793                         (len(self._output), len(self._output),\n\n---------------------------------------------------------------------------\nSub-process traceback:\n---------------------------------------------------------------------------\nAttributeError                                     Sat Nov 25 00:23:25 2017\nPID: 7697                                    Python 2.7.13: /usr/bin/python\n...........................................................................\n/home/yussef/.local/lib/python2.7/site-packages/sklearn/externals/joblib/parallel.py in __call__(self=<sklearn.externals.joblib.parallel.BatchedCalls object>)\n    126     def __init__(self, iterator_slice):\n    127         self.items = list(iterator_slice)\n    128         self._size = len(self.items)\n    129 \n    130     def __call__(self):\n--> 131         return [func(*args, **kwargs) for func, args, kwargs in self.items]\n        func = <function _fit_and_score>\n        args = (LSHForest(min_hash_match=4, n_candidates=50, n_e...us=1.0, radius_cutoff_ratio=0.9, random_state=42), memmap([[  2.87817478e-01,   6.32959603e-01,   2...917048e-05,   1.07500000e-03,   3.95133820e-04]]), memmap([[ 178000.],\n        [ 230000.],\n        ...85000.],\n        [ 425000.],\n        [ 340000.]]), {'score': make_scorer(mean_squared_error, greater_is_better=False)}, memmap([ 18969,  18970,  18971, ..., 379376, 379377, 379378]), array([    0,     1,     2, ..., 18966, 18967, 18968]), 0, None, None)\n        kwargs = {'return_times': True, 'return_train_score': False}\n        self.items = [(<function _fit_and_score>, (LSHForest(min_hash_match=4, n_candidates=50, n_e...us=1.0, radius_cutoff_ratio=0.9, random_state=42), memmap([[  2.87817478e-01,   6.32959603e-01,   2...917048e-05,   1.07500000e-03,   3.95133820e-04]]), memmap([[ 178000.],\n        [ 230000.],\n        ...85000.],\n        [ 425000.],\n        [ 340000.]]), {'score': make_scorer(mean_squared_error, greater_is_better=False)}, memmap([ 18969,  18970,  18971, ..., 379376, 379377, 379378]), array([    0,     1,     2, ..., 18966, 18967, 18968]), 0, None, None), {'return_times': True, 'return_train_score': False})]\n    132 \n    133     def __len__(self):\n    134         return self._size\n    135 \n\n...........................................................................\n/home/yussef/.local/lib/python2.7/site-packages/sklearn/model_selection/_validation.py in _fit_and_score(estimator=LSHForest(min_hash_match=4, n_candidates=50, n_e...us=1.0, radius_cutoff_ratio=0.9, random_state=42), X=memmap([[  2.87817478e-01,   6.32959603e-01,   2...917048e-05,   1.07500000e-03,   3.95133820e-04]]), y=memmap([[ 178000.],\n        [ 230000.],\n        ...85000.],\n        [ 425000.],\n        [ 340000.]]), scorer={'score': make_scorer(mean_squared_error, greater_is_better=False)}, train=memmap([ 18969,  18970,  18971, ..., 379376, 379377, 379378]), test=array([    0,     1,     2, ..., 18966, 18967, 18968]), verbose=0, parameters=None, fit_params={}, return_train_score=False, return_parameters=False, return_n_test_samples=False, return_times=True, error_score='raise')\n    483                              \" make sure that it has been spelled correctly.)\")\n    484 \n    485     else:\n    486         fit_time = time.time() - start_time\n    487         # _score will return dict if is_multimetric is True\n--> 488         test_scores = _score(estimator, X_test, y_test, scorer, is_multimetric)\n        test_scores = {}\n        estimator = LSHForest(min_hash_match=4, n_candidates=50, n_e...us=1.0, radius_cutoff_ratio=0.9, random_state=42)\n        X_test = memmap([[  2.87817478e-01,   6.32959603e-01,   2...833406e-05,   2.15000000e-04,   3.95133820e-04]])\n        y_test = memmap([[ 178000.],\n        [ 230000.],\n        ...62000.],\n        [ 125000.],\n        [ 125000.]])\n        scorer = {'score': make_scorer(mean_squared_error, greater_is_better=False)}\n        is_multimetric = True\n    489         score_time = time.time() - start_time - fit_time\n    490         if return_train_score:\n    491             train_scores = _score(estimator, X_train, y_train, scorer,\n    492                                   is_multimetric)\n\n...........................................................................\n/home/yussef/.local/lib/python2.7/site-packages/sklearn/model_selection/_validation.py in _score(estimator=LSHForest(min_hash_match=4, n_candidates=50, n_e...us=1.0, radius_cutoff_ratio=0.9, random_state=42), X_test=memmap([[  2.87817478e-01,   6.32959603e-01,   2...833406e-05,   2.15000000e-04,   3.95133820e-04]]), y_test=memmap([[ 178000.],\n        [ 230000.],\n        ...62000.],\n        [ 125000.],\n        [ 125000.]]), scorer={'score': make_scorer(mean_squared_error, greater_is_better=False)}, is_multimetric=True)\n    518 \n    519     Will return a single float if is_multimetric is False and a dict of floats,\n    520     if is_multimetric is True\n    521     \"\"\"\n    522     if is_multimetric:\n--> 523         return _multimetric_score(estimator, X_test, y_test, scorer)\n        estimator = LSHForest(min_hash_match=4, n_candidates=50, n_e...us=1.0, radius_cutoff_ratio=0.9, random_state=42)\n        X_test = memmap([[  2.87817478e-01,   6.32959603e-01,   2...833406e-05,   2.15000000e-04,   3.95133820e-04]])\n        y_test = memmap([[ 178000.],\n        [ 230000.],\n        ...62000.],\n        [ 125000.],\n        [ 125000.]])\n        scorer = {'score': make_scorer(mean_squared_error, greater_is_better=False)}\n    524     else:\n    525         if y_test is None:\n    526             score = scorer(estimator, X_test)\n    527         else:\n\n...........................................................................\n/home/yussef/.local/lib/python2.7/site-packages/sklearn/model_selection/_validation.py in _multimetric_score(estimator=LSHForest(min_hash_match=4, n_candidates=50, n_e...us=1.0, radius_cutoff_ratio=0.9, random_state=42), X_test=memmap([[  2.87817478e-01,   6.32959603e-01,   2...833406e-05,   2.15000000e-04,   3.95133820e-04]]), y_test=memmap([[ 178000.],\n        [ 230000.],\n        ...62000.],\n        [ 125000.],\n        [ 125000.]]), scorers={'score': make_scorer(mean_squared_error, greater_is_better=False)})\n    548 \n    549     for name, scorer in scorers.items():\n    550         if y_test is None:\n    551             score = scorer(estimator, X_test)\n    552         else:\n--> 553             score = scorer(estimator, X_test, y_test)\n        score = undefined\n        scorer = make_scorer(mean_squared_error, greater_is_better=False)\n        estimator = LSHForest(min_hash_match=4, n_candidates=50, n_e...us=1.0, radius_cutoff_ratio=0.9, random_state=42)\n        X_test = memmap([[  2.87817478e-01,   6.32959603e-01,   2...833406e-05,   2.15000000e-04,   3.95133820e-04]])\n        y_test = memmap([[ 178000.],\n        [ 230000.],\n        ...62000.],\n        [ 125000.],\n        [ 125000.]])\n    554 \n    555         if hasattr(score, 'item'):\n    556             try:\n    557                 # e.g. unwrap memmapped scalars\n\n...........................................................................\n/home/yussef/.local/lib/python2.7/site-packages/sklearn/metrics/scorer.py in __call__(self=make_scorer(mean_squared_error, greater_is_better=False), estimator=LSHForest(min_hash_match=4, n_candidates=50, n_e...us=1.0, radius_cutoff_ratio=0.9, random_state=42), X=memmap([[  2.87817478e-01,   6.32959603e-01,   2...833406e-05,   2.15000000e-04,   3.95133820e-04]]), y_true=memmap([[ 178000.],\n        [ 230000.],\n        ...62000.],\n        [ 125000.],\n        [ 125000.]]), sample_weight=None)\n     96         score : float\n     97             Score function applied to prediction of estimator on X.\n     98         \"\"\"\n     99         super(_PredictScorer, self).__call__(estimator, X, y_true,\n    100                                              sample_weight=sample_weight)\n--> 101         y_pred = estimator.predict(X)\n        y_pred = undefined\n        estimator.predict = undefined\n        X = memmap([[  2.87817478e-01,   6.32959603e-01,   2...833406e-05,   2.15000000e-04,   3.95133820e-04]])\n    102         if sample_weight is not None:\n    103             return self._sign * self._score_func(y_true, y_pred,\n    104                                                  sample_weight=sample_weight,\n    105                                                  **self._kwargs)\n\nAttributeError: 'LSHForest' object has no attribute 'predict'\n___________________________________________________________________________",
     "output_type": "error",
     "traceback": [
      "\u001b[0;31m---------------------------------------------------------------------------\u001b[0m",
      "\u001b[0;31mJoblibAttributeError\u001b[0m                      Traceback (most recent call last)",
      "\u001b[0;32m<ipython-input-12-295d3a4bdbac>\u001b[0m in \u001b[0;36m<module>\u001b[0;34m()\u001b[0m\n\u001b[1;32m      1\u001b[0m \u001b[0mlshf\u001b[0m \u001b[0;34m=\u001b[0m \u001b[0mLSHForest\u001b[0m\u001b[0;34m(\u001b[0m\u001b[0mrandom_state\u001b[0m\u001b[0;34m=\u001b[0m\u001b[0;36m42\u001b[0m\u001b[0;34m)\u001b[0m\u001b[0;34m\u001b[0m\u001b[0m\n\u001b[0;32m----> 2\u001b[0;31m \u001b[0mscores\u001b[0m \u001b[0;34m=\u001b[0m \u001b[0mcross_val_score\u001b[0m\u001b[0;34m(\u001b[0m \u001b[0mlshf\u001b[0m\u001b[0;34m,\u001b[0m \u001b[0mX_train\u001b[0m\u001b[0;34m,\u001b[0m \u001b[0mY\u001b[0m\u001b[0;34m,\u001b[0m \u001b[0mcv\u001b[0m\u001b[0;34m=\u001b[0m\u001b[0;36m20\u001b[0m\u001b[0;34m,\u001b[0m \u001b[0mscoring\u001b[0m\u001b[0;34m=\u001b[0m\u001b[0;34m'neg_mean_squared_error'\u001b[0m\u001b[0;34m,\u001b[0m \u001b[0mn_jobs\u001b[0m \u001b[0;34m=\u001b[0m \u001b[0;34m-\u001b[0m\u001b[0;36m1\u001b[0m\u001b[0;34m)\u001b[0m\u001b[0;34m\u001b[0m\u001b[0m\n\u001b[0m\u001b[1;32m      3\u001b[0m \u001b[0;32mprint\u001b[0m \u001b[0;34m(\u001b[0m\u001b[0mscores\u001b[0m\u001b[0;34m)\u001b[0m\u001b[0;34m\u001b[0m\u001b[0m\n",
      "\u001b[0;32m/home/yussef/.local/lib/python2.7/site-packages/sklearn/model_selection/_validation.pyc\u001b[0m in \u001b[0;36mcross_val_score\u001b[0;34m(estimator, X, y, groups, scoring, cv, n_jobs, verbose, fit_params, pre_dispatch)\u001b[0m\n\u001b[1;32m    340\u001b[0m                                 \u001b[0mn_jobs\u001b[0m\u001b[0;34m=\u001b[0m\u001b[0mn_jobs\u001b[0m\u001b[0;34m,\u001b[0m \u001b[0mverbose\u001b[0m\u001b[0;34m=\u001b[0m\u001b[0mverbose\u001b[0m\u001b[0;34m,\u001b[0m\u001b[0;34m\u001b[0m\u001b[0m\n\u001b[1;32m    341\u001b[0m                                 \u001b[0mfit_params\u001b[0m\u001b[0;34m=\u001b[0m\u001b[0mfit_params\u001b[0m\u001b[0;34m,\u001b[0m\u001b[0;34m\u001b[0m\u001b[0m\n\u001b[0;32m--> 342\u001b[0;31m                                 pre_dispatch=pre_dispatch)\n\u001b[0m\u001b[1;32m    343\u001b[0m     \u001b[0;32mreturn\u001b[0m \u001b[0mcv_results\u001b[0m\u001b[0;34m[\u001b[0m\u001b[0;34m'test_score'\u001b[0m\u001b[0;34m]\u001b[0m\u001b[0;34m\u001b[0m\u001b[0m\n\u001b[1;32m    344\u001b[0m \u001b[0;34m\u001b[0m\u001b[0m\n",
      "\u001b[0;32m/home/yussef/.local/lib/python2.7/site-packages/sklearn/model_selection/_validation.pyc\u001b[0m in \u001b[0;36mcross_validate\u001b[0;34m(estimator, X, y, groups, scoring, cv, n_jobs, verbose, fit_params, pre_dispatch, return_train_score)\u001b[0m\n\u001b[1;32m    204\u001b[0m             \u001b[0mfit_params\u001b[0m\u001b[0;34m,\u001b[0m \u001b[0mreturn_train_score\u001b[0m\u001b[0;34m=\u001b[0m\u001b[0mreturn_train_score\u001b[0m\u001b[0;34m,\u001b[0m\u001b[0;34m\u001b[0m\u001b[0m\n\u001b[1;32m    205\u001b[0m             return_times=True)\n\u001b[0;32m--> 206\u001b[0;31m         for train, test in cv.split(X, y, groups))\n\u001b[0m\u001b[1;32m    207\u001b[0m \u001b[0;34m\u001b[0m\u001b[0m\n\u001b[1;32m    208\u001b[0m     \u001b[0;32mif\u001b[0m \u001b[0mreturn_train_score\u001b[0m\u001b[0;34m:\u001b[0m\u001b[0;34m\u001b[0m\u001b[0m\n",
      "\u001b[0;32m/home/yussef/.local/lib/python2.7/site-packages/sklearn/externals/joblib/parallel.pyc\u001b[0m in \u001b[0;36m__call__\u001b[0;34m(self, iterable)\u001b[0m\n\u001b[1;32m    787\u001b[0m                 \u001b[0;31m# consumption.\u001b[0m\u001b[0;34m\u001b[0m\u001b[0;34m\u001b[0m\u001b[0m\n\u001b[1;32m    788\u001b[0m                 \u001b[0mself\u001b[0m\u001b[0;34m.\u001b[0m\u001b[0m_iterating\u001b[0m \u001b[0;34m=\u001b[0m \u001b[0mFalse\u001b[0m\u001b[0;34m\u001b[0m\u001b[0m\n\u001b[0;32m--> 789\u001b[0;31m             \u001b[0mself\u001b[0m\u001b[0;34m.\u001b[0m\u001b[0mretrieve\u001b[0m\u001b[0;34m(\u001b[0m\u001b[0;34m)\u001b[0m\u001b[0;34m\u001b[0m\u001b[0m\n\u001b[0m\u001b[1;32m    790\u001b[0m             \u001b[0;31m# Make sure that we get a last message telling us we are done\u001b[0m\u001b[0;34m\u001b[0m\u001b[0;34m\u001b[0m\u001b[0m\n\u001b[1;32m    791\u001b[0m             \u001b[0melapsed_time\u001b[0m \u001b[0;34m=\u001b[0m \u001b[0mtime\u001b[0m\u001b[0;34m.\u001b[0m\u001b[0mtime\u001b[0m\u001b[0;34m(\u001b[0m\u001b[0;34m)\u001b[0m \u001b[0;34m-\u001b[0m \u001b[0mself\u001b[0m\u001b[0;34m.\u001b[0m\u001b[0m_start_time\u001b[0m\u001b[0;34m\u001b[0m\u001b[0m\n",
      "\u001b[0;32m/home/yussef/.local/lib/python2.7/site-packages/sklearn/externals/joblib/parallel.pyc\u001b[0m in \u001b[0;36mretrieve\u001b[0;34m(self)\u001b[0m\n\u001b[1;32m    738\u001b[0m                     \u001b[0mexception\u001b[0m \u001b[0;34m=\u001b[0m \u001b[0mexception_type\u001b[0m\u001b[0;34m(\u001b[0m\u001b[0mreport\u001b[0m\u001b[0;34m)\u001b[0m\u001b[0;34m\u001b[0m\u001b[0m\n\u001b[1;32m    739\u001b[0m \u001b[0;34m\u001b[0m\u001b[0m\n\u001b[0;32m--> 740\u001b[0;31m                     \u001b[0;32mraise\u001b[0m \u001b[0mexception\u001b[0m\u001b[0;34m\u001b[0m\u001b[0m\n\u001b[0m\u001b[1;32m    741\u001b[0m \u001b[0;34m\u001b[0m\u001b[0m\n\u001b[1;32m    742\u001b[0m     \u001b[0;32mdef\u001b[0m \u001b[0m__call__\u001b[0m\u001b[0;34m(\u001b[0m\u001b[0mself\u001b[0m\u001b[0;34m,\u001b[0m \u001b[0miterable\u001b[0m\u001b[0;34m)\u001b[0m\u001b[0;34m:\u001b[0m\u001b[0;34m\u001b[0m\u001b[0m\n",
      "\u001b[0;31mJoblibAttributeError\u001b[0m: JoblibAttributeError\n___________________________________________________________________________\nMultiprocessing exception:\n...........................................................................\n/usr/lib/python2.7/runpy.py in _run_module_as_main(mod_name='ipykernel.__main__', alter_argv=1)\n    169     pkg_name = mod_name.rpartition('.')[0]\n    170     main_globals = sys.modules[\"__main__\"].__dict__\n    171     if alter_argv:\n    172         sys.argv[0] = fname\n    173     return _run_code(code, main_globals, None,\n--> 174                      \"__main__\", fname, loader, pkg_name)\n        fname = '/usr/lib/python2.7/dist-packages/ipykernel/__main__.py'\n        loader = <pkgutil.ImpLoader instance>\n        pkg_name = 'ipykernel'\n    175 \n    176 def run_module(mod_name, init_globals=None,\n    177                run_name=None, alter_sys=False):\n    178     \"\"\"Execute a module's code without importing it\n\n...........................................................................\n/usr/lib/python2.7/runpy.py in _run_code(code=<code object <module> at 0x7fa851fe38b0, file \"/...2.7/dist-packages/ipykernel/__main__.py\", line 1>, run_globals={'__builtins__': <module '__builtin__' (built-in)>, '__doc__': None, '__file__': '/usr/lib/python2.7/dist-packages/ipykernel/__main__.py', '__loader__': <pkgutil.ImpLoader instance>, '__name__': '__main__', '__package__': 'ipykernel', 'app': <module 'ipykernel.kernelapp' from '/usr/lib/python2.7/dist-packages/ipykernel/kernelapp.pyc'>}, init_globals=None, mod_name='__main__', mod_fname='/usr/lib/python2.7/dist-packages/ipykernel/__main__.py', mod_loader=<pkgutil.ImpLoader instance>, pkg_name='ipykernel')\n     67         run_globals.update(init_globals)\n     68     run_globals.update(__name__ = mod_name,\n     69                        __file__ = mod_fname,\n     70                        __loader__ = mod_loader,\n     71                        __package__ = pkg_name)\n---> 72     exec code in run_globals\n        code = <code object <module> at 0x7fa851fe38b0, file \"/...2.7/dist-packages/ipykernel/__main__.py\", line 1>\n        run_globals = {'__builtins__': <module '__builtin__' (built-in)>, '__doc__': None, '__file__': '/usr/lib/python2.7/dist-packages/ipykernel/__main__.py', '__loader__': <pkgutil.ImpLoader instance>, '__name__': '__main__', '__package__': 'ipykernel', 'app': <module 'ipykernel.kernelapp' from '/usr/lib/python2.7/dist-packages/ipykernel/kernelapp.pyc'>}\n     73     return run_globals\n     74 \n     75 def _run_module_code(code, init_globals=None,\n     76                     mod_name=None, mod_fname=None,\n\n...........................................................................\n/usr/lib/python2.7/dist-packages/ipykernel/__main__.py in <module>()\n      1 if __name__ == '__main__':\n      2     from ipykernel import kernelapp as app\n----> 3     app.launch_new_instance()\n\n...........................................................................\n/usr/lib/python2.7/dist-packages/traitlets/config/application.py in launch_instance(cls=<class 'ipykernel.kernelapp.IPKernelApp'>, argv=None, **kwargs={})\n    653 \n    654         If a global instance already exists, this reinitializes and starts it\n    655         \"\"\"\n    656         app = cls.instance(**kwargs)\n    657         app.initialize(argv)\n--> 658         app.start()\n        app.start = <bound method IPKernelApp.start of <ipykernel.kernelapp.IPKernelApp object>>\n    659 \n    660 #-----------------------------------------------------------------------------\n    661 # utility functions, for convenience\n    662 #-----------------------------------------------------------------------------\n\n...........................................................................\n/usr/lib/python2.7/dist-packages/ipykernel/kernelapp.py in start(self=<ipykernel.kernelapp.IPKernelApp object>)\n    469             return self.subapp.start()\n    470         if self.poller is not None:\n    471             self.poller.start()\n    472         self.kernel.start()\n    473         try:\n--> 474             ioloop.IOLoop.instance().start()\n    475         except KeyboardInterrupt:\n    476             pass\n    477 \n    478 launch_new_instance = IPKernelApp.launch_instance\n\n...........................................................................\n/usr/lib/python2.7/dist-packages/zmq/eventloop/ioloop.py in start(self=<zmq.eventloop.ioloop.ZMQIOLoop object>)\n    172             )\n    173         return loop\n    174     \n    175     def start(self):\n    176         try:\n--> 177             super(ZMQIOLoop, self).start()\n        self.start = <bound method ZMQIOLoop.start of <zmq.eventloop.ioloop.ZMQIOLoop object>>\n    178         except ZMQError as e:\n    179             if e.errno == ETERM:\n    180                 # quietly return on ETERM\n    181                 pass\n\n...........................................................................\n/usr/lib/python2.7/dist-packages/tornado/ioloop.py in start(self=<zmq.eventloop.ioloop.ZMQIOLoop object>)\n    882                 self._events.update(event_pairs)\n    883                 while self._events:\n    884                     fd, events = self._events.popitem()\n    885                     try:\n    886                         fd_obj, handler_func = self._handlers[fd]\n--> 887                         handler_func(fd_obj, events)\n        handler_func = <function null_wrapper>\n        fd_obj = <zmq.sugar.socket.Socket object>\n        events = 5\n    888                     except (OSError, IOError) as e:\n    889                         if errno_from_exception(e) == errno.EPIPE:\n    890                             # Happens when the client closes the connection\n    891                             pass\n\n...........................................................................\n/usr/lib/python2.7/dist-packages/tornado/stack_context.py in null_wrapper(*args=(<zmq.sugar.socket.Socket object>, 5), **kwargs={})\n    270         # Fast path when there are no active contexts.\n    271         def null_wrapper(*args, **kwargs):\n    272             try:\n    273                 current_state = _state.contexts\n    274                 _state.contexts = cap_contexts[0]\n--> 275                 return fn(*args, **kwargs)\n        args = (<zmq.sugar.socket.Socket object>, 5)\n        kwargs = {}\n    276             finally:\n    277                 _state.contexts = current_state\n    278         null_wrapper._wrapped = True\n    279         return null_wrapper\n\n...........................................................................\n/usr/lib/python2.7/dist-packages/zmq/eventloop/zmqstream.py in _handle_events(self=<zmq.eventloop.zmqstream.ZMQStream object>, fd=<zmq.sugar.socket.Socket object>, events=5)\n    435             # dispatch events:\n    436             if events & IOLoop.ERROR:\n    437                 gen_log.error(\"got POLLERR event on ZMQStream, which doesn't make sense\")\n    438                 return\n    439             if events & IOLoop.READ:\n--> 440                 self._handle_recv()\n        self._handle_recv = <bound method ZMQStream._handle_recv of <zmq.eventloop.zmqstream.ZMQStream object>>\n    441                 if not self.socket:\n    442                     return\n    443             if events & IOLoop.WRITE:\n    444                 self._handle_send()\n\n...........................................................................\n/usr/lib/python2.7/dist-packages/zmq/eventloop/zmqstream.py in _handle_recv(self=<zmq.eventloop.zmqstream.ZMQStream object>)\n    467                 gen_log.error(\"RECV Error: %s\"%zmq.strerror(e.errno))\n    468         else:\n    469             if self._recv_callback:\n    470                 callback = self._recv_callback\n    471                 # self._recv_callback = None\n--> 472                 self._run_callback(callback, msg)\n        self._run_callback = <bound method ZMQStream._run_callback of <zmq.eventloop.zmqstream.ZMQStream object>>\n        callback = <function null_wrapper>\n        msg = [<zmq.sugar.frame.Frame object>, <zmq.sugar.frame.Frame object>, <zmq.sugar.frame.Frame object>, <zmq.sugar.frame.Frame object>, <zmq.sugar.frame.Frame object>, <zmq.sugar.frame.Frame object>, <zmq.sugar.frame.Frame object>]\n    473                 \n    474         # self.update_state()\n    475         \n    476 \n\n...........................................................................\n/usr/lib/python2.7/dist-packages/zmq/eventloop/zmqstream.py in _run_callback(self=<zmq.eventloop.zmqstream.ZMQStream object>, callback=<function null_wrapper>, *args=([<zmq.sugar.frame.Frame object>, <zmq.sugar.frame.Frame object>, <zmq.sugar.frame.Frame object>, <zmq.sugar.frame.Frame object>, <zmq.sugar.frame.Frame object>, <zmq.sugar.frame.Frame object>, <zmq.sugar.frame.Frame object>],), **kwargs={})\n    409         close our socket.\"\"\"\n    410         try:\n    411             # Use a NullContext to ensure that all StackContexts are run\n    412             # inside our blanket exception handler rather than outside.\n    413             with stack_context.NullContext():\n--> 414                 callback(*args, **kwargs)\n        callback = <function null_wrapper>\n        args = ([<zmq.sugar.frame.Frame object>, <zmq.sugar.frame.Frame object>, <zmq.sugar.frame.Frame object>, <zmq.sugar.frame.Frame object>, <zmq.sugar.frame.Frame object>, <zmq.sugar.frame.Frame object>, <zmq.sugar.frame.Frame object>],)\n        kwargs = {}\n    415         except:\n    416             gen_log.error(\"Uncaught exception, closing connection.\",\n    417                           exc_info=True)\n    418             # Close the socket on an uncaught exception from a user callback\n\n...........................................................................\n/usr/lib/python2.7/dist-packages/tornado/stack_context.py in null_wrapper(*args=([<zmq.sugar.frame.Frame object>, <zmq.sugar.frame.Frame object>, <zmq.sugar.frame.Frame object>, <zmq.sugar.frame.Frame object>, <zmq.sugar.frame.Frame object>, <zmq.sugar.frame.Frame object>, <zmq.sugar.frame.Frame object>],), **kwargs={})\n    270         # Fast path when there are no active contexts.\n    271         def null_wrapper(*args, **kwargs):\n    272             try:\n    273                 current_state = _state.contexts\n    274                 _state.contexts = cap_contexts[0]\n--> 275                 return fn(*args, **kwargs)\n        args = ([<zmq.sugar.frame.Frame object>, <zmq.sugar.frame.Frame object>, <zmq.sugar.frame.Frame object>, <zmq.sugar.frame.Frame object>, <zmq.sugar.frame.Frame object>, <zmq.sugar.frame.Frame object>, <zmq.sugar.frame.Frame object>],)\n        kwargs = {}\n    276             finally:\n    277                 _state.contexts = current_state\n    278         null_wrapper._wrapped = True\n    279         return null_wrapper\n\n...........................................................................\n/usr/lib/python2.7/dist-packages/ipykernel/kernelbase.py in dispatcher(msg=[<zmq.sugar.frame.Frame object>, <zmq.sugar.frame.Frame object>, <zmq.sugar.frame.Frame object>, <zmq.sugar.frame.Frame object>, <zmq.sugar.frame.Frame object>, <zmq.sugar.frame.Frame object>, <zmq.sugar.frame.Frame object>])\n    271         if self.control_stream:\n    272             self.control_stream.on_recv(self.dispatch_control, copy=False)\n    273 \n    274         def make_dispatcher(stream):\n    275             def dispatcher(msg):\n--> 276                 return self.dispatch_shell(stream, msg)\n        msg = [<zmq.sugar.frame.Frame object>, <zmq.sugar.frame.Frame object>, <zmq.sugar.frame.Frame object>, <zmq.sugar.frame.Frame object>, <zmq.sugar.frame.Frame object>, <zmq.sugar.frame.Frame object>, <zmq.sugar.frame.Frame object>]\n    277             return dispatcher\n    278 \n    279         for s in self.shell_streams:\n    280             s.on_recv(make_dispatcher(s), copy=False)\n\n...........................................................................\n/usr/lib/python2.7/dist-packages/ipykernel/kernelbase.py in dispatch_shell(self=<ipykernel.ipkernel.IPythonKernel object>, stream=<zmq.eventloop.zmqstream.ZMQStream object>, msg={'buffers': [], 'content': {'allow_stdin': True, 'code': \"lshf = LSHForest(random_state=42)\\nscores = cross...mean_squared_error', n_jobs = -1)\\nprint (scores)\\n\", 'silent': False, 'stop_on_error': True, 'store_history': True, 'user_expressions': {}}, 'header': {'date': '2017-11-25T00:23:18.600609', 'msg_id': '9DAA2BBB705A4BE78DA5301603129700', 'msg_type': 'execute_request', 'session': '9B3CAF2DD339446FAD9CF30EB52422EA', 'username': 'username', 'version': '5.0'}, 'metadata': {}, 'msg_id': '9DAA2BBB705A4BE78DA5301603129700', 'msg_type': 'execute_request', 'parent_header': {}})\n    223             self.log.error(\"UNKNOWN MESSAGE TYPE: %r\", msg_type)\n    224         else:\n    225             self.log.debug(\"%s: %s\", msg_type, msg)\n    226             self.pre_handler_hook()\n    227             try:\n--> 228                 handler(stream, idents, msg)\n        handler = <bound method IPythonKernel.execute_request of <ipykernel.ipkernel.IPythonKernel object>>\n        stream = <zmq.eventloop.zmqstream.ZMQStream object>\n        idents = ['9B3CAF2DD339446FAD9CF30EB52422EA']\n        msg = {'buffers': [], 'content': {'allow_stdin': True, 'code': \"lshf = LSHForest(random_state=42)\\nscores = cross...mean_squared_error', n_jobs = -1)\\nprint (scores)\\n\", 'silent': False, 'stop_on_error': True, 'store_history': True, 'user_expressions': {}}, 'header': {'date': '2017-11-25T00:23:18.600609', 'msg_id': '9DAA2BBB705A4BE78DA5301603129700', 'msg_type': 'execute_request', 'session': '9B3CAF2DD339446FAD9CF30EB52422EA', 'username': 'username', 'version': '5.0'}, 'metadata': {}, 'msg_id': '9DAA2BBB705A4BE78DA5301603129700', 'msg_type': 'execute_request', 'parent_header': {}}\n    229             except Exception:\n    230                 self.log.error(\"Exception in message handler:\", exc_info=True)\n    231             finally:\n    232                 self.post_handler_hook()\n\n...........................................................................\n/usr/lib/python2.7/dist-packages/ipykernel/kernelbase.py in execute_request(self=<ipykernel.ipkernel.IPythonKernel object>, stream=<zmq.eventloop.zmqstream.ZMQStream object>, ident=['9B3CAF2DD339446FAD9CF30EB52422EA'], parent={'buffers': [], 'content': {'allow_stdin': True, 'code': \"lshf = LSHForest(random_state=42)\\nscores = cross...mean_squared_error', n_jobs = -1)\\nprint (scores)\\n\", 'silent': False, 'stop_on_error': True, 'store_history': True, 'user_expressions': {}}, 'header': {'date': '2017-11-25T00:23:18.600609', 'msg_id': '9DAA2BBB705A4BE78DA5301603129700', 'msg_type': 'execute_request', 'session': '9B3CAF2DD339446FAD9CF30EB52422EA', 'username': 'username', 'version': '5.0'}, 'metadata': {}, 'msg_id': '9DAA2BBB705A4BE78DA5301603129700', 'msg_type': 'execute_request', 'parent_header': {}})\n    385         if not silent:\n    386             self.execution_count += 1\n    387             self._publish_execute_input(code, parent, self.execution_count)\n    388 \n    389         reply_content = self.do_execute(code, silent, store_history,\n--> 390                                         user_expressions, allow_stdin)\n        user_expressions = {}\n        allow_stdin = True\n    391 \n    392         # Flush output before sending the reply.\n    393         sys.stdout.flush()\n    394         sys.stderr.flush()\n\n...........................................................................\n/usr/lib/python2.7/dist-packages/ipykernel/ipkernel.py in do_execute(self=<ipykernel.ipkernel.IPythonKernel object>, code=u\"lshf = LSHForest(random_state=42)\\nscores = cr...n_squared_error', n_jobs = -1)\\nprint (scores)\\n\", silent=False, store_history=True, user_expressions={}, allow_stdin=True)\n    191 \n    192         self._forward_input(allow_stdin)\n    193 \n    194         reply_content = {}\n    195         try:\n--> 196             res = shell.run_cell(code, store_history=store_history, silent=silent)\n        res = undefined\n        shell.run_cell = <bound method ZMQInteractiveShell.run_cell of <ipykernel.zmqshell.ZMQInteractiveShell object>>\n        code = u\"lshf = LSHForest(random_state=42)\\nscores = cr...n_squared_error', n_jobs = -1)\\nprint (scores)\\n\"\n        store_history = True\n        silent = False\n    197         finally:\n    198             self._restore_input()\n    199 \n    200         if res.error_before_exec is not None:\n\n...........................................................................\n/usr/lib/python2.7/dist-packages/ipykernel/zmqshell.py in run_cell(self=<ipykernel.zmqshell.ZMQInteractiveShell object>, *args=(u\"lshf = LSHForest(random_state=42)\\nscores = cr...n_squared_error', n_jobs = -1)\\nprint (scores)\\n\",), **kwargs={'silent': False, 'store_history': True})\n    496             )\n    497         self.payload_manager.write_payload(payload)\n    498 \n    499     def run_cell(self, *args, **kwargs):\n    500         self._last_traceback = None\n--> 501         return super(ZMQInteractiveShell, self).run_cell(*args, **kwargs)\n        self.run_cell = <bound method ZMQInteractiveShell.run_cell of <ipykernel.zmqshell.ZMQInteractiveShell object>>\n        args = (u\"lshf = LSHForest(random_state=42)\\nscores = cr...n_squared_error', n_jobs = -1)\\nprint (scores)\\n\",)\n        kwargs = {'silent': False, 'store_history': True}\n    502 \n    503     def _showtraceback(self, etype, evalue, stb):\n    504         # try to preserve ordering of tracebacks and print statements\n    505         sys.stdout.flush()\n\n...........................................................................\n/usr/lib/python2.7/dist-packages/IPython/core/interactiveshell.py in run_cell(self=<ipykernel.zmqshell.ZMQInteractiveShell object>, raw_cell=u\"lshf = LSHForest(random_state=42)\\nscores = cr...n_squared_error', n_jobs = -1)\\nprint (scores)\\n\", store_history=True, silent=False, shell_futures=True)\n   2712                 self.displayhook.exec_result = result\n   2713 \n   2714                 # Execute the user code\n   2715                 interactivity = \"none\" if silent else self.ast_node_interactivity\n   2716                 has_raised = self.run_ast_nodes(code_ast.body, cell_name,\n-> 2717                    interactivity=interactivity, compiler=compiler, result=result)\n        interactivity = 'last_expr'\n        compiler = <IPython.core.compilerop.CachingCompiler instance>\n   2718                 \n   2719                 self.last_execution_succeeded = not has_raised\n   2720 \n   2721                 # Reset this so later displayed values do not modify the\n\n...........................................................................\n/usr/lib/python2.7/dist-packages/IPython/core/interactiveshell.py in run_ast_nodes(self=<ipykernel.zmqshell.ZMQInteractiveShell object>, nodelist=[<_ast.Assign object>, <_ast.Assign object>, <_ast.Print object>], cell_name='<ipython-input-12-295d3a4bdbac>', interactivity='none', compiler=<IPython.core.compilerop.CachingCompiler instance>, result=<ExecutionResult object at 7fa81a23b5d0, executi..._before_exec=None error_in_exec=None result=None>)\n   2816 \n   2817         try:\n   2818             for i, node in enumerate(to_run_exec):\n   2819                 mod = ast.Module([node])\n   2820                 code = compiler(mod, cell_name, \"exec\")\n-> 2821                 if self.run_code(code, result):\n        self.run_code = <bound method ZMQInteractiveShell.run_code of <ipykernel.zmqshell.ZMQInteractiveShell object>>\n        code = <code object <module> at 0x7fa819c18b30, file \"<ipython-input-12-295d3a4bdbac>\", line 2>\n        result = <ExecutionResult object at 7fa81a23b5d0, executi..._before_exec=None error_in_exec=None result=None>\n   2822                     return True\n   2823 \n   2824             for i, node in enumerate(to_run_interactive):\n   2825                 mod = ast.Interactive([node])\n\n...........................................................................\n/usr/lib/python2.7/dist-packages/IPython/core/interactiveshell.py in run_code(self=<ipykernel.zmqshell.ZMQInteractiveShell object>, code_obj=<code object <module> at 0x7fa819c18b30, file \"<ipython-input-12-295d3a4bdbac>\", line 2>, result=<ExecutionResult object at 7fa81a23b5d0, executi..._before_exec=None error_in_exec=None result=None>)\n   2876         outflag = 1  # happens in more places, so it's easier as default\n   2877         try:\n   2878             try:\n   2879                 self.hooks.pre_run_code_hook()\n   2880                 #rprint('Running code', repr(code_obj)) # dbg\n-> 2881                 exec(code_obj, self.user_global_ns, self.user_ns)\n        code_obj = <code object <module> at 0x7fa819c18b30, file \"<ipython-input-12-295d3a4bdbac>\", line 2>\n        self.user_global_ns = {'In': ['', u'import numpy\\nimport pandas\\nfrom sklearn.neig...m sklearn.model_selection import cross_val_score', u'dataframes = pandas.read_csv(\"../data/files/te...=False,compression=\\'gzip\\')\\ndataframes.head(3)', u\"test = dataframes[['place_name','place_with_pa....fillna(test.mean(),inplace= True)\\ntest.head(5)\", u'xtest = test.values\\n \\nxtest=xtest[:,0:6]', u'xtest ', u'dataframe = pandas.read_csv(\"../data/files/tra...s=False,compression=\\'gzip\\')\\ndataframe.head(5)', u\"entrenamiento = dataframe[['place_name','place...nses','price_aprox_usd']]\\nentrenamiento.head(5)\", u'dataset = entrenamiento.values\\n \\nX = dataset[0:,0:6]\\nY = dataset[0:,6:7]', u'X[:4]', u'Y[:4]', u'X_train = X\\n\\nX_test =xtest ', u\"lshf = LSHForest(random_state=42)\\nscores = cr...ean_squared_error', n_jobs = -1)\\nprint (scores)\"], 'LSHForest': <class 'sklearn.neighbors.approximate.LSHForest'>, 'Out': {2:    description  floor   lat-lon  place_name  pla...            0.0  2263404  \n\n[3 rows x 29 columns], 3:    place_name  place_with_parent_names     rooms...95  0.000080  \n4             0.000255  0.000361  , 5: array([[  5.78584038e-01,   7.18092508e-01,   3....750275e-05,   1.83500000e-03,   3.60847426e-04]]), 6:    id  description     floor   lat-lon  place_na....0                   0.0  \n\n[5 rows x 30 columns], 7:    place_name  place_with_parent_names     rooms...            0.006040  0.000395         470000.0  , 9: array([[  2.87817478e-01,   6.32959603e-01,   2....083412e-05,   1.45379977e-05,   7.98880248e-05]]), 10: array([[ 178000.],\n       [ 230000.],\n       [ 240000.],\n       [  77000.]])}, 'X': array([[  2.87817478e-01,   6.32959603e-01,   2....917048e-05,   1.07500000e-03,   3.95133820e-04]]), 'X_test': array([[  5.78584038e-01,   7.18092508e-01,   3....750275e-05,   1.83500000e-03,   3.60847426e-04]]), 'X_train': array([[  2.87817478e-01,   6.32959603e-01,   2....917048e-05,   1.07500000e-03,   3.95133820e-04]]), 'Y': array([[ 178000.],\n       [ 230000.],\n       [ 2... 385000.],\n       [ 425000.],\n       [ 340000.]]), '_': array([[ 178000.],\n       [ 230000.],\n       [ 240000.],\n       [  77000.]]), '_10': array([[ 178000.],\n       [ 230000.],\n       [ 240000.],\n       [  77000.]]), '_2':    description  floor   lat-lon  place_name  pla...            0.0  2263404  \n\n[3 rows x 29 columns], ...}\n        self.user_ns = {'In': ['', u'import numpy\\nimport pandas\\nfrom sklearn.neig...m sklearn.model_selection import cross_val_score', u'dataframes = pandas.read_csv(\"../data/files/te...=False,compression=\\'gzip\\')\\ndataframes.head(3)', u\"test = dataframes[['place_name','place_with_pa....fillna(test.mean(),inplace= True)\\ntest.head(5)\", u'xtest = test.values\\n \\nxtest=xtest[:,0:6]', u'xtest ', u'dataframe = pandas.read_csv(\"../data/files/tra...s=False,compression=\\'gzip\\')\\ndataframe.head(5)', u\"entrenamiento = dataframe[['place_name','place...nses','price_aprox_usd']]\\nentrenamiento.head(5)\", u'dataset = entrenamiento.values\\n \\nX = dataset[0:,0:6]\\nY = dataset[0:,6:7]', u'X[:4]', u'Y[:4]', u'X_train = X\\n\\nX_test =xtest ', u\"lshf = LSHForest(random_state=42)\\nscores = cr...ean_squared_error', n_jobs = -1)\\nprint (scores)\"], 'LSHForest': <class 'sklearn.neighbors.approximate.LSHForest'>, 'Out': {2:    description  floor   lat-lon  place_name  pla...            0.0  2263404  \n\n[3 rows x 29 columns], 3:    place_name  place_with_parent_names     rooms...95  0.000080  \n4             0.000255  0.000361  , 5: array([[  5.78584038e-01,   7.18092508e-01,   3....750275e-05,   1.83500000e-03,   3.60847426e-04]]), 6:    id  description     floor   lat-lon  place_na....0                   0.0  \n\n[5 rows x 30 columns], 7:    place_name  place_with_parent_names     rooms...            0.006040  0.000395         470000.0  , 9: array([[  2.87817478e-01,   6.32959603e-01,   2....083412e-05,   1.45379977e-05,   7.98880248e-05]]), 10: array([[ 178000.],\n       [ 230000.],\n       [ 240000.],\n       [  77000.]])}, 'X': array([[  2.87817478e-01,   6.32959603e-01,   2....917048e-05,   1.07500000e-03,   3.95133820e-04]]), 'X_test': array([[  5.78584038e-01,   7.18092508e-01,   3....750275e-05,   1.83500000e-03,   3.60847426e-04]]), 'X_train': array([[  2.87817478e-01,   6.32959603e-01,   2....917048e-05,   1.07500000e-03,   3.95133820e-04]]), 'Y': array([[ 178000.],\n       [ 230000.],\n       [ 2... 385000.],\n       [ 425000.],\n       [ 340000.]]), '_': array([[ 178000.],\n       [ 230000.],\n       [ 240000.],\n       [  77000.]]), '_10': array([[ 178000.],\n       [ 230000.],\n       [ 240000.],\n       [  77000.]]), '_2':    description  floor   lat-lon  place_name  pla...            0.0  2263404  \n\n[3 rows x 29 columns], ...}\n   2882             finally:\n   2883                 # Reset our crash handler in place\n   2884                 sys.excepthook = old_excepthook\n   2885         except SystemExit as e:\n\n...........................................................................\n/home/yussef/Descargas/datos-exploratory-data-analysis-master/class01/<ipython-input-12-295d3a4bdbac> in <module>()\n      1 lshf = LSHForest(random_state=42)\n----> 2 scores = cross_val_score( lshf, X_train, Y, cv=20, scoring='neg_mean_squared_error', n_jobs = -1)\n      3 print (scores)\n\n...........................................................................\n/home/yussef/.local/lib/python2.7/site-packages/sklearn/model_selection/_validation.py in cross_val_score(estimator=LSHForest(min_hash_match=4, n_candidates=50, n_e...us=1.0, radius_cutoff_ratio=0.9, random_state=42), X=array([[  2.87817478e-01,   6.32959603e-01,   2....917048e-05,   1.07500000e-03,   3.95133820e-04]]), y=array([[ 178000.],\n       [ 230000.],\n       [ 2... 385000.],\n       [ 425000.],\n       [ 340000.]]), groups=None, scoring='neg_mean_squared_error', cv=20, n_jobs=-1, verbose=0, fit_params=None, pre_dispatch='2*n_jobs')\n    337     cv_results = cross_validate(estimator=estimator, X=X, y=y, groups=groups,\n    338                                 scoring={'score': scorer}, cv=cv,\n    339                                 return_train_score=False,\n    340                                 n_jobs=n_jobs, verbose=verbose,\n    341                                 fit_params=fit_params,\n--> 342                                 pre_dispatch=pre_dispatch)\n        pre_dispatch = '2*n_jobs'\n    343     return cv_results['test_score']\n    344 \n    345 \n    346 def _fit_and_score(estimator, X, y, scorer, train, test, verbose,\n\n...........................................................................\n/home/yussef/.local/lib/python2.7/site-packages/sklearn/model_selection/_validation.py in cross_validate(estimator=LSHForest(min_hash_match=4, n_candidates=50, n_e...us=1.0, radius_cutoff_ratio=0.9, random_state=42), X=array([[  2.87817478e-01,   6.32959603e-01,   2....917048e-05,   1.07500000e-03,   3.95133820e-04]]), y=array([[ 178000.],\n       [ 230000.],\n       [ 2... 385000.],\n       [ 425000.],\n       [ 340000.]]), groups=None, scoring={'score': make_scorer(mean_squared_error, greater_is_better=False)}, cv=KFold(n_splits=20, random_state=None, shuffle=False), n_jobs=-1, verbose=0, fit_params=None, pre_dispatch='2*n_jobs', return_train_score=False)\n    201     scores = parallel(\n    202         delayed(_fit_and_score)(\n    203             clone(estimator), X, y, scorers, train, test, verbose, None,\n    204             fit_params, return_train_score=return_train_score,\n    205             return_times=True)\n--> 206         for train, test in cv.split(X, y, groups))\n        cv.split = <bound method KFold.split of KFold(n_splits=20, random_state=None, shuffle=False)>\n        X = array([[  2.87817478e-01,   6.32959603e-01,   2....917048e-05,   1.07500000e-03,   3.95133820e-04]])\n        y = array([[ 178000.],\n       [ 230000.],\n       [ 2... 385000.],\n       [ 425000.],\n       [ 340000.]])\n        groups = None\n    207 \n    208     if return_train_score:\n    209         train_scores, test_scores, fit_times, score_times = zip(*scores)\n    210         train_scores = _aggregate_score_dicts(train_scores)\n\n...........................................................................\n/home/yussef/.local/lib/python2.7/site-packages/sklearn/externals/joblib/parallel.py in __call__(self=Parallel(n_jobs=-1), iterable=<generator object <genexpr>>)\n    784             if pre_dispatch == \"all\" or n_jobs == 1:\n    785                 # The iterable was consumed all at once by the above for loop.\n    786                 # No need to wait for async callbacks to trigger to\n    787                 # consumption.\n    788                 self._iterating = False\n--> 789             self.retrieve()\n        self.retrieve = <bound method Parallel.retrieve of Parallel(n_jobs=-1)>\n    790             # Make sure that we get a last message telling us we are done\n    791             elapsed_time = time.time() - self._start_time\n    792             self._print('Done %3i out of %3i | elapsed: %s finished',\n    793                         (len(self._output), len(self._output),\n\n---------------------------------------------------------------------------\nSub-process traceback:\n---------------------------------------------------------------------------\nAttributeError                                     Sat Nov 25 00:23:25 2017\nPID: 7697                                    Python 2.7.13: /usr/bin/python\n...........................................................................\n/home/yussef/.local/lib/python2.7/site-packages/sklearn/externals/joblib/parallel.py in __call__(self=<sklearn.externals.joblib.parallel.BatchedCalls object>)\n    126     def __init__(self, iterator_slice):\n    127         self.items = list(iterator_slice)\n    128         self._size = len(self.items)\n    129 \n    130     def __call__(self):\n--> 131         return [func(*args, **kwargs) for func, args, kwargs in self.items]\n        func = <function _fit_and_score>\n        args = (LSHForest(min_hash_match=4, n_candidates=50, n_e...us=1.0, radius_cutoff_ratio=0.9, random_state=42), memmap([[  2.87817478e-01,   6.32959603e-01,   2...917048e-05,   1.07500000e-03,   3.95133820e-04]]), memmap([[ 178000.],\n        [ 230000.],\n        ...85000.],\n        [ 425000.],\n        [ 340000.]]), {'score': make_scorer(mean_squared_error, greater_is_better=False)}, memmap([ 18969,  18970,  18971, ..., 379376, 379377, 379378]), array([    0,     1,     2, ..., 18966, 18967, 18968]), 0, None, None)\n        kwargs = {'return_times': True, 'return_train_score': False}\n        self.items = [(<function _fit_and_score>, (LSHForest(min_hash_match=4, n_candidates=50, n_e...us=1.0, radius_cutoff_ratio=0.9, random_state=42), memmap([[  2.87817478e-01,   6.32959603e-01,   2...917048e-05,   1.07500000e-03,   3.95133820e-04]]), memmap([[ 178000.],\n        [ 230000.],\n        ...85000.],\n        [ 425000.],\n        [ 340000.]]), {'score': make_scorer(mean_squared_error, greater_is_better=False)}, memmap([ 18969,  18970,  18971, ..., 379376, 379377, 379378]), array([    0,     1,     2, ..., 18966, 18967, 18968]), 0, None, None), {'return_times': True, 'return_train_score': False})]\n    132 \n    133     def __len__(self):\n    134         return self._size\n    135 \n\n...........................................................................\n/home/yussef/.local/lib/python2.7/site-packages/sklearn/model_selection/_validation.py in _fit_and_score(estimator=LSHForest(min_hash_match=4, n_candidates=50, n_e...us=1.0, radius_cutoff_ratio=0.9, random_state=42), X=memmap([[  2.87817478e-01,   6.32959603e-01,   2...917048e-05,   1.07500000e-03,   3.95133820e-04]]), y=memmap([[ 178000.],\n        [ 230000.],\n        ...85000.],\n        [ 425000.],\n        [ 340000.]]), scorer={'score': make_scorer(mean_squared_error, greater_is_better=False)}, train=memmap([ 18969,  18970,  18971, ..., 379376, 379377, 379378]), test=array([    0,     1,     2, ..., 18966, 18967, 18968]), verbose=0, parameters=None, fit_params={}, return_train_score=False, return_parameters=False, return_n_test_samples=False, return_times=True, error_score='raise')\n    483                              \" make sure that it has been spelled correctly.)\")\n    484 \n    485     else:\n    486         fit_time = time.time() - start_time\n    487         # _score will return dict if is_multimetric is True\n--> 488         test_scores = _score(estimator, X_test, y_test, scorer, is_multimetric)\n        test_scores = {}\n        estimator = LSHForest(min_hash_match=4, n_candidates=50, n_e...us=1.0, radius_cutoff_ratio=0.9, random_state=42)\n        X_test = memmap([[  2.87817478e-01,   6.32959603e-01,   2...833406e-05,   2.15000000e-04,   3.95133820e-04]])\n        y_test = memmap([[ 178000.],\n        [ 230000.],\n        ...62000.],\n        [ 125000.],\n        [ 125000.]])\n        scorer = {'score': make_scorer(mean_squared_error, greater_is_better=False)}\n        is_multimetric = True\n    489         score_time = time.time() - start_time - fit_time\n    490         if return_train_score:\n    491             train_scores = _score(estimator, X_train, y_train, scorer,\n    492                                   is_multimetric)\n\n...........................................................................\n/home/yussef/.local/lib/python2.7/site-packages/sklearn/model_selection/_validation.py in _score(estimator=LSHForest(min_hash_match=4, n_candidates=50, n_e...us=1.0, radius_cutoff_ratio=0.9, random_state=42), X_test=memmap([[  2.87817478e-01,   6.32959603e-01,   2...833406e-05,   2.15000000e-04,   3.95133820e-04]]), y_test=memmap([[ 178000.],\n        [ 230000.],\n        ...62000.],\n        [ 125000.],\n        [ 125000.]]), scorer={'score': make_scorer(mean_squared_error, greater_is_better=False)}, is_multimetric=True)\n    518 \n    519     Will return a single float if is_multimetric is False and a dict of floats,\n    520     if is_multimetric is True\n    521     \"\"\"\n    522     if is_multimetric:\n--> 523         return _multimetric_score(estimator, X_test, y_test, scorer)\n        estimator = LSHForest(min_hash_match=4, n_candidates=50, n_e...us=1.0, radius_cutoff_ratio=0.9, random_state=42)\n        X_test = memmap([[  2.87817478e-01,   6.32959603e-01,   2...833406e-05,   2.15000000e-04,   3.95133820e-04]])\n        y_test = memmap([[ 178000.],\n        [ 230000.],\n        ...62000.],\n        [ 125000.],\n        [ 125000.]])\n        scorer = {'score': make_scorer(mean_squared_error, greater_is_better=False)}\n    524     else:\n    525         if y_test is None:\n    526             score = scorer(estimator, X_test)\n    527         else:\n\n...........................................................................\n/home/yussef/.local/lib/python2.7/site-packages/sklearn/model_selection/_validation.py in _multimetric_score(estimator=LSHForest(min_hash_match=4, n_candidates=50, n_e...us=1.0, radius_cutoff_ratio=0.9, random_state=42), X_test=memmap([[  2.87817478e-01,   6.32959603e-01,   2...833406e-05,   2.15000000e-04,   3.95133820e-04]]), y_test=memmap([[ 178000.],\n        [ 230000.],\n        ...62000.],\n        [ 125000.],\n        [ 125000.]]), scorers={'score': make_scorer(mean_squared_error, greater_is_better=False)})\n    548 \n    549     for name, scorer in scorers.items():\n    550         if y_test is None:\n    551             score = scorer(estimator, X_test)\n    552         else:\n--> 553             score = scorer(estimator, X_test, y_test)\n        score = undefined\n        scorer = make_scorer(mean_squared_error, greater_is_better=False)\n        estimator = LSHForest(min_hash_match=4, n_candidates=50, n_e...us=1.0, radius_cutoff_ratio=0.9, random_state=42)\n        X_test = memmap([[  2.87817478e-01,   6.32959603e-01,   2...833406e-05,   2.15000000e-04,   3.95133820e-04]])\n        y_test = memmap([[ 178000.],\n        [ 230000.],\n        ...62000.],\n        [ 125000.],\n        [ 125000.]])\n    554 \n    555         if hasattr(score, 'item'):\n    556             try:\n    557                 # e.g. unwrap memmapped scalars\n\n...........................................................................\n/home/yussef/.local/lib/python2.7/site-packages/sklearn/metrics/scorer.py in __call__(self=make_scorer(mean_squared_error, greater_is_better=False), estimator=LSHForest(min_hash_match=4, n_candidates=50, n_e...us=1.0, radius_cutoff_ratio=0.9, random_state=42), X=memmap([[  2.87817478e-01,   6.32959603e-01,   2...833406e-05,   2.15000000e-04,   3.95133820e-04]]), y_true=memmap([[ 178000.],\n        [ 230000.],\n        ...62000.],\n        [ 125000.],\n        [ 125000.]]), sample_weight=None)\n     96         score : float\n     97             Score function applied to prediction of estimator on X.\n     98         \"\"\"\n     99         super(_PredictScorer, self).__call__(estimator, X, y_true,\n    100                                              sample_weight=sample_weight)\n--> 101         y_pred = estimator.predict(X)\n        y_pred = undefined\n        estimator.predict = undefined\n        X = memmap([[  2.87817478e-01,   6.32959603e-01,   2...833406e-05,   2.15000000e-04,   3.95133820e-04]])\n    102         if sample_weight is not None:\n    103             return self._sign * self._score_func(y_true, y_pred,\n    104                                                  sample_weight=sample_weight,\n    105                                                  **self._kwargs)\n\nAttributeError: 'LSHForest' object has no attribute 'predict'\n___________________________________________________________________________"
     ]
    }
   ],
   "source": [
    "lshf = LSHForest(random_state=42)\n",
    "scores = cross_val_score( lshf, X_train, Y, cv=20, scoring='neg_mean_squared_error', n_jobs = -1)\n",
    "print (scores)\n"
   ]
  },
  {
   "cell_type": "code",
   "execution_count": null,
   "metadata": {
    "collapsed": false
   },
   "outputs": [],
   "source": [
    "lshf.fit(X_train,Y)  \n",
    "distances, indices = lshf.kneighbors(X_test, n_neighbors=2)\n",
    "distances                                        \n",
    "\n",
    "\n",
    "\n",
    "indices"
   ]
  },
  {
   "cell_type": "code",
   "execution_count": null,
   "metadata": {
    "collapsed": true
   },
   "outputs": [],
   "source": []
  },
  {
   "cell_type": "code",
   "execution_count": null,
   "metadata": {
    "collapsed": true
   },
   "outputs": [],
   "source": []
  }
 ],
 "metadata": {
  "kernelspec": {
   "display_name": "Python 2",
   "language": "python",
   "name": "python2"
  },
  "language_info": {
   "codemirror_mode": {
    "name": "ipython",
    "version": 2
   },
   "file_extension": ".py",
   "mimetype": "text/x-python",
   "name": "python",
   "nbconvert_exporter": "python",
   "pygments_lexer": "ipython2",
   "version": "2.7.13"
  }
 },
 "nbformat": 4,
 "nbformat_minor": 2
}
