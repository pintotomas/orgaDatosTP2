{
 "cells": [
  {
   "cell_type": "code",
   "execution_count": 1,
   "metadata": {
    "collapsed": true
   },
   "outputs": [],
   "source": [
    "import pandas as pd"
   ]
  },
  {
   "cell_type": "code",
   "execution_count": 2,
   "metadata": {
    "collapsed": true
   },
   "outputs": [],
   "source": [
    "import numpy as np"
   ]
  },
  {
   "cell_type": "code",
   "execution_count": 5,
   "metadata": {},
   "outputs": [
    {
     "name": "stderr",
     "output_type": "stream",
     "text": [
      "/home/cc/anaconda2/lib/python2.7/site-packages/IPython/core/interactiveshell.py:2717: DtypeWarning: Columns (2,3,4,7,16,19) have mixed types. Specify dtype option on import or set low_memory=False.\n",
      "  interactivity=interactivity, compiler=compiler, result=result)\n"
     ]
    }
   ],
   "source": [
    "data = pd.read_csv(\"properati_data_fixed_all_years_duplicated_with_outliers.csv\", compression = \"gzip\")"
   ]
  },
  {
   "cell_type": "code",
   "execution_count": null,
   "metadata": {
    "collapsed": true
   },
   "outputs": [],
   "source": [
    "posibles_descripciones_ambientes = {\"1 ambiente\": 1, \"monoambiente\": 1, \"mono ambiente\":1, \"2 ambientes\": 2,\"3 ambientes\": 3,\n",
    "                          \"4 ambientes\": 4,\"5 ambientes\": 5, \"6 ambientes\": 6, \"7 ambientes\": 7,\"8 ambientes\": 8,\n",
    "                          \"9 ambientes\": 1, \"10 ambientes\": 10,\n",
    "                         \"ambientes: 1\": 1, \"ambientes: 2\": 2, \"ambientes: 3\": 3, \"ambientes: 4\": 4, \"ambientes: 5\": 5,\n",
    "                         \"ambientes: 6\": 6, \"ambientes: 7\": 7, \"un ambiente\": 1, \"dos ambientes\": 2, \"tres ambientes\": 3,\n",
    "                         \"cuatro ambientes\": 4,\"cinco ambientes\": 5,\" seis ambientes\": 6, \"siete ambientes\": 7,\n",
    "                         \"2 impecables ambientes\": 2, \"3 impecables ambientes\": 3, \"4 amplios ambientes\": 4, \"2 amplios ambientes\": 2,\n",
    "                          \"3 amplios ambientes\": 3, \"5 amplios ambientes\": 5, \"2  ambientes\": 2, \"3  ambientes\": 3,\n",
    "                          \"2 grandes ambientes\": 2, \"6 amplios ambientes\": 6, \"1 ambientes\": 1\n",
    "                         ,\"3 amplios  ambientes\": 3, \"3 y ½ ambientes\": 3.5,\"2 y ½ ambientes\": 2.5, \"2 y medio ambiente\": 2.5,\n",
    "                         \"(2) ambientes\":2, \"2 amplisimos ambientes\": 2,\"4  ambientes\":4,\"3 grandes ambientes\":3,\n",
    "                                   \"4 ½ ambientes\": 4.5, \"4 cÃ²modos y confortables ambientes\":4, \"cantidad de ambientes 4\":4,\n",
    "                                   \"cantidad de ambientes 3\": 3,\"ambientes : 4\":4,\"ambientes : 5\":5,\"ambientes : 3\":3,\"ambientes : 2\":2,\n",
    "                                   \"ambientes : 1\":1,\"chalet de 5  ambientes\":5,\"4 cÃ³modos y confortables ambientes\":4,\"4   ambientes\":4,\n",
    "                                   \"3 buenos ambientes\":3,\"4 còmodos y confortables ambientes\":4,\"2 amb.\":2,\"3 amb.\":3,\"4 amb.\":4,\"1 amb.\":1, \"5 amb.\":5,\"6 amb.\":6,\"7 amb.\":7,\n",
    "                                   \"3 (tres) ambientes\": 3, \"2 (dos) ambientes\":2, \"4 (cuatro) ambientes\":4, \"5 (cinco) ambientes\": 5, \"1 (uno) ambientes\": 1, \"1 (uno) ambiente\":1,\n",
    "                                   \"6 (seis) ambientes\":6, \"7 (siete) ambientes\":7, \"8 (ocho) ambientes\":8, \"9 (nueve) ambientes\":9, \"10 (diez) ambientes\":10, \"1 amb\":1, \"2 amb\":2,\n",
    "                                   \"3 amb\":3, \"4 amb\":4, \"5 amb\":5, \"6 amb\":6,\"7 amb\":7,\"8 amb\":8,\"2 ambiente\":2,\"3 ambiente\":3,\"4 ambiente\":4, \"1amb\":1,\"2amb\":2,\"3amb\":3,\"4amb\":4,\n",
    "                                   \"5amb\":5,\"6amb\":6,\"8amb\":8,\"7amb\":7}\n"
   ]
  },
  {
   "cell_type": "code",
   "execution_count": 108,
   "metadata": {
    "collapsed": true
   },
   "outputs": [],
   "source": [
    "\n",
    "def fix_ambientes(row, search_title, search_extra, search_description):\n",
    "    \n",
    "    if pd.isnull(row[\"rooms\"]):\n",
    "        return np.nan#Ya fueron fixeadas\n",
    "    cols = []\n",
    "    if search_description:\n",
    "        descripcion = row[\"description\"]\n",
    "        cols.append(descripcion)\n",
    "    if search_extra:\n",
    "        extra = row[\"extra\"]\n",
    "        cols.append(extra)\n",
    "    if search_title:\n",
    "        title = row[\"title\"]\n",
    "        cols.append(title)\n",
    "        \n",
    "    ambiente_actual = row[\"rooms\"]\n",
    "    for col in cols:\n",
    "        if not(pd.isnull(col)):\n",
    "            for k in posibles_descripciones_ambientes:\n",
    "        \n",
    "                if k in col:\n",
    "                    value_found = float(posibles_descripciones_ambientes[k])\n",
    "                    if float(row[\"rooms\"]) != value_found:\n",
    "                        return value_found\n",
    "    return row[\"rooms\"]"
   ]
  },
  {
   "cell_type": "code",
   "execution_count": null,
   "metadata": {
    "collapsed": true
   },
   "outputs": [],
   "source": [
    "data_2017 = data[data[\"year\"] == 2017]"
   ]
  },
  {
   "cell_type": "code",
   "execution_count": null,
   "metadata": {
    "collapsed": true
   },
   "outputs": [],
   "source": [
    "#Sacamos las de Zona Norte porque no tenemos que predecir casi ninguna de esa zona.\n",
    "data_2017_zo_zs_caba = data_2017[(data_2017[\"state_name\"] == \"Capital Federal\") | (data_2017[\"state_name\"] == \"Bs.As. G.B.A. Zona Sur\") | (data_2017[\"state_name\"] == \"Bs.As. G.B.A. Zona Oeste\")]"
   ]
  },
  {
   "cell_type": "code",
   "execution_count": null,
   "metadata": {
    "collapsed": true
   },
   "outputs": [],
   "source": [
    "#Antes vuelvo a aplicar esto xq habia algunos que se pueden corregir\n",
    "data_2017_zo_zs_caba[\"rooms\"] = data_2017_zo_zs_caba.apply(lambda row: fix_ambientes(row, False, False, True), axis = 1)"
   ]
  },
  {
   "cell_type": "code",
   "execution_count": null,
   "metadata": {
    "collapsed": true
   },
   "outputs": [],
   "source": [
    "#Los que tienen nulo (room, surface total), (room, cubierta), (cubierta, total) no nos sirven demasiado\n",
    "len(data_2017_zo_zs_caba)"
   ]
  },
  {
   "cell_type": "code",
   "execution_count": null,
   "metadata": {
    "collapsed": true
   },
   "outputs": [],
   "source": [
    "data_2017_zo_zs_caba.dropna(axis = 0,how='all', subset=[\"rooms\",\"surface_total_in_m2\"], inplace = True)\n",
    "data_2017_zo_zs_caba.dropna(axis = 0,how='all', subset=[\"rooms\",\"surface_covered_in_m2\"], inplace = True)\n",
    "data_2017_zo_zs_caba.dropna(axis = 0,how='all', subset=[\"surface_covered_in_m2\",\"surface_total_in_m2\"], inplace = True)"
   ]
  },
  {
   "cell_type": "code",
   "execution_count": null,
   "metadata": {
    "collapsed": true
   },
   "outputs": [],
   "source": [
    "data_2017_zo_zs_caba.isnull().sum()"
   ]
  },
  {
   "cell_type": "code",
   "execution_count": null,
   "metadata": {
    "collapsed": true
   },
   "outputs": [],
   "source": [
    "#A los de rooms nulas tratamos de rellenarlas con con los que tengan superficie total y cubierta parecida (su promedio)"
   ]
  },
  {
   "cell_type": "code",
   "execution_count": null,
   "metadata": {
    "collapsed": true
   },
   "outputs": [],
   "source": []
  },
  {
   "cell_type": "code",
   "execution_count": null,
   "metadata": {
    "collapsed": true
   },
   "outputs": [],
   "source": [
    "data_2017_zo_zs_caba[data_2017_zo_zs_caba[\"rooms\"].isnull()][\"surface_covered_in_m2\"].values[4]"
   ]
  },
  {
   "cell_type": "code",
   "execution_count": null,
   "metadata": {
    "collapsed": true
   },
   "outputs": [],
   "source": [
    "data_2017_zo_zs_caba[data_2017_zo_zs_caba[\"rooms\"] == 9][\"description\"].values[3]"
   ]
  },
  {
   "cell_type": "code",
   "execution_count": null,
   "metadata": {
    "collapsed": true
   },
   "outputs": [],
   "source": [
    "data_2017_zo_zs_caba[\"rooms\"].value_counts()"
   ]
  },
  {
   "cell_type": "code",
   "execution_count": null,
   "metadata": {
    "collapsed": true
   },
   "outputs": [],
   "source": [
    "#Con esto vemos que ya mas de 8 ambientes es algo raro, "
   ]
  },
  {
   "cell_type": "code",
   "execution_count": null,
   "metadata": {
    "collapsed": true
   },
   "outputs": [],
   "source": [
    "data_2017_zo_zs_caba[data_2017_zo_zs_caba[\"rooms\"] == 11][\"description\"].values[11]"
   ]
  },
  {
   "cell_type": "code",
   "execution_count": null,
   "metadata": {
    "collapsed": true
   },
   "outputs": [],
   "source": [
    "#Pongo en NaN aquellos que tengan mas de 8 ambientes"
   ]
  },
  {
   "cell_type": "code",
   "execution_count": null,
   "metadata": {
    "collapsed": true
   },
   "outputs": [],
   "source": [
    "data_2017_zo_zs_caba[data_2017_zo_zs_caba[\"rooms\"] == 9][\"description\"].values"
   ]
  },
  {
   "cell_type": "code",
   "execution_count": null,
   "metadata": {
    "collapsed": true
   },
   "outputs": [],
   "source": [
    "#En promedio por ambiente, cual es su superficie cubierta?\n",
    "ambs = range(1,9)\n",
    "for amb in ambs:\n",
    "    promedio = data_2017_zo_zs_caba[data_2017_zo_zs_caba[\"rooms\"] == amb][\"surface_covered_in_m2\"].mean()\n",
    "    desviacion = data_2017_zo_zs_caba[data_2017_zo_zs_caba[\"rooms\"] == amb][\"surface_covered_in_m2\"].std()\n",
    "    print \"El promedio para: \"+str(amb)+\" ambientes es: \"+str(promedio)+\" y su desviacion estandar es :\"+str(desviacion)\n"
   ]
  },
  {
   "cell_type": "code",
   "execution_count": null,
   "metadata": {
    "collapsed": true
   },
   "outputs": [],
   "source": [
    "#P/ cada cantidad de ambientes miro su superficie total, superficie cubierta y precio en u$d \n",
    "#y elimino las cosas raras"
   ]
  },
  {
   "cell_type": "code",
   "execution_count": null,
   "metadata": {
    "collapsed": true
   },
   "outputs": [],
   "source": [
    "df = data_2017_zo_zs_caba.copy()"
   ]
  },
  {
   "cell_type": "code",
   "execution_count": null,
   "metadata": {
    "collapsed": true
   },
   "outputs": [],
   "source": [
    "df[df[\"rooms\"] == 1][\"surface_covered_in_m2\"].value_counts().sort_index(ascending = False).to_dict()"
   ]
  },
  {
   "cell_type": "code",
   "execution_count": null,
   "metadata": {
    "collapsed": true
   },
   "outputs": [],
   "source": [
    "#Me quedo con las de superficie cubierta < a 60 mts2. Las que tienen mas mts2,\n",
    "#no podemos saber con exactitud si tiene nincorrecto #rooms o superficie cubierta\n",
    "df = df[(df[\"rooms\"] != 1) | ((df[\"rooms\"] == 1) & (df[\"surface_covered_in_m2\"] < 61))]"
   ]
  },
  {
   "cell_type": "code",
   "execution_count": null,
   "metadata": {
    "collapsed": true
   },
   "outputs": [],
   "source": [
    "df[df[\"rooms\"] == 1][\"surface_covered_in_m2\"].max()"
   ]
  },
  {
   "cell_type": "code",
   "execution_count": null,
   "metadata": {
    "collapsed": true
   },
   "outputs": [],
   "source": [
    "#Me quedo con las de superficie cubierta < a 80 mts2. Las que tienen mas mts2,\n",
    "#no podemos saber con exactitud si tiene nincorrecto #rooms o superficie cubierta\n",
    "df[(df[\"rooms\"] == 1) & (df[\"price_aprox_usd\"] == 6809000)][\"description\"].values[0]"
   ]
  },
  {
   "cell_type": "code",
   "execution_count": null,
   "metadata": {
    "collapsed": true
   },
   "outputs": [],
   "source": [
    "#Me quedo con las de superficie cubierta < a 80 mts2. Las que tienen mas mts2,\n",
    "#no podemos saber con exactitud si tiene nincorrecto #rooms o superficie cubierta\n",
    "df = df[(df[\"rooms\"] != 2) | ((df[\"rooms\"] == 2) & (df[\"surface_covered_in_m2\"] < 142))]"
   ]
  },
  {
   "cell_type": "code",
   "execution_count": null,
   "metadata": {
    "collapsed": true
   },
   "outputs": [],
   "source": [
    "len(df)"
   ]
  },
  {
   "cell_type": "code",
   "execution_count": null,
   "metadata": {
    "collapsed": true
   },
   "outputs": [],
   "source": [
    "df[df[\"rooms\"] == 3][\"surface_covered_in_m2\"].value_counts().sort_index(ascending = False).to_dict()"
   ]
  },
  {
   "cell_type": "code",
   "execution_count": null,
   "metadata": {
    "collapsed": true
   },
   "outputs": [],
   "source": [
    "#Me quedo con las de superficie cubierta < a 80 mts2. Las que tienen mas mts2,\n",
    "#no podemos saber con exactitud si tiene nincorrecto #rooms o superficie cubierta\n",
    "df = df[(df[\"rooms\"] != 3) | ((df[\"rooms\"] == 3) & (df[\"surface_covered_in_m2\"] < 302))]"
   ]
  },
  {
   "cell_type": "code",
   "execution_count": null,
   "metadata": {
    "collapsed": true
   },
   "outputs": [],
   "source": [
    "df[df[\"rooms\"] == 4][\"surface_covered_in_m2\"].value_counts().sort_index(ascending = False).to_dict()"
   ]
  },
  {
   "cell_type": "code",
   "execution_count": null,
   "metadata": {
    "collapsed": true
   },
   "outputs": [],
   "source": [
    "#Me quedo con las de superficie cubierta < a 80 mts2. Las que tienen mas mts2,\n",
    "#no podemos saber con exactitud si tiene nincorrecto #rooms o superficie cubierta\n",
    "df = df[(df[\"rooms\"] != 4) | ((df[\"rooms\"] == 4) & (df[\"surface_covered_in_m2\"] < 405))]"
   ]
  },
  {
   "cell_type": "code",
   "execution_count": null,
   "metadata": {
    "collapsed": true
   },
   "outputs": [],
   "source": [
    "df[df[\"rooms\"] == 8][\"surface_covered_in_m2\"].value_counts().sort_index(ascending = False).to_dict()"
   ]
  },
  {
   "cell_type": "code",
   "execution_count": null,
   "metadata": {
    "collapsed": true
   },
   "outputs": [],
   "source": [
    "#Me quedo con las de superficie cubierta < a 80 mts2. Las que tienen mas mts2,\n",
    "#no podemos saber con exactitud si tiene nincorrecto #rooms o superficie cubierta\n",
    "df = df[(df[\"rooms\"] != 6) | ((df[\"rooms\"] == 6) & (df[\"surface_covered_in_m2\"] < 1300))]"
   ]
  },
  {
   "cell_type": "code",
   "execution_count": 109,
   "metadata": {
    "collapsed": true
   },
   "outputs": [],
   "source": [
    "#Los que tengan mas de 8 ambientes, los pongo como NaN\n",
    "def filter_ambientes(row):\n",
    "    ambientes = row[\"rooms\"]\n",
    "    if ambientes > 8:\n",
    "        return np.nan\n",
    "    elif ambientes == 2.5:\n",
    "        return 3 #Son muy pocos estos dos \n",
    "    elif ambientes == 3.5:\n",
    "        return 4 \n",
    "    else:\n",
    "        return ambientes"
   ]
  },
  {
   "cell_type": "code",
   "execution_count": null,
   "metadata": {
    "collapsed": true
   },
   "outputs": [],
   "source": [
    "df[\"rooms\"] = df.apply(lambda row: filter_ambientes(row), axis = 1)"
   ]
  },
  {
   "cell_type": "code",
   "execution_count": null,
   "metadata": {
    "collapsed": true
   },
   "outputs": [],
   "source": [
    "df[\"rooms\"].value_counts()"
   ]
  },
  {
   "cell_type": "code",
   "execution_count": null,
   "metadata": {
    "collapsed": true
   },
   "outputs": [],
   "source": [
    "df[\"surface_total_in_m2\"].value_counts().sort_index(ascending = False).to_dict()"
   ]
  },
  {
   "cell_type": "code",
   "execution_count": 45,
   "metadata": {},
   "outputs": [
    {
     "data": {
      "text/plain": [
       "14166"
      ]
     },
     "execution_count": 45,
     "metadata": {},
     "output_type": "execute_result"
    }
   ],
   "source": [
    "df2 = df.copy()\n",
    "len(df2)"
   ]
  },
  {
   "cell_type": "code",
   "execution_count": null,
   "metadata": {
    "collapsed": true
   },
   "outputs": [],
   "source": [
    "df = df2.copy()\n",
    "df2 = df.copy()"
   ]
  },
  {
   "cell_type": "code",
   "execution_count": null,
   "metadata": {
    "collapsed": true
   },
   "outputs": [],
   "source": [
    "df[\"surface_covered_in_m2\"].isnull().sum()"
   ]
  },
  {
   "cell_type": "code",
   "execution_count": 110,
   "metadata": {
    "collapsed": true
   },
   "outputs": [],
   "source": [
    "def replace_cubierta_nan(row):\n",
    "    cubierta = row[\"surface_covered_in_m2\"]\n",
    "    if pd.isnull(cubierta):\n",
    "        return np.nan\n",
    "    elif cubierta < 20:\n",
    "        return np.nan\n",
    "    elif not(pd.isnull(row[\"rooms\"])):\n",
    "        rooms = row[\"rooms\"]\n",
    "        if rooms == 4 and cubierta < 30:\n",
    "            return np.nan\n",
    "        elif rooms == 5 and cubierta < 35:\n",
    "            return np.nan\n",
    "        elif rooms == 6 and cubierta < 40:\n",
    "            return np.nan\n",
    "        elif rooms == 7 and cubierta < 45:\n",
    "            return np.nan\n",
    "        elif rooms == 8 and cubierta < 59:\n",
    "            return np.nan\n",
    "        else:\n",
    "            return row[\"surface_covered_in_m2\"]\n",
    "    else:\n",
    "        return row[\"surface_covered_in_m2\"]"
   ]
  },
  {
   "cell_type": "code",
   "execution_count": 111,
   "metadata": {
    "collapsed": true
   },
   "outputs": [],
   "source": [
    "def replace_total(row):\n",
    "    sup_total = row[\"surface_total_in_m2\"]\n",
    "    if sup_total < 20:\n",
    "        return np.nan\n",
    "    else:\n",
    "        return row[\"surface_total_in_m2\"]"
   ]
  },
  {
   "cell_type": "code",
   "execution_count": null,
   "metadata": {
    "collapsed": true
   },
   "outputs": [],
   "source": [
    "df[\"surface_total_in_m2\"] = df.apply(lambda row: replace_total(row), axis = 1)"
   ]
  },
  {
   "cell_type": "code",
   "execution_count": null,
   "metadata": {
    "collapsed": true
   },
   "outputs": [],
   "source": [
    "df2[\"surface_total_in_m2\"].isnull().sum()"
   ]
  },
  {
   "cell_type": "code",
   "execution_count": null,
   "metadata": {
    "collapsed": true
   },
   "outputs": [],
   "source": [
    "df[\"surface_covered_in_m2\"] = df.apply(lambda row: replace_cubierta_nan(row), axis = 1)"
   ]
  },
  {
   "cell_type": "code",
   "execution_count": null,
   "metadata": {
    "collapsed": true
   },
   "outputs": [],
   "source": [
    "df[\"surface_covered_in_m2\"].isnull().sum()"
   ]
  },
  {
   "cell_type": "code",
   "execution_count": null,
   "metadata": {
    "collapsed": true
   },
   "outputs": [],
   "source": [
    "df[df[\"rooms\"] == 1][\"surface_covered_in_m2\"].max()"
   ]
  },
  {
   "cell_type": "code",
   "execution_count": null,
   "metadata": {
    "collapsed": true
   },
   "outputs": [],
   "source": [
    "df.dropna(axis = 0,how='all', subset=[\"rooms\",\"surface_total_in_m2\"], inplace = True)\n",
    "df.dropna(axis = 0,how='all', subset=[\"rooms\",\"surface_covered_in_m2\"], inplace = True)\n",
    "df.dropna(axis = 0,how='all', subset=[\"surface_covered_in_m2\",\"surface_total_in_m2\"], inplace = True)"
   ]
  },
  {
   "cell_type": "code",
   "execution_count": null,
   "metadata": {
    "collapsed": true
   },
   "outputs": [],
   "source": [
    "#Para cada nulo de rooms, le pongo el promedio de los q tengan su cubierta y total, y para cada\n",
    "#nulo de cubierta, lo mismo\n",
    "df.isnull().sum()"
   ]
  },
  {
   "cell_type": "code",
   "execution_count": 112,
   "metadata": {
    "collapsed": true
   },
   "outputs": [],
   "source": [
    "def fix_nan_rooms(row, df):\n",
    "    if not(pd.isnull(row[\"rooms\"])):\n",
    "        return row[\"rooms\"] #Si ya tenia la cantidad de rooms, esto esta bien\n",
    "    \n",
    "    sup_cub = row[\"surface_covered_in_m2\"]\n",
    "    avg_rooms = np.nan\n",
    "    dif = 0\n",
    "    while pd.isnull(avg_rooms):    \n",
    "        lim_inf = sup_cub - dif\n",
    "        lim_sup = sup_cub + dif\n",
    "        act_vecindario = df[df[\"surface_covered_in_m2\"] < lim_sup]\n",
    "        act_vecindario = df[df[\"surface_covered_in_m2\"] > lim_inf]\n",
    "        print len(act_vecindario)\n",
    "        avg_rooms = act_vecindario[\"rooms\"].mean()\n",
    "        dif += 5\n",
    "    print \"FOUND \"+str(avg_rooms)\n",
    "        "
   ]
  },
  {
   "cell_type": "code",
   "execution_count": null,
   "metadata": {
    "collapsed": true
   },
   "outputs": [],
   "source": [
    "not_nan_rooms = df[~df[\"rooms\"].isnull()]"
   ]
  },
  {
   "cell_type": "code",
   "execution_count": null,
   "metadata": {
    "collapsed": true
   },
   "outputs": [],
   "source": [
    "not_nan_rooms[\"surface_covered_in_m2\"].isnull().sum()"
   ]
  },
  {
   "cell_type": "code",
   "execution_count": null,
   "metadata": {
    "collapsed": true
   },
   "outputs": [],
   "source": [
    "df.corr()"
   ]
  },
  {
   "cell_type": "code",
   "execution_count": null,
   "metadata": {
    "collapsed": true
   },
   "outputs": [],
   "source": [
    "#Hay una correlacion masomenos alta entre la superficie cubierta y la total, para rellenar la superficie\n",
    "#cubierta que queda lo hago segun la total"
   ]
  },
  {
   "cell_type": "code",
   "execution_count": null,
   "metadata": {
    "collapsed": true
   },
   "outputs": [],
   "source": [
    "df2 = df.copy()"
   ]
  },
  {
   "cell_type": "code",
   "execution_count": 113,
   "metadata": {
    "collapsed": true
   },
   "outputs": [],
   "source": [
    "#A los que tengan una superficie total < a la cubierta: Les asigno la cubierta\n",
    "def fix_surface_total_menor_cubierta(row):\n",
    "    if pd.isnull(row[\"surface_total_in_m2\"]) or pd.isnull(row[\"surface_covered_in_m2\"]):\n",
    "        return row[\"surface_total_in_m2\"]\n",
    "    elif row[\"surface_total_in_m2\"] < row[\"surface_covered_in_m2\"]:\n",
    "        return row[\"surface_covered_in_m2\"]\n",
    "    else:\n",
    "        return row[\"surface_total_in_m2\"]"
   ]
  },
  {
   "cell_type": "code",
   "execution_count": null,
   "metadata": {
    "collapsed": true
   },
   "outputs": [],
   "source": [
    "df.corr()"
   ]
  },
  {
   "cell_type": "code",
   "execution_count": null,
   "metadata": {
    "collapsed": true
   },
   "outputs": [],
   "source": [
    "df[\"surface_total_in_m2\"] = df.apply(lambda row: fix_surface_total_menor_cubierta(row), axis=1)"
   ]
  },
  {
   "cell_type": "code",
   "execution_count": null,
   "metadata": {
    "collapsed": true
   },
   "outputs": [],
   "source": [
    "#Hay alguno con superficie total muy grande?\n",
    "df[\"surface_total_in_m2\"].max()"
   ]
  },
  {
   "cell_type": "code",
   "execution_count": null,
   "metadata": {
    "collapsed": true
   },
   "outputs": [],
   "source": [
    "df[df[\"surface_total_in_m2\"] == df[\"surface_total_in_m2\"].max()][\"description\"].values[0]"
   ]
  },
  {
   "cell_type": "code",
   "execution_count": null,
   "metadata": {
    "collapsed": true
   },
   "outputs": [],
   "source": [
    "#Lo elimino\n",
    "df[df[\"surface_total_in_m2\"] == df[\"surface_total_in_m2\"].max()]"
   ]
  },
  {
   "cell_type": "code",
   "execution_count": null,
   "metadata": {
    "collapsed": true
   },
   "outputs": [],
   "source": [
    "df.sort_values(by=\"surface_total_in_m2\", ascending = False)"
   ]
  },
  {
   "cell_type": "code",
   "execution_count": null,
   "metadata": {
    "collapsed": true
   },
   "outputs": [],
   "source": [
    "df[\"surface_total_in_m2\"].value_counts().sort_index(ascending = False)"
   ]
  },
  {
   "cell_type": "code",
   "execution_count": null,
   "metadata": {
    "collapsed": true
   },
   "outputs": [],
   "source": [
    "df[df[\"surface_total_in_m2\"] > 2000][\"price_aprox_usd\"].mean()"
   ]
  },
  {
   "cell_type": "code",
   "execution_count": null,
   "metadata": {
    "collapsed": true
   },
   "outputs": [],
   "source": [
    "#Elimino propiedades que tengan una superficie total muy alta y un precio muy bajo"
   ]
  },
  {
   "cell_type": "code",
   "execution_count": null,
   "metadata": {
    "collapsed": true
   },
   "outputs": [],
   "source": [
    "len(df[(df[\"surface_total_in_m2\"] < 2000) | ((df[\"surface_total_in_m2\"] >= 2000) & df[\"price_aprox_usd\"] > 1000000)])"
   ]
  },
  {
   "cell_type": "code",
   "execution_count": null,
   "metadata": {
    "collapsed": true
   },
   "outputs": [],
   "source": [
    "df = df[(df[\"surface_total_in_m2\"] < 2000) | ((df[\"surface_total_in_m2\"] >= 2000) & df[\"price_aprox_usd\"] > 1000000)]"
   ]
  },
  {
   "cell_type": "code",
   "execution_count": null,
   "metadata": {
    "collapsed": true
   },
   "outputs": [],
   "source": [
    "df.corr()"
   ]
  },
  {
   "cell_type": "code",
   "execution_count": null,
   "metadata": {
    "collapsed": true
   },
   "outputs": [],
   "source": [
    "df[\"surface_total_in_m2\"].max()"
   ]
  },
  {
   "cell_type": "code",
   "execution_count": 119,
   "metadata": {
    "collapsed": true
   },
   "outputs": [],
   "source": [
    "saved_results = {}"
   ]
  },
  {
   "cell_type": "code",
   "execution_count": 114,
   "metadata": {
    "collapsed": true
   },
   "outputs": [],
   "source": [
    "#A partir de la superficie total empiezo a arreglar la sup. cubierta\n",
    "def fill_superficie_cubierta_con_total(row, df):\n",
    "    \n",
    "    if not(pd.isnull(row[\"surface_covered_in_m2\"])):\n",
    "        return row[\"surface_covered_in_m2\"]\n",
    "    sup_total = row[\"surface_total_in_m2\"]\n",
    "    avg_cubierta = np.nan\n",
    "    dif = 0\n",
    "    if sup_total in saved_results:\n",
    "        return saved_results[sup_total]\n",
    "    while pd.isnull(avg_cubierta):    \n",
    "        lim_inf = sup_total - dif\n",
    "        lim_sup = sup_total + dif\n",
    "        act_vecindario = df[df[\"surface_total_in_m2\"] < lim_sup]\n",
    "        act_vecindario = act_vecindario[act_vecindario[\"surface_total_in_m2\"] > lim_inf]\n",
    "        avg_cubierta = act_vecindario[\"surface_covered_in_m2\"].mean()\n",
    "        dif += 1\n",
    "        if (dif > 20): #para que sea mas rapido\n",
    "            dif += 20\n",
    "    #Guardo el resultado \n",
    "    saved_results[row[\"surface_total_in_m2\"]] = avg_cubierta\n",
    "    return avg_cubierta"
   ]
  },
  {
   "cell_type": "code",
   "execution_count": null,
   "metadata": {
    "collapsed": true
   },
   "outputs": [],
   "source": [
    "df[\"surface_covered_in_m2\"]= df.apply(lambda row: fill_superficie_cubierta_con_total(row, df), axis = 1)"
   ]
  },
  {
   "cell_type": "code",
   "execution_count": null,
   "metadata": {
    "collapsed": true
   },
   "outputs": [],
   "source": [
    "print saved_results"
   ]
  },
  {
   "cell_type": "code",
   "execution_count": null,
   "metadata": {
    "collapsed": true
   },
   "outputs": [],
   "source": [
    "#Por ahora dejamos las propiedades con un valor muy alto, de ultima despues probamos eliminarlas"
   ]
  },
  {
   "cell_type": "code",
   "execution_count": null,
   "metadata": {
    "collapsed": true
   },
   "outputs": [],
   "source": [
    "saved_surface_total_rooms = {}"
   ]
  },
  {
   "cell_type": "code",
   "execution_count": 115,
   "metadata": {
    "collapsed": true
   },
   "outputs": [],
   "source": [
    "def fix_nan_rooms(row, df):\n",
    "    if not(pd.isnull(row[\"rooms\"])):\n",
    "        return row[\"rooms\"] #Si ya tenia la cantidad de rooms, esto esta bien\n",
    "    \n",
    "    sup_cub = row[\"surface_covered_in_m2\"]\n",
    "    if sup_cub in saved_surface_total_rooms:\n",
    "        return saved_surface_total_rooms[sup_cub]\n",
    "    avg_rooms = np.nan\n",
    "    dif = 0\n",
    "    while pd.isnull(avg_rooms):    \n",
    "        lim_inf = sup_cub - dif\n",
    "        lim_sup = sup_cub + dif\n",
    "        act_vecindario = df[df[\"surface_covered_in_m2\"] < lim_sup]\n",
    "        act_vecindario = df[df[\"surface_covered_in_m2\"] > lim_inf]\n",
    "        avg_rooms = act_vecindario[\"rooms\"].mean()\n",
    "        dif += 5\n",
    "    saved_surface_total_rooms[sup_cub] = avg_rooms\n",
    "    return avg_rooms\n",
    "        "
   ]
  },
  {
   "cell_type": "code",
   "execution_count": null,
   "metadata": {
    "collapsed": true
   },
   "outputs": [],
   "source": [
    "df2 = df.copy()"
   ]
  },
  {
   "cell_type": "code",
   "execution_count": null,
   "metadata": {
    "collapsed": true
   },
   "outputs": [],
   "source": [
    "df[\"rooms\"] = df.apply(lambda row: fix_nan_rooms(row,df), axis = 1)"
   ]
  },
  {
   "cell_type": "code",
   "execution_count": null,
   "metadata": {
    "collapsed": true
   },
   "outputs": [],
   "source": [
    "df.corr()"
   ]
  },
  {
   "cell_type": "code",
   "execution_count": null,
   "metadata": {
    "collapsed": true
   },
   "outputs": [],
   "source": [
    "#Es una casa de 12 millones de dolares con una descripcion muy pobre, la elimino\n",
    "#Es complicado considerar un vecindario para expensas, a aquella la eliminamos. con floor podemos \n",
    "#rellenar con 0's. Ademas en expensas no se ve una correlacion"
   ]
  },
  {
   "cell_type": "code",
   "execution_count": null,
   "metadata": {
    "collapsed": true
   },
   "outputs": [],
   "source": [
    "df[\"floor\"].fillna(0, inplace = True)"
   ]
  },
  {
   "cell_type": "code",
   "execution_count": null,
   "metadata": {
    "collapsed": true
   },
   "outputs": [],
   "source": [
    "df.drop(labels = \"expenses\", axis = 1, inplace = True)"
   ]
  },
  {
   "cell_type": "code",
   "execution_count": 116,
   "metadata": {
    "collapsed": true,
    "scrolled": true
   },
   "outputs": [],
   "source": [
    "#A las que tengan place_name nulo le asigno su state_name\n",
    "def fix_null_place_name(row):\n",
    "    if pd.isnull(row[\"place_name\"]):\n",
    "        return row[\"state_name\"]\n",
    "    return row[\"place_name\"]"
   ]
  },
  {
   "cell_type": "code",
   "execution_count": null,
   "metadata": {
    "collapsed": true
   },
   "outputs": [],
   "source": [
    "df[\"place_name\"] = df.apply(lambda row: fix_null_place_name(row), axis = 1)"
   ]
  },
  {
   "cell_type": "code",
   "execution_count": null,
   "metadata": {
    "collapsed": true
   },
   "outputs": [],
   "source": [
    "len(df[df[\"lat-lon\"].isnull()][\"place_name\"].value_counts().index)"
   ]
  },
  {
   "cell_type": "code",
   "execution_count": null,
   "metadata": {
    "collapsed": true
   },
   "outputs": [],
   "source": [
    "df[\"lat-lon\"].values[0]"
   ]
  },
  {
   "cell_type": "code",
   "execution_count": 117,
   "metadata": {
    "collapsed": true
   },
   "outputs": [],
   "source": [
    "#A los de lat-lon nula, busco entre los que tengan el mismo place name y le asigno algun lat lon \n",
    "#de ellos\n",
    "saved_lat_lons = {}\n",
    "def fix_lat_lon(row, df):\n",
    "    if not(pd.isnull(row[\"lat-lon\"])):\n",
    "        return row[\"lat-lon\"]\n",
    "    place = row[\"place_name\"]\n",
    "    if place in saved_lat_lons:\n",
    "        print \"FOUND AT SAVED!\"\n",
    "        return saved_lat_lons[place]\n",
    "    same_place = df[df[\"place_name\"] == place]\n",
    "    same_place_w_lat_lon = same_place[~same_place[\"lat-lon\"].isnull()]\n",
    "    try:\n",
    "        final_pos = same_place_w_lat_lon[\"lat-lon\"].values[0]\n",
    "    except:\n",
    "        return np.nan\n",
    "    saved_lat_lons[place] = final_pos\n",
    "    return final_pos"
   ]
  },
  {
   "cell_type": "code",
   "execution_count": null,
   "metadata": {
    "collapsed": true
   },
   "outputs": [],
   "source": [
    "df[\"lat-lon\"] = df.apply(lambda row: fix_lat_lon(row,df), axis = 1)"
   ]
  },
  {
   "cell_type": "code",
   "execution_count": null,
   "metadata": {
    "collapsed": true
   },
   "outputs": [],
   "source": [
    "#Quedaron 11 nulos, los busco a mano"
   ]
  },
  {
   "cell_type": "code",
   "execution_count": null,
   "metadata": {
    "collapsed": true
   },
   "outputs": [],
   "source": [
    "df[\"lat-lon\"] = df.apply(lambda row: row[\"lat-lon\"] if not(pd.isnull(row[\"lat-lon\"])) else \"-34.800986,-58.218988\", axis = 1)"
   ]
  },
  {
   "cell_type": "code",
   "execution_count": null,
   "metadata": {
    "collapsed": true
   },
   "outputs": [],
   "source": [
    "df.isnull().sum()"
   ]
  },
  {
   "cell_type": "code",
   "execution_count": null,
   "metadata": {
    "collapsed": true
   },
   "outputs": [],
   "source": [
    "df.to_csv(\"training_set_filling_nans_con_vecinos.csv\", compression =\"gzip\", index = False)"
   ]
  },
  {
   "cell_type": "code",
   "execution_count": 83,
   "metadata": {
    "collapsed": true
   },
   "outputs": [],
   "source": [
    "test_set_inicial = pd.read_csv(\"properati_testing_noprice_fixed.csv\",compression =\"gzip\", low_memory = False)"
   ]
  },
  {
   "cell_type": "code",
   "execution_count": null,
   "metadata": {
    "collapsed": true
   },
   "outputs": [],
   "source": [
    "#primero pongo en nuls las cosas raras\n"
   ]
  },
  {
   "cell_type": "code",
   "execution_count": 84,
   "metadata": {},
   "outputs": [],
   "source": [
    "test_set_inicial[\"rooms\"] = test_set_inicial.apply(lambda row: filter_ambientes(row), axis = 1)"
   ]
  },
  {
   "cell_type": "code",
   "execution_count": 85,
   "metadata": {},
   "outputs": [
    {
     "data": {
      "text/plain": [
       "2.0    3182\n",
       "3.0    3071\n",
       "1.0    2077\n",
       "4.0    1698\n",
       "5.0     492\n",
       "6.0     194\n",
       "7.0      72\n",
       "8.0      33\n",
       "Name: rooms, dtype: int64"
      ]
     },
     "execution_count": 85,
     "metadata": {},
     "output_type": "execute_result"
    }
   ],
   "source": [
    "test_set_inicial[\"rooms\"].value_counts()"
   ]
  },
  {
   "cell_type": "code",
   "execution_count": 86,
   "metadata": {},
   "outputs": [
    {
     "data": {
      "text/plain": [
       "14166"
      ]
     },
     "execution_count": 86,
     "metadata": {},
     "output_type": "execute_result"
    }
   ],
   "source": [
    "len(test_set_inicial)"
   ]
  },
  {
   "cell_type": "code",
   "execution_count": 87,
   "metadata": {},
   "outputs": [
    {
     "data": {
      "text/plain": [
       "1151"
      ]
     },
     "execution_count": 87,
     "metadata": {},
     "output_type": "execute_result"
    }
   ],
   "source": [
    "test_set_inicial[\"surface_covered_in_m2\"].isnull().sum()"
   ]
  },
  {
   "cell_type": "code",
   "execution_count": 88,
   "metadata": {},
   "outputs": [
    {
     "data": {
      "text/plain": [
       "1318"
      ]
     },
     "execution_count": 88,
     "metadata": {},
     "output_type": "execute_result"
    }
   ],
   "source": [
    "\n",
    "test_set_inicial[\"surface_covered_in_m2\"] = test_set_inicial.apply(lambda row: replace_cubierta_nan(row), axis = 1)\n",
    "test_set_inicial[\"surface_covered_in_m2\"].isnull().sum()"
   ]
  },
  {
   "cell_type": "code",
   "execution_count": 89,
   "metadata": {},
   "outputs": [],
   "source": [
    "test_set_inicial[\"surface_total_in_m2\"] = test_set_inicial.apply(lambda row: replace_total(row), axis = 1)"
   ]
  },
  {
   "cell_type": "code",
   "execution_count": 90,
   "metadata": {},
   "outputs": [
    {
     "data": {
      "text/html": [
       "<div>\n",
       "<style>\n",
       "    .dataframe thead tr:only-child th {\n",
       "        text-align: right;\n",
       "    }\n",
       "\n",
       "    .dataframe thead th {\n",
       "        text-align: left;\n",
       "    }\n",
       "\n",
       "    .dataframe tbody tr th {\n",
       "        vertical-align: top;\n",
       "    }\n",
       "</style>\n",
       "<table border=\"1\" class=\"dataframe\">\n",
       "  <thead>\n",
       "    <tr style=\"text-align: right;\">\n",
       "      <th></th>\n",
       "      <th>description</th>\n",
       "      <th>floor</th>\n",
       "      <th>lat-lon</th>\n",
       "      <th>place_name</th>\n",
       "      <th>place_with_parent_names</th>\n",
       "      <th>property_type</th>\n",
       "      <th>rooms</th>\n",
       "      <th>state_name</th>\n",
       "      <th>surface_covered_in_m2</th>\n",
       "      <th>surface_total_in_m2</th>\n",
       "    </tr>\n",
       "  </thead>\n",
       "  <tbody>\n",
       "    <tr>\n",
       "      <th>0</th>\n",
       "      <td>edificio ba houses situado frente al dique 3 d...</td>\n",
       "      <td>NaN</td>\n",
       "      <td>-34.6109877599,-58.3634635778</td>\n",
       "      <td>Puerto Madero</td>\n",
       "      <td>|Argentina|Capital Federal|Puerto Madero|</td>\n",
       "      <td>departamento</td>\n",
       "      <td>3.0</td>\n",
       "      <td>Capital Federal</td>\n",
       "      <td>NaN</td>\n",
       "      <td>NaN</td>\n",
       "    </tr>\n",
       "    <tr>\n",
       "      <th>1</th>\n",
       "      <td>el departamento cuenta con un living-comedor a...</td>\n",
       "      <td>NaN</td>\n",
       "      <td>NaN</td>\n",
       "      <td>Buenos Aires Interior</td>\n",
       "      <td>|Argentina|Buenos Aires Interior|</td>\n",
       "      <td>departamento</td>\n",
       "      <td>NaN</td>\n",
       "      <td>Buenos Aires Interior</td>\n",
       "      <td>NaN</td>\n",
       "      <td>NaN</td>\n",
       "    </tr>\n",
       "    <tr>\n",
       "      <th>2</th>\n",
       "      <td>impecable torre coy iii – depa...</td>\n",
       "      <td>NaN</td>\n",
       "      <td>-34.5893633232,-58.4128798588</td>\n",
       "      <td>Palermo Soho</td>\n",
       "      <td>|Argentina|Capital Federal|Palermo|Palermo Soho|</td>\n",
       "      <td>departamento</td>\n",
       "      <td>2.0</td>\n",
       "      <td>Capital Federal</td>\n",
       "      <td>48.0</td>\n",
       "      <td>53.0</td>\n",
       "    </tr>\n",
       "    <tr>\n",
       "      <th>3</th>\n",
       "      <td>ambiente divisible con pisos d...</td>\n",
       "      <td>NaN</td>\n",
       "      <td>NaN</td>\n",
       "      <td>Chacarita</td>\n",
       "      <td>|Argentina|Capital Federal|Chacarita|</td>\n",
       "      <td>departamento</td>\n",
       "      <td>NaN</td>\n",
       "      <td>Capital Federal</td>\n",
       "      <td>39.0</td>\n",
       "      <td>39.0</td>\n",
       "    </tr>\n",
       "    <tr>\n",
       "      <th>4</th>\n",
       "      <td>living comedor con pisos de po...</td>\n",
       "      <td>NaN</td>\n",
       "      <td>NaN</td>\n",
       "      <td>Chacarita</td>\n",
       "      <td>|Argentina|Capital Federal|Chacarita|</td>\n",
       "      <td>departamento</td>\n",
       "      <td>NaN</td>\n",
       "      <td>Capital Federal</td>\n",
       "      <td>51.0</td>\n",
       "      <td>51.0</td>\n",
       "    </tr>\n",
       "    <tr>\n",
       "      <th>5</th>\n",
       "      <td>ambiente divisible con pisos d...</td>\n",
       "      <td>NaN</td>\n",
       "      <td>NaN</td>\n",
       "      <td>Chacarita</td>\n",
       "      <td>|Argentina|Capital Federal|Chacarita|</td>\n",
       "      <td>departamento</td>\n",
       "      <td>NaN</td>\n",
       "      <td>Capital Federal</td>\n",
       "      <td>39.0</td>\n",
       "      <td>39.0</td>\n",
       "    </tr>\n",
       "    <tr>\n",
       "      <th>6</th>\n",
       "      <td>ambiente divisible con pisos d...</td>\n",
       "      <td>NaN</td>\n",
       "      <td>NaN</td>\n",
       "      <td>Chacarita</td>\n",
       "      <td>|Argentina|Capital Federal|Chacarita|</td>\n",
       "      <td>departamento</td>\n",
       "      <td>NaN</td>\n",
       "      <td>Capital Federal</td>\n",
       "      <td>39.0</td>\n",
       "      <td>39.0</td>\n",
       "    </tr>\n",
       "    <tr>\n",
       "      <th>7</th>\n",
       "      <td>ambiente divisible con pisos d...</td>\n",
       "      <td>NaN</td>\n",
       "      <td>NaN</td>\n",
       "      <td>Chacarita</td>\n",
       "      <td>|Argentina|Capital Federal|Chacarita|</td>\n",
       "      <td>departamento</td>\n",
       "      <td>NaN</td>\n",
       "      <td>Capital Federal</td>\n",
       "      <td>39.0</td>\n",
       "      <td>39.0</td>\n",
       "    </tr>\n",
       "    <tr>\n",
       "      <th>8</th>\n",
       "      <td>excelente 2 amb- apto profesio...</td>\n",
       "      <td>NaN</td>\n",
       "      <td>-34.5787213694,-58.4570952614</td>\n",
       "      <td>Colegiales</td>\n",
       "      <td>|Argentina|Capital Federal|Colegiales|</td>\n",
       "      <td>departamento</td>\n",
       "      <td>NaN</td>\n",
       "      <td>Capital Federal</td>\n",
       "      <td>67.0</td>\n",
       "      <td>67.0</td>\n",
       "    </tr>\n",
       "    <tr>\n",
       "      <th>9</th>\n",
       "      <td>impecable monoambiente- divisi...</td>\n",
       "      <td>NaN</td>\n",
       "      <td>NaN</td>\n",
       "      <td>Almagro</td>\n",
       "      <td>|Argentina|Capital Federal|Almagro|</td>\n",
       "      <td>departamento</td>\n",
       "      <td>1.0</td>\n",
       "      <td>Capital Federal</td>\n",
       "      <td>47.0</td>\n",
       "      <td>47.0</td>\n",
       "    </tr>\n",
       "  </tbody>\n",
       "</table>\n",
       "</div>"
      ],
      "text/plain": [
       "                                         description  floor  \\\n",
       "0  edificio ba houses situado frente al dique 3 d...    NaN   \n",
       "1  el departamento cuenta con un living-comedor a...    NaN   \n",
       "2                  impecable torre coy iii – depa...    NaN   \n",
       "3                  ambiente divisible con pisos d...    NaN   \n",
       "4                  living comedor con pisos de po...    NaN   \n",
       "5                  ambiente divisible con pisos d...    NaN   \n",
       "6                  ambiente divisible con pisos d...    NaN   \n",
       "7                  ambiente divisible con pisos d...    NaN   \n",
       "8                  excelente 2 amb- apto profesio...    NaN   \n",
       "9                  impecable monoambiente- divisi...    NaN   \n",
       "\n",
       "                         lat-lon             place_name  \\\n",
       "0  -34.6109877599,-58.3634635778          Puerto Madero   \n",
       "1                            NaN  Buenos Aires Interior   \n",
       "2  -34.5893633232,-58.4128798588           Palermo Soho   \n",
       "3                            NaN              Chacarita   \n",
       "4                            NaN              Chacarita   \n",
       "5                            NaN              Chacarita   \n",
       "6                            NaN              Chacarita   \n",
       "7                            NaN              Chacarita   \n",
       "8  -34.5787213694,-58.4570952614             Colegiales   \n",
       "9                            NaN                Almagro   \n",
       "\n",
       "                            place_with_parent_names property_type  rooms  \\\n",
       "0         |Argentina|Capital Federal|Puerto Madero|  departamento    3.0   \n",
       "1                 |Argentina|Buenos Aires Interior|  departamento    NaN   \n",
       "2  |Argentina|Capital Federal|Palermo|Palermo Soho|  departamento    2.0   \n",
       "3             |Argentina|Capital Federal|Chacarita|  departamento    NaN   \n",
       "4             |Argentina|Capital Federal|Chacarita|  departamento    NaN   \n",
       "5             |Argentina|Capital Federal|Chacarita|  departamento    NaN   \n",
       "6             |Argentina|Capital Federal|Chacarita|  departamento    NaN   \n",
       "7             |Argentina|Capital Federal|Chacarita|  departamento    NaN   \n",
       "8            |Argentina|Capital Federal|Colegiales|  departamento    NaN   \n",
       "9               |Argentina|Capital Federal|Almagro|  departamento    1.0   \n",
       "\n",
       "              state_name  surface_covered_in_m2  surface_total_in_m2  \n",
       "0        Capital Federal                    NaN                  NaN  \n",
       "1  Buenos Aires Interior                    NaN                  NaN  \n",
       "2        Capital Federal                   48.0                 53.0  \n",
       "3        Capital Federal                   39.0                 39.0  \n",
       "4        Capital Federal                   51.0                 51.0  \n",
       "5        Capital Federal                   39.0                 39.0  \n",
       "6        Capital Federal                   39.0                 39.0  \n",
       "7        Capital Federal                   39.0                 39.0  \n",
       "8        Capital Federal                   67.0                 67.0  \n",
       "9        Capital Federal                   47.0                 47.0  "
      ]
     },
     "execution_count": 90,
     "metadata": {},
     "output_type": "execute_result"
    }
   ],
   "source": [
    "test_set_inicial.head(10)"
   ]
  },
  {
   "cell_type": "code",
   "execution_count": null,
   "metadata": {
    "collapsed": true
   },
   "outputs": [],
   "source": [
    "#Ademas tengo que chequear monoambientes o 2, 3, .. con superficie cubierta ridicula "
   ]
  },
  {
   "cell_type": "code",
   "execution_count": 91,
   "metadata": {},
   "outputs": [
    {
     "data": {
      "text/plain": [
       "'corredor responsable: uno bienes raices srl - cmcpsi 5821contacto: pablo ortiz - mls id # 420041241-23casa con gran terreno   generoso terreno en  exclusivo  barrio de casas quintas   rodeado de casas de categoria  .    tiene 1900 m2    a\\xc3\\xb1osa arboleda y frutales   ideal para vivienda permanenete o para fin de semana     con todas las comodidades para pasar un fin de semana  comodo  alambrado perimetral + porton.  muy seguro - tienen vecinos con viviendas permanentes   si le  intereso  no deje de consultarnos en el formulario .  en breve lo contactaremos!!   .      '"
      ]
     },
     "execution_count": 91,
     "metadata": {},
     "output_type": "execute_result"
    }
   ],
   "source": [
    "test_set_inicial[(test_set_inicial[\"rooms\"] == 1) & (test_set_inicial[\"surface_covered_in_m2\"] == 1900)][\"description\"].values[0]"
   ]
  },
  {
   "cell_type": "code",
   "execution_count": 92,
   "metadata": {
    "scrolled": true
   },
   "outputs": [
    {
     "data": {
      "text/html": [
       "<div>\n",
       "<style>\n",
       "    .dataframe thead tr:only-child th {\n",
       "        text-align: right;\n",
       "    }\n",
       "\n",
       "    .dataframe thead th {\n",
       "        text-align: left;\n",
       "    }\n",
       "\n",
       "    .dataframe tbody tr th {\n",
       "        vertical-align: top;\n",
       "    }\n",
       "</style>\n",
       "<table border=\"1\" class=\"dataframe\">\n",
       "  <thead>\n",
       "    <tr style=\"text-align: right;\">\n",
       "      <th></th>\n",
       "      <th>description</th>\n",
       "      <th>floor</th>\n",
       "      <th>lat-lon</th>\n",
       "      <th>place_name</th>\n",
       "      <th>place_with_parent_names</th>\n",
       "      <th>property_type</th>\n",
       "      <th>rooms</th>\n",
       "      <th>state_name</th>\n",
       "      <th>surface_covered_in_m2</th>\n",
       "      <th>surface_total_in_m2</th>\n",
       "    </tr>\n",
       "  </thead>\n",
       "  <tbody>\n",
       "    <tr>\n",
       "      <th>178</th>\n",
       "      <td>hermoso ph tipo loft recien reciclado. si se d...</td>\n",
       "      <td>NaN</td>\n",
       "      <td>NaN</td>\n",
       "      <td>Monserrat</td>\n",
       "      <td>|Argentina|Capital Federal|Monserrat|</td>\n",
       "      <td>ph</td>\n",
       "      <td>1.0</td>\n",
       "      <td>Capital Federal</td>\n",
       "      <td>133.0</td>\n",
       "      <td>169.0</td>\n",
       "    </tr>\n",
       "    <tr>\n",
       "      <th>1539</th>\n",
       "      <td>corredor responsable: uno bienes raices srl - ...</td>\n",
       "      <td>NaN</td>\n",
       "      <td>-34.574147,-58.848867</td>\n",
       "      <td>Moreno</td>\n",
       "      <td>|Argentina|Bs.As. G.B.A. Zona Oeste|Moreno|Mor...</td>\n",
       "      <td>casa</td>\n",
       "      <td>1.0</td>\n",
       "      <td>Bs.As. G.B.A. Zona Oeste</td>\n",
       "      <td>1900.0</td>\n",
       "      <td>1900.0</td>\n",
       "    </tr>\n",
       "    <tr>\n",
       "      <th>1676</th>\n",
       "      <td>moderna casa, de solo 10 aÑos, con muy buenas ...</td>\n",
       "      <td>NaN</td>\n",
       "      <td>-34.6382715,-58.4869238</td>\n",
       "      <td>Villa Luro</td>\n",
       "      <td>|Argentina|Capital Federal|Villa Luro|</td>\n",
       "      <td>casa</td>\n",
       "      <td>1.0</td>\n",
       "      <td>Capital Federal</td>\n",
       "      <td>170.0</td>\n",
       "      <td>290.0</td>\n",
       "    </tr>\n",
       "    <tr>\n",
       "      <th>1680</th>\n",
       "      <td>dueÑo directo-inmobiliarias abstenerse- espect...</td>\n",
       "      <td>NaN</td>\n",
       "      <td>-34.5843717,-58.4221871</td>\n",
       "      <td>Palermo</td>\n",
       "      <td>|Argentina|Capital Federal|Palermo|</td>\n",
       "      <td>departamento</td>\n",
       "      <td>1.0</td>\n",
       "      <td>Capital Federal</td>\n",
       "      <td>160.0</td>\n",
       "      <td>215.0</td>\n",
       "    </tr>\n",
       "    <tr>\n",
       "      <th>1682</th>\n",
       "      <td>dueÑo directo-inmobiliarias abstenerse- espect...</td>\n",
       "      <td>NaN</td>\n",
       "      <td>-34.5843717,-58.4221871</td>\n",
       "      <td>Palermo</td>\n",
       "      <td>|Argentina|Capital Federal|Palermo|</td>\n",
       "      <td>departamento</td>\n",
       "      <td>1.0</td>\n",
       "      <td>Capital Federal</td>\n",
       "      <td>160.0</td>\n",
       "      <td>215.0</td>\n",
       "    </tr>\n",
       "    <tr>\n",
       "      <th>2379</th>\n",
       "      <td>ideal consultorio oficinas apto profesionaldob...</td>\n",
       "      <td>NaN</td>\n",
       "      <td>-34.62084198,-58.37721252</td>\n",
       "      <td>San Telmo</td>\n",
       "      <td>|Argentina|Capital Federal|San Telmo|</td>\n",
       "      <td>departamento</td>\n",
       "      <td>1.0</td>\n",
       "      <td>Capital Federal</td>\n",
       "      <td>4733.0</td>\n",
       "      <td>60.0</td>\n",
       "    </tr>\n",
       "    <tr>\n",
       "      <th>2668</th>\n",
       "      <td>hermoso chalet a 2 aguas de 112 m2 sobre lote ...</td>\n",
       "      <td>NaN</td>\n",
       "      <td>-34.6009407,-58.68854141</td>\n",
       "      <td>Villa Udaondo</td>\n",
       "      <td>|Argentina|Bs.As. G.B.A. Zona Oeste|Ituzaingó|...</td>\n",
       "      <td>casa</td>\n",
       "      <td>1.0</td>\n",
       "      <td>Bs.As. G.B.A. Zona Oeste</td>\n",
       "      <td>122.0</td>\n",
       "      <td>600.0</td>\n",
       "    </tr>\n",
       "    <tr>\n",
       "      <th>2765</th>\n",
       "      <td>casa a 8 cuadras de la estación muy buen estad...</td>\n",
       "      <td>NaN</td>\n",
       "      <td>-34.654953,-58.7814064</td>\n",
       "      <td>Moreno</td>\n",
       "      <td>|Argentina|Bs.As. G.B.A. Zona Oeste|Moreno|Mor...</td>\n",
       "      <td>casa</td>\n",
       "      <td>1.0</td>\n",
       "      <td>Bs.As. G.B.A. Zona Oeste</td>\n",
       "      <td>135.0</td>\n",
       "      <td>135.0</td>\n",
       "    </tr>\n",
       "    <tr>\n",
       "      <th>3013</th>\n",
       "      <td>lote con 2 departamentos a demoler medidas; 8....</td>\n",
       "      <td>NaN</td>\n",
       "      <td>-34.65138626,-58.61279297</td>\n",
       "      <td>Morón</td>\n",
       "      <td>|Argentina|Bs.As. G.B.A. Zona Oeste|Morón|Morón|</td>\n",
       "      <td>casa</td>\n",
       "      <td>1.0</td>\n",
       "      <td>Bs.As. G.B.A. Zona Oeste</td>\n",
       "      <td>190.0</td>\n",
       "      <td>225.0</td>\n",
       "    </tr>\n",
       "    <tr>\n",
       "      <th>3069</th>\n",
       "      <td>vendo casa sobre 2  lotes con salida a dos cal...</td>\n",
       "      <td>NaN</td>\n",
       "      <td>-34.66523743,-58.82032776</td>\n",
       "      <td>Moreno</td>\n",
       "      <td>|Argentina|Bs.As. G.B.A. Zona Oeste|Moreno|Mor...</td>\n",
       "      <td>casa</td>\n",
       "      <td>1.0</td>\n",
       "      <td>Bs.As. G.B.A. Zona Oeste</td>\n",
       "      <td>110.0</td>\n",
       "      <td>695.0</td>\n",
       "    </tr>\n",
       "    <tr>\n",
       "      <th>3313</th>\n",
       "      <td>propiedad ubicada sobre 882 metos cuadrados , ...</td>\n",
       "      <td>NaN</td>\n",
       "      <td>-34.60574341,-58.6850853</td>\n",
       "      <td>Ituzaingó</td>\n",
       "      <td>|Argentina|Bs.As. G.B.A. Zona Oeste|Ituzaingó|...</td>\n",
       "      <td>casa</td>\n",
       "      <td>1.0</td>\n",
       "      <td>Bs.As. G.B.A. Zona Oeste</td>\n",
       "      <td>120.0</td>\n",
       "      <td>1095.0</td>\n",
       "    </tr>\n",
       "    <tr>\n",
       "      <th>3673</th>\n",
       "      <td>casa sobre lote propio de 20 x 40 mts. cocina ...</td>\n",
       "      <td>NaN</td>\n",
       "      <td>-34.62897873,-58.64183426</td>\n",
       "      <td>Villa Tesei</td>\n",
       "      <td>|Argentina|Bs.As. G.B.A. Zona Oeste|Hurlingham...</td>\n",
       "      <td>casa</td>\n",
       "      <td>1.0</td>\n",
       "      <td>Bs.As. G.B.A. Zona Oeste</td>\n",
       "      <td>190.0</td>\n",
       "      <td>800.0</td>\n",
       "    </tr>\n",
       "    <tr>\n",
       "      <th>3688</th>\n",
       "      <td>hermosa casa tipo quinta con amplio parque, cu...</td>\n",
       "      <td>NaN</td>\n",
       "      <td>-34.67736053,-58.66320038</td>\n",
       "      <td>Morón</td>\n",
       "      <td>|Argentina|Bs.As. G.B.A. Zona Oeste|Morón|Morón|</td>\n",
       "      <td>casa</td>\n",
       "      <td>1.0</td>\n",
       "      <td>Bs.As. G.B.A. Zona Oeste</td>\n",
       "      <td>136.0</td>\n",
       "      <td>808.0</td>\n",
       "    </tr>\n",
       "    <tr>\n",
       "      <th>3797</th>\n",
       "      <td>moreno norte. propiedad a reciclar  o adaptar ...</td>\n",
       "      <td>NaN</td>\n",
       "      <td>-34.64110947,-58.79113007</td>\n",
       "      <td>Moreno</td>\n",
       "      <td>|Argentina|Bs.As. G.B.A. Zona Oeste|Moreno|Mor...</td>\n",
       "      <td>casa</td>\n",
       "      <td>1.0</td>\n",
       "      <td>Bs.As. G.B.A. Zona Oeste</td>\n",
       "      <td>220.0</td>\n",
       "      <td>350.0</td>\n",
       "    </tr>\n",
       "    <tr>\n",
       "      <th>4663</th>\n",
       "      <td>hermoso ph tipo loft recien reciclado. si se d...</td>\n",
       "      <td>NaN</td>\n",
       "      <td>NaN</td>\n",
       "      <td>Monserrat</td>\n",
       "      <td>|Argentina|Capital Federal|Monserrat|</td>\n",
       "      <td>ph</td>\n",
       "      <td>1.0</td>\n",
       "      <td>Capital Federal</td>\n",
       "      <td>133.0</td>\n",
       "      <td>169.0</td>\n",
       "    </tr>\n",
       "    <tr>\n",
       "      <th>5808</th>\n",
       "      <td>corredor responsable: francisco d'atri - cpmca...</td>\n",
       "      <td>NaN</td>\n",
       "      <td>-34.672992,-58.381902</td>\n",
       "      <td>Avellaneda</td>\n",
       "      <td>|Argentina|Bs.As. G.B.A. Zona Sur|Avellaneda|A...</td>\n",
       "      <td>departamento</td>\n",
       "      <td>1.0</td>\n",
       "      <td>Bs.As. G.B.A. Zona Sur</td>\n",
       "      <td>226.0</td>\n",
       "      <td>313.0</td>\n",
       "    </tr>\n",
       "    <tr>\n",
       "      <th>5902</th>\n",
       "      <td>en el pintoresco barrio cerrado santa juana, u...</td>\n",
       "      <td>NaN</td>\n",
       "      <td>-34.8997278,-58.4890196</td>\n",
       "      <td>Santa Juana</td>\n",
       "      <td>|Argentina|Bs.As. G.B.A. Zona Sur|Esteban Eche...</td>\n",
       "      <td>casa</td>\n",
       "      <td>1.0</td>\n",
       "      <td>Bs.As. G.B.A. Zona Sur</td>\n",
       "      <td>165.0</td>\n",
       "      <td>165.0</td>\n",
       "    </tr>\n",
       "    <tr>\n",
       "      <th>5994</th>\n",
       "      <td>*inmobiliaria integrante de clubinmueble*hermo...</td>\n",
       "      <td>NaN</td>\n",
       "      <td>NaN</td>\n",
       "      <td>Temperley</td>\n",
       "      <td>|Argentina|Bs.As. G.B.A. Zona Sur|Lomas de Zam...</td>\n",
       "      <td>casa</td>\n",
       "      <td>1.0</td>\n",
       "      <td>Bs.As. G.B.A. Zona Sur</td>\n",
       "      <td>186.0</td>\n",
       "      <td>186.0</td>\n",
       "    </tr>\n",
       "    <tr>\n",
       "      <th>7607</th>\n",
       "      <td>corredor responsable: maria natale - cucicba 6...</td>\n",
       "      <td>NaN</td>\n",
       "      <td>-34.651963,-58.415784</td>\n",
       "      <td>Pompeya</td>\n",
       "      <td>|Argentina|Capital Federal|Pompeya|</td>\n",
       "      <td>departamento</td>\n",
       "      <td>1.0</td>\n",
       "      <td>Capital Federal</td>\n",
       "      <td>159.0</td>\n",
       "      <td>222.0</td>\n",
       "    </tr>\n",
       "    <tr>\n",
       "      <th>7999</th>\n",
       "      <td>sobre el boulevard garcía del río  entre las c...</td>\n",
       "      <td>NaN</td>\n",
       "      <td>-34.5494485314,-58.4729362257</td>\n",
       "      <td>Nuñez</td>\n",
       "      <td>|Argentina|Capital Federal|Nuñez|</td>\n",
       "      <td>departamento</td>\n",
       "      <td>1.0</td>\n",
       "      <td>Capital Federal</td>\n",
       "      <td>139.0</td>\n",
       "      <td>164.0</td>\n",
       "    </tr>\n",
       "    <tr>\n",
       "      <th>8605</th>\n",
       "      <td>casa en mb estado en 1 planta con gran  jardín...</td>\n",
       "      <td>NaN</td>\n",
       "      <td>-34.5451728199,-58.4835558815</td>\n",
       "      <td>Saavedra</td>\n",
       "      <td>|Argentina|Capital Federal|Saavedra|</td>\n",
       "      <td>casa</td>\n",
       "      <td>1.0</td>\n",
       "      <td>Capital Federal</td>\n",
       "      <td>143.0</td>\n",
       "      <td>180.0</td>\n",
       "    </tr>\n",
       "    <tr>\n",
       "      <th>8888</th>\n",
       "      <td>corredor responsable: fernando muñoz - cucicba...</td>\n",
       "      <td>1.0</td>\n",
       "      <td>-34.610323,-58.476362</td>\n",
       "      <td>Villa General Mitre</td>\n",
       "      <td>|Argentina|Capital Federal|Villa General Mitre|</td>\n",
       "      <td>departamento</td>\n",
       "      <td>1.0</td>\n",
       "      <td>Capital Federal</td>\n",
       "      <td>388.0</td>\n",
       "      <td>400.0</td>\n",
       "    </tr>\n",
       "    <tr>\n",
       "      <th>9112</th>\n",
       "      <td>loft de 220 m2 apto oficinas, empresa, viviend...</td>\n",
       "      <td>NaN</td>\n",
       "      <td>-34.6390851,-58.3693383</td>\n",
       "      <td>Barracas</td>\n",
       "      <td>|Argentina|Capital Federal|Barracas|</td>\n",
       "      <td>departamento</td>\n",
       "      <td>1.0</td>\n",
       "      <td>Capital Federal</td>\n",
       "      <td>220.0</td>\n",
       "      <td>220.0</td>\n",
       "    </tr>\n",
       "    <tr>\n",
       "      <th>9710</th>\n",
       "      <td>a partir de un gran parque accedemos a esta at...</td>\n",
       "      <td>NaN</td>\n",
       "      <td>-34.7023445878,-58.2978281099</td>\n",
       "      <td>Don Bosco</td>\n",
       "      <td>|Argentina|Bs.As. G.B.A. Zona Sur|Quilmes|Don ...</td>\n",
       "      <td>casa</td>\n",
       "      <td>1.0</td>\n",
       "      <td>Bs.As. G.B.A. Zona Sur</td>\n",
       "      <td>143.0</td>\n",
       "      <td>284.0</td>\n",
       "    </tr>\n",
       "    <tr>\n",
       "      <th>9751</th>\n",
       "      <td>corredor responsable: mario gabriel gerez - cm...</td>\n",
       "      <td>2.0</td>\n",
       "      <td>NaN</td>\n",
       "      <td>Morón</td>\n",
       "      <td>|Argentina|Bs.As. G.B.A. Zona Oeste|Morón|Morón|</td>\n",
       "      <td>departamento</td>\n",
       "      <td>1.0</td>\n",
       "      <td>Bs.As. G.B.A. Zona Oeste</td>\n",
       "      <td>206.0</td>\n",
       "      <td>206.0</td>\n",
       "    </tr>\n",
       "    <tr>\n",
       "      <th>10101</th>\n",
       "      <td>venta departamento en centro / microcentro exc...</td>\n",
       "      <td>NaN</td>\n",
       "      <td>NaN</td>\n",
       "      <td>NaN</td>\n",
       "      <td>|Argentina|Capital Federal|</td>\n",
       "      <td>departamento</td>\n",
       "      <td>1.0</td>\n",
       "      <td>Capital Federal</td>\n",
       "      <td>235.0</td>\n",
       "      <td>245.0</td>\n",
       "    </tr>\n",
       "    <tr>\n",
       "      <th>10454</th>\n",
       "      <td>corredor responsable: uno bienes raices srl - ...</td>\n",
       "      <td>2.0</td>\n",
       "      <td>-34.628247,-58.391154</td>\n",
       "      <td>San Cristobal</td>\n",
       "      <td>|Argentina|Capital Federal|San Cristobal|</td>\n",
       "      <td>departamento</td>\n",
       "      <td>1.0</td>\n",
       "      <td>Capital Federal</td>\n",
       "      <td>385.0</td>\n",
       "      <td>35.0</td>\n",
       "    </tr>\n",
       "    <tr>\n",
       "      <th>11022</th>\n",
       "      <td>nuevo (8 aÑos). monoambiente. frente. 37 m2. b...</td>\n",
       "      <td>NaN</td>\n",
       "      <td>-34.5772341746,-58.4456695302</td>\n",
       "      <td>Colegiales</td>\n",
       "      <td>|Argentina|Capital Federal|Colegiales|</td>\n",
       "      <td>ph</td>\n",
       "      <td>1.0</td>\n",
       "      <td>Capital Federal</td>\n",
       "      <td>165.0</td>\n",
       "      <td>165.0</td>\n",
       "    </tr>\n",
       "    <tr>\n",
       "      <th>11809</th>\n",
       "      <td>chalet en adrogue (calle quintana esq. amenedo...</td>\n",
       "      <td>NaN</td>\n",
       "      <td>NaN</td>\n",
       "      <td>Adrogué</td>\n",
       "      <td>|Argentina|Bs.As. G.B.A. Zona Sur|Almirante Br...</td>\n",
       "      <td>casa</td>\n",
       "      <td>1.0</td>\n",
       "      <td>Bs.As. G.B.A. Zona Sur</td>\n",
       "      <td>151.0</td>\n",
       "      <td>181.0</td>\n",
       "    </tr>\n",
       "    <tr>\n",
       "      <th>11861</th>\n",
       "      <td>chalet en adrogué  reciclado hace 25 años. la ...</td>\n",
       "      <td>NaN</td>\n",
       "      <td>NaN</td>\n",
       "      <td>Adrogué</td>\n",
       "      <td>|Argentina|Bs.As. G.B.A. Zona Sur|Almirante Br...</td>\n",
       "      <td>casa</td>\n",
       "      <td>1.0</td>\n",
       "      <td>Bs.As. G.B.A. Zona Sur</td>\n",
       "      <td>305.0</td>\n",
       "      <td>305.0</td>\n",
       "    </tr>\n",
       "    <tr>\n",
       "      <th>11891</th>\n",
       "      <td>casa + departamento al sur de la ciudad de itu...</td>\n",
       "      <td>NaN</td>\n",
       "      <td>NaN</td>\n",
       "      <td>Ituzaingó</td>\n",
       "      <td>|Argentina|Bs.As. G.B.A. Zona Oeste|Ituzaingó|...</td>\n",
       "      <td>casa</td>\n",
       "      <td>1.0</td>\n",
       "      <td>Bs.As. G.B.A. Zona Oeste</td>\n",
       "      <td>120.0</td>\n",
       "      <td>NaN</td>\n",
       "    </tr>\n",
       "    <tr>\n",
       "      <th>12706</th>\n",
       "      <td>casa en mb estado en 1 planta con gran  jardín...</td>\n",
       "      <td>NaN</td>\n",
       "      <td>-34.5451728199,-58.4835558815</td>\n",
       "      <td>Saavedra</td>\n",
       "      <td>|Argentina|Capital Federal|Saavedra|</td>\n",
       "      <td>casa</td>\n",
       "      <td>1.0</td>\n",
       "      <td>Capital Federal</td>\n",
       "      <td>180.0</td>\n",
       "      <td>180.0</td>\n",
       "    </tr>\n",
       "    <tr>\n",
       "      <th>13272</th>\n",
       "      <td>chalet en turdera a mts de la plaza principal....</td>\n",
       "      <td>NaN</td>\n",
       "      <td>-34.7922796,-58.4047686</td>\n",
       "      <td>Turdera</td>\n",
       "      <td>|Argentina|Bs.As. G.B.A. Zona Sur|Lomas de Zam...</td>\n",
       "      <td>casa</td>\n",
       "      <td>1.0</td>\n",
       "      <td>Bs.As. G.B.A. Zona Sur</td>\n",
       "      <td>120.0</td>\n",
       "      <td>135.0</td>\n",
       "    </tr>\n",
       "  </tbody>\n",
       "</table>\n",
       "</div>"
      ],
      "text/plain": [
       "                                             description  floor  \\\n",
       "178    hermoso ph tipo loft recien reciclado. si se d...    NaN   \n",
       "1539   corredor responsable: uno bienes raices srl - ...    NaN   \n",
       "1676   moderna casa, de solo 10 aÑos, con muy buenas ...    NaN   \n",
       "1680   dueÑo directo-inmobiliarias abstenerse- espect...    NaN   \n",
       "1682   dueÑo directo-inmobiliarias abstenerse- espect...    NaN   \n",
       "2379   ideal consultorio oficinas apto profesionaldob...    NaN   \n",
       "2668   hermoso chalet a 2 aguas de 112 m2 sobre lote ...    NaN   \n",
       "2765   casa a 8 cuadras de la estación muy buen estad...    NaN   \n",
       "3013   lote con 2 departamentos a demoler medidas; 8....    NaN   \n",
       "3069   vendo casa sobre 2  lotes con salida a dos cal...    NaN   \n",
       "3313   propiedad ubicada sobre 882 metos cuadrados , ...    NaN   \n",
       "3673   casa sobre lote propio de 20 x 40 mts. cocina ...    NaN   \n",
       "3688   hermosa casa tipo quinta con amplio parque, cu...    NaN   \n",
       "3797   moreno norte. propiedad a reciclar  o adaptar ...    NaN   \n",
       "4663   hermoso ph tipo loft recien reciclado. si se d...    NaN   \n",
       "5808   corredor responsable: francisco d'atri - cpmca...    NaN   \n",
       "5902   en el pintoresco barrio cerrado santa juana, u...    NaN   \n",
       "5994   *inmobiliaria integrante de clubinmueble*hermo...    NaN   \n",
       "7607   corredor responsable: maria natale - cucicba 6...    NaN   \n",
       "7999   sobre el boulevard garcía del río  entre las c...    NaN   \n",
       "8605   casa en mb estado en 1 planta con gran  jardín...    NaN   \n",
       "8888   corredor responsable: fernando muñoz - cucicba...    1.0   \n",
       "9112   loft de 220 m2 apto oficinas, empresa, viviend...    NaN   \n",
       "9710   a partir de un gran parque accedemos a esta at...    NaN   \n",
       "9751   corredor responsable: mario gabriel gerez - cm...    2.0   \n",
       "10101  venta departamento en centro / microcentro exc...    NaN   \n",
       "10454  corredor responsable: uno bienes raices srl - ...    2.0   \n",
       "11022  nuevo (8 aÑos). monoambiente. frente. 37 m2. b...    NaN   \n",
       "11809  chalet en adrogue (calle quintana esq. amenedo...    NaN   \n",
       "11861  chalet en adrogué  reciclado hace 25 años. la ...    NaN   \n",
       "11891  casa + departamento al sur de la ciudad de itu...    NaN   \n",
       "12706  casa en mb estado en 1 planta con gran  jardín...    NaN   \n",
       "13272  chalet en turdera a mts de la plaza principal....    NaN   \n",
       "\n",
       "                             lat-lon           place_name  \\\n",
       "178                              NaN            Monserrat   \n",
       "1539           -34.574147,-58.848867               Moreno   \n",
       "1676         -34.6382715,-58.4869238           Villa Luro   \n",
       "1680         -34.5843717,-58.4221871              Palermo   \n",
       "1682         -34.5843717,-58.4221871              Palermo   \n",
       "2379       -34.62084198,-58.37721252            San Telmo   \n",
       "2668        -34.6009407,-58.68854141        Villa Udaondo   \n",
       "2765          -34.654953,-58.7814064               Moreno   \n",
       "3013       -34.65138626,-58.61279297                Morón   \n",
       "3069       -34.66523743,-58.82032776               Moreno   \n",
       "3313        -34.60574341,-58.6850853            Ituzaingó   \n",
       "3673       -34.62897873,-58.64183426          Villa Tesei   \n",
       "3688       -34.67736053,-58.66320038                Morón   \n",
       "3797       -34.64110947,-58.79113007               Moreno   \n",
       "4663                             NaN            Monserrat   \n",
       "5808           -34.672992,-58.381902           Avellaneda   \n",
       "5902         -34.8997278,-58.4890196          Santa Juana   \n",
       "5994                             NaN            Temperley   \n",
       "7607           -34.651963,-58.415784              Pompeya   \n",
       "7999   -34.5494485314,-58.4729362257                Nuñez   \n",
       "8605   -34.5451728199,-58.4835558815             Saavedra   \n",
       "8888           -34.610323,-58.476362  Villa General Mitre   \n",
       "9112         -34.6390851,-58.3693383             Barracas   \n",
       "9710   -34.7023445878,-58.2978281099            Don Bosco   \n",
       "9751                             NaN                Morón   \n",
       "10101                            NaN                  NaN   \n",
       "10454          -34.628247,-58.391154        San Cristobal   \n",
       "11022  -34.5772341746,-58.4456695302           Colegiales   \n",
       "11809                            NaN              Adrogué   \n",
       "11861                            NaN              Adrogué   \n",
       "11891                            NaN            Ituzaingó   \n",
       "12706  -34.5451728199,-58.4835558815             Saavedra   \n",
       "13272        -34.7922796,-58.4047686              Turdera   \n",
       "\n",
       "                                 place_with_parent_names property_type  rooms  \\\n",
       "178                |Argentina|Capital Federal|Monserrat|            ph    1.0   \n",
       "1539   |Argentina|Bs.As. G.B.A. Zona Oeste|Moreno|Mor...          casa    1.0   \n",
       "1676              |Argentina|Capital Federal|Villa Luro|          casa    1.0   \n",
       "1680                 |Argentina|Capital Federal|Palermo|  departamento    1.0   \n",
       "1682                 |Argentina|Capital Federal|Palermo|  departamento    1.0   \n",
       "2379               |Argentina|Capital Federal|San Telmo|  departamento    1.0   \n",
       "2668   |Argentina|Bs.As. G.B.A. Zona Oeste|Ituzaingó|...          casa    1.0   \n",
       "2765   |Argentina|Bs.As. G.B.A. Zona Oeste|Moreno|Mor...          casa    1.0   \n",
       "3013    |Argentina|Bs.As. G.B.A. Zona Oeste|Morón|Morón|          casa    1.0   \n",
       "3069   |Argentina|Bs.As. G.B.A. Zona Oeste|Moreno|Mor...          casa    1.0   \n",
       "3313   |Argentina|Bs.As. G.B.A. Zona Oeste|Ituzaingó|...          casa    1.0   \n",
       "3673   |Argentina|Bs.As. G.B.A. Zona Oeste|Hurlingham...          casa    1.0   \n",
       "3688    |Argentina|Bs.As. G.B.A. Zona Oeste|Morón|Morón|          casa    1.0   \n",
       "3797   |Argentina|Bs.As. G.B.A. Zona Oeste|Moreno|Mor...          casa    1.0   \n",
       "4663               |Argentina|Capital Federal|Monserrat|            ph    1.0   \n",
       "5808   |Argentina|Bs.As. G.B.A. Zona Sur|Avellaneda|A...  departamento    1.0   \n",
       "5902   |Argentina|Bs.As. G.B.A. Zona Sur|Esteban Eche...          casa    1.0   \n",
       "5994   |Argentina|Bs.As. G.B.A. Zona Sur|Lomas de Zam...          casa    1.0   \n",
       "7607                 |Argentina|Capital Federal|Pompeya|  departamento    1.0   \n",
       "7999                   |Argentina|Capital Federal|Nuñez|  departamento    1.0   \n",
       "8605                |Argentina|Capital Federal|Saavedra|          casa    1.0   \n",
       "8888     |Argentina|Capital Federal|Villa General Mitre|  departamento    1.0   \n",
       "9112                |Argentina|Capital Federal|Barracas|  departamento    1.0   \n",
       "9710   |Argentina|Bs.As. G.B.A. Zona Sur|Quilmes|Don ...          casa    1.0   \n",
       "9751    |Argentina|Bs.As. G.B.A. Zona Oeste|Morón|Morón|  departamento    1.0   \n",
       "10101                        |Argentina|Capital Federal|  departamento    1.0   \n",
       "10454          |Argentina|Capital Federal|San Cristobal|  departamento    1.0   \n",
       "11022             |Argentina|Capital Federal|Colegiales|            ph    1.0   \n",
       "11809  |Argentina|Bs.As. G.B.A. Zona Sur|Almirante Br...          casa    1.0   \n",
       "11861  |Argentina|Bs.As. G.B.A. Zona Sur|Almirante Br...          casa    1.0   \n",
       "11891  |Argentina|Bs.As. G.B.A. Zona Oeste|Ituzaingó|...          casa    1.0   \n",
       "12706               |Argentina|Capital Federal|Saavedra|          casa    1.0   \n",
       "13272  |Argentina|Bs.As. G.B.A. Zona Sur|Lomas de Zam...          casa    1.0   \n",
       "\n",
       "                     state_name  surface_covered_in_m2  surface_total_in_m2  \n",
       "178             Capital Federal                  133.0                169.0  \n",
       "1539   Bs.As. G.B.A. Zona Oeste                 1900.0               1900.0  \n",
       "1676            Capital Federal                  170.0                290.0  \n",
       "1680            Capital Federal                  160.0                215.0  \n",
       "1682            Capital Federal                  160.0                215.0  \n",
       "2379            Capital Federal                 4733.0                 60.0  \n",
       "2668   Bs.As. G.B.A. Zona Oeste                  122.0                600.0  \n",
       "2765   Bs.As. G.B.A. Zona Oeste                  135.0                135.0  \n",
       "3013   Bs.As. G.B.A. Zona Oeste                  190.0                225.0  \n",
       "3069   Bs.As. G.B.A. Zona Oeste                  110.0                695.0  \n",
       "3313   Bs.As. G.B.A. Zona Oeste                  120.0               1095.0  \n",
       "3673   Bs.As. G.B.A. Zona Oeste                  190.0                800.0  \n",
       "3688   Bs.As. G.B.A. Zona Oeste                  136.0                808.0  \n",
       "3797   Bs.As. G.B.A. Zona Oeste                  220.0                350.0  \n",
       "4663            Capital Federal                  133.0                169.0  \n",
       "5808     Bs.As. G.B.A. Zona Sur                  226.0                313.0  \n",
       "5902     Bs.As. G.B.A. Zona Sur                  165.0                165.0  \n",
       "5994     Bs.As. G.B.A. Zona Sur                  186.0                186.0  \n",
       "7607            Capital Federal                  159.0                222.0  \n",
       "7999            Capital Federal                  139.0                164.0  \n",
       "8605            Capital Federal                  143.0                180.0  \n",
       "8888            Capital Federal                  388.0                400.0  \n",
       "9112            Capital Federal                  220.0                220.0  \n",
       "9710     Bs.As. G.B.A. Zona Sur                  143.0                284.0  \n",
       "9751   Bs.As. G.B.A. Zona Oeste                  206.0                206.0  \n",
       "10101           Capital Federal                  235.0                245.0  \n",
       "10454           Capital Federal                  385.0                 35.0  \n",
       "11022           Capital Federal                  165.0                165.0  \n",
       "11809    Bs.As. G.B.A. Zona Sur                  151.0                181.0  \n",
       "11861    Bs.As. G.B.A. Zona Sur                  305.0                305.0  \n",
       "11891  Bs.As. G.B.A. Zona Oeste                  120.0                  NaN  \n",
       "12706           Capital Federal                  180.0                180.0  \n",
       "13272    Bs.As. G.B.A. Zona Sur                  120.0                135.0  "
      ]
     },
     "execution_count": 92,
     "metadata": {},
     "output_type": "execute_result"
    }
   ],
   "source": [
    "test_set_inicial[(test_set_inicial[\"rooms\"] == 1) & (test_set_inicial[\"surface_covered_in_m2\"] > 100)]"
   ]
  },
  {
   "cell_type": "code",
   "execution_count": 93,
   "metadata": {},
   "outputs": [
    {
     "name": "stdout",
     "output_type": "stream",
     "text": [
      "El promedio para: 1 ambientes es: 42.4656762295 y su desviacion estandar es :116.531818117\n",
      "El promedio para: 2 ambientes es: 56.176410605 y su desviacion estandar es :105.322628062\n",
      "El promedio para: 3 ambientes es: 98.7613836922 y su desviacion estandar es :264.302941219\n",
      "El promedio para: 4 ambientes es: 226.727684347 y su desviacion estandar es :3761.5428175\n",
      "El promedio para: 5 ambientes es: 7159.68376068 y su desviacion estandar es :149909.531615\n",
      "El promedio para: 6 ambientes es: 234.983695652 y su desviacion estandar es :114.483610183\n",
      "El promedio para: 7 ambientes es: 261.485714286 y su desviacion estandar es :113.212477273\n",
      "El promedio para: 8 ambientes es: 289.0625 y su desviacion estandar es :141.127701837\n"
     ]
    }
   ],
   "source": [
    "#En promedio por ambiente, cual es su superficie cubierta para el test?\n",
    "ambs = range(1,9)\n",
    "for amb in ambs:\n",
    "    promedio = test_set_inicial[test_set_inicial[\"rooms\"] == amb][\"surface_covered_in_m2\"].mean()\n",
    "    desviacion = test_set_inicial[test_set_inicial[\"rooms\"] == amb][\"surface_covered_in_m2\"].std()\n",
    "    print \"El promedio para: \"+str(amb)+\" ambientes es: \"+str(promedio)+\" y su desviacion estandar es :\"+str(desviacion)\n",
    "#se ve que para propiedades de 5 ambientes la sup es demaciado grande comparado a los varores de ambientes mayores"
   ]
  },
  {
   "cell_type": "code",
   "execution_count": null,
   "metadata": {},
   "outputs": [],
   "source": []
  },
  {
   "cell_type": "code",
   "execution_count": 94,
   "metadata": {},
   "outputs": [],
   "source": [
    "df = test_set_inicial.copy()"
   ]
  },
  {
   "cell_type": "code",
   "execution_count": 95,
   "metadata": {},
   "outputs": [
    {
     "data": {
      "text/plain": [
       "{20.0: 11,\n",
       " 21.0: 12,\n",
       " 22.0: 18,\n",
       " 23.0: 24,\n",
       " 24.0: 32,\n",
       " 25.0: 55,\n",
       " 26.0: 65,\n",
       " 27.0: 60,\n",
       " 28.0: 82,\n",
       " 29.0: 31,\n",
       " 30.0: 136,\n",
       " 31.0: 63,\n",
       " 32.0: 115,\n",
       " 33.0: 112,\n",
       " 34.0: 151,\n",
       " 35.0: 96,\n",
       " 36.0: 94,\n",
       " 37.0: 73,\n",
       " 38.0: 57,\n",
       " 39.0: 56,\n",
       " 40.0: 79,\n",
       " 41.0: 45,\n",
       " 42.0: 52,\n",
       " 43.0: 19,\n",
       " 44.0: 67,\n",
       " 45.0: 55,\n",
       " 46.0: 48,\n",
       " 47.0: 20,\n",
       " 48.0: 30,\n",
       " 49.0: 10,\n",
       " 50.0: 24,\n",
       " 51.0: 4,\n",
       " 52.0: 21,\n",
       " 53.0: 4,\n",
       " 54.0: 5,\n",
       " 55.0: 12,\n",
       " 56.0: 4,\n",
       " 57.0: 1,\n",
       " 58.0: 2,\n",
       " 59.0: 2,\n",
       " 60.0: 13,\n",
       " 61.0: 3,\n",
       " 62.0: 1,\n",
       " 63.0: 1,\n",
       " 64.0: 1,\n",
       " 65.0: 2,\n",
       " 66.0: 3,\n",
       " 67.0: 2,\n",
       " 68.0: 1,\n",
       " 69.0: 2,\n",
       " 70.0: 4,\n",
       " 73.0: 2,\n",
       " 74.0: 1,\n",
       " 75.0: 2,\n",
       " 76.0: 1,\n",
       " 80.0: 1,\n",
       " 81.0: 4,\n",
       " 87.0: 1,\n",
       " 90.0: 15,\n",
       " 97.0: 2,\n",
       " 98.0: 1,\n",
       " 100.0: 9,\n",
       " 110.0: 1,\n",
       " 120.0: 3,\n",
       " 122.0: 1,\n",
       " 133.0: 2,\n",
       " 135.0: 1,\n",
       " 136.0: 1,\n",
       " 139.0: 1,\n",
       " 143.0: 2,\n",
       " 151.0: 1,\n",
       " 159.0: 1,\n",
       " 160.0: 2,\n",
       " 165.0: 2,\n",
       " 170.0: 1,\n",
       " 180.0: 1,\n",
       " 186.0: 1,\n",
       " 190.0: 2,\n",
       " 206.0: 1,\n",
       " 220.0: 2,\n",
       " 226.0: 1,\n",
       " 235.0: 1,\n",
       " 305.0: 1,\n",
       " 385.0: 1,\n",
       " 388.0: 1,\n",
       " 1900.0: 1,\n",
       " 4733.0: 1}"
      ]
     },
     "execution_count": 95,
     "metadata": {},
     "output_type": "execute_result"
    }
   ],
   "source": [
    "df[df[\"rooms\"] == 1][\"surface_covered_in_m2\"].value_counts().sort_index(ascending = False).to_dict()"
   ]
  },
  {
   "cell_type": "code",
   "execution_count": 96,
   "metadata": {},
   "outputs": [
    {
     "data": {
      "text/plain": [
       "14166"
      ]
     },
     "execution_count": 96,
     "metadata": {},
     "output_type": "execute_result"
    }
   ],
   "source": [
    "#en caso que haya una cantidad mayor  a 8 amb se coloca nan se considera outlier \n",
    "df[\"rooms\"] = df.apply(lambda row: filter_ambientes(row), axis = 1)\n",
    "len(df)"
   ]
  },
  {
   "cell_type": "code",
   "execution_count": 97,
   "metadata": {},
   "outputs": [
    {
     "data": {
      "text/plain": [
       "14166"
      ]
     },
     "execution_count": 97,
     "metadata": {},
     "output_type": "execute_result"
    }
   ],
   "source": [
    "df2 = df.copy()\n",
    "len(df2)"
   ]
  },
  {
   "cell_type": "code",
   "execution_count": 98,
   "metadata": {},
   "outputs": [
    {
     "data": {
      "text/plain": [
       "1318"
      ]
     },
     "execution_count": 98,
     "metadata": {},
     "output_type": "execute_result"
    }
   ],
   "source": [
    "#vemos cuantas filas tienen superficie cubierta nula\n",
    "df[\"surface_covered_in_m2\"].isnull().sum()"
   ]
  },
  {
   "cell_type": "code",
   "execution_count": 99,
   "metadata": {},
   "outputs": [],
   "source": [
    "df[\"surface_total_in_m2\"] = df.apply(lambda row: replace_total(row), axis = 1)"
   ]
  },
  {
   "cell_type": "code",
   "execution_count": 100,
   "metadata": {
    "collapsed": true
   },
   "outputs": [],
   "source": [
    "df[\"surface_covered_in_m2\"] = df.apply(lambda row: replace_cubierta_nan(row), axis = 1)"
   ]
  },
  {
   "cell_type": "code",
   "execution_count": 75,
   "metadata": {},
   "outputs": [
    {
     "data": {
      "text/plain": [
       "12387"
      ]
     },
     "execution_count": 75,
     "metadata": {},
     "output_type": "execute_result"
    }
   ],
   "source": [
    "#aca le saco filas al df\n",
    "df.dropna(axis = 0,how='all', subset=[\"rooms\",\"surface_total_in_m2\"], inplace = True)\n",
    "df.dropna(axis = 0,how='all', subset=[\"rooms\",\"surface_covered_in_m2\"], inplace = True)\n",
    "df.dropna(axis = 0,how='all', subset=[\"surface_covered_in_m2\",\"surface_total_in_m2\"], inplace = True)\n",
    "len(df)"
   ]
  },
  {
   "cell_type": "code",
   "execution_count": 101,
   "metadata": {},
   "outputs": [
    {
     "data": {
      "text/plain": [
       "description                    0\n",
       "floor                      11561\n",
       "lat-lon                     3679\n",
       "place_name                   264\n",
       "place_with_parent_names        0\n",
       "property_type                  0\n",
       "rooms                       3347\n",
       "state_name                     0\n",
       "surface_covered_in_m2       1318\n",
       "surface_total_in_m2         2310\n",
       "dtype: int64"
      ]
     },
     "execution_count": 101,
     "metadata": {},
     "output_type": "execute_result"
    }
   ],
   "source": [
    "df.isnull().sum()"
   ]
  },
  {
   "cell_type": "code",
   "execution_count": 105,
   "metadata": {},
   "outputs": [
    {
     "data": {
      "text/plain": [
       "2310"
      ]
     },
     "execution_count": 105,
     "metadata": {},
     "output_type": "execute_result"
    }
   ],
   "source": [
    "df[\"surface_total_in_m2\"] = df.apply(lambda row: fix_surface_total_menor_cubierta(row), axis=1)\n",
    "df.surface_total_in_m2.isnull().sum()"
   ]
  },
  {
   "cell_type": "code",
   "execution_count": 106,
   "metadata": {},
   "outputs": [
    {
     "data": {
      "text/plain": [
       "148000.0"
      ]
     },
     "execution_count": 106,
     "metadata": {},
     "output_type": "execute_result"
    }
   ],
   "source": [
    "#Hay alguno con superficie total muy grande?\n",
    "df[\"surface_total_in_m2\"].max()"
   ]
  },
  {
   "cell_type": "code",
   "execution_count": null,
   "metadata": {},
   "outputs": [],
   "source": [
    "df[\"surface_covered_in_m2\"]= df.apply(lambda row: fill_superficie_cubierta_con_total(row, df), axis = 1)\n"
   ]
  },
  {
   "cell_type": "code",
   "execution_count": null,
   "metadata": {
    "collapsed": true
   },
   "outputs": [],
   "source": [
    "df.isnull().sum()"
   ]
  },
  {
   "cell_type": "code",
   "execution_count": null,
   "metadata": {
    "collapsed": true
   },
   "outputs": [],
   "source": [
    "df.head(1)"
   ]
  },
  {
   "cell_type": "code",
   "execution_count": null,
   "metadata": {
    "collapsed": true
   },
   "outputs": [],
   "source": [
    "df[\"rooms\"] = df.apply(lambda row: fix_nan_rooms(row,df), axis = 1)"
   ]
  },
  {
   "cell_type": "code",
   "execution_count": null,
   "metadata": {
    "collapsed": true
   },
   "outputs": [],
   "source": [
    "df[\"floor\"].fillna(0, inplace = True)"
   ]
  },
  {
   "cell_type": "code",
   "execution_count": null,
   "metadata": {
    "collapsed": true
   },
   "outputs": [],
   "source": [
    "df[\"place_name\"] = df.apply(lambda row: fix_null_place_name(row), axis = 1)"
   ]
  },
  {
   "cell_type": "code",
   "execution_count": null,
   "metadata": {
    "collapsed": true
   },
   "outputs": [],
   "source": [
    "df[\"lat-lon\"] = df.apply(lambda row: fix_lat_lon(row,df), axis = 1)"
   ]
  },
  {
   "cell_type": "code",
   "execution_count": null,
   "metadata": {
    "collapsed": true
   },
   "outputs": [],
   "source": [
    "df[\"lat-lon\"] = df.apply(lambda row: row[\"lat-lon\"] if not(pd.isnull(row[\"lat-lon\"])) else \"-34.800986,-58.218988\", axis = 1)"
   ]
  },
  {
   "cell_type": "code",
   "execution_count": null,
   "metadata": {
    "collapsed": true
   },
   "outputs": [],
   "source": [
    "df.isnull().sum()"
   ]
  },
  {
   "cell_type": "code",
   "execution_count": null,
   "metadata": {
    "collapsed": true
   },
   "outputs": [],
   "source": [
    "df.to_csv(\"test_set_filling_nans_con_vecinos.csv\", compression =\"gzip\", index = False)"
   ]
  }
 ],
 "metadata": {
  "kernelspec": {
   "display_name": "Python 2",
   "language": "python",
   "name": "python2"
  },
  "language_info": {
   "codemirror_mode": {
    "name": "ipython",
    "version": 2
   },
   "file_extension": ".py",
   "mimetype": "text/x-python",
   "name": "python",
   "nbconvert_exporter": "python",
   "pygments_lexer": "ipython2",
   "version": "2.7.13"
  }
 },
 "nbformat": 4,
 "nbformat_minor": 2
}
