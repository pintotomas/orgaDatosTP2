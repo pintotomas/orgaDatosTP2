{
 "cells": [
  {
   "cell_type": "code",
   "execution_count": null,
   "metadata": {
    "collapsed": true
   },
   "outputs": [],
   "source": [
    "import pandas as pd"
   ]
  },
  {
   "cell_type": "code",
   "execution_count": null,
   "metadata": {
    "collapsed": true
   },
   "outputs": [],
   "source": [
    "import numpy as np"
   ]
  },
  {
   "cell_type": "code",
   "execution_count": null,
   "metadata": {},
   "outputs": [],
   "source": [
    "data = pd.read_csv(\"properati_data_fixed_all_years_duplicated_with_outliers.csv\", compression = \"gzip\")"
   ]
  },
  {
   "cell_type": "code",
   "execution_count": null,
   "metadata": {
    "collapsed": true
   },
   "outputs": [],
   "source": [
    "posibles_descripciones_ambientes = {\"1 ambiente\": 1, \"monoambiente\": 1, \"mono ambiente\":1, \"2 ambientes\": 2,\"3 ambientes\": 3,\n",
    "                          \"4 ambientes\": 4,\"5 ambientes\": 5, \"6 ambientes\": 6, \"7 ambientes\": 7,\"8 ambientes\": 8,\n",
    "                          \"9 ambientes\": 1, \"10 ambientes\": 10,\n",
    "                         \"ambientes: 1\": 1, \"ambientes: 2\": 2, \"ambientes: 3\": 3, \"ambientes: 4\": 4, \"ambientes: 5\": 5,\n",
    "                         \"ambientes: 6\": 6, \"ambientes: 7\": 7, \"un ambiente\": 1, \"dos ambientes\": 2, \"tres ambientes\": 3,\n",
    "                         \"cuatro ambientes\": 4,\"cinco ambientes\": 5,\" seis ambientes\": 6, \"siete ambientes\": 7,\n",
    "                         \"2 impecables ambientes\": 2, \"3 impecables ambientes\": 3, \"4 amplios ambientes\": 4, \"2 amplios ambientes\": 2,\n",
    "                          \"3 amplios ambientes\": 3, \"5 amplios ambientes\": 5, \"2  ambientes\": 2, \"3  ambientes\": 3,\n",
    "                          \"2 grandes ambientes\": 2, \"6 amplios ambientes\": 6, \"1 ambientes\": 1\n",
    "                         ,\"3 amplios  ambientes\": 3, \"3 y ½ ambientes\": 3.5,\"2 y ½ ambientes\": 2.5, \"2 y medio ambiente\": 2.5,\n",
    "                         \"(2) ambientes\":2, \"2 amplisimos ambientes\": 2,\"4  ambientes\":4,\"3 grandes ambientes\":3,\n",
    "                                   \"4 ½ ambientes\": 4.5, \"4 cÃ²modos y confortables ambientes\":4, \"cantidad de ambientes 4\":4,\n",
    "                                   \"cantidad de ambientes 3\": 3,\"ambientes : 4\":4,\"ambientes : 5\":5,\"ambientes : 3\":3,\"ambientes : 2\":2,\n",
    "                                   \"ambientes : 1\":1,\"chalet de 5  ambientes\":5,\"4 cÃ³modos y confortables ambientes\":4,\"4   ambientes\":4,\n",
    "                                   \"3 buenos ambientes\":3,\"4 còmodos y confortables ambientes\":4,\"2 amb.\":2,\"3 amb.\":3,\"4 amb.\":4,\"1 amb.\":1, \"5 amb.\":5,\"6 amb.\":6,\"7 amb.\":7,\n",
    "                                   \"3 (tres) ambientes\": 3, \"2 (dos) ambientes\":2, \"4 (cuatro) ambientes\":4, \"5 (cinco) ambientes\": 5, \"1 (uno) ambientes\": 1, \"1 (uno) ambiente\":1,\n",
    "                                   \"6 (seis) ambientes\":6, \"7 (siete) ambientes\":7, \"8 (ocho) ambientes\":8, \"9 (nueve) ambientes\":9, \"10 (diez) ambientes\":10, \"1 amb\":1, \"2 amb\":2,\n",
    "                                   \"3 amb\":3, \"4 amb\":4, \"5 amb\":5, \"6 amb\":6,\"7 amb\":7,\"8 amb\":8,\"2 ambiente\":2,\"3 ambiente\":3,\"4 ambiente\":4, \"1amb\":1,\"2amb\":2,\"3amb\":3,\"4amb\":4,\n",
    "                                   \"5amb\":5,\"6amb\":6,\"8amb\":8,\"7amb\":7}\n"
   ]
  },
  {
   "cell_type": "code",
   "execution_count": null,
   "metadata": {
    "collapsed": true
   },
   "outputs": [],
   "source": [
    "\n",
    "def fix_ambientes(row, search_title, search_extra, search_description):\n",
    "    \n",
    "    if pd.isnull(row[\"rooms\"]):\n",
    "        return np.nan#Ya fueron fixeadas\n",
    "    cols = []\n",
    "    if search_description:\n",
    "        descripcion = row[\"description\"]\n",
    "        cols.append(descripcion)\n",
    "    if search_extra:\n",
    "        extra = row[\"extra\"]\n",
    "        cols.append(extra)\n",
    "    if search_title:\n",
    "        title = row[\"title\"]\n",
    "        cols.append(title)\n",
    "        \n",
    "    ambiente_actual = row[\"rooms\"]\n",
    "    for col in cols:\n",
    "        if not(pd.isnull(col)):\n",
    "            for k in posibles_descripciones_ambientes:\n",
    "        \n",
    "                if k in col:\n",
    "                    value_found = float(posibles_descripciones_ambientes[k])\n",
    "                    if float(row[\"rooms\"]) != value_found:\n",
    "                        return value_found\n",
    "    return row[\"rooms\"]"
   ]
  },
  {
   "cell_type": "code",
   "execution_count": null,
   "metadata": {
    "collapsed": true
   },
   "outputs": [],
   "source": [
    "data_2017 = data[data[\"year\"] == 2017]"
   ]
  },
  {
   "cell_type": "code",
   "execution_count": null,
   "metadata": {},
   "outputs": [],
   "source": [
    "#Sacamos las de Zona Norte porque no tenemos que predecir casi ninguna de esa zona.\n",
    "data_2017_zo_zs_caba = data_2017[(data_2017[\"state_name\"] == \"Capital Federal\") | (data_2017[\"state_name\"] == \"Bs.As. G.B.A. Zona Sur\") | (data_2017[\"state_name\"] == \"Bs.As. G.B.A. Zona Oeste\")]"
   ]
  },
  {
   "cell_type": "code",
   "execution_count": null,
   "metadata": {},
   "outputs": [],
   "source": [
    "#Antes vuelvo a aplicar esto xq habia algunos que se pueden corregir\n",
    "data_2017_zo_zs_caba[\"rooms\"] = data_2017_zo_zs_caba.apply(lambda row: fix_ambientes(row, False, False, True), axis = 1)"
   ]
  },
  {
   "cell_type": "code",
   "execution_count": null,
   "metadata": {},
   "outputs": [],
   "source": [
    "#Los que tienen nulo (room, surface total), (room, cubierta), (cubierta, total) no nos sirven demasiado\n",
    "len(data_2017_zo_zs_caba)"
   ]
  },
  {
   "cell_type": "code",
   "execution_count": null,
   "metadata": {},
   "outputs": [],
   "source": [
    "data_2017_zo_zs_caba.dropna(axis = 0,how='all', subset=[\"rooms\",\"surface_total_in_m2\"], inplace = True)\n",
    "data_2017_zo_zs_caba.dropna(axis = 0,how='all', subset=[\"rooms\",\"surface_covered_in_m2\"], inplace = True)\n",
    "data_2017_zo_zs_caba.dropna(axis = 0,how='all', subset=[\"surface_covered_in_m2\",\"surface_total_in_m2\"], inplace = True)"
   ]
  },
  {
   "cell_type": "code",
   "execution_count": null,
   "metadata": {},
   "outputs": [],
   "source": [
    "data_2017_zo_zs_caba.isnull().sum()"
   ]
  },
  {
   "cell_type": "code",
   "execution_count": null,
   "metadata": {
    "collapsed": true
   },
   "outputs": [],
   "source": [
    "#A los de rooms nulas tratamos de rellenarlas con con los que tengan superficie total y cubierta parecida (su promedio)"
   ]
  },
  {
   "cell_type": "code",
   "execution_count": null,
   "metadata": {
    "collapsed": true
   },
   "outputs": [],
   "source": []
  },
  {
   "cell_type": "code",
   "execution_count": null,
   "metadata": {},
   "outputs": [],
   "source": [
    "data_2017_zo_zs_caba[data_2017_zo_zs_caba[\"rooms\"].isnull()][\"surface_covered_in_m2\"].values[4]"
   ]
  },
  {
   "cell_type": "code",
   "execution_count": null,
   "metadata": {},
   "outputs": [],
   "source": [
    "data_2017_zo_zs_caba[data_2017_zo_zs_caba[\"rooms\"] == 9][\"description\"].values[3]"
   ]
  },
  {
   "cell_type": "code",
   "execution_count": null,
   "metadata": {},
   "outputs": [],
   "source": [
    "data_2017_zo_zs_caba[\"rooms\"].value_counts()"
   ]
  },
  {
   "cell_type": "code",
   "execution_count": null,
   "metadata": {
    "collapsed": true
   },
   "outputs": [],
   "source": [
    "#Con esto vemos que ya mas de 8 ambientes es algo raro, "
   ]
  },
  {
   "cell_type": "code",
   "execution_count": null,
   "metadata": {},
   "outputs": [],
   "source": [
    "data_2017_zo_zs_caba[data_2017_zo_zs_caba[\"rooms\"] == 11][\"description\"].values[11]"
   ]
  },
  {
   "cell_type": "code",
   "execution_count": null,
   "metadata": {
    "collapsed": true
   },
   "outputs": [],
   "source": [
    "#Pongo en NaN aquellos que tengan mas de 8 ambientes"
   ]
  },
  {
   "cell_type": "code",
   "execution_count": null,
   "metadata": {},
   "outputs": [],
   "source": [
    "data_2017_zo_zs_caba[data_2017_zo_zs_caba[\"rooms\"] == 9][\"description\"].values"
   ]
  },
  {
   "cell_type": "code",
   "execution_count": null,
   "metadata": {},
   "outputs": [],
   "source": [
    "#En promedio por ambiente, cual es su superficie cubierta?\n",
    "ambs = range(1,9)\n",
    "for amb in ambs:\n",
    "    promedio = data_2017_zo_zs_caba[data_2017_zo_zs_caba[\"rooms\"] == amb][\"surface_covered_in_m2\"].mean()\n",
    "    desviacion = data_2017_zo_zs_caba[data_2017_zo_zs_caba[\"rooms\"] == amb][\"surface_covered_in_m2\"].std()\n",
    "    print \"El promedio para: \"+str(amb)+\" ambientes es: \"+str(promedio)+\" y su desviacion estandar es :\"+str(desviacion)\n"
   ]
  },
  {
   "cell_type": "code",
   "execution_count": null,
   "metadata": {
    "collapsed": true
   },
   "outputs": [],
   "source": [
    "#P/ cada cantidad de ambientes miro su superficie total, superficie cubierta y precio en u$d \n",
    "#y elimino las cosas raras"
   ]
  },
  {
   "cell_type": "code",
   "execution_count": null,
   "metadata": {
    "collapsed": true
   },
   "outputs": [],
   "source": [
    "df = data_2017_zo_zs_caba.copy()"
   ]
  },
  {
   "cell_type": "code",
   "execution_count": null,
   "metadata": {},
   "outputs": [],
   "source": [
    "df[df[\"rooms\"] == 1][\"surface_covered_in_m2\"].value_counts().sort_index(ascending = False).to_dict()"
   ]
  },
  {
   "cell_type": "code",
   "execution_count": null,
   "metadata": {},
   "outputs": [],
   "source": [
    "#Me quedo con las de superficie cubierta < a 60 mts2. Las que tienen mas mts2,\n",
    "#no podemos saber con exactitud si tiene nincorrecto #rooms o superficie cubierta\n",
    "df = df[(df[\"rooms\"] != 1) | ((df[\"rooms\"] == 1) & (df[\"surface_covered_in_m2\"] < 61))]"
   ]
  },
  {
   "cell_type": "code",
   "execution_count": null,
   "metadata": {},
   "outputs": [],
   "source": [
    "df[df[\"rooms\"] == 1][\"surface_covered_in_m2\"].max()"
   ]
  },
  {
   "cell_type": "code",
   "execution_count": null,
   "metadata": {},
   "outputs": [],
   "source": [
    "#Me quedo con las de superficie cubierta < a 80 mts2. Las que tienen mas mts2,\n",
    "#no podemos saber con exactitud si tiene nincorrecto #rooms o superficie cubierta\n",
    "df[(df[\"rooms\"] == 1) & (df[\"price_aprox_usd\"] == 6809000)][\"description\"].values[0]"
   ]
  },
  {
   "cell_type": "code",
   "execution_count": null,
   "metadata": {},
   "outputs": [],
   "source": [
    "#Me quedo con las de superficie cubierta < a 80 mts2. Las que tienen mas mts2,\n",
    "#no podemos saber con exactitud si tiene nincorrecto #rooms o superficie cubierta\n",
    "df = df[(df[\"rooms\"] != 2) | ((df[\"rooms\"] == 2) & (df[\"surface_covered_in_m2\"] < 142))]"
   ]
  },
  {
   "cell_type": "code",
   "execution_count": null,
   "metadata": {},
   "outputs": [],
   "source": [
    "len(df)"
   ]
  },
  {
   "cell_type": "code",
   "execution_count": null,
   "metadata": {},
   "outputs": [],
   "source": [
    "df[df[\"rooms\"] == 3][\"surface_covered_in_m2\"].value_counts().sort_index(ascending = False).to_dict()"
   ]
  },
  {
   "cell_type": "code",
   "execution_count": null,
   "metadata": {
    "collapsed": true
   },
   "outputs": [],
   "source": [
    "#Me quedo con las de superficie cubierta < a 80 mts2. Las que tienen mas mts2,\n",
    "#no podemos saber con exactitud si tiene nincorrecto #rooms o superficie cubierta\n",
    "df = df[(df[\"rooms\"] != 3) | ((df[\"rooms\"] == 3) & (df[\"surface_covered_in_m2\"] < 302))]"
   ]
  },
  {
   "cell_type": "code",
   "execution_count": null,
   "metadata": {},
   "outputs": [],
   "source": [
    "df[df[\"rooms\"] == 4][\"surface_covered_in_m2\"].value_counts().sort_index(ascending = False).to_dict()"
   ]
  },
  {
   "cell_type": "code",
   "execution_count": null,
   "metadata": {
    "collapsed": true
   },
   "outputs": [],
   "source": [
    "#Me quedo con las de superficie cubierta < a 80 mts2. Las que tienen mas mts2,\n",
    "#no podemos saber con exactitud si tiene nincorrecto #rooms o superficie cubierta\n",
    "df = df[(df[\"rooms\"] != 4) | ((df[\"rooms\"] == 4) & (df[\"surface_covered_in_m2\"] < 405))]"
   ]
  },
  {
   "cell_type": "code",
   "execution_count": null,
   "metadata": {},
   "outputs": [],
   "source": [
    "df[df[\"rooms\"] == 8][\"surface_covered_in_m2\"].value_counts().sort_index(ascending = False).to_dict()"
   ]
  },
  {
   "cell_type": "code",
   "execution_count": null,
   "metadata": {
    "collapsed": true
   },
   "outputs": [],
   "source": [
    "#Me quedo con las de superficie cubierta < a 80 mts2. Las que tienen mas mts2,\n",
    "#no podemos saber con exactitud si tiene nincorrecto #rooms o superficie cubierta\n",
    "df = df[(df[\"rooms\"] != 6) | ((df[\"rooms\"] == 6) & (df[\"surface_covered_in_m2\"] < 1300))]"
   ]
  },
  {
   "cell_type": "code",
   "execution_count": null,
   "metadata": {
    "collapsed": true
   },
   "outputs": [],
   "source": [
    "#Los que tengan mas de 8 ambientes, los pongo como NaN\n",
    "def filter_ambientes(row):\n",
    "    ambientes = row[\"rooms\"]\n",
    "    if ambientes > 8:\n",
    "        return np.nan\n",
    "    elif ambientes == 2.5:\n",
    "        return 3 #Son muy pocos estos dos \n",
    "    elif ambientes == 3.5:\n",
    "        return 4 \n",
    "    else:\n",
    "        return ambientes"
   ]
  },
  {
   "cell_type": "code",
   "execution_count": null,
   "metadata": {},
   "outputs": [],
   "source": [
    "df[\"rooms\"] = df.apply(lambda row: filter_ambientes(row), axis = 1)"
   ]
  },
  {
   "cell_type": "code",
   "execution_count": null,
   "metadata": {},
   "outputs": [],
   "source": [
    "df[\"rooms\"].value_counts()"
   ]
  },
  {
   "cell_type": "code",
   "execution_count": null,
   "metadata": {},
   "outputs": [],
   "source": [
    "df[\"surface_total_in_m2\"].value_counts().sort_index(ascending = False).to_dict()"
   ]
  },
  {
   "cell_type": "code",
   "execution_count": null,
   "metadata": {},
   "outputs": [],
   "source": [
    "df2 = df.copy()\n",
    "len(df2)"
   ]
  },
  {
   "cell_type": "code",
   "execution_count": null,
   "metadata": {},
   "outputs": [],
   "source": [
    "df = df2.copy()\n",
    "df2 = df.copy()"
   ]
  },
  {
   "cell_type": "code",
   "execution_count": null,
   "metadata": {},
   "outputs": [],
   "source": [
    "df[\"surface_covered_in_m2\"].isnull().sum()"
   ]
  },
  {
   "cell_type": "code",
   "execution_count": null,
   "metadata": {
    "collapsed": true
   },
   "outputs": [],
   "source": [
    "def replace_cubierta_nan(row):\n",
    "    cubierta = row[\"surface_covered_in_m2\"]\n",
    "    if pd.isnull(cubierta):\n",
    "        return np.nan\n",
    "    elif cubierta < 20:\n",
    "        return np.nan\n",
    "    elif not(pd.isnull(row[\"rooms\"])):\n",
    "        rooms = row[\"rooms\"]\n",
    "        if rooms == 4 and cubierta < 30:\n",
    "            return np.nan\n",
    "        elif rooms == 5 and cubierta < 35:\n",
    "            return np.nan\n",
    "        elif rooms == 6 and cubierta < 40:\n",
    "            return np.nan\n",
    "        elif rooms == 7 and cubierta < 45:\n",
    "            return np.nan\n",
    "        elif rooms == 8 and cubierta < 59:\n",
    "            return np.nan\n",
    "        else:\n",
    "            return row[\"surface_covered_in_m2\"]\n",
    "    else:\n",
    "        return row[\"surface_covered_in_m2\"]"
   ]
  },
  {
   "cell_type": "code",
   "execution_count": null,
   "metadata": {
    "collapsed": true
   },
   "outputs": [],
   "source": [
    "def replace_total(row):\n",
    "    sup_total = row[\"surface_total_in_m2\"]\n",
    "    if sup_total < 20:\n",
    "        return np.nan\n",
    "    else:\n",
    "        return row[\"surface_total_in_m2\"]"
   ]
  },
  {
   "cell_type": "code",
   "execution_count": null,
   "metadata": {},
   "outputs": [],
   "source": [
    "df[\"surface_total_in_m2\"] = df.apply(lambda row: replace_total(row), axis = 1)"
   ]
  },
  {
   "cell_type": "code",
   "execution_count": null,
   "metadata": {},
   "outputs": [],
   "source": [
    "df2[\"surface_total_in_m2\"].isnull().sum()"
   ]
  },
  {
   "cell_type": "code",
   "execution_count": null,
   "metadata": {},
   "outputs": [],
   "source": [
    "df[\"surface_covered_in_m2\"] = df.apply(lambda row: replace_cubierta_nan(row), axis = 1)"
   ]
  },
  {
   "cell_type": "code",
   "execution_count": null,
   "metadata": {},
   "outputs": [],
   "source": [
    "df[\"surface_covered_in_m2\"].isnull().sum()"
   ]
  },
  {
   "cell_type": "code",
   "execution_count": null,
   "metadata": {},
   "outputs": [],
   "source": [
    "df[df[\"rooms\"] == 1][\"surface_covered_in_m2\"].max()"
   ]
  },
  {
   "cell_type": "code",
   "execution_count": null,
   "metadata": {},
   "outputs": [],
   "source": [
    "df.dropna(axis = 0,how='all', subset=[\"rooms\",\"surface_total_in_m2\"], inplace = True)\n",
    "df.dropna(axis = 0,how='all', subset=[\"rooms\",\"surface_covered_in_m2\"], inplace = True)\n",
    "df.dropna(axis = 0,how='all', subset=[\"surface_covered_in_m2\",\"surface_total_in_m2\"], inplace = True)"
   ]
  },
  {
   "cell_type": "code",
   "execution_count": null,
   "metadata": {},
   "outputs": [],
   "source": [
    "#Para cada nulo de rooms, le pongo el promedio de los q tengan su cubierta y total, y para cada\n",
    "#nulo de cubierta, lo mismo\n",
    "df.isnull().sum()"
   ]
  },
  {
   "cell_type": "code",
   "execution_count": null,
   "metadata": {},
   "outputs": [],
   "source": [
    "def fix_nan_rooms(row, df):\n",
    "    if not(pd.isnull(row[\"rooms\"])):\n",
    "        return row[\"rooms\"] #Si ya tenia la cantidad de rooms, esto esta bien\n",
    "    \n",
    "    sup_cub = row[\"surface_covered_in_m2\"]\n",
    "    avg_rooms = np.nan\n",
    "    dif = 0\n",
    "    while pd.isnull(avg_rooms):    \n",
    "        lim_inf = sup_cub - dif\n",
    "        lim_sup = sup_cub + dif\n",
    "        act_vecindario = df[df[\"surface_covered_in_m2\"] < lim_sup]\n",
    "        act_vecindario = df[df[\"surface_covered_in_m2\"] > lim_inf]\n",
    "        print len(act_vecindario)\n",
    "        avg_rooms = act_vecindario[\"rooms\"].mean()\n",
    "        dif += 5\n",
    "    print \"FOUND \"+str(avg_rooms)\n",
    "        "
   ]
  },
  {
   "cell_type": "code",
   "execution_count": null,
   "metadata": {},
   "outputs": [],
   "source": [
    "not_nan_rooms = df[~df[\"rooms\"].isnull()]"
   ]
  },
  {
   "cell_type": "code",
   "execution_count": null,
   "metadata": {},
   "outputs": [],
   "source": [
    "not_nan_rooms[\"surface_covered_in_m2\"].isnull().sum()"
   ]
  },
  {
   "cell_type": "code",
   "execution_count": null,
   "metadata": {},
   "outputs": [],
   "source": [
    "df.corr()"
   ]
  },
  {
   "cell_type": "code",
   "execution_count": null,
   "metadata": {
    "collapsed": true
   },
   "outputs": [],
   "source": [
    "#Hay una correlacion masomenos alta entre la superficie cubierta y la total, para rellenar la superficie\n",
    "#cubierta que queda lo hago segun la total"
   ]
  },
  {
   "cell_type": "code",
   "execution_count": null,
   "metadata": {},
   "outputs": [],
   "source": [
    "df2 = df.copy()"
   ]
  },
  {
   "cell_type": "code",
   "execution_count": null,
   "metadata": {
    "collapsed": true
   },
   "outputs": [],
   "source": [
    "#A los que tengan una superficie total < a la cubierta: Les asigno la cubierta\n",
    "def fix_surface_total_menor_cubierta(row):\n",
    "    if pd.isnull(row[\"surface_total_in_m2\"]) or pd.isnull(row[\"surface_covered_in_m2\"]):\n",
    "        return row[\"surface_total_in_m2\"]\n",
    "    elif row[\"surface_total_in_m2\"] < row[\"surface_covered_in_m2\"]:\n",
    "        return row[\"surface_covered_in_m2\"]\n",
    "    else:\n",
    "        return row[\"surface_total_in_m2\"]"
   ]
  },
  {
   "cell_type": "code",
   "execution_count": null,
   "metadata": {},
   "outputs": [],
   "source": [
    "df.corr()"
   ]
  },
  {
   "cell_type": "code",
   "execution_count": null,
   "metadata": {},
   "outputs": [],
   "source": [
    "df[\"surface_total_in_m2\"] = df.apply(lambda row: fix_surface_total_menor_cubierta(row), axis=1)"
   ]
  },
  {
   "cell_type": "code",
   "execution_count": null,
   "metadata": {},
   "outputs": [],
   "source": [
    "#Hay alguno con superficie total muy grande?\n",
    "df[\"surface_total_in_m2\"].max()"
   ]
  },
  {
   "cell_type": "code",
   "execution_count": null,
   "metadata": {},
   "outputs": [],
   "source": [
    "df[df[\"surface_total_in_m2\"] == df[\"surface_total_in_m2\"].max()][\"description\"].values[0]"
   ]
  },
  {
   "cell_type": "code",
   "execution_count": null,
   "metadata": {},
   "outputs": [],
   "source": [
    "#Lo elimino\n",
    "df[df[\"surface_total_in_m2\"] == df[\"surface_total_in_m2\"].max()]"
   ]
  },
  {
   "cell_type": "code",
   "execution_count": null,
   "metadata": {},
   "outputs": [],
   "source": [
    "df.sort_values(by=\"surface_total_in_m2\", ascending = False)"
   ]
  },
  {
   "cell_type": "code",
   "execution_count": null,
   "metadata": {},
   "outputs": [],
   "source": [
    "df[\"surface_total_in_m2\"].value_counts().sort_index(ascending = False)"
   ]
  },
  {
   "cell_type": "code",
   "execution_count": null,
   "metadata": {},
   "outputs": [],
   "source": [
    "df[df[\"surface_total_in_m2\"] > 2000][\"price_aprox_usd\"].mean()"
   ]
  },
  {
   "cell_type": "code",
   "execution_count": null,
   "metadata": {
    "collapsed": true
   },
   "outputs": [],
   "source": [
    "#Elimino propiedades que tengan una superficie total muy alta y un precio muy bajo"
   ]
  },
  {
   "cell_type": "code",
   "execution_count": null,
   "metadata": {},
   "outputs": [],
   "source": [
    "len(df[(df[\"surface_total_in_m2\"] < 2000) | ((df[\"surface_total_in_m2\"] >= 2000) & df[\"price_aprox_usd\"] > 1000000)])"
   ]
  },
  {
   "cell_type": "code",
   "execution_count": null,
   "metadata": {},
   "outputs": [],
   "source": [
    "df = df[(df[\"surface_total_in_m2\"] < 2000) | ((df[\"surface_total_in_m2\"] >= 2000) & df[\"price_aprox_usd\"] > 1000000)]"
   ]
  },
  {
   "cell_type": "code",
   "execution_count": null,
   "metadata": {},
   "outputs": [],
   "source": [
    "df.corr()"
   ]
  },
  {
   "cell_type": "code",
   "execution_count": null,
   "metadata": {},
   "outputs": [],
   "source": [
    "df[\"surface_total_in_m2\"].max()"
   ]
  },
  {
   "cell_type": "code",
   "execution_count": null,
   "metadata": {
    "collapsed": true
   },
   "outputs": [],
   "source": [
    "saved_results = {}"
   ]
  },
  {
   "cell_type": "code",
   "execution_count": null,
   "metadata": {},
   "outputs": [],
   "source": [
    "#A partir de la superficie total empiezo a arreglar la sup. cubierta\n",
    "def fill_superficie_cubierta_con_total(row, df):\n",
    "    \n",
    "    if not(pd.isnull(row[\"surface_covered_in_m2\"])):\n",
    "        return row[\"surface_covered_in_m2\"]\n",
    "    sup_total = row[\"surface_total_in_m2\"]\n",
    "    avg_cubierta = np.nan\n",
    "    dif = 0\n",
    "    if sup_total in saved_results:\n",
    "        return saved_results[sup_total]\n",
    "    while pd.isnull(avg_cubierta):    \n",
    "        lim_inf = sup_total - dif\n",
    "        lim_sup = sup_total + dif\n",
    "        act_vecindario = df[df[\"surface_total_in_m2\"] < lim_sup]\n",
    "        act_vecindario = act_vecindario[act_vecindario[\"surface_total_in_m2\"] > lim_inf]\n",
    "        avg_cubierta = act_vecindario[\"surface_covered_in_m2\"].mean()\n",
    "        dif += 1\n",
    "        if (dif > 20): #para que sea mas rapido\n",
    "            dif += 20\n",
    "    #Guardo el resultado \n",
    "    saved_results[row[\"surface_total_in_m2\"]] = avg_cubierta\n",
    "    return avg_cubierta"
   ]
  },
  {
   "cell_type": "code",
   "execution_count": null,
   "metadata": {},
   "outputs": [],
   "source": [
    "df[\"surface_covered_in_m2\"]= df.apply(lambda row: fill_superficie_cubierta_con_total(row, df), axis = 1)"
   ]
  },
  {
   "cell_type": "code",
   "execution_count": null,
   "metadata": {},
   "outputs": [],
   "source": [
    "print saved_results"
   ]
  },
  {
   "cell_type": "code",
   "execution_count": null,
   "metadata": {},
   "outputs": [],
   "source": [
    "#Por ahora dejamos las propiedades con un valor muy alto, de ultima despues probamos eliminarlas"
   ]
  },
  {
   "cell_type": "code",
   "execution_count": null,
   "metadata": {
    "collapsed": true
   },
   "outputs": [],
   "source": [
    "saved_surface_total_rooms = {}"
   ]
  },
  {
   "cell_type": "code",
   "execution_count": null,
   "metadata": {},
   "outputs": [],
   "source": [
    "def fix_nan_rooms(row, df):\n",
    "    if not(pd.isnull(row[\"rooms\"])):\n",
    "        return row[\"rooms\"] #Si ya tenia la cantidad de rooms, esto esta bien\n",
    "    \n",
    "    sup_cub = row[\"surface_covered_in_m2\"]\n",
    "    if sup_cub in saved_surface_total_rooms:\n",
    "        return saved_surface_total_rooms[sup_cub]\n",
    "    avg_rooms = np.nan\n",
    "    dif = 0\n",
    "    while pd.isnull(avg_rooms):    \n",
    "        lim_inf = sup_cub - dif\n",
    "        lim_sup = sup_cub + dif\n",
    "        act_vecindario = df[df[\"surface_covered_in_m2\"] < lim_sup]\n",
    "        act_vecindario = df[df[\"surface_covered_in_m2\"] > lim_inf]\n",
    "        avg_rooms = act_vecindario[\"rooms\"].mean()\n",
    "        dif += 5\n",
    "    saved_surface_total_rooms[sup_cub] = avg_rooms\n",
    "    return avg_rooms\n",
    "        "
   ]
  },
  {
   "cell_type": "code",
   "execution_count": null,
   "metadata": {
    "collapsed": true
   },
   "outputs": [],
   "source": [
    "df2 = df.copy()"
   ]
  },
  {
   "cell_type": "code",
   "execution_count": null,
   "metadata": {},
   "outputs": [],
   "source": [
    "df[\"rooms\"] = df.apply(lambda row: fix_nan_rooms(row,df), axis = 1)"
   ]
  },
  {
   "cell_type": "code",
   "execution_count": null,
   "metadata": {},
   "outputs": [],
   "source": [
    "df.corr()"
   ]
  },
  {
   "cell_type": "code",
   "execution_count": null,
   "metadata": {},
   "outputs": [],
   "source": [
    "#Es una casa de 12 millones de dolares con una descripcion muy pobre, la elimino\n",
    "#Es complicado considerar un vecindario para expensas, a aquella la eliminamos. con floor podemos \n",
    "#rellenar con 0's. Ademas en expensas no se ve una correlacion"
   ]
  },
  {
   "cell_type": "code",
   "execution_count": null,
   "metadata": {
    "collapsed": true
   },
   "outputs": [],
   "source": [
    "df[\"floor\"].fillna(0, inplace = True)"
   ]
  },
  {
   "cell_type": "code",
   "execution_count": null,
   "metadata": {},
   "outputs": [],
   "source": [
    "df.drop(labels = \"expenses\", axis = 1, inplace = True)"
   ]
  },
  {
   "cell_type": "code",
   "execution_count": null,
   "metadata": {
    "scrolled": true
   },
   "outputs": [],
   "source": [
    "#A las que tengan place_name nulo le asigno su state_name\n",
    "def fix_null_place_name(row):\n",
    "    if pd.isnull(row[\"place_name\"]):\n",
    "        return row[\"state_name\"]\n",
    "    return row[\"place_name\"]"
   ]
  },
  {
   "cell_type": "code",
   "execution_count": null,
   "metadata": {
    "collapsed": true
   },
   "outputs": [],
   "source": [
    "df[\"place_name\"] = df.apply(lambda row: fix_null_place_name(row), axis = 1)"
   ]
  },
  {
   "cell_type": "code",
   "execution_count": null,
   "metadata": {},
   "outputs": [],
   "source": [
    "len(df[df[\"lat-lon\"].isnull()][\"place_name\"].value_counts().index)"
   ]
  },
  {
   "cell_type": "code",
   "execution_count": null,
   "metadata": {},
   "outputs": [],
   "source": [
    "df[\"lat-lon\"].values[0]"
   ]
  },
  {
   "cell_type": "code",
   "execution_count": null,
   "metadata": {},
   "outputs": [],
   "source": [
    "#A los de lat-lon nula, busco entre los que tengan el mismo place name y le asigno algun lat lon \n",
    "#de ellos\n",
    "saved_lat_lons = {}\n",
    "def fix_lat_lon(row, df):\n",
    "    if not(pd.isnull(row[\"lat-lon\"])):\n",
    "        return row[\"lat-lon\"]\n",
    "    place = row[\"place_name\"]\n",
    "    if place in saved_lat_lons:\n",
    "        print \"FOUND AT SAVED!\"\n",
    "        return saved_lat_lons[place]\n",
    "    same_place = df[df[\"place_name\"] == place]\n",
    "    same_place_w_lat_lon = same_place[~same_place[\"lat-lon\"].isnull()]\n",
    "    try:\n",
    "        final_pos = same_place_w_lat_lon[\"lat-lon\"].values[0]\n",
    "    except:\n",
    "        return np.nan\n",
    "    saved_lat_lons[place] = final_pos\n",
    "    return final_pos"
   ]
  },
  {
   "cell_type": "code",
   "execution_count": null,
   "metadata": {},
   "outputs": [],
   "source": [
    "df[\"lat-lon\"] = df.apply(lambda row: fix_lat_lon(row,df), axis = 1)"
   ]
  },
  {
   "cell_type": "code",
   "execution_count": null,
   "metadata": {},
   "outputs": [],
   "source": [
    "#Quedaron 11 nulos, los busco a mano"
   ]
  },
  {
   "cell_type": "code",
   "execution_count": null,
   "metadata": {},
   "outputs": [],
   "source": [
    "df[\"lat-lon\"] = df.apply(lambda row: row[\"lat-lon\"] if not(pd.isnull(row[\"lat-lon\"])) else \"-34.800986,-58.218988\", axis = 1)"
   ]
  },
  {
   "cell_type": "code",
   "execution_count": null,
   "metadata": {},
   "outputs": [],
   "source": [
    "df.isnull().sum()"
   ]
  },
  {
   "cell_type": "code",
   "execution_count": null,
   "metadata": {},
   "outputs": [],
   "source": [
    "df.to_csv(\"training_set_filling_nans_con_vecinos.csv\", compression =\"gzip\", index = False)"
   ]
  },
  {
   "cell_type": "code",
   "execution_count": null,
   "metadata": {},
   "outputs": [],
   "source": [
    "test_set_inicial = pd.read_csv(\"LO IMPORTANTE/properati_testing_noprice_fixed.csv\",compression =\"gzip\", low_memory = False)"
   ]
  },
  {
   "cell_type": "code",
   "execution_count": null,
   "metadata": {},
   "outputs": [],
   "source": [
    "#primero pongo en nuls las cosas raras\n"
   ]
  },
  {
   "cell_type": "code",
   "execution_count": null,
   "metadata": {},
   "outputs": [],
   "source": [
    "test_set_inicial[\"rooms\"] = test_set_inicial.apply(lambda row: filter_ambientes(row), axis = 1)"
   ]
  },
  {
   "cell_type": "code",
   "execution_count": null,
   "metadata": {},
   "outputs": [],
   "source": [
    "test_set_inicial[\"rooms\"].value_counts()"
   ]
  },
  {
   "cell_type": "code",
   "execution_count": null,
   "metadata": {},
   "outputs": [],
   "source": [
    "len(test_set_inicial)"
   ]
  },
  {
   "cell_type": "code",
   "execution_count": null,
   "metadata": {},
   "outputs": [],
   "source": [
    "test_set_inicial[\"surface_covered_in_m2\"] = test_set_inicial.apply(lambda row: replace_cubierta_nan(row), axis = 1)"
   ]
  },
  {
   "cell_type": "code",
   "execution_count": null,
   "metadata": {},
   "outputs": [],
   "source": [
    "test_set_inicial[\"surface_total_in_m2\"] = test_set_inicial.apply(lambda row: replace_total(row), axis = 1)"
   ]
  },
  {
   "cell_type": "code",
   "execution_count": null,
   "metadata": {},
   "outputs": [],
   "source": []
  },
  {
   "cell_type": "code",
   "execution_count": null,
   "metadata": {
    "collapsed": true
   },
   "outputs": [],
   "source": [
    "#Ademas tengo que chequear monoambientes o 2, 3, .. con superficie cubierta ridicula "
   ]
  },
  {
   "cell_type": "code",
   "execution_count": null,
   "metadata": {},
   "outputs": [],
   "source": [
    "test_set_inicial[(test_set_inicial[\"rooms\"] == 1) & (test_set_inicial[\"surface_covered_in_m2\"] == 1900)][\"description\"].values[0]"
   ]
  },
  {
   "cell_type": "code",
   "execution_count": null,
   "metadata": {
    "scrolled": true
   },
   "outputs": [],
   "source": [
    "test_set_inicial[(test_set_inicial[\"rooms\"] == 1) & (test_set_inicial[\"surface_covered_in_m2\"] > 100)]"
   ]
  },
  {
   "cell_type": "code",
   "execution_count": null,
   "metadata": {
    "collapsed": true
   },
   "outputs": [],
   "source": []
  },
  {
   "cell_type": "code",
   "execution_count": null,
   "metadata": {},
   "outputs": [],
   "source": [
    "a[\"rooms\"].value_counts()"
   ]
  }
 ],
 "metadata": {
  "kernelspec": {
   "display_name": "Python 2",
   "language": "python",
   "name": "python2"
  },
  "language_info": {
   "codemirror_mode": {
    "name": "ipython",
    "version": 2
   },
   "file_extension": ".py",
   "mimetype": "text/x-python",
   "name": "python",
   "nbconvert_exporter": "python",
   "pygments_lexer": "ipython2",
   "version": "2.7.13"
  }
 },
 "nbformat": 4,
 "nbformat_minor": 2
}
