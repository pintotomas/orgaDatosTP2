{
 "cells": [
  {
   "cell_type": "code",
   "execution_count": 155,
   "metadata": {
    "collapsed": true
   },
   "outputs": [],
   "source": [
    "import pandas as pd"
   ]
  },
  {
   "cell_type": "code",
   "execution_count": 156,
   "metadata": {
    "collapsed": true
   },
   "outputs": [],
   "source": [
    "import numpy as np"
   ]
  },
  {
   "cell_type": "code",
   "execution_count": 157,
   "metadata": {},
   "outputs": [],
   "source": [
    "data = pd.read_csv(\"properati_data_fixed_all_years_duplicated_with_outliers.csv\", compression = \"gzip\")"
   ]
  },
  {
   "cell_type": "code",
   "execution_count": 158,
   "metadata": {},
   "outputs": [
    {
     "data": {
      "text/plain": [
       "1210782"
      ]
     },
     "execution_count": 158,
     "metadata": {},
     "output_type": "execute_result"
    }
   ],
   "source": [
    "#Los que tienen nulo (room, surface total), (room, cubierta), (cubierta, total) no nos sirven demasiado\n",
    "len(data)"
   ]
  },
  {
   "cell_type": "code",
   "execution_count": 159,
   "metadata": {},
   "outputs": [],
   "source": [
    "data.dropna(axis = 0,how='all', subset=[\"rooms\",\"surface_total_in_m2\"], inplace = True)\n",
    "data.dropna(axis = 0,how='all', subset=[\"rooms\",\"surface_covered_in_m2\"], inplace = True)\n",
    "data.dropna(axis = 0,how='all', subset=[\"surface_covered_in_m2\",\"surface_total_in_m2\"], inplace = True)"
   ]
  },
  {
   "cell_type": "code",
   "execution_count": 160,
   "metadata": {},
   "outputs": [
    {
     "data": {
      "text/plain": [
       "584301"
      ]
     },
     "execution_count": 160,
     "metadata": {},
     "output_type": "execute_result"
    }
   ],
   "source": [
    "len(data)"
   ]
  },
  {
   "cell_type": "code",
   "execution_count": 161,
   "metadata": {},
   "outputs": [
    {
     "data": {
      "text/plain": [
       "2017.0    229943\n",
       "2016.0     87654\n",
       "2014.0     83136\n",
       "2015.0     81912\n",
       "2013.0     75804\n",
       "2012.0      7714\n",
       "Name: year, dtype: int64"
      ]
     },
     "execution_count": 161,
     "metadata": {},
     "output_type": "execute_result"
    }
   ],
   "source": [
    "data[\"year\"].value_counts()"
   ]
  },
  {
   "cell_type": "code",
   "execution_count": 162,
   "metadata": {
    "collapsed": true
   },
   "outputs": [],
   "source": [
    "data_2017 = data[data[\"year\"] == 2017]"
   ]
  },
  {
   "cell_type": "code",
   "execution_count": 163,
   "metadata": {},
   "outputs": [
    {
     "data": {
      "text/plain": [
       "229943"
      ]
     },
     "execution_count": 163,
     "metadata": {},
     "output_type": "execute_result"
    }
   ],
   "source": [
    "len(data_2017)"
   ]
  },
  {
   "cell_type": "code",
   "execution_count": 164,
   "metadata": {},
   "outputs": [
    {
     "data": {
      "text/plain": [
       "Bs.As. G.B.A. Zona Norte    86017\n",
       "Capital Federal             85565\n",
       "Bs.As. G.B.A. Zona Sur      31822\n",
       "Bs.As. G.B.A. Zona Oeste    26539\n",
       "Name: state_name, dtype: int64"
      ]
     },
     "execution_count": 164,
     "metadata": {},
     "output_type": "execute_result"
    }
   ],
   "source": [
    "data_2017[\"state_name\"].value_counts()"
   ]
  },
  {
   "cell_type": "code",
   "execution_count": 165,
   "metadata": {},
   "outputs": [],
   "source": [
    "#Sacamos las de Zona Norte porque no tenemos que predecir casi ninguna de esa zona.\n",
    "data_2017_zo_zs_caba = data_2017[(data_2017[\"state_name\"] == \"Capital Federal\") | (data_2017[\"state_name\"] == \"Bs.As. G.B.A. Zona Sur\") | (data_2017[\"state_name\"] == \"Bs.As. G.B.A. Zona Oeste\")]"
   ]
  },
  {
   "cell_type": "code",
   "execution_count": 166,
   "metadata": {},
   "outputs": [
    {
     "data": {
      "text/plain": [
       "Capital Federal             85565\n",
       "Bs.As. G.B.A. Zona Sur      31822\n",
       "Bs.As. G.B.A. Zona Oeste    26539\n",
       "Name: state_name, dtype: int64"
      ]
     },
     "execution_count": 166,
     "metadata": {},
     "output_type": "execute_result"
    }
   ],
   "source": [
    "data_2017_zo_zs_caba[\"state_name\"].value_counts()"
   ]
  },
  {
   "cell_type": "code",
   "execution_count": 167,
   "metadata": {},
   "outputs": [
    {
     "data": {
      "text/plain": [
       "created_on                      0\n",
       "description                     0\n",
       "expenses                   119745\n",
       "floor                      119950\n",
       "id                              0\n",
       "lat-lon                     37493\n",
       "place_name                   1897\n",
       "place_with_parent_names         0\n",
       "price_aprox_usd                 0\n",
       "property_type                   0\n",
       "rooms                       51357\n",
       "state_name                      0\n",
       "surface_covered_in_m2        3660\n",
       "surface_total_in_m2            72\n",
       "year                            0\n",
       "dtype: int64"
      ]
     },
     "execution_count": 167,
     "metadata": {},
     "output_type": "execute_result"
    }
   ],
   "source": [
    "data_2017_zo_zs_caba.isnull().sum()"
   ]
  },
  {
   "cell_type": "code",
   "execution_count": 168,
   "metadata": {
    "collapsed": true
   },
   "outputs": [],
   "source": [
    "#A los de rooms nulas tratamos de rellenarlas con con los que tengan superficie total y cubierta parecida (su promedio)"
   ]
  },
  {
   "cell_type": "code",
   "execution_count": null,
   "metadata": {
    "collapsed": true
   },
   "outputs": [],
   "source": []
  },
  {
   "cell_type": "code",
   "execution_count": 169,
   "metadata": {},
   "outputs": [
    {
     "data": {
      "text/plain": [
       "124.0"
      ]
     },
     "execution_count": 169,
     "metadata": {},
     "output_type": "execute_result"
    }
   ],
   "source": [
    "data_2017_zo_zs_caba[data_2017_zo_zs_caba[\"rooms\"].isnull()][\"surface_covered_in_m2\"].values[4]"
   ]
  },
  {
   "cell_type": "code",
   "execution_count": 170,
   "metadata": {},
   "outputs": [
    {
     "data": {
      "text/plain": [
       "'codigo: 3016-wp0141 ubicado en: malabia 1221 9no piso -  publicado por: waiman propiedades. el precio es de usd 340000 null. hermoso departamento reciclado a nuevo con gran balc\\xc3\\x93n terraza con parrilla. dormitorio principal en suite con vestidor . publicado a trav\\xc3\\xa9s de mapaprop'"
      ]
     },
     "execution_count": 170,
     "metadata": {},
     "output_type": "execute_result"
    }
   ],
   "source": [
    "data_2017_zo_zs_caba[data_2017_zo_zs_caba[\"rooms\"] == 9][\"description\"].values[3]"
   ]
  },
  {
   "cell_type": "code",
   "execution_count": 171,
   "metadata": {},
   "outputs": [
    {
     "data": {
      "text/plain": [
       "2.0       25898\n",
       "3.0       24032\n",
       "1.0       21470\n",
       "4.0       14213\n",
       "5.0        4205\n",
       "6.0        1342\n",
       "7.0         613\n",
       "8.0         292\n",
       "10.0        143\n",
       "9.0         127\n",
       "11.0         38\n",
       "13.0         30\n",
       "14.0         26\n",
       "12.0         26\n",
       "22.0         19\n",
       "17.0         13\n",
       "16.0         10\n",
       "103.0         5\n",
       "2.5           5\n",
       "106.0         4\n",
       "104.0         4\n",
       "18.0          4\n",
       "102.0         4\n",
       "24.0          3\n",
       "19.0          3\n",
       "26.0          3\n",
       "31.0          3\n",
       "57.0          3\n",
       "29.0          3\n",
       "105.0         3\n",
       "210.0         2\n",
       "242.0         2\n",
       "504.0         2\n",
       "47.0          2\n",
       "82.0          2\n",
       "3.5           2\n",
       "21.0          2\n",
       "1613.0        1\n",
       "551.0         1\n",
       "801.0         1\n",
       "303.0         1\n",
       "236.0         1\n",
       "15.0          1\n",
       "64.0          1\n",
       "40.0          1\n",
       "136.0         1\n",
       "43.0          1\n",
       "59.0          1\n",
       "Name: rooms, dtype: int64"
      ]
     },
     "execution_count": 171,
     "metadata": {},
     "output_type": "execute_result"
    }
   ],
   "source": [
    "data_2017_zo_zs_caba[\"rooms\"].value_counts()"
   ]
  },
  {
   "cell_type": "code",
   "execution_count": 172,
   "metadata": {
    "collapsed": true
   },
   "outputs": [],
   "source": [
    "#Con esto vemos que ya mas de 8 ambientes es algo raro, "
   ]
  },
  {
   "cell_type": "code",
   "execution_count": 173,
   "metadata": {},
   "outputs": [
    {
     "data": {
      "text/plain": [
       "'corredor responsable: uno bienes raices srl - cucicba 4993contacto: viviana casamiquela - mls id # 420491037-44\\xc2\\xa1ideal inversores! \\xc2\\xa1excelente valor por metro cuadrado en la zona! - u$s 2,333  (actualizado 15-6-2017) ya est\\xc3\\x81n terminados - apto profesional  departamento de excelente calidad en planta muy bien resuelta. cocina separada. estar comedor con balc\\xc3\\xb3n. espacios amplios y luminosos.  espacio para servicio de seguridad. amenities: parrillas y solarium. todos estos espacios comunes ubicados en 10\\xc2\\xb0 piso. servicios: laundry.   \\xc2\\xa1no es apto cr\\xc3\\x89dito!  posibilidad de compra de cocheras en edificio a partir de u$s 25.000 (ideal inversionistas)'"
      ]
     },
     "execution_count": 173,
     "metadata": {},
     "output_type": "execute_result"
    }
   ],
   "source": [
    "data_2017_zo_zs_caba[data_2017_zo_zs_caba[\"rooms\"] == 10][\"description\"].values[3]"
   ]
  },
  {
   "cell_type": "code",
   "execution_count": 174,
   "metadata": {
    "collapsed": true
   },
   "outputs": [],
   "source": [
    "posibles_descripciones_ambientes = {\"1 ambiente\": 1, \"monoambiente\": 1, \"mono ambiente\":1, \"2 ambientes\": 2,\"3 ambientes\": 3,\n",
    "                          \"4 ambientes\": 4,\"5 ambientes\": 5, \"6 ambientes\": 6, \"7 ambientes\": 7,\"8 ambientes\": 8,\n",
    "                          \"9 ambientes\": 1, \"10 ambientes\": 10,\n",
    "                         \"ambientes: 1\": 1, \"ambientes: 2\": 2, \"ambientes: 3\": 3, \"ambientes: 4\": 4, \"ambientes: 5\": 5,\n",
    "                         \"ambientes: 6\": 6, \"ambientes: 7\": 7, \"un ambiente\": 1, \"dos ambientes\": 2, \"tres ambientes\": 3,\n",
    "                         \"cuatro ambientes\": 4,\"cinco ambientes\": 5,\" seis ambientes\": 6, \"siete ambientes\": 7,\n",
    "                         \"2 impecables ambientes\": 2, \"3 impecables ambientes\": 3, \"4 amplios ambientes\": 4, \"2 amplios ambientes\": 2,\n",
    "                          \"3 amplios ambientes\": 3, \"5 amplios ambientes\": 5, \"2  ambientes\": 2, \"3  ambientes\": 3,\n",
    "                          \"2 grandes ambientes\": 2, \"6 amplios ambientes\": 6, \"1 ambientes\": 1\n",
    "                         ,\"3 amplios  ambientes\": 3, \"3 y ½ ambientes\": 3.5,\"2 y ½ ambientes\": 2.5, \"2 y medio ambiente\": 2.5,\n",
    "                         \"(2) ambientes\":2, \"2 amplisimos ambientes\": 2,\"4  ambientes\":4,\"3 grandes ambientes\":3,\n",
    "                                   \"4 ½ ambientes\": 4.5, \"4 cÃ²modos y confortables ambientes\":4, \"cantidad de ambientes 4\":4,\n",
    "                                   \"cantidad de ambientes 3\": 3,\"ambientes : 4\":4,\"ambientes : 5\":5,\"ambientes : 3\":3,\"ambientes : 2\":2,\n",
    "                                   \"ambientes : 1\":1,\"chalet de 5  ambientes\":5,\"4 cÃ³modos y confortables ambientes\":4,\"4   ambientes\":4,\n",
    "                                   \"3 buenos ambientes\":3,\"4 còmodos y confortables ambientes\":4,\"2 amb.\":2,\"3 amb.\":3,\"4 amb.\":4,\"1 amb.\":1, \"5 amb.\":5,\"6 amb.\":6,\"7 amb.\":7,\n",
    "                                   \"3 (tres) ambientes\": 3, \"2 (dos) ambientes\":2, \"4 (cuatro) ambientes\":4, \"5 (cinco) ambientes\": 5, \"1 (uno) ambientes\": 1, \"1 (uno) ambiente\":1,\n",
    "                                   \"6 (seis) ambientes\":6, \"7 (siete) ambientes\":7, \"8 (ocho) ambientes\":8, \"9 (nueve) ambientes\":9, \"10 (diez) ambientes\":10, \"1 amb\":1, \"2 amb\":2,\n",
    "                                   \"3 amb\":3, \"4 amb\":4, \"5 amb\":5, \"6 amb\":6,\"7 amb\":7,\"8 amb\":8}\n"
   ]
  },
  {
   "cell_type": "code",
   "execution_count": 175,
   "metadata": {
    "collapsed": true
   },
   "outputs": [],
   "source": [
    "\n",
    "def fix_ambientes(row, search_title, search_extra, search_description):\n",
    "    \n",
    "    if pd.isnull(row[\"rooms\"]):\n",
    "        return np.nan#Ya fueron fixeadas\n",
    "    cols = []\n",
    "    if search_description:\n",
    "        descripcion = row[\"description\"]\n",
    "        cols.append(descripcion)\n",
    "    if search_extra:\n",
    "        extra = row[\"extra\"]\n",
    "        cols.append(extra)\n",
    "    if search_title:\n",
    "        title = row[\"title\"]\n",
    "        cols.append(title)\n",
    "        \n",
    "    ambiente_actual = row[\"rooms\"]\n",
    "    for col in cols:\n",
    "        if not(pd.isnull(col)):\n",
    "            for k in posibles_descripciones_ambientes:\n",
    "        \n",
    "                if k in col:\n",
    "                    value_found = float(posibles_descripciones_ambientes[k])\n",
    "                    if float(row[\"rooms\"]) != value_found:\n",
    "                        return value_found\n",
    "    return row[\"rooms\"]"
   ]
  },
  {
   "cell_type": "code",
   "execution_count": 176,
   "metadata": {},
   "outputs": [
    {
     "name": "stderr",
     "output_type": "stream",
     "text": [
      "/home/tomas/anaconda2/lib/python2.7/site-packages/ipykernel_launcher.py:2: SettingWithCopyWarning: \n",
      "A value is trying to be set on a copy of a slice from a DataFrame.\n",
      "Try using .loc[row_indexer,col_indexer] = value instead\n",
      "\n",
      "See the caveats in the documentation: http://pandas.pydata.org/pandas-docs/stable/indexing.html#indexing-view-versus-copy\n",
      "  \n"
     ]
    }
   ],
   "source": [
    "#Antes vuelvo a aplicar esto xq habia algunos que se pueden corregir\n",
    "data_2017_zo_zs_caba[\"rooms\"] = data_2017_zo_zs_caba.apply(lambda row: fix_ambientes(row, False, False, True), axis = 1)"
   ]
  },
  {
   "cell_type": "code",
   "execution_count": 177,
   "metadata": {
    "collapsed": true
   },
   "outputs": [],
   "source": [
    "#Pongo en NaN aquellos que tengan mas de 8 ambientes"
   ]
  },
  {
   "cell_type": "code",
   "execution_count": 178,
   "metadata": {},
   "outputs": [
    {
     "data": {
      "text/plain": [
       "array([ '- edificio inteligente- pisos exclusivos, - hall privado - placar de recepci\\xc3\\xb3n.- 2 dormitorios (1 en suite) + escritorio.- 2 ba\\xc3\\xb1os completos.- cocina equipada- lavadero - dependencia- living - comedor - recepci\\xc3\\xb3n - - terraza privada exclusiva. - balc\\xc3\\xb3n terraza - parrilla.- (cochera privada opcional).- detalles:- paredes de hormig\\xc3\\xb3n celular t\\xc3\\xa9rmica y  acustica.- instalaci\\xc3\\xb3n ca\\xc3\\xb1er\\xc3\\xadas de gas epoxi o sigas.- instalaci\\xc3\\xb3n agua fr\\xc3\\xada y caliente termo fusi\\xc3\\xb3n.- yeso alpress.- aberturas dvh alta prestaci\\xc3\\xb3n herm\\xc3\\xa9tico.   - puerta blindada.- barandas de vidrio y acero inoxidable.- griferia fv. cierre cer\\xc3\\xa1mico o similar.- artefacto ferrum o similar.- muebles de cocina laqueado, mesada de silestone.- porcelanatto de alta calidad.- isla con horno - anaffe - mesada de silestone.- instalaciones.  - ascensor electromec\\xc3\\xa1nico, acero inoxidable, 2 velocidades-- instalaci\\xc3\\xb3n de paneles solares, servicios b\\xc3\\xa1sico edificio.- instalaci\\xc3\\xb3n y prestaci\\xc3\\xb3n de servicios individuales (sin panel solar).- calefacci\\xc3\\xb3n y refrigeraci\\xc3\\xb3n \"multi split inverter\"- puerta de acceso con cerradura digital inteligente.- control de acceso sistema inteligente / video.- instalaci\\xc3\\xb3n domotica unidades inteligentes.- instalaci\\xc3\\xb3n general edificio, led, bajo consumo. - instalacion para colocar equipo de alama (sin equipo)   sujeta a la concrecion de la tramitacion del coti por parte del propietario \\xef\\xbf\\xbddar acatamiento a la resolucion general n\\xc2\\xba 2371 de afip. -  - maggio propiedades',\n",
       "       'venta de departamento en recoleta. piso de 160 m2 con cochera fija. living comedor apaisado, cocina, toilette, 3 dormitorios, dos ba\\xc3\\x91os (posibilidad de suite). dependencia de servicio. balc\\xc3\\x93n. -  - fera cancellieri propiedades',\n",
       "       'codigo: 3016-wp0141 ubicado en: malabia 1221 9no piso -  publicado por: waiman propiedades. el precio es de usd 340000 null. hermoso departamento reciclado a nuevo con gran balc\\xc3\\x93n terraza con parrilla. dormitorio principal en suite con vestidor . publicado a trav\\xc3\\xa9s de mapaprop',\n",
       "       \"corredor responsable: leonel d'atri - cucicba 6618contacto: sebasti\\xc3\\xa1n pociello - mls id # 420751029-20departamento en pleno microcentro. carlos pellegrini y av. rivadavia. excelente ubicaci\\xc3\\xb3n. apto profesional.  cuenta con una superficie de 77m2. tiene dos habitaciones. un ba\\xc3\\xb1o completo. una cocina. buen estado general. todos los ambientes alfombrados, con aire acondicionado y empapelados. muy luminoso   tradicional edificio de la zona. cuenta con 4 ascensores y c\\xc3\\xa1mara de seguridad en todos los pisos.  expensas $2000 mensuales.  c/ cochera usd 150.000  excelente oportunidad. ideal para inversion\",\n",
       "       \"corredor responsable: flavia aguirre - c.u.c.i.c.b.a 471contacto: adriana melekian - mls id # 81129-11gran living comedor,con salida al balc\\xc3\\xb3n, en piso alto, al frente con vista abierta. orientaci\\xc3\\xb3n norte. doble circulaci\\xc3\\xb3n y entrada de servicio.  tres dormitorios con placards. ba\\xc3\\xb1o completo y toilette de recepci\\xc3\\xb3n. amplia cocina completa con conexi\\xc3\\xb3n para lavarropas. actualmente la dependencia funciona como comedor diario, y el toilette de la misma como baulera.  muy buen edificio, bien mantenido, acceso con rampa para discapacitados. terraza de uso com\\xc3\\xban.  expensas junio'17 $ 3150.- aysa $ 620.- abl  $ 600.-  excelente ubicaci\\xc3\\xb3n en el barrio, muy cerca de subte, tren y numerosas l\\xc3\\xadneas de colectivos. importantes institutos educativos en la zona, como el colegio san cirano y el colegio marianista.  \\xc2\\xa1no te lo pierdas! \",\n",
       "       'apto cr\\xc3\\x83ditobarrio: en lo mejor de villa urquiza, entre olaz\\xc3\\x83\\xc2\\xa1bal y blanco encalada, a 3 cuadras de estaci\\xc3\\x83\\xc2\\xb3n. todos los medios de transporte. a 50 m. de estaci\\xc3\\x83\\xc2\\xb3n l\\xc3\\x83\\xc2\\xadnea b de subterr\\xc3\\x83\\xc2\\xa1neo. a 3 c. de av. triunvirato. zona residencial.edificio: de categor\\xc3\\x83\\xc2\\xada. \"urquiza park\". 15 pisos, recepci\\xc3\\x83\\xc2\\xb3n, tres ascensores (uno de servicio, estilo montacargas). cocheras. cocheras de cortes\\xc3\\x83\\xc2\\xada. vigilancia permanente. jardines. pileta de nataci\\xc3\\x83\\xc2\\xb3n. dos parrillas completas de uso com\\xc3\\x83\\xc2\\xban. s..u.m. en \\xc3\\x83\\xc2\\xbaltimo piso, terraza, gimnasio y sauna. vestuarios.departamento: !en excelente estado! exclusivos detalles de terminaci\\xc3\\x83\\xc2\\xb3n. contrafrente, con vistas abiertas a pulm\\xc3\\x83\\xc2\\xb3n de manzana. palier semi privado. con entrada principal y de servicio. amplio living comedor (pisos de madera), con balc\\xc3\\x83\\xc2\\xb3n. vista abierta. dormitorio grande, amplio placard, con ba\\xc3\\x83\\xc2\\xb1o completo con aire y luz natural. cocina grande y lavadero sectorizado. placard en hall de distribuci\\xc3\\x83\\xc2\\xb3n. calefacci\\xc3\\x83\\xc2\\xb3n individual por radiadores. dos a.a. tipo split.expensas: $ 2.600.-a.b.l. : 1365.-',\n",
       "       'impecable departamento en venta en la exclusiva zona de las lomitas, con excelente ubicaci\\xc3\\xb3n. edificio de categor\\xc3\\xada, con amenities.con renta hasta enero de 2019. oportunidad de inversi\\xc3\\xb3n.con una superficie total de 55 m2, el departamento consta de living comedor, cocina con barra desayunadora, lavadero, ba\\xc3\\xb1o completo y 1 dormitorio con placard.calefacci\\xc3\\xb3n por losa radiante / aire acondicionado.9\\xc2\\xb0 piso con balc\\xc3\\xb3n. muy luminoso.cochera y baulera individuales.el edificio cuenta con espacios comunes modernos y confortables. pileta climatizada, gimnasio y sum. grupo electr\\xc3\\xb3geno. portero en el edificio de lunes a s\\xc3\\xa1bados.las lomitas se ha convertido en los \\xc3\\xbaltimos a\\xc3\\xb1os en la zona m\\xc3\\xa1s exclusiva de lomas de zamora.empezaron los rest\\xc3\\xb3s, y m\\xc3\\xa1s tarde el dise\\xc3\\xb1o y las grandes marcas echaron anclas. el crecimiento inmobiliario vino detr\\xc3\\xa1s, y hoy conviven lo cl\\xc3\\xa1sico con lo mejor de lo nuevo. las casas m\\xc3\\xa1s antiguas del barrio han ido cediendo su lugar a las m\\xc3\\xa1s variadas propuestas gastron\\xc3\\xb3micas que conviven con locales de ropa y tiendas de dise\\xc3\\xb1o, haciendo de este un refugio \\xc3\\xbanico en zona sur.en cumplimiento de la ley 2340 cucicba, ley 10.973 de la prov.bs.as., ley nacional 25.028, ley 22.802 de lealtad comercial, ley 24.240 de defensa al consumidor, las normas del c\\xc3\\xb3digo civil y comercial de la naci\\xc3\\xb3n y constitucionales, los agentes no ejercen el corretaje inmobiliario. todas las operaciones inmobiliarias son objeto de intermediaci\\xc3\\xb3n y conclusi\\xc3\\xb3n por parte de los martilleros y corredores colegiados, cuyos datos se exhiben debajo del nombre de la inmobiliaria.',\n",
       "       'corredor responsable: lucrecia saulle - csi 5520contacto: solana l\\xc3\\xb3pez - mls id # 341173-68impecable departamento en venta en la exclusiva zona de las lomitas, con excelente ubicaci\\xc3\\xb3n. edificio de categor\\xc3\\xada, con amenities.  con renta hasta enero de 2019. oportunidad de inversi\\xc3\\xb3n.  con una superficie total de 55 m2, el departamento consta de living comedor, cocina con barra desayunadora, lavadero, ba\\xc3\\xb1o completo y 1 dormitorio con placard. calefacci\\xc3\\xb3n por losa radiante / aire acondicionado. 9\\xc2\\xb0 piso con balc\\xc3\\xb3n. muy luminoso.  cochera y baulera individuales.  el edificio cuenta con espacios comunes modernos y confortables. pileta climatizada, gimnasio y sum. grupo electr\\xc3\\xb3geno. portero en el edificio de lunes a s\\xc3\\xa1bados.  las lomitas se ha convertido en los \\xc3\\xbaltimos a\\xc3\\xb1os en la zona m\\xc3\\xa1s exclusiva de lomas de zamora. empezaron los rest\\xc3\\xb3s, y m\\xc3\\xa1s tarde el dise\\xc3\\xb1o y las grandes marcas echaron anclas. el crecimiento inmobiliario vino detr\\xc3\\xa1s, y hoy conviven lo cl\\xc3\\xa1sico con lo mejor de lo nuevo. las casas m\\xc3\\xa1s antiguas del barrio han ido cediendo su lugar a las m\\xc3\\xa1s variadas propuestas gastron\\xc3\\xb3micas que conviven con locales de ropa y tiendas de dise\\xc3\\xb1o, haciendo de este un refugio \\xc3\\xbanico en zona sur. ',\n",
       "       'triplex con dos garages movibles, muy luminoso y muy silencioso. en noveno piso: gran recepci\\xc3\\xb3n, living apaisado a terraza de 8x4. comedor en l a otro balc\\xc3\\xb3n. toilette y cocina con lavadero incorporado. en el piso diez: tres dormitorios, dos ba\\xc3\\xb1os y dormitorio y ba\\xc3\\xb1o de servicio con escalera separada con balc\\xc3\\xb3n propio para tender de ropa. piso once: cuarto y playroom apaisado con terraza de 8x4. muy luminoso, todos los ambientes tienen ventana. muy silencioso. muy seguro. polic\\xc3\\xada destacada en la cuadra. buena orientaci\\xc3\\xb3n. dos terrazas de 8x4.',\n",
       "       '** apto credito **departamento listo para ingresar! ubicaci\\xc3\\xb3n de f\\xc3\\xa1cil acceso, ya que el metrobus est\\xc3\\xa1 enfrente. a cuadras del ferrocarril mitre.s\\xc3\\xbaper luminoso, 60 m2 muy bien distribuidos. vigilancia 24 hs.el departamento cuenta con una baulera propia en la azotea del edificio.luciano cazenaveinversiones inmobiliarias / whatsapp: 15- (beatriz)ayacucho 1394.  -  - luciano cazenave inversiones inmobiliarias',\n",
       "       'corredor responsable: marcelo di girolamo - c.d.c.p.d.j.l.p 6962contacto: pablo stagliano - mls id # 23 e/ 7 y 8. se encuentra emplazado en pleno centro comercial de calle 8,  a una cuadra de avenida 7. el departamento se encuentra ubicado en el 9no piso al contrafrente, cuenta con living comedor con piso de parquet, cocina comedor con, muebles bajo y sobre mesada de madera, ventilaci\\xc3\\xb3n natural, calef\\xc3\\xb3n, piso de granito; lavadero cubierto con piso de granito, dormitorio con piso de parquet; ba\\xc3\\xb1o completo con vanitory y ba\\xc3\\xb1era. superficie cubierta 39,86 m2 aprox. y superficie total 42,30 m2 aprox. apto banco.',\n",
       "       'codigo: 20 ubicado en: cornelio saavedra 352 -  publicado por: fernandez - gesti\\xc3\\x93n inmobiliaria. el precio es de usd 95000 null. depto ubicado en 9\\xc2\\xb0 piso en edificio en torre (con perimetro semi-libre). consta de 45 mts totales, desarrollados en living comedor, ba\\xc3\\xb1o completo, cocina amplia y alargada con conexi\\xc3\\xb3n para lavarropas y muy buena ventilaci\\xc3\\xb3n y luminosidad, dormitorio con placard. todos los ambientes son exteriores, es decir, tienen ventilaci\\xc3\\xb3n y luz natural. balc\\xc3\\xb3n amplio con mirador vidriado hacia la cocina. sistema de calefacci\\xc3\\xb3n a traves de equipo de aire acondicionado frio/calor en living-comedor y dormitorio. agua caliente individual de la unidad con termotanque de alta recuperaci\\xc3\\xb3n. caracteristicas constructivas, por ambiente. todo el departamente posee terminaci\\xc3\\xb3n de paredes en yeso y acabados sinteticos. los pisos del living-comedor y domritorio son de madera flotante de alto transito color roble. los de la cocina y ba\\xc3\\xb1o son de porcelanatto de primera calidad color marfil. la grifer\\xc3\\xada es fv y sanitarios marca ferrum. en el ba\\xc3\\xb1o existe un vanitory y bacha de linea moderna y ba\\xc3\\xb1era amplia con duchador.   en cuanto al edificio, se trata de una hermosa torre con gran frente, casi 90 unidades funcionales lo que hace poder disfrutar de los amenities no sea un gran gasto de expensas, dado que estan en promedio en el orden de los $1200. cuenta con gimnasio, pisicina, quincho, terraza y sum para eventos.  existe un contrato de locaci\\xc3\\xb3n vigente, que finaliza en 12 meses a contar desde junio/2017.  apto credito - venta directa con renta - visite este hermoso inmueble . publicado a trav\\xc3\\xa9s de mapaprop',\n",
       "       'corredor responsable: patricia maria sodor - cucicba 5414 / csi 6061contacto: gabriel fabiano - mls id # 291044-250departamento en 9 \\xc2\\xb0 piso! vista abierta! al ingresar encontramos una antesala del living, actualmente utilizada como escritorio, desde all\\xc3\\xad se distribuyen los dem\\xc3\\xa1s ambientes: *espacioso living con puertas ventanas con salida al balc\\xc3\\xb3n. *balc\\xc3\\xb3n corrido bordeando el departamento *cocina comedor bien distribuida y espacio de guardado (alacenas y bajo mesada completas). se puede ingresar a la misma desde la antesala y el living. la cocina tiene salida al lavadero independiente. *habitaci\\xc3\\xb3n de servicio con ba\\xc3\\xb1o y baulera *un pasillo desde la antesala nos lleva a los 3 dormitorios (todos con placares y pisos parquet al igual que el living y la antesala. * 2 ba\\xc3\\xb1os completos otras caracter\\xc3\\xadsticas: -agua caliente central (en caso que hubiera corte de agua por reparaciones o limpieza del termotanque del edificio, se puede utilizar el calef\\xc3\\xb3n) -4 equipos de aire acondicionado  -cochera alquilada en garage enfrente propiedad en excelente estado! no dejes de visitarla! valor de expensas: junio 2017 $3.000  ver v\\xc3\\xaddeo de la propiedad: https://youtu.be/7o3gauk6fyu  ',\n",
       "       'corredor responsable: patricia maria sodor - cucicba 5414 / csi 6061contacto: laura campagna - mls id # 291094-32ambiente y medio, con balc\\xc3\\xb3n, al contrafrente, en rodr\\xc3\\xadguez pe\\xc3\\xb1a y av. rivadavia.  la cocina es independiente. ba\\xc3\\xb1o completo de \\xc3\\xa9poca. amplio hall de recepci\\xc3\\xb3n.  placares de pared a pared. pisos de parquet, reci\\xc3\\xa9n plastificados.  apto profesional. expensas de junio de 2017: $2500 a metros de av. rivadavia y de la av. callao. a cinco cuadras de av. corrientes. subte a: estaci\\xc3\\xb3n congreso. subte b: estaci\\xc3\\xb3n callao. ',\n",
       "       'corredor responsable: patricia maria sodor - cucicba 5414 / csi 6061contacto: marina de milo - mls id # 291006-320excelente propiedad, distribuida en dos pisos de la siguiente forma: s\\xc3\\xa9ptimo piso * estudio * amplio living con acceso al balc\\xc3\\xb3n * toilet de recepci\\xc3\\xb3n * comedor diario * cocina  octavo piso: * dormitorio en suite * segundo dormitorio * suite principal con vestidor * ba\\xc3\\xb1o completo * habitaci\\xc3\\xb3n de servicio con ba\\xc3\\xb1o  planta baja: tiene cocheras para 4 autos (dos cocheras dobles) y bauleras.   la unidad es muy amplia, c\\xc3\\xb3moda y luminosa. se encuentra en excelente estado con materiales de primera calidad. dise\\xc3\\xb1os exclusivos. aberturas con doble vidrio. calefacci\\xc3\\xb3n y aire acondicionado individual, con sistema de ventilaci\\xc3\\xb3n interna. edificio con seguridad - posee 4 cocheras en planta baja y baulera. expensas $ 9.800.- ver v\\xc3\\xaddeo de la propiedad: https://youtu.be/wih6k5i_dlk  https://youtu.be/wih6k5i_dlk  ',\n",
       "       'ambiente a estrenar de 31 metros en una excelente ubicaci\\xc3\\xb3n, en un noveno piso y al frente, cerca del metrobus y l\\xc3\\xadnea d congreso de tucum\\xc3\\xa1n. edificio con amenities, laundry y parrilla. s\\xc3\\xbaper moderno, con seguridad 24 hs.zuker servicios inmobiliarios sucursal la imprenta olleros 1786 , caba tel. 4-778-9699- rotativas ',\n",
       "       'corredor responsable: pedro j. moldes - csi 6228contacto: marina soncini - mls id # 420851014-4oportunidad!!! oficina al frente de 24 mt2, con excelente ubicaci\\xc3\\xb3n en muy buena cuadra, montevideo entre viamonte y tucum\\xc3\\xa1n. en un efificio de oficinas exclusivamente. super luminosa con gran ventanal. el ba\\xc3\\xb1o es compartido con las oficinas del mismo piso. tiene calefacci\\xc3\\xb3n central y vigilancia hasta las 20 hs.   ',\n",
       "       'corredor responsable: horacio raul pereyra - cdcpdjlp 7186contacto: germ\\xc3\\xa1n brolese - mls id # 420711009-34diagonal 80 y 41. departamento de 2 dormitorios en la plata. ubicado en el noveno piso, consta de un living-comedor. cocina con un lavadero independiente. ba\\xc3\\xb1o completo y sus 2 dormitorios con vista hacia diagonal 80. posible apto banco.',\n",
       "       'corredor responsable: laura avellaneda - cucicba 4054contacto: martin bosch - mls id # 420571005-31muy lindo, luminoso y c\\xc3\\xb3modo departamento de 2 dormitorios en una zona exclusiva de almagro, a pocas cuadras de parque centenario. piso alto, vista panor\\xc3\\xa1mica.  se trata de un departamento de 50 m2 cubiertos y 8 m2 de balc\\xc3\\xb3n, ubicado sobre la calle castro barrios, entre venezuela y algro, de r\\xc3\\xa1pido acceso a variados medios de transporte, como la estaci\\xc3\\xb3n castro barros de la l\\xc3\\xadnea a de subte, metrobus en la av. rivadavia, tambi\\xc3\\xa9n a 3 cuadras de la estaci\\xc3\\xb3n once.   la unidad cuenta un living comedor amplio con aire acondicionado y salida al balc\\xc3\\xb3n, el cual ofrece una vista panor\\xc3\\xa1mica. la cocina independiente se encuentra totalmente reciclada y adem\\xc3\\xa1s con lavadero independiente, calef\\xc3\\xb3n a gas, luz y ventilaci\\xc3\\xb3n natural- ba\\xc3\\xb1o completo con ba\\xc3\\xb1era tambi\\xc3\\xa9n reciclado.    edificio de 40 a\\xc3\\xb1os, entrada reciclada hace pocos a\\xc3\\xb1os y muy bien mantenimiento general.  las expensas rondan los $ 2.200 mensuales.- abl: $ 240 .-  las medidas son aproximadas, las mismas resultar\\xc3\\xa1n del respectivo t\\xc3\\xadtulo de propiedad.-',\n",
       "       \"corredor responsable: leonel d'atri - cucicba 6618contacto: sebasti\\xc3\\xa1n pociello - mls id # 420751029-38departamento en pleno micro centro con garage, en carlos pellegrini y av. rivadavia. excelente ubicaci\\xc3\\xb3n. apto profesional.  cuenta con una superficie de 77m2. tiene dos habitaciones. ba\\xc3\\xb1o completo. cocina. buen estado general. todos los ambientes alfombrados, con aire acondicionado y empapelados. muy luminoso  tradicional edificio de la zona. cuenta con 4 ascensores y c\\xc3\\xa1mara de seguridad en todos los pisos.  expensas $2000 mensuales.  excelente oportunidad. ideal para inversi\\xc3\\xb3n.\",\n",
       "       'excelente departamento tipo duplexnoveno piso al frente, vista abiertabalcon terrazacocina integrada, anafe electricoba\\xc3\\xb1o completoapto profesional, apto creditoactualmente se encuentra equipado como oficinamuy buena ubicacion limite belgrano/nu\\xc3\\xb1ez a 4 cuadras de la estacion subte d \"congreso de tucuman\", metrobus.',\n",
       "       'venta duplex a estrenar con cochera doble en villa urquizaubicado sobre bucarelli entre juramento y echeverria. a metros de av. mendoza y de la av. triunviratoexcelente duplex a estrenar. piso alto con vista abierta. muy buena luminosidad. en piso 7\\xc2\\xb0: gran living comedor con salida a balc\\xc3\\xb3n corrido. cocina, lavadero integrado. toilette de recepci\\xc3\\xb3n. en piso 8\\xc2\\xb0: dos dormitorios, ambos con salida a balc\\xc3\\xb3n corrido. dos ba\\xc3\\xb1os completos. en el 9\\xc2\\xb0 piso: amplia terraza. cochera fija doble amenities: piscina- gimnasioimportante: estos precios estan a sujetos a aprobacion del propietario',\n",
       "       'hermoso departamento 3amb - 50m2 - 9\\xc2\\xb0 piso en barrio norte.unidad:living comedor con salida al balc\\xc3\\xb3n interno, pasillo de distribuci\\xc3\\xb3n con ventilaci\\xc3\\xb3n al exterior, cocina con amoblamientos completos con salida al balc\\xc3\\xb3n, dormitorio principal con placard, segundo dormitorio, ba\\xc3\\xb1o completo con ba\\xc3\\xb1era, balc\\xc3\\xb3n con conexi\\xc3\\xb3n para lavarropas y bacha.calefacci\\xc3\\xb3n central por loza radiante y aire acondicionado en living comedor.edificio:edificio en muy buenas condiciones edilicias.2 ascensores actualizados recientemente.encargado fijo.ubicaci\\xc3\\xb3n:a mts del subte l\\xc3\\xadnea d - estaci\\xc3\\xb3n \"facultad de medicina\".a 3 cuadras de av. santa f\\xc3\\xa9.a mts de la facultad de ciencias econ\\xc3\\xb3micas, facultad de medicina y facultad de odontolog\\xc3\\xada.en frente a la plaza dr. bernardo houssay.cerca de colegios, hospitales y cl\\xc3\\xadnicas, bares y restaurantes.*apto profesional**apto cr\\xc3\\x89dito**apto mascotas*para m\\xc3\\xa1s informaci\\xc3\\xb3n y/o visitas comunicarse a:(011)-15-.-',\n",
       "       'con renta! hom! excelente edificio nuevo con muchisima onda, en inmejorable ubicacion en palermo. esta a pasos del subte d.muy cerquita del shopping alto palermo. tiene pileta en terraza con solarium. parrilla. sum. seguridad 24 hs. gym. otra pileta en el 9no piso. tiene un parking comercial por hora en el edificio.el estudio apro profesional tiene un patio de 20 m2. ba\\xc3\\xb1o completo y kichinette. pisos de porcelanato. y detalles de nivel.no te lo pierdas!orwel153121123415311366681531136636',\n",
       "       'hom! excelente edificio de altisima categoria, a estrenar, muchisima onda, en inmejorable ubicacion en palermo. esta a pasos del subte d.muy cerquita del shopping alto palermo. importate entrada en doble altura revestida en marmol.tiene pileta en terraza con solarium. parrilla. sum. seguridad 24 hs. gym. otra pileta en el 9no piso. tiene un parking comercial por hora en el edificio.el estudio apto profesional tiene un ba\\xc3\\xb1o y una kitchinet.alquiler:$15000 + gastos!no te lo pierdas!orwel153121123415311366681531136636',\n",
       "       'venta con renta!!!hom! excelente edificio de altisima categoria,  muchisima onda, en inmejorable ubicaci\\xc3\\xb3n en palermo. esta a pasos del subte d.muy cerquita del shopping alto palermo. importate entrada en doble altura revestida en marmol.tiene pileta en terraza con solarium. parrilla. sum. seguridad 24 hs. gym. otra pileta en el 9no piso. tiene un parking comercial por hora en el edificio.el estudio apto profesional con una kitchinet y un ba\\xc3\\xb1o completo y balcon.no te lo pierdas!orwel153121123415311366681531136636',\n",
       "       'hom! excelente edificio de altisima categoria,  muchisima onda, en inmejorable ubicaci\\xc3\\xb3n en palermo. esta a pasos del subte d.muy cerquita del shopping alto palermo. importate entrada en doble altura revestida en marmol.tiene pileta en terraza con solarium. parrilla. sum. seguridad 24 hs. gym. otra pileta en el 9no piso. tiene un parking comercial por hora en el edificio.el estudio apto profesional con una kitchinet y un ba\\xc3\\xb1o completo y balcon.no te lo pierdas!orwel153121123415311366681531136636',\n",
       "       'hom! excelente edificio de altisima categoria,  muchisima onda, en inmejorable ubicaci\\xc3\\xb3n en palermo. esta a pasos del subte d.muy cerquita del shopping alto palermo. importate entrada en doble altura revestida en marmol.tiene pileta en terraza con solarium. parrilla. sum. seguridad 24 hs. gym. otra pileta en el 9no piso. tiene un parking comercial por hora en el edificio.el estudio apto profesional con una kitchinet y un ba\\xc3\\xb1o completo y balcon.no te lo pierdas!orwel153121123415311366681531136636',\n",
       "       'unidad de 2 dormitorios ubicada en el 19no piso con vista al frente. living comedor con salida a balcon. cocina integrada. dormitorio principal con placard y ba\\xc3\\xb1o en suite.  segundo dormitorio con placard. ba\\xc3\\xb1o completo.',\n",
       "       'unidad de 1 dormitorio ubicada en el 19no piso. living comedor con salida a balcon. cocina integrada. dormitorio principal con placard. ba\\xc3\\xb1o completo.',\n",
       "       'corredor responsable: maria natale - cucicba 6030contacto: maria natale - mls id # 420461006-154amplio departamento de 3 dormitorios y dependencia de servicio. est\\xc3\\xa1 ubicado sobre avda. rivadavia cercano a plaza flores en un edificio de s\\xc3\\xb3lida construcci\\xc3\\xb3n con balc\\xc3\\xb3n corrido en noveno piso al frente. super luminoso con vista abierta!!!! el living da al frente con salida al balc\\xc3\\xb3n, el dormitorio principal al frente con ventana placard completo de piso a techo. los otros 2 dormitorios tienen ventana al aire y luz y placard . ba\\xc3\\xb1o completo y toilette originales en buen estado de conservaci\\xc3\\xb3n. c\\xc3\\xb3moda cocina con ventana al aire y luz, lavadero independiente, habitaci\\xc3\\xb3n de servicio. pisos de parquet en living dormitorios y pasillos. entrada principal y de servicio, puertas blindadas, calefacci\\xc3\\xb3n por losa radiante y agua caliente central. seguridad durante la noche.  expensas a junio/2017 $ 4.083.-   advertencia importante: los montos especificados de expensas responden a una declaraci\\xc3\\xb3n del propietario el d\\xc3\\xada que fue autorizada la propiedad y/o de la liquidaci\\xc3\\xb3n de expensas entregada en fotocopia. habitualmente el mismo no est\\xc3\\xa1 actualizado. verificar el monto actualizado previo al alquiler/compra de la propiedad.',\n",
       "       'codigo: 572-1565 ubicado en: av. alvear 1500 -  publicado por: la city propiedades. el precio es de usd 1980000 null. piso de departamentos en venta sobre av. alvear entre parera y montevideo edificio cl\\xc3\\xa1sico franc\\xc3\\xa9s muy buen contra frente lleno de luz y sol de ma\\xc3\\xb1ana superficie propia: 385 m2 + un cuarto grande y baulera en el 9\\xc2\\xb0 piso 2 cocheras, acceso por rampa de hormig\\xc3\\xb3n, servicios centrales, vigilancia 24 horas. el piso se compone de living, comedor, escritorio, toilette, estar \\xc3\\xadntimo , 5 dormitorios, 4 ba\\xc3\\xb1os, amplias dependencias, cocina, lavadero, 2 cuartos de servicio. importante hall de entrada. excelente estado general . publicado a trav\\xc3\\xa9s de mapaprop',\n",
       "       'venta de departamento 2 dormitorios, la plata.venta de departamento 2 dormitorios. excelente departamento de 2 dormitorios, cocina separada, living, dormitorios con placar, ba\\xc3\\xb1o con hidromasaje. piso 9no, excelente vista, pisos de porcelanato y parquet en los dormitorios, balc\\xc3\\xb3n. permuta. financia.alquilado hasta febrero de 2018. -  - betancor',\n",
       "       'corredor responsable: pedro j. moldes - csi 6228contacto: norberto prinsich - mls id # 420851019-1barrio norte, excelente semipiso muy luminoso, apto credito, ubicado sobre la calle gallo esquina avda. santa fe, zona comercial de excelencia y con diversos medios de transporte (subte d y varias lineas de colectivos) que facilitan el traslado hacia todos los puntos de la ciudad. el edificio (proyecto mario roberto alvarez) tiene una excelente orientaci\\xc3\\xb2n (ne) lo que hace que todos los ambientes principales tengan gran luminosidad. la unidad tiene palier privado y de servicio y consta de un amplio hall de recepci\\xc3\\xb2n con placard, gran living-comedor con salida a balc\\xc3\\xb2n corrido que abarca tambi\\xc3\\xa8n a uno de los dormitorios, hall \\xc3\\xacntimo que conecta a los 2 dormitorios, ambos tambi\\xc3\\xa8n al frente y cada uno con ba\\xc3\\xb1o completo y amplio placard. tanto el living-comedor como los dormitorios tienen persianas tipo \"barrios\" de madera. la cocina es muy c\\xc3\\xb2moda con profusi\\xc3\\xb2n de muebles altos y bajos. posee adem\\xc3\\xa0s un amplio lavadero independiente con pileta, mesada y lugar para lavarropas y secarropas. ambos ambientes tienen grandes ventanales que permiten la entrada de luz natural. muy buena dependencia de servicio con ba\\xc3\\xb1o completo y c\\xc3\\xb2modo placard.  tiene adem\\xc3\\xa0s una amplia baulera en 3\\xc2\\xba ss expensas $ 7.500.- aprox. abl $ 1.700.-  seguridad 24 hs la cochera, fija, es una unidad funcional que se encuentra en edificio por medio. su compra es opcional y su precio usd 29.000.- se encuentra incluido en el valor publicado.  ',\n",
       "       'magnifico departamento en 9no pisovista abiertabalc\\xc3\\xb3nmuy buenos accesos muy segurodisposici\\xc3\\xb3n: contrafrenteorientaci\\xc3\\xb3n: sudoesteapto profesionalsup. cubierta: 36 m\\xc2\\xb2sup. descubierta: 3 m\\xc2\\xb2ambiente: 8 x 3hall: 2x2balcon: 3 x 1,25ba\\xc3\\xb1o completo: 3,25 x 2todo luz y airecaracter\\xc3\\xadsticas del edificio:cant. pisos: 12deptos. por piso: 4superficie total (m2):\\t277.00superficie cubierta (m2):\\t2895.00frente (m):\\t8.52fondo (m):\\t32.51pisos sobre-rasante:\\t14pisos bajo-rasante:\\t0propiedad horizontal:\\tsiunidades funcionales:\\t51locales:\\t1valor \\xc3\\x9anico de cuadra:\\t0.30identificador catastral:\\t12-012-007partida matriz:\\t218136puertas: belgrano av. /1654transportes cercanoscolectivos:\\t2, 6, 8, 12, 23, 37, 39, 50, 56, 60, 64, 84, 86, 90, 96, 98, 102, 103, 150, 151, 168datos \\xc3\\xbatilesbarrio:\\tmonserratcomuna:\\tcomuna 1\\xc3\\x81rea hospitalaria:\\thtal. dr. j.m. ramos mej\\xc3\\x8daregi\\xc3\\xb3n sanitaria:\\ti (este)comisar\\xc3\\xada:\\t6distrito escolar:\\tdistrito escolar iiic\\xc3\\xb3digo postal:\\t1093c\\xc3\\xb3digo postal argentino:\\tc1093aarc\\xc3\\xb3digo de planeamiento urbano:\\tc3 ilatitud/longitud:\\t-34.613945, -58.389668nota: valor es libre de costos  de escrituracionapto profesional',\n",
       "       'impecable departamento en venta en la exclusiva zona de las lomitas, con excelente ubicaci\\xc3\\xb3n. edificio de categor\\xc3\\xada, con amenities.con renta hasta enero de 2019. oportunidad de inversi\\xc3\\xb3n.con una superficie total de 55 m2, el departamento consta de living comedor, cocina con barra desayunadora, lavadero, ba\\xc3\\xb1o completo y 1 dormitorio con placard.calefacci\\xc3\\xb3n por losa radiante / aire acondicionado.9\\xc2\\xb0 piso con balc\\xc3\\xb3n. muy luminoso.cochera y baulera individuales.el edificio cuenta con espacios comunes modernos y confortables. pileta climatizada, gimnasio y sum. grupo electr\\xc3\\xb3geno. portero en el edificio de lunes a s\\xc3\\xa1bados.las lomitas se ha convertido en los \\xc3\\xbaltimos a\\xc3\\xb1os en la zona m\\xc3\\xa1s exclusiva de lomas de zamora.empezaron los rest\\xc3\\xb3s, y m\\xc3\\xa1s tarde el dise\\xc3\\xb1o y las grandes marcas echaron anclas. el crecimiento inmobiliario vino detr\\xc3\\xa1s, y hoy conviven lo cl\\xc3\\xa1sico con lo mejor de lo nuevo. las casas m\\xc3\\xa1s antiguas del barrio han ido cediendo su lugar a las m\\xc3\\xa1s variadas propuestas gastron\\xc3\\xb3micas que conviven con locales de ropa y tiendas de dise\\xc3\\xb1o, haciendo de este un refugio \\xc3\\xbanico en zona sur.en cumplimiento de la ley 2340 cucicba, ley 10.973 de la prov.bs.as., ley nacional 25.028, ley 22.802 de lealtad comercial, ley 24.240 de defensa al consumidor, las normas del c\\xc3\\xb3digo civil y comercial de la naci\\xc3\\xb3n y constitucionales, los agentes no ejercen el corretaje inmobiliario. todas las operaciones inmobiliarias son objeto de intermediaci\\xc3\\xb3n y conclusi\\xc3\\xb3n por parte de los martilleros y corredores colegiados, cuyos datos se exhiben debajo del nombre de la inmobiliaria.',\n",
       "       'corredor responsable: lucrecia saulle - csi 5520contacto: solana l\\xc3\\xb3pez - mls id # 341173-68impecable departamento en venta en la exclusiva zona de las lomitas, con excelente ubicaci\\xc3\\xb3n. edificio de categor\\xc3\\xada, con amenities.  con renta hasta enero de 2019. oportunidad de inversi\\xc3\\xb3n.  con una superficie total de 55 m2, el departamento consta de living comedor, cocina con barra desayunadora, lavadero, ba\\xc3\\xb1o completo y 1 dormitorio con placard. calefacci\\xc3\\xb3n por losa radiante / aire acondicionado. 9\\xc2\\xb0 piso con balc\\xc3\\xb3n. muy luminoso.  cochera y baulera individuales.  el edificio cuenta con espacios comunes modernos y confortables. pileta climatizada, gimnasio y sum. grupo electr\\xc3\\xb3geno. portero en el edificio de lunes a s\\xc3\\xa1bados.  las lomitas se ha convertido en los \\xc3\\xbaltimos a\\xc3\\xb1os en la zona m\\xc3\\xa1s exclusiva de lomas de zamora. empezaron los rest\\xc3\\xb3s, y m\\xc3\\xa1s tarde el dise\\xc3\\xb1o y las grandes marcas echaron anclas. el crecimiento inmobiliario vino detr\\xc3\\xa1s, y hoy conviven lo cl\\xc3\\xa1sico con lo mejor de lo nuevo. las casas m\\xc3\\xa1s antiguas del barrio han ido cediendo su lugar a las m\\xc3\\xa1s variadas propuestas gastron\\xc3\\xb3micas que conviven con locales de ropa y tiendas de dise\\xc3\\xb1o, haciendo de este un refugio \\xc3\\xbanico en zona sur. ',\n",
       "       'corredor responsable: pedro j. moldes - csi 6228contacto: marina soncini - mls id # 420851014-4oportunidad!!! oficina al frente de 24 mt2, con excelente ubicaci\\xc3\\xb3n en muy buena cuadra, montevideo entre viamonte y tucum\\xc3\\xa1n. en un efificio de oficinas exclusivamente. super luminosa con gran ventanal. el ba\\xc3\\xb1o es compartido con las oficinas del mismo piso. tiene calefacci\\xc3\\xb3n central y vigilancia hasta las 20 hs.   ',\n",
       "       \"corredor responsable: leonel d'atri - cucicba 6618contacto: sebasti\\xc3\\xa1n pociello - mls id # 420751029-38departamento en pleno micro centro con garage, en carlos pellegrini y av. rivadavia. excelente ubicaci\\xc3\\xb3n. apto profesional.  cuenta con una superficie de 67m2. tiene dos habitaciones. ba\\xc3\\xb1o completo. cocina. buen estado general. todos los ambientes alfombrados, con aire acondicionado y empapelados. muy luminoso  tradicional edificio de la zona. cuenta con 4 ascensores y c\\xc3\\xa1mara de seguridad en todos los pisos.  expensas $2000 mensuales.  excelente oportunidad. ideal para inversi\\xc3\\xb3n.\",\n",
       "       'corredor responsable: eleonora medeot minujen - cmcpdjlm 682contacto: luciano mandaradoni - mls id # 420911004-7martillera: eleonora medeot minujen cmcpdjlm 682 / cpi 6867  todas las propiedades que figuren en mi perfil se encuentran a cargo del profesional matriculado de la oficina, la intermediaci\\xc3\\xb3n y la conclusi\\xc3\\xb3n de las operaciones ser\\xc3\\xa1n llevada exclusivamente por \\xc3\\xa9l.  departamento tipo duplex ubicado en ciudadela, 9\\xc2\\xb0 y 10\\xc2\\xb0 piso, excelente vista, excelente luminosidad. planta baja: (medidas aproximadas) living comedor, cocina 8,36 x 4,00 mts.  balc\\xc3\\xb3n terraza 8,36 x 500 mts. con parrilla.  balc\\xc3\\xb3n cerrado 3,70 x 0,65  ba\\xc3\\xb1o de servicio.   planta alta: (medidas aproximadas) 2 dormitorios 3,60 x 3,00 mts. con placares fijos.  ba\\xc3\\xb1o completo 1,50 x 2,00 mts.  lavadero balc\\xc3\\xb3n 1,00 x 4,00 mts.   terminal micros de larga distancia a cuatro cuadras, estaci\\xc3\\xb3n liniers a 5 cuadras, metrobus juan b. justo a 6 cuadras, shoping liniers a 4 cuadras, bingo ciudadela a 1 cuadra. l\\xc3\\xadneas de colectivos 1,2,4,21,28, 34, 46, 47, 52, 80, 86, 88, 96, 104, 106, 108, 109, 117, 136, 153, 161, 162, 163, 166, 172, 174, 182. 185 y otras. ',\n",
       "       'hermoso departamento 3amb - 50m2 - 9\\xc2\\xb0 piso en barrio norte.unidad:living comedor con salida al balc\\xc3\\xb3n interno, pasillo de distribuci\\xc3\\xb3n con ventilaci\\xc3\\xb3n al exterior, cocina con amoblamientos completos con salida al balc\\xc3\\xb3n, dormitorio principal con placard, segundo dormitorio, ba\\xc3\\xb1o completo con ba\\xc3\\xb1era, balc\\xc3\\xb3n con conexi\\xc3\\xb3n para lavarropas y bacha.calefacci\\xc3\\xb3n central por loza radiante y aire acondicionado en living comedor.edificio:edificio en muy buenas condiciones edilicias.2 ascensores actualizados recientemente.encargado fijo.ubicaci\\xc3\\xb3n:a mts del subte l\\xc3\\xadnea d - estaci\\xc3\\xb3n \"facultad de medicina\".a 3 cuadras de av. santa f\\xc3\\xa9.a mts de la facultad de ciencias econ\\xc3\\xb3micas, facultad de medicina y facultad de odontolog\\xc3\\xada.en frente a la plaza dr. bernardo houssay.cerca de colegios, hospitales y cl\\xc3\\xadnicas, bares y restaurantes.*apto profesional**apto cr\\xc3\\x89dito**apto mascotas*para m\\xc3\\xa1s informaci\\xc3\\xb3n y/o visitas comunicarse a:(011)-15-.-',\n",
       "       'con renta! hom! excelente edificio nuevo con muchisima onda, en inmejorable ubicacion en palermo. esta a pasos del subte d.muy cerquita del shopping alto palermo. tiene pileta en terraza con solarium. parrilla. sum. seguridad 24 hs. gym. otra pileta en el 9no piso. tiene un parking comercial por hora en el edificio.el estudio apro profesional tiene un patio de 20 m2. ba\\xc3\\xb1o completo y kichinette. pisos de porcelanato. y detalles de nivel.no te lo pierdas!orwel153121123415311366681531136636 medidas, superficies y expensas consignadas en la presente son aproximadas; y al solo efecto orientativo. los datos definitivos son los que surgir\\xc3\\xa1n del titulo de la propiedad y de los comprobantes respaldatorios\"',\n",
       "       'hom! excelente edificio de altisima categoria, a estrenar, muchisima onda, en inmejorable ubicacion en palermo. esta a pasos del subte d.muy cerquita del shopping alto palermo. importate entrada en doble altura revestida en marmol.tiene pileta en terraza con solarium. parrilla. sum. seguridad 24 hs. gym. otra pileta en el 9no piso. tiene un parking comercial por hora en el edificio.el estudio apto profesional tiene un ba\\xc3\\xb1o y una kitchinet.alquiler:$15000 + gastos!no te lo pierdas!orwel153121123415311366681531136636 medidas, superficies y expensas consignadas en la presente son aproximadas; y al solo efecto orientativo. los datos definitivos son los que surgir\\xc3\\xa1n del titulo de la propiedad y de los comprobantes respaldatorios\"',\n",
       "       'venta con renta!!!hom! excelente edificio de altisima categoria,  muchisima onda, en inmejorable ubicaci\\xc3\\xb3n en palermo. esta a pasos del subte d.muy cerquita del shopping alto palermo. importate entrada en doble altura revestida en marmol.tiene pileta en terraza con solarium. parrilla. sum. seguridad 24 hs. gym. otra pileta en el 9no piso. tiene un parking comercial por hora en el edificio.el estudio apto profesional con una kitchinet y un ba\\xc3\\xb1o completo y balcon.no te lo pierdas!orwel153121123415311366681531136636 medidas, superficies y expensas consignadas en la presente son aproximadas; y al solo efecto orientativo. los datos definitivos son los que surgir\\xc3\\xa1n del titulo de la propiedad y de los comprobantes respaldatorios\"',\n",
       "       'hom! excelente edificio de altisima categoria,  muchisima onda, en inmejorable ubicaci\\xc3\\xb3n en palermo. esta a pasos del subte d.muy cerquita del shopping alto palermo. importate entrada en doble altura revestida en marmol.tiene pileta en terraza con solarium. parrilla. sum. seguridad 24 hs. gym. otra pileta en el 9no piso. tiene un parking comercial por hora en el edificio.el estudio apto profesional con una kitchinet y un ba\\xc3\\xb1o completo y balcon.no te lo pierdas!orwel153121123415311366681531136636 medidas, superficies y expensas consignadas en la presente son aproximadas; y al solo efecto orientativo. los datos definitivos son los que surgir\\xc3\\xa1n del titulo de la propiedad y de los comprobantes respaldatorios\"',\n",
       "       'hom! excelente edificio de altisima categoria,  muchisima onda, en inmejorable ubicaci\\xc3\\xb3n en palermo. esta a pasos del subte d.muy cerquita del shopping alto palermo. importate entrada en doble altura revestida en marmol.tiene pileta en terraza con solarium. parrilla. sum. seguridad 24 hs. gym. otra pileta en el 9no piso. tiene un parking comercial por hora en el edificio.el estudio apto profesional con una kitchinet y un ba\\xc3\\xb1o completo y balcon.no te lo pierdas!orwel153121123415311366681531136636 medidas, superficies y expensas consignadas en la presente son aproximadas; y al solo efecto orientativo. los datos definitivos son los que surgir\\xc3\\xa1n del titulo de la propiedad y de los comprobantes respaldatorios\"',\n",
       "       'corredor responsable: maria natale - cucicba 6030contacto: maria natale - mls id # 420461006-154martillero/a: mar\\xc3\\x8da natale cucicba 6030 / hector monc\\xc3\\x81rz cpmclz 4030    amplio departamento de 3 dormitorios y dependencia de servicio. est\\xc3\\xa1 ubicado sobre avda. rivadavia cercano a plaza flores en un edificio de s\\xc3\\xb3lida construcci\\xc3\\xb3n con balc\\xc3\\xb3n corrido en noveno piso al frente. super luminoso con vista abierta!!!! el living da al frente con salida al balc\\xc3\\xb3n, el dormitorio principal al frente con ventana placard completo de piso a techo. los otros 2 dormitorios tienen ventana al aire y luz y placard . ba\\xc3\\xb1o completo y toilette originales en buen estado de conservaci\\xc3\\xb3n. c\\xc3\\xb3moda cocina con ventana al aire y luz, lavadero independiente, habitaci\\xc3\\xb3n de servicio. pisos de parquet en living dormitorios y pasillos. entrada principal y de servicio, puertas blindadas, calefacci\\xc3\\xb3n por losa radiante y agua caliente central. seguridad durante la noche.  expensas a junio/2017 $ 4.083.-   advertencia importante: los montos especificados de expensas responden a una declaraci\\xc3\\xb3n del propietario el d\\xc3\\xada que fue autorizada la propiedad y/o de la liquidaci\\xc3\\xb3n de expensas entregada en fotocopia. habitualmente el mismo no est\\xc3\\xa1 actualizado. verificar el monto actualizado previo al alquiler/compra de la propiedad.',\n",
       "       'venta de departamento 2 dormitorios, la plata.venta de departamento 2 dormitorios. excelente departamento de 2 dormitorios, cocina separada, living, dormitorios con placar, ba\\xc3\\xb1o con hidromasaje. piso 9no, excelente vista, pisos de porcelanato y parquet en los dormitorios, balc\\xc3\\xb3n. permuta. financia.alquilado hasta febrero de 2018. -  - betancor',\n",
       "       'corredor responsable: pedro j. moldes - csi 6228contacto: norberto prinsich - mls id # 420851019-1martillero:  pedro jose moldes cucicba 6694 / cmcpsi 6228 av. diego carman 131, martinez san isidro, 1642 argentina  todas las propiedades que figuran en mi perfil se encuentran a cargo del profesional matriculado de la oficina, la intermediaci\\xc3\\xb3n y la conclusi\\xc3\\xb3n de las operaciones ser\\xc3\\xa1n llevadas exclusivamente por \\xc3\\xa9l.  ver video https://  barrio norte, excelente semipiso muy luminoso, apto credito, ubicado sobre la calle gallo esquina avda. santa fe, zona comercial de excelencia y con diversos medios de transporte (subte d y varias lineas de colectivos) que facilitan el traslado hacia todos los puntos de la ciudad. el edificio (proyecto mario roberto alvarez) tiene una excelente orientaci\\xc3\\xb2n (ne) lo que hace que todos los ambientes principales tengan gran luminosidad. la unidad tiene palier privado y de servicio y consta de un amplio hall de recepci\\xc3\\xb2n con placard, gran living-comedor con salida a balc\\xc3\\xb2n corrido que abarca tambi\\xc3\\xa8n a uno de los dormitorios, hall \\xc3\\xacntimo que conecta a los 2 dormitorios, ambos tambi\\xc3\\xa8n al frente y cada uno con ba\\xc3\\xb1o completo y amplio placard. tanto el living-comedor como los dormitorios tienen persianas tipo \"barrios\" de madera. la cocina es muy c\\xc3\\xb2moda con profusi\\xc3\\xb2n de muebles altos y bajos. posee adem\\xc3\\xa0s un amplio lavadero independiente con pileta, mesada y lugar para lavarropas y secarropas. ambos ambientes tienen grandes ventanales que permiten la entrada de luz natural. muy buena dependencia de servicio con ba\\xc3\\xb1o completo y c\\xc3\\xb2modo placard.  tiene adem\\xc3\\xa0s una amplia baulera en 3\\xc2\\xba ss expensas $ 7.500.- aprox. abl $ 1.700.-  seguridad 24 hs opcional cochera fija, es una unidad funcional que se encuentra en edificio por medio. su compra es opcional y su precio usd 29.000.- mudate a la vida que queres! estamos a un llamado de distancia! consultame!   ',\n",
       "       '**departamento en 9 piso muy luminoso en muy buen estado .** hall de recibo, amplio living-comedor con pisos de parquet, balc\\xc3\\xb3n corrido al frente con con hermosa  vista al este,. ba\\xc3\\xb1o completo reciclado a nuevo, dos dormitorios con placard y pisos de parquet. tercer dormitorio o escritorio. cocina comedor diario reciclada a nuevo con isla, muebles alto y bajo mesada. lavadero y ba\\xc3\\xb1o de servicio, entrada principal y auxiliar.- todas las aberturas son nuevas con doble vidriado. -  - juarez levar propiedades',\n",
       "       'magnifico semipiso en recoleta con cochera cubierta.living comedor muy luminoso con salida balc\\xc3\\x83\\xc2\\xb3n aterrazado. dormitorio principal en suite con salida a balc\\xc3\\x83\\xc2\\xb3n. segundo dormitorio con placares amplios , ba\\xc3\\x83\\xc2\\xb1o completo. cocina , comedor diario. habitaci\\xc3\\x83\\xc2\\xb3n de servicio amplia y soleada (puede ser utilizada como tercer dormitorio o escritorio), ba\\xc3\\x83\\xc2\\xb1o entrada de servicio y amplia baulera. calefacci\\xc3\\x83\\xc2\\xb3n central. vigilancia 24 hs.',\n",
       "       'ideal rentista o primera propiedad con creditomagnifico departamento en 9no pisovista abiertabalc\\xc3\\xb3nmuy buenos accesos muy segurodisposici\\xc3\\xb3n: contrafrenteorientaci\\xc3\\xb3n: sudoesteapto profesionalsup. cubierta: 36 m\\xc2\\xb2sup. descubierta: 3 m\\xc2\\xb2ambiente: 8 x 3hall: 2x2balcon: 3 x 1,25ba\\xc3\\xb1o completo: 3,25 x 2todo luz y airecaracter\\xc3\\xadsticas del edificio:cant. pisos: 12deptos. por piso: 4superficie total (m2):\\t277.00superficie cubierta (m2):\\t2895.00frente (m):\\t8.52fondo (m):\\t32.51pisos sobre-rasante:\\t14pisos bajo-rasante:\\t0propiedad horizontal:\\tsiunidades funcionales:\\t51locales:\\t1valor \\xc3\\x9anico de cuadra:\\t0.30identificador catastral:\\t12-012-007partida matriz:\\t218136puertas: belgrano av. /1654transportes cercanoscolectivos:\\t2, 6, 8, 12, 23, 37, 39, 50, 56, 60, 64, 84, 86, 90, 96, 98, 102, 103, 150, 151, 168datos \\xc3\\xbatilesbarrio:\\tmonserratcomuna:\\tcomuna 1\\xc3\\x81rea hospitalaria:\\thtal. dr. j.m. ramos mej\\xc3\\x8daregi\\xc3\\xb3n sanitaria:\\ti (este)comisar\\xc3\\xada:\\t6distrito escolar:\\tdistrito escolar iiic\\xc3\\xb3digo postal:\\t1093c\\xc3\\xb3digo postal argentino:\\tc1093aarc\\xc3\\xb3digo de planeamiento urbano:\\tc3 ilatitud/longitud:\\t-34.613945, -58.389668nota: valor es libre de costos  de escrituracionapto profesional',\n",
       "       'corredor responsable: rebeca stern - c.u.c.i.c.b.a 4824contacto: fabi\\xc3\\xa1n lukszan - mls id # 420101226-5exclusivo semipiso con palier privado. amplio living comedor con salida a gran balc\\xc3\\xb3n terraza de 30 m2. cocina y lavadero independientes, ba\\xc3\\xb1o completo con ventilaci\\xc3\\xb3n natural. 2 splits instalados, estufa tiro balanceado, cortinas sun screen. placards de piso a techo en dormitorio y living. muy luminoso y ventilado en todos sus ambientes. impecable estado. excelente ubicaci\\xc3\\xb3n pr\\xc3\\xb3xima a subte, tren, avenidas, colegios, polo gastron\\xc3\\xb3mico y comercial.  se vende con renta hasta marzo de 2018. no apto cr\\xc3\\xa9dito.  expensas: $ 2756.-  nota: superficies seg\\xc3\\xban escritura: 44,01 m2 cubiertos; 7,29 m2 semucubiertos; 18,79 m2 descubierta; 3,54 m2 de balc\\xc3\\xb3n; 73,03 m2 totales.   martillero y corredor responsable: rebeca stern cucicba 4824 / maximiliano vazquez csi 5119    todas las propiedades que figuran en mi perfil se encuentran a cargo del profesional matriculado de la oficina, la intermediaci\\xc3\\xb3n y la conclusi\\xc3\\xb3n de las operaciones ser\\xc3\\xa1n llevadas exclusivamente por \\xc3\\xa9l. ',\n",
       "       'venta de ambiente unico en edificio a estrenar piso 9\\xc2\\xba dto \"b\" al cfte. living con cocina integrada. ba\\xc3\\x91o.  las medidas son aproximadas y dadas por el propietario. fecha de entrega aprox fines 2014 -  - pablo yaryura propiedades',\n",
       "       'corredor responsable: hernan perrone - c.u.c.i.c.b.a 2792contacto: lic. brian dubin - mls id # 151156-45hern\\xc3\\xa1n perrone martillero y corredor responsable cucicba 2792  excelente  piso de 97 mt2 totales.  86 cubiertos expensas aprox $4000 orientaci\\xc3\\xb3n nor este   living 4,2x3,6 balc\\xc3\\xb3n corrido 8x1,4 cocina 4,6x2 dormitorio con vestidor y ba\\xc3\\xb1o en suite 6x4 2 dormitorio con vestidor y ba\\xc3\\xb1o en suite 6x3 ba\\xc3\\xb1o completo 1,8x1,9 escritorio 2,6x2,2 pasillo 10x1,3 distribuci\\xc3\\xb3n 2x2 servicios por caldera individual  apto cr\\xc3\\xa9dito',\n",
       "       'venta - departamento - argentina, buenos aires, capital federal, belgrano - 4 dormitorios - con cocheraexcelente d\\xc3\\xbaplex en muy buen estado con vista abierta sobre la copa de los arboles en jos\\xc3\\xa9 hernandez y 11 de septiembre.esta unidad se desarrolla en dos plantas. en el piso 8\\xc2\\xb0, tiene el hall de entrada con importante escalera principal que sube a la planta del 9\\xc2\\xb0 piso. luego tiene apaisada una amplia recepci\\xc3\\xb3n compuesta por 3 sectores bien definidos. un estar o living en el medio de la recepci\\xc3\\xb3n, un sector de escritorio y el comedor. todo al balc\\xc3\\xb3n corrido de casi 14 metros sobre jos\\xc3\\xa9 hernandez. en este mismo piso tiene 2 dormitorios, el principal en suite con vestidor y ba\\xc3\\xb1o completo y un 2do dormitorio que tiene otro ba\\xc3\\xb1o completo que hace las veces tambi\\xc3\\xa9n de toilette de recepci\\xc3\\xb3n. cocina, un gran comedor diario, dependencias de servicio y lavadero aparte.en el comedor diario hay una escalera \"tipo caracol\" como de servicio que desemboca al igual que la escalera principal, en un gran playroom que hay en el piso 9\\xc2\\xb0, de tal manera que se puede circular entre los 2 dormitorios y el playroom que hay en el piso 9 hacia el sector de cocina, comedor diario y servicio de la planta inferior, sin necesidad de pasar por la escalera principal ni la recepci\\xc3\\xb3n generando una perfecta doble circulaci\\xc3\\xb3n.en el piso 9\\xc2\\xb0 hay entonces adem\\xc3\\xa1s del playroom dos dormitorios mas y otro ba\\xc3\\xb1o completo y un balc\\xc3\\xb3n al que se accede desde el playroom.todos los pisos son de parquet y est\\xc3\\xa1n en muy buen estado. tiene cortinas de enrollar tipo barrio. ha sido reciclado todo en el a\\xc3\\xb1o 2005.en 9\\xc2\\xba piso, el playroom o estar \\xc3\\xadntimo mide 5,80x5,75.la seguridad por un sistema de monitoreo llamado \"ojo de halc\\xc3\\xb3n de prosegur\" ( http:// ) con un sistema de monitoreo permanente sin la necesidad de personal fisicamente en el edificio.. - cucicba mat. 2779',\n",
       "       'recoleta, piso de categor\\xc3\\x83\\xc2\\xada en venta sobre avenida callao entre quintana y alvear. noveno piso, muy luminoso. pallier privado. hall de entrada; living-comedor con pisos de madera y salida al amplio balc\\xc3\\x83\\xc2\\xb3n; escritorio, que puede ser utilizado como dormitorio (se cierra con puertas corredizas). toilette con ducha. pasillo con espacio para playroom; dos amplios dormitorios, ambos con placards y mucha luz. ba\\xc3\\x83\\xc2\\xb1o completo, renovado. muy c\\xc3\\x83\\xc2\\xb3moda cocina, con alacenas y desayunador. lavadero. dormitorio de servicio de buenas dimensiones, con ba\\xc3\\x83\\xc2\\xb1o propio. doble circulaci\\xc3\\x83\\xc2\\xb3n. baulera muy amplia propia. calefacci\\xc3\\x83\\xc2\\xb3n y agua caliente centrales. el edificio tiene 14 pisos en total; dos ascensores. dos encargados. genearador que, ante un corte de luz, permite usar los ascensores y el agua corriente. expensas: 10.000$. abl: 1500$. aysa: 1200$ (bimestral). las medidas y superficies son aproximados. los datos definitivos son los que surgen del t\\xc3\\x83\\xc2\\xadtulo de propiedad. coti en tr\\xc3\\x83\\xc2\\xa1mite.',\n",
       "       'corredor responsable: mario gabriel gerez - cucicba 6477contacto: candelaria may - mls id # 371180-12venta ph en villa crespo con terraza propia   pb  living comedor con cocina integrada y toilette  pa dormitorio principal con amplio placard segundo dormitorio/escritorio ba\\xc3\\x91o completo   terraza  parrilla y lavadero    *no es apto credito.      corredor martillero mario gabriel gerez cucicba 6477 ',\n",
       "       'fideicomiso bulnes y cordobaultimas unidadesbajo anticipo y 30 cuotas en pesos ,indexacion por la camara de construccionentrega estimada junio 2019todos los amenitiescocheras disponiblesla forma de pago de las mismas estipulada para este proyecto sera la siguiente:- 15% del valor total como aporte inicial en u$- saldo a pagar en ar$ (pesos argentinos): 65% del saldo se cobrara en 30 cuotas mensuales, el 35% en 5 cuotas semestrales (junio, diciembre). todas la cuotas seran ajustables por el indice de la camara argentina de la construcci\\xc3\\x83\\xc2\\xb3n (base agosto 17)',\n",
       "       'departamento  en balvanera, capital federal3amb a refaccionarhall de entrada: 3.15 x 1.15 mtsliving comedor: 6.30 x 3.30 mtsbalcon: 2.60 x 1.20 mtshall de distribucion: 1.80 x 0.85 mts1\\xc2\\xba dormitorios: 3.10 x 3.00 mts2\\xc2\\xba dormitorio: 5.60 x 4.25 mtsdos ba\\xc3\\x91os con duchacocina: 2.60 x 2.15 mts con mini baulera - bajo mesada con alacenas tipo placard.lavadero en comun con la gente del mismo pisoservicios individualesconsultas a cecilia bochi & asociados / 4825- -  - cecilia bochi & asociados',\n",
       "       'corredor responsable: jose a. lopez - cpi 1765contacto: sol v\\xc3\\xa1zquez - mls id # 420941011-2edificio de gran categor\\xc3\\xada. vistas a los 4 frentes. mucha luz. seguridad 24 hs. cochera de cortes\\xc3\\xada para visitantes. calefacci\\xc3\\xb3n y agua caliente central aire acondicionado split en todos los ambientes. expensas: $ 14.500.- pisos de parquet en todas la habitaciones. cortinas el\\xc3\\xa9ctricas en todos los ambientes. puerta de acceso principal y de servicio blindadas. 2 habitaciones de servicio de 2,10 x 3 mts con ba\\xc3\\xb1o. pisos de porcelanatto en todos los locales h\\xc3\\xbamedos. hogar a le\\xc3\\xb1a en el living-room. cercano al colegio pestalozzi, st. catherine\\xc2\\xb4s moorlands school, st. brendans college, colegio swarn, comunidad bet-el, st. margaret\\xc2\\xb4s school y bac (belgrado athletic club)',\n",
       "       'venta de departamento 2 dormitorios en la plata, la platadepartamento a estrenar ubicado en un 9no piso al frente. cuenta con living-comedor con pisos de porcelanato, cocina separada con muebles bajo y sobre mesada, lavadero semi separado, toillette, ba\\xc3\\xb1o completo con ante ba\\xc3\\xb1o, dos dormitorios con pisos flotante, la habitaci\\xc3\\xb3n principal muy amplia con vestidor, amplio balc\\xc3\\xb3n corrido y cochera cubierta. sistema de calefaccion por medio  radiadores y pre instalaci\\xc3\\xb3n para aire acondicionado. -  - micheli propiedades',\n",
       "       'codigo: 572-1565 ubicado en: av. alvear 1500 -  publicado por: la city propiedades. el precio es de usd 1980000 null. piso de departamentos en venta sobre av. alvear entre parera y montevideo edificio cl\\xc3\\xa1sico franc\\xc3\\xa9s muy buen contra frente lleno de luz y sol de ma\\xc3\\xb1ana superficie propia: 385 m2 + un cuarto grande y baulera en el 9\\xc2\\xb0 piso 2 cocheras, acceso por rampa de hormig\\xc3\\xb3n, servicios centrales, vigilancia 24 horas. el piso se compone de living, comedor, escritorio, toilette, estar \\xc3\\xadntimo , 5 dormitorios, 4 ba\\xc3\\xb1os, amplias dependencias, cocina, lavadero, 2 cuartos de servicio. importante hall de entrada. excelente estado general . publicado a trav\\xc3\\xa9s de mapaprop',\n",
       "       'codigo: 20 ubicado en: cornelio saavedra 352 -  publicado por: fernandez - gesti\\xc3\\x93n inmobiliaria. el precio es de usd 95000 null. depto ubicado en 9\\xc2\\xb0 piso en edificio en torre (con perimetro semi-libre). consta de 45 mts totales, desarrollados en living comedor, ba\\xc3\\xb1o completo, cocina amplia y alargada con conexi\\xc3\\xb3n para lavarropas y muy buena ventilaci\\xc3\\xb3n y luminosidad, dormitorio con placard. todos los ambientes son exteriores, es decir, tienen ventilaci\\xc3\\xb3n y luz natural. balc\\xc3\\xb3n amplio con mirador vidriado hacia la cocina. sistema de calefacci\\xc3\\xb3n a traves de equipo de aire acondicionado frio/calor en living-comedor y dormitorio. agua caliente individual de la unidad con termotanque de alta recuperaci\\xc3\\xb3n. caracteristicas constructivas, por ambiente. todo el departamente posee terminaci\\xc3\\xb3n de paredes en yeso y acabados sinteticos. los pisos del living-comedor y domritorio son de madera flotante de alto transito color roble. los de la cocina y ba\\xc3\\xb1o son de porcelanatto de primera calidad color marfil. la grifer\\xc3\\xada es fv y sanitarios marca ferrum. en el ba\\xc3\\xb1o existe un vanitory y bacha de linea moderna y ba\\xc3\\xb1era amplia con duchador.   en cuanto al edificio, se trata de una hermosa torre con gran frente, casi 90 unidades funcionales lo que hace poder disfrutar de los amenities no sea un gran gasto de expensas, dado que estan en promedio en el orden de los $1200. cuenta con gimnasio, pisicina, quincho, terraza y sum para eventos.  existe un contrato de locaci\\xc3\\xb3n vigente, que finaliza en 12 meses a contar desde junio/2017.  apto credito - venta directa con renta - visite este hermoso inmueble . publicado a trav\\xc3\\xa9s de mapaprop',\n",
       "       'codigo: 3016-wp0141 ubicado en: malabia 1221 9no piso -  publicado por: waiman propiedades. el precio es de usd 340000 null. hermoso departamento reciclado a nuevo con gran balc\\xc3\\x93n terraza con parrilla. dormitorio principal en suite con vestidor . publicado a trav\\xc3\\xa9s de mapaprop',\n",
       "       'corredor responsable: cristian arnal ponti - c.u.c.i.c.b.a 3570contacto: paula bidegain - mls id # 221101-97apto credito. espectacular gran ambiente con dos balcones, cocina integrada y ba\\xc3\\xb1o completo. en segundo nivel, otro peque\\xc3\\xb1o ambiente y gran terraza propia. todo luz y sol, incre\\xc3\\xadbles vistas abiertas de la ciudad. edificio de dos a\\xc3\\xb1os de antig\\xc3\\xbcedad. agua caliente central. amenities: pileta, sum (sin finalizar), laundry (sin finalizar) expensas $1.400 superficies: piso 9\\xc2\\xb0: 41,39 m2 cubiertos, 6,90 m2 semi.cubiertos, 2,33 m2 balcon piso 10\\xc2\\xb0: 11,29 m2 cubiertos, 7,24 semi-cubiertos, 26,96 m2 descubiertos superficie total: 96,11 m2',\n",
       "       'corredor responsable: laura avellaneda - cucicba 4054contacto: arqta. marisa yussem - mls id # 420571014-19depto duplex:(semipiso)  en el 9\\xc2\\xb0 p .  estar ,con salida al balcon corrido y aterrazado   3 dormitorios : suite con balcon independiente , 2 dormitorios todos con mucha luz , ba\\xc3\\x91o completo y toillete de recepcion , cocina comedor amplia y muy luminosa , al 10 \\xc2\\xb0p . se llega por una escalera de madera situada en el hall distribuidor del piso de abajo a un quincho construido en material y techo de madera natural de c\\xc3\\x93modas medidas;en la terraza tiene una parrilla con pileta de lavado de amplias dimensiones  , en el mismo nivel un lavadero y patio   2 cocheras cubiertas en p.b. y una baulera.  edificio de excelente construccion y calidad. seguridad de 10 pm a 6 am el edificio ademas cuenta en el ultimo piso con laundry.',\n",
       "       '\\xc3\\xbaltimos disponibles !!semipisos a estrenar, posesi\\xc3\\xb3n inmediata. -  - eduardo reyes propiedades',\n",
       "       '- edificio inteligente- pisos exclusivos, - hall privado - placar de recepci\\xc3\\xb3n.- 2 dormitorios (1 en suite) + escritorio.- 2 ba\\xc3\\xb1os completos.- cocina equipada- lavadero - dependencia- living - comedor - recepci\\xc3\\xb3n - - terraza privada exclusiva. - balc\\xc3\\xb3n terraza - parrilla.- (cochera privada opcional).- detalles:- paredes de hormig\\xc3\\xb3n celular t\\xc3\\xa9rmica y  acustica.- instalaci\\xc3\\xb3n ca\\xc3\\xb1er\\xc3\\xadas de gas epoxi o sigas.- instalaci\\xc3\\xb3n agua fr\\xc3\\xada y caliente termo fusi\\xc3\\xb3n.- yeso alpress.- aberturas dvh alta prestaci\\xc3\\xb3n herm\\xc3\\xa9tico.   - puerta blindada.- barandas de vidrio y acero inoxidable.- griferia fv. cierre cer\\xc3\\xa1mico o similar.- artefacto ferrum o similar.- muebles de cocina laqueado, mesada de silestone.- porcelanatto de alta calidad.- isla con horno - anaffe - mesada de silestone.- instalaciones.  - ascensor electromec\\xc3\\xa1nico, acero inoxidable, 2 velocidades-- instalaci\\xc3\\xb3n de paneles solares, servicios b\\xc3\\xa1sico edificio.- instalaci\\xc3\\xb3n y prestaci\\xc3\\xb3n de servicios individuales (sin panel solar).- calefacci\\xc3\\xb3n y refrigeraci\\xc3\\xb3n \"multi split inverter\"- puerta de acceso con cerradura digital inteligente.- control de acceso sistema inteligente / video.- instalaci\\xc3\\xb3n domotica unidades inteligentes.- instalaci\\xc3\\xb3n general edificio, led, bajo consumo. - instalacion para colocar equipo de alama (sin equipo)   sujeta a la concrecion de la tramitacion del coti por parte del propietario \\xef\\xbf\\xbddar acatamiento a la resolucion general n\\xc2\\xba 2371 de afip. -  - maggio propiedades',\n",
       "       'venta de departamento en recoleta. piso de 160 m2 con cochera fija. living comedor apaisado, cocina, toilette, 3 dormitorios, dos ba\\xc3\\x91os (posibilidad de suite). dependencia de servicio. balc\\xc3\\x93n. -  - fera cancellieri propiedades',\n",
       "       'codigo: 3016-wp0141 ubicado en: malabia 1221 9no piso -  publicado por: waiman propiedades. el precio es de usd 340000 null. hermoso departamento reciclado a nuevo con gran balc\\xc3\\x93n terraza con parrilla. dormitorio principal en suite con vestidor . publicado a trav\\xc3\\xa9s de mapaprop',\n",
       "       \"corredor responsable: leonel d'atri - cucicba 6618contacto: sebasti\\xc3\\xa1n pociello - mls id # 420751029-20departamento en pleno microcentro. carlos pellegrini y av. rivadavia. excelente ubicaci\\xc3\\xb3n. apto profesional.  cuenta con una superficie de 77m2. tiene dos habitaciones. un ba\\xc3\\xb1o completo. una cocina. buen estado general. todos los ambientes alfombrados, con aire acondicionado y empapelados. muy luminoso   tradicional edificio de la zona. cuenta con 4 ascensores y c\\xc3\\xa1mara de seguridad en todos los pisos.  expensas $2000 mensuales.  c/ cochera usd 140.000  excelente oportunidad. ideal para inversion\",\n",
       "       \"corredor responsable: flavia aguirre - c.u.c.i.c.b.a 471contacto: adriana melekian - mls id # 81129-11   gran living comedor,con salida al balc\\xc3\\xb3n, en piso alto, al frente con vista abierta. orientaci\\xc3\\xb3n norte. doble circulaci\\xc3\\xb3n y entrada de servicio.  tres dormitorios con placards. ba\\xc3\\xb1o completo y toilette de recepci\\xc3\\xb3n. amplia cocina completa con conexi\\xc3\\xb3n para lavarropas. actualmente la dependencia funciona como comedor diario, y el toilette de la misma como baulera.  muy buen edificio, bien mantenido, acceso con rampa para discapacitados. terraza de uso com\\xc3\\xban.  expensas junio'17 $ 3150.- aysa $ 620.- abl  $ 600.-  excelente ubicaci\\xc3\\xb3n en el barrio, muy cerca de subte, tren y numerosas l\\xc3\\xadneas de colectivos. importantes institutos educativos en la zona, como el colegio san cirano y el colegio marianista.  \\xc2\\xa1no te lo pierdas! \",\n",
       "       'impecable departamento en venta en la exclusiva zona de las lomitas, con excelente ubicaci\\xc3\\xb3n. edificio de categor\\xc3\\xada, con amenities.con renta hasta enero de 2019. oportunidad de inversi\\xc3\\xb3n.con una superficie total de 55 m2, el departamento consta de living comedor, cocina con barra desayunadora, lavadero, ba\\xc3\\xb1o completo y 1 dormitorio con placard.calefacci\\xc3\\xb3n por losa radiante / aire acondicionado.9\\xc2\\xb0 piso con balc\\xc3\\xb3n. muy luminoso.cochera y baulera individuales.el edificio cuenta con espacios comunes modernos y confortables. pileta climatizada, gimnasio y sum. grupo electr\\xc3\\xb3geno. portero en el edificio de lunes a s\\xc3\\xa1bados.las lomitas se ha convertido en los \\xc3\\xbaltimos a\\xc3\\xb1os en la zona m\\xc3\\xa1s exclusiva de lomas de zamora.empezaron los rest\\xc3\\xb3s, y m\\xc3\\xa1s tarde el dise\\xc3\\xb1o y las grandes marcas echaron anclas. el crecimiento inmobiliario vino detr\\xc3\\xa1s, y hoy conviven lo cl\\xc3\\xa1sico con lo mejor de lo nuevo. las casas m\\xc3\\xa1s antiguas del barrio han ido cediendo su lugar a las m\\xc3\\xa1s variadas propuestas gastron\\xc3\\xb3micas que conviven con locales de ropa y tiendas de dise\\xc3\\xb1o, haciendo de este un refugio \\xc3\\xbanico en zona sur.en cumplimiento de la ley 2340 cucicba, ley 10.973 de la prov.bs.as., ley nacional 25.028, ley 22.802 de lealtad comercial, ley 24.240 de defensa al consumidor, las normas del c\\xc3\\xb3digo civil y comercial de la naci\\xc3\\xb3n y constitucionales, los agentes no ejercen el corretaje inmobiliario. todas las operaciones inmobiliarias son objeto de intermediaci\\xc3\\xb3n y conclusi\\xc3\\xb3n por parte de los martilleros y corredores colegiados, cuyos datos se exhiben debajo del nombre de la inmobiliaria.',\n",
       "       'corredor responsable: lucrecia saulle - csi 5520contacto: solana l\\xc3\\xb3pez - mls id # 341173-68impecable departamento en venta en la exclusiva zona de las lomitas, con excelente ubicaci\\xc3\\xb3n. edificio de categor\\xc3\\xada, con amenities.  con renta hasta enero de 2019. oportunidad de inversi\\xc3\\xb3n.  con una superficie total de 55 m2, el departamento consta de living comedor, cocina con barra desayunadora, lavadero, ba\\xc3\\xb1o completo y 1 dormitorio con placard. calefacci\\xc3\\xb3n por losa radiante / aire acondicionado. 9\\xc2\\xb0 piso con balc\\xc3\\xb3n. muy luminoso.  cochera y baulera individuales.  el edificio cuenta con espacios comunes modernos y confortables. pileta climatizada, gimnasio y sum. grupo electr\\xc3\\xb3geno. portero en el edificio de lunes a s\\xc3\\xa1bados.  las lomitas se ha convertido en los \\xc3\\xbaltimos a\\xc3\\xb1os en la zona m\\xc3\\xa1s exclusiva de lomas de zamora. empezaron los rest\\xc3\\xb3s, y m\\xc3\\xa1s tarde el dise\\xc3\\xb1o y las grandes marcas echaron anclas. el crecimiento inmobiliario vino detr\\xc3\\xa1s, y hoy conviven lo cl\\xc3\\xa1sico con lo mejor de lo nuevo. las casas m\\xc3\\xa1s antiguas del barrio han ido cediendo su lugar a las m\\xc3\\xa1s variadas propuestas gastron\\xc3\\xb3micas que conviven con locales de ropa y tiendas de dise\\xc3\\xb1o, haciendo de este un refugio \\xc3\\xbanico en zona sur. ',\n",
       "       'corredor responsable: marcelo di girolamo - c.d.c.p.d.j.l.p 6962contacto: pablo stagliano - mls id # 23 e/ 7 y 8. se encuentra emplazado en pleno centro comercial de calle 8,  a una cuadra de avenida 7. el departamento se encuentra ubicado en el 9no piso al contrafrente, cuenta con living comedor con piso de parquet, cocina comedor con, muebles bajo y sobre mesada de madera, ventilaci\\xc3\\xb3n natural, calef\\xc3\\xb3n, piso de granito; lavadero cubierto con piso de granito, dormitorio con piso de parquet; ba\\xc3\\xb1o completo con vanitory y ba\\xc3\\xb1era. superficie cubierta 39,86 m2 aprox. y superficie total 42,30 m2 aprox. apto banco.',\n",
       "       'codigo: 20 ubicado en: cornelio saavedra 352 -  publicado por: fernandez - gesti\\xc3\\x93n inmobiliaria. el precio es de usd 95000 null. depto ubicado en 9\\xc2\\xb0 piso en edificio en torre (con perimetro semi-libre). consta de 45 mts totales, desarrollados en living comedor, ba\\xc3\\xb1o completo, cocina amplia y alargada con conexi\\xc3\\xb3n para lavarropas y muy buena ventilaci\\xc3\\xb3n y luminosidad, dormitorio con placard. todos los ambientes son exteriores, es decir, tienen ventilaci\\xc3\\xb3n y luz natural. balc\\xc3\\xb3n amplio con mirador vidriado hacia la cocina. sistema de calefacci\\xc3\\xb3n a traves de equipo de aire acondicionado frio/calor en living-comedor y dormitorio. agua caliente individual de la unidad con termotanque de alta recuperaci\\xc3\\xb3n. caracteristicas constructivas, por ambiente. todo el departamente posee terminaci\\xc3\\xb3n de paredes en yeso y acabados sinteticos. los pisos del living-comedor y domritorio son de madera flotante de alto transito color roble. los de la cocina y ba\\xc3\\xb1o son de porcelanatto de primera calidad color marfil. la grifer\\xc3\\xada es fv y sanitarios marca ferrum. en el ba\\xc3\\xb1o existe un vanitory y bacha de linea moderna y ba\\xc3\\xb1era amplia con duchador.   en cuanto al edificio, se trata de una hermosa torre con gran frente, casi 90 unidades funcionales lo que hace poder disfrutar de los amenities no sea un gran gasto de expensas, dado que estan en promedio en el orden de los $1200. cuenta con gimnasio, pisicina, quincho, terraza y sum para eventos.  existe un contrato de locaci\\xc3\\xb3n vigente, que finaliza en 12 meses a contar desde junio/2017.  apto credito - venta directa con renta - visite este hermoso inmueble . publicado a trav\\xc3\\xa9s de mapaprop',\n",
       "       'corredor responsable: patricia maria sodor - cucicba 5414 / csi 6061contacto: gabriel fabiano - mls id # 291044-250departamento en 9 \\xc2\\xb0 piso! vista abierta! al ingresar encontramos una antesala del living, actualmente utilizada como escritorio, desde all\\xc3\\xad se distribuyen los dem\\xc3\\xa1s ambientes: *espacioso living con puertas ventanas con salida al balc\\xc3\\xb3n. *balc\\xc3\\xb3n corrido bordeando el departamento *cocina comedor bien distribuida y espacio de guardado (alacenas y bajo mesada completas). se puede ingresar a la misma desde la antesala y el living. la cocina tiene salida al lavadero independiente. *habitaci\\xc3\\xb3n de servicio con ba\\xc3\\xb1o y baulera *un pasillo desde la antesala nos lleva a los 3 dormitorios (todos con placares y pisos parquet al igual que el living y la antesala. * 2 ba\\xc3\\xb1os completos otras caracter\\xc3\\xadsticas: -agua caliente central (en caso que hubiera corte de agua por reparaciones o limpieza del termotanque del edificio, se puede utilizar el calef\\xc3\\xb3n) -4 equipos de aire acondicionado  -cochera alquilada en garage enfrente propiedad en excelente estado! no dejes de visitarla! valor de expensas: junio 2017 $3.000  ver v\\xc3\\xaddeo de la propiedad: https://youtu.be/7o3gauk6fyu  ',\n",
       "       'corredor responsable: patricia maria sodor - cucicba 5414 / csi 6061contacto: laura campagna - mls id # 291094-32ambiente y medio, con balc\\xc3\\xb3n, al contrafrente, en rodr\\xc3\\xadguez pe\\xc3\\xb1a y av. rivadavia.  la cocina es independiente. ba\\xc3\\xb1o completo de \\xc3\\xa9poca. amplio hall de recepci\\xc3\\xb3n.  placares de pared a pared. pisos de parquet, reci\\xc3\\xa9n plastificados.  apto profesional. expensas de junio de 2017: $2500 a metros de av. rivadavia y de la av. callao. a cinco cuadras de av. corrientes. subte a: estaci\\xc3\\xb3n congreso. subte b: estaci\\xc3\\xb3n callao. ',\n",
       "       'corredor responsable: patricia maria sodor - cucicba 5414 / csi 6061contacto: marina de milo - mls id # 291006-320excelente propiedad, distribuida en dos pisos de la siguiente forma: s\\xc3\\xa9ptimo piso * estudio * amplio living con acceso al balc\\xc3\\xb3n * toilet de recepci\\xc3\\xb3n * comedor diario * cocina  octavo piso: * dormitorio en suite * segundo dormitorio * suite principal con vestidor * ba\\xc3\\xb1o completo * habitaci\\xc3\\xb3n de servicio con ba\\xc3\\xb1o  planta baja: tiene cocheras para 4 autos (dos cocheras dobles) y bauleras.   la unidad es muy amplia, c\\xc3\\xb3moda y luminosa. se encuentra en excelente estado con materiales de primera calidad. dise\\xc3\\xb1os exclusivos. aberturas con doble vidrio. calefacci\\xc3\\xb3n y aire acondicionado individual, con sistema de ventilaci\\xc3\\xb3n interna. edificio con seguridad - posee 4 cocheras en planta baja y baulera. expensas $ 9.800.- ver v\\xc3\\xaddeo de la propiedad: https://youtu.be/wih6k5i_dlk  https://youtu.be/wih6k5i_dlk  ',\n",
       "       'corredor responsable: pedro j. moldes - csi 6228contacto: marina soncini - mls id # 420851014-4oportunidad!!! oficina al frente de 24 mt2, con excelente ubicaci\\xc3\\xb3n en muy buena cuadra, montevideo entre viamonte y tucum\\xc3\\xa1n. en un efificio de oficinas exclusivamente. super luminosa con gran ventanal. el ba\\xc3\\xb1o es compartido con las oficinas del mismo piso. tiene calefacci\\xc3\\xb3n central y vigilancia hasta las 20 hs.   ',\n",
       "       'corredor responsable: laura avellaneda - cucicba 4054contacto: martin bosch - mls id # 420571005-31muy lindo, luminoso y c\\xc3\\xb3modo departamento de 2 dormitorios en una zona exclusiva de almagro, a pocas cuadras de parque centenario. piso alto, vista panor\\xc3\\xa1mica.  se trata de un departamento de 50 m2 cubiertos y 8 m2 de balc\\xc3\\xb3n, ubicado sobre la calle castro barrios, entre venezuela y algro, de r\\xc3\\xa1pido acceso a variados medios de transporte, como la estaci\\xc3\\xb3n castro barros de la l\\xc3\\xadnea a de subte, metrobus en la av. rivadavia, tambi\\xc3\\xa9n a 3 cuadras de la estaci\\xc3\\xb3n once.   la unidad cuenta un living comedor amplio con aire acondicionado y salida al balc\\xc3\\xb3n, el cual ofrece una vista panor\\xc3\\xa1mica. la cocina independiente se encuentra totalmente reciclada y adem\\xc3\\xa1s con lavadero independiente, calef\\xc3\\xb3n a gas, luz y ventilaci\\xc3\\xb3n natural- ba\\xc3\\xb1o completo con ba\\xc3\\xb1era tambi\\xc3\\xa9n reciclado.    edificio de 40 a\\xc3\\xb1os, entrada reciclada hace pocos a\\xc3\\xb1os y muy bien mantenimiento general.  las expensas rondan los $ 2.200 mensuales.- abl: $ 240 .-  las medidas son aproximadas, las mismas resultar\\xc3\\xa1n del respectivo t\\xc3\\xadtulo de propiedad.-',\n",
       "       \"corredor responsable: leonel d'atri - cucicba 6618contacto: sebasti\\xc3\\xa1n pociello - mls id # 420751029-38departamento en pleno micro centro con garage, en carlos pellegrini y av. rivadavia. excelente ubicaci\\xc3\\xb3n. apto profesional.  cuenta con una superficie de 77m2. tiene dos habitaciones. ba\\xc3\\xb1o completo. cocina. buen estado general. todos los ambientes alfombrados, con aire acondicionado y empapelados. muy luminoso  tradicional edificio de la zona. cuenta con 4 ascensores y c\\xc3\\xa1mara de seguridad en todos los pisos.  expensas $2000 mensuales.  excelente oportunidad. ideal para inversi\\xc3\\xb3n.\",\n",
       "       'corredor responsable: eleonora medeot minujen - cmcpdjlm 682contacto: luciano mandaradoni - mls id # 420911004-7martillera: eleonora medeot minujen cmcpdjlm 682 / cpi 6867  todas las propiedades que figuren en mi perfil se encuentran a cargo del profesional matriculado de la oficina, la intermediaci\\xc3\\xb3n y la conclusi\\xc3\\xb3n de las operaciones ser\\xc3\\xa1n llevada exclusivamente por \\xc3\\xa9l.  departamento tipo duplex ubicado en ciudadela, 9\\xc2\\xb0 y 10\\xc2\\xb0 piso, excelente vista, excelente luminosidad. planta baja: (medidas aproximadas) living comedor, cocina 8,36 x 4,00 mts.  balc\\xc3\\xb3n terraza 8,36 x 500 mts. con parrilla.  balc\\xc3\\xb3n cerrado 3,70 x 0,65  ba\\xc3\\xb1o de servicio.   planta alta: (medidas aproximadas) 2 dormitorios 3,60 x 3,00 mts. con placares fijos.  ba\\xc3\\xb1o completo 1,50 x 2,00 mts.  lavadero balc\\xc3\\xb3n 1,00 x 4,00 mts.   terminal micros de larga distancia a cuatro cuadras, estaci\\xc3\\xb3n liniers a 5 cuadras, metrobus juan b. justo a 6 cuadras, shoping liniers a 4 cuadras, bingo ciudadela a 1 cuadra. l\\xc3\\xadneas de colectivos 1,2,4,21,28, 34, 46, 47, 52, 80, 86, 88, 96, 104, 106, 108, 109, 117, 136, 153, 161, 162, 163, 166, 172, 174, 182. 185 y otras. ',\n",
       "       'venta triplex a estrenar con cochera doble en villa urquizaubicado sobre bucarelli entre juramento y echeverria. a metros de av. mendoza y de la av. triunviratoexcelente duplex a estrenar. piso alto con vista abierta. muy buena luminosidad. en piso 7\\xc2\\xb0: gran living comedor con salida a balc\\xc3\\xb3n corrido. cocina, lavadero integrado. toilette de recepci\\xc3\\xb3n. en piso 8\\xc2\\xb0: dos dormitorios, ambos con salida a balc\\xc3\\xb3n corrido. dos ba\\xc3\\xb1os completos. en el 9\\xc2\\xb0 piso: amplia terraza. cochera fija doble se puede vender sin cocheraamenities: piscina- gimnasioimportante: estos precios estan a sujetos a aprobacion del propietario',\n",
       "       'hermoso departamento 3amb - 50m2 - 9\\xc2\\xb0 piso en barrio norte.unidad:living comedor con salida al balc\\xc3\\xb3n interno, pasillo de distribuci\\xc3\\xb3n con ventilaci\\xc3\\xb3n al exterior, cocina con amoblamientos completos con salida al balc\\xc3\\xb3n, dormitorio principal con placard, segundo dormitorio, ba\\xc3\\xb1o completo con ba\\xc3\\xb1era, balc\\xc3\\xb3n con conexi\\xc3\\xb3n para lavarropas y bacha.calefacci\\xc3\\xb3n central por loza radiante y aire acondicionado en living comedor.edificio:edificio en muy buenas condiciones edilicias.2 ascensores actualizados recientemente.encargado fijo.ubicaci\\xc3\\xb3n:a mts del subte l\\xc3\\xadnea d - estaci\\xc3\\xb3n \"facultad de medicina\".a 3 cuadras de av. santa f\\xc3\\xa9.a mts de la facultad de ciencias econ\\xc3\\xb3micas, facultad de medicina y facultad de odontolog\\xc3\\xada.en frente a la plaza dr. bernardo houssay.cerca de colegios, hospitales y cl\\xc3\\xadnicas, bares y restaurantes.*apto profesional**apto cr\\xc3\\x89dito**apto mascotas*para m\\xc3\\xa1s informaci\\xc3\\xb3n y/o visitas comunicarse a:(011)-15-.-',\n",
       "       'con renta! hom! excelente edificio nuevo con muchisima onda, en inmejorable ubicacion en palermo. esta a pasos del subte d.muy cerquita del shopping alto palermo. tiene pileta en terraza con solarium. parrilla. sum. seguridad 24 hs. gym. otra pileta en el 9no piso. tiene un parking comercial por hora en el edificio.el estudio apro profesional tiene un patio de 20 m2. ba\\xc3\\xb1o completo y kichinette. pisos de porcelanato. y detalles de nivel.no te lo pierdas!orwel153121123415311366681531136636 medidas, superficies y expensas consignadas en la presente son aproximadas; y al solo efecto orientativo. los datos definitivos son los que surgir\\xc3\\xa1n del titulo de la propiedad y de los comprobantes respaldatorios\"',\n",
       "       'hom! excelente edificio de altisima categoria, a estrenar, muchisima onda, en inmejorable ubicacion en palermo. esta a pasos del subte d.muy cerquita del shopping alto palermo. importate entrada en doble altura revestida en marmol.tiene pileta en terraza con solarium. parrilla. sum. seguridad 24 hs. gym. otra pileta en el 9no piso. tiene un parking comercial por hora en el edificio.el estudio apto profesional tiene un ba\\xc3\\xb1o y una kitchinet.alquiler:$15000 + gastos!no te lo pierdas!orwel153121123415311366681531136636 medidas, superficies y expensas consignadas en la presente son aproximadas; y al solo efecto orientativo. los datos definitivos son los que surgir\\xc3\\xa1n del titulo de la propiedad y de los comprobantes respaldatorios\"',\n",
       "       'venta con renta!!!hom! excelente edificio de altisima categoria,  muchisima onda, en inmejorable ubicaci\\xc3\\xb3n en palermo. esta a pasos del subte d.muy cerquita del shopping alto palermo. importate entrada en doble altura revestida en marmol.tiene pileta en terraza con solarium. parrilla. sum. seguridad 24 hs. gym. otra pileta en el 9no piso. tiene un parking comercial por hora en el edificio.el estudio apto profesional con una kitchinet y un ba\\xc3\\xb1o completo y balcon.no te lo pierdas!orwel153121123415311366681531136636 medidas, superficies y expensas consignadas en la presente son aproximadas; y al solo efecto orientativo. los datos definitivos son los que surgir\\xc3\\xa1n del titulo de la propiedad y de los comprobantes respaldatorios\"',\n",
       "       'hom! excelente edificio de altisima categoria,  muchisima onda, en inmejorable ubicaci\\xc3\\xb3n en palermo. esta a pasos del subte d.muy cerquita del shopping alto palermo. importate entrada en doble altura revestida en marmol.tiene pileta en terraza con solarium. parrilla. sum. seguridad 24 hs. gym. otra pileta en el 9no piso. tiene un parking comercial por hora en el edificio.el estudio apto profesional con una kitchinet y un ba\\xc3\\xb1o completo y balcon.no te lo pierdas!orwel153121123415311366681531136636 medidas, superficies y expensas consignadas en la presente son aproximadas; y al solo efecto orientativo. los datos definitivos son los que surgir\\xc3\\xa1n del titulo de la propiedad y de los comprobantes respaldatorios\"',\n",
       "       'hom! excelente edificio de altisima categoria,  muchisima onda, en inmejorable ubicaci\\xc3\\xb3n en palermo. esta a pasos del subte d.muy cerquita del shopping alto palermo. importate entrada en doble altura revestida en marmol.tiene pileta en terraza con solarium. parrilla. sum. seguridad 24 hs. gym. otra pileta en el 9no piso. tiene un parking comercial por hora en el edificio.el estudio apto profesional con una kitchinet y un ba\\xc3\\xb1o completo y balcon.no te lo pierdas!orwel153121123415311366681531136636 medidas, superficies y expensas consignadas en la presente son aproximadas; y al solo efecto orientativo. los datos definitivos son los que surgir\\xc3\\xa1n del titulo de la propiedad y de los comprobantes respaldatorios\"',\n",
       "       'corredor responsable: maria natale - cucicba 6030contacto: maria natale - mls id # 420461006-154martillero/a: mar\\xc3\\x8da natale cucicba 6030 / hector monc\\xc3\\x81rz cpmclz 4030    amplio departamento de 3 dormitorios y dependencia de servicio. est\\xc3\\xa1 ubicado sobre avda. rivadavia cercano a plaza flores en un edificio de s\\xc3\\xb3lida construcci\\xc3\\xb3n con balc\\xc3\\xb3n corrido en noveno piso al frente. super luminoso con vista abierta!!!! el living da al frente con salida al balc\\xc3\\xb3n, el dormitorio principal al frente con ventana placard completo de piso a techo. los otros 2 dormitorios tienen ventana al aire y luz y placard . ba\\xc3\\xb1o completo y toilette originales en buen estado de conservaci\\xc3\\xb3n. c\\xc3\\xb3moda cocina con ventana al aire y luz, lavadero independiente, habitaci\\xc3\\xb3n de servicio. pisos de parquet en living dormitorios y pasillos. entrada principal y de servicio, puertas blindadas, calefacci\\xc3\\xb3n por losa radiante y agua caliente central. seguridad durante la noche.  expensas a junio/2017 $ 4.083.-   advertencia importante: los montos especificados de expensas responden a una declaraci\\xc3\\xb3n del propietario el d\\xc3\\xada que fue autorizada la propiedad y/o de la liquidaci\\xc3\\xb3n de expensas entregada en fotocopia. habitualmente el mismo no est\\xc3\\xa1 actualizado. verificar el monto actualizado previo al alquiler/compra de la propiedad.',\n",
       "       'codigo: 572-1565 ubicado en: av. alvear 1500 -  publicado por: la city propiedades. el precio es de usd 1980000 null. piso de departamentos en venta sobre av. alvear entre parera y montevideo edificio cl\\xc3\\xa1sico franc\\xc3\\xa9s muy buen contra frente lleno de luz y sol de ma\\xc3\\xb1ana superficie propia: 385 m2 + un cuarto grande y baulera en el 9\\xc2\\xb0 piso 2 cocheras, acceso por rampa de hormig\\xc3\\xb3n, servicios centrales, vigilancia 24 horas. el piso se compone de living, comedor, escritorio, toilette, estar \\xc3\\xadntimo , 5 dormitorios, 4 ba\\xc3\\xb1os, amplias dependencias, cocina, lavadero, 2 cuartos de servicio. importante hall de entrada. excelente estado general . publicado a trav\\xc3\\xa9s de mapaprop',\n",
       "       'venta de departamento 2 dormitorios, la plata.venta de departamento 2 dormitorios. excelente departamento de 2 dormitorios, cocina separada, living, dormitorios con placar, ba\\xc3\\xb1o con hidromasaje. piso 9no, excelente vista, pisos de porcelanato y parquet en los dormitorios, balc\\xc3\\xb3n. permuta. financia.alquilado hasta febrero de 2018. -  - betancor',\n",
       "       'corredor responsable: pedro j. moldes - csi 6228contacto: norberto prinsich - mls id # 420851019-1martillero:  pedro jose moldes cucicba 6694 / cmcpsi 6228 av. diego carman 131, martinez san isidro, 1642 argentina  todas las propiedades que figuran en mi perfil se encuentran a cargo del profesional matriculado de la oficina, la intermediaci\\xc3\\xb3n y la conclusi\\xc3\\xb3n de las operaciones ser\\xc3\\xa1n llevadas exclusivamente por \\xc3\\xa9l.  ver video https://  barrio norte, excelente semipiso muy luminoso, apto credito, ubicado sobre la calle gallo esquina avda. santa fe, zona comercial de excelencia y con diversos medios de transporte (subte d y varias lineas de colectivos) que facilitan el traslado hacia todos los puntos de la ciudad. el edificio (proyecto mario roberto alvarez) tiene una excelente orientaci\\xc3\\xb2n (ne) lo que hace que todos los ambientes principales tengan gran luminosidad. la unidad tiene palier privado y de servicio y consta de un amplio hall de recepci\\xc3\\xb2n con placard, gran living-comedor con salida a balc\\xc3\\xb2n corrido que abarca tambi\\xc3\\xa8n a uno de los dormitorios, hall \\xc3\\xacntimo que conecta a los 2 dormitorios, ambos tambi\\xc3\\xa8n al frente y cada uno con ba\\xc3\\xb1o completo y amplio placard. tanto el living-comedor como los dormitorios tienen persianas tipo \"barrios\" de madera. la cocina es muy c\\xc3\\xb2moda con profusi\\xc3\\xb2n de muebles altos y bajos. posee adem\\xc3\\xa0s un amplio lavadero independiente con pileta, mesada y lugar para lavarropas y secarropas. ambos ambientes tienen grandes ventanales que permiten la entrada de luz natural. muy buena dependencia de servicio con ba\\xc3\\xb1o completo y c\\xc3\\xb2modo placard.  tiene adem\\xc3\\xa0s una amplia baulera en 3\\xc2\\xba ss expensas $ 7.500.- aprox. abl $ 1.700.-  seguridad 24 hs opcional cochera fija, es una unidad funcional que se encuentra en edificio por medio. su compra es opcional y su precio usd 29.000.- mudate a la vida que queres! estamos a un llamado de distancia! consultame!   ',\n",
       "       'corredor responsable: cristian arnal ponti - c.u.c.i.c.b.a 3570contacto: paula bidegain - mls id # 221101-88apto credito. espectacular gran ambiente con dos balcones, cocina integrada y ba\\xc3\\xb1o completo. en segundo nivel, otro peque\\xc3\\xb1o ambiente y gran terraza propia. todo luz y sol, incre\\xc3\\xadbles vistas abiertas de la ciudad. edificio de dos a\\xc3\\xb1os de antig\\xc3\\xbcedad. agua caliente central. amenities: pileta, sum (sin finalizar), laundry (sin finalizar) expensas $1.400 superficies: piso 9\\xc2\\xb0: 41,39 m2 cubiertos, 6,90 m2 semi.cubiertos, 2,33 m2 balcon piso 10\\xc2\\xb0: 11,29 m2 cubiertos, 7,24 semi-cubiertos, 26,96 m2 descubiertos superficie total: 96,11 m2',\n",
       "       'hermoso departamento -living comedor - 1 ba\\xc3\\xb1o -  2 dormitorios  - puerta blindada - loza radiante  -  en una excelente zona de belgrano a 2 cuadras de cabildo y 4 de libertador - muy buena ubicacionlinea d de subtetodas las lineas de colectivosambientes amplios hermosa vista y gran balcon de 9 metrosinformaci\\xc3\\xb3n adicional: agua calienteascensorascensores de servicioascensores principalesgas naturalmuebles de cocinaablgas naturalrentascaracter\\xc3\\xadsticas y servicios del edificio: antig\\xc3\\xbcedad del edificio: 37',\n",
       "       'unidad de 2 dormitorios ubicada en el 19no piso con vista al frente. living comedor con salida a balcon. cocina integrada. dormitorio principal con placard y ba\\xc3\\xb1o en suite.  segundo dormitorio con placard. ba\\xc3\\xb1o completo.',\n",
       "       'unidad de 1 dormitorio ubicada en el 19no piso. living comedor con salida a balcon. cocina integrada. dormitorio principal con placard. ba\\xc3\\xb1o completo.',\n",
       "       'corredor responsable: fernando mu\\xc3\\xb1oz - cucicba 6573contacto: joel catacata garcia - mls id # 420321061-32excelente departamento en el barrio de san telmo. consta de living, habitaci\\xc3\\xb3n grande con entrepiso , cocina comedor , patio descubierto y ba\\xc3\\xb1o completo.  no apto credito  ubicado a metros de la universidad abierta interamericana (uai) y  una cuadra de la estaci\\xc3\\xb3n de subte san juan. expensas: $1.400 (agosto 2017)',\n",
       "       'corredor responsable: marcelo trujillo - cucicba 6470 / cmcpdjlm 810contacto: clara grassi - mls id # 420261077-11espectacular  piso sobre av del libertador . impresionante vista abierta al rosedal. renovado completamente con detalles de buen gusto y calidad premium palier privado. importante hall de ingreso con placard y toilette de recepcion. gran living  con salida a balc\\xc3\\xb3n corrido.  tres dormitorios: el principal en suite con ba\\xc3\\xb1o compartimentado, doble bacha e hidromasaje y sauna, gran vestidor con frente de placard espejado y salida a balcon. segundo dormitorio en suite, ba\\xc3\\xb1o completo y gran espacio de guardado.  m\\xc3\\xa1s un escritorio que tiene posibilidad de ser 3\\xc2\\xba dormitorio.3\\xc2\\xb0 ba\\xc3\\xb1o completo.. persianas el\\xc3\\xa9ctricas. playrrom.  moderna cocina , gran tama\\xc3\\xb1o ,  comedor diario y equipada con electrodomesticos de ultima generacion. lavadero independiente.  dependencias de servicio. cochera fija . baulera calefacci\\xc3\\xb3n por losa radiante.  agua caliente central.  ',\n",
       "       'diagonal 77 entre 1 y 2departamento en dos plantas de 1 dormitorio a estrenar, ubicado en noveno piso al frente sobre la diagonal, cuenta con una superficie cubierta de 47 m2 aprox, dormitorio con frente de placard, cocina con muebles bajo mesada y ba\\xc3\\xb1o con ducha, cuenta con cerramientos de aluminio. terraza en com\\xc3\\xban con lavadero.  entrega aproximada en 1 mes. escritura de parte indivisa. valor vigente a agosto del 2017. se escuchan ofertas.',\n",
       "       'venta de departamento 2 dormitorios en la plata, la plata42 entre 10 y 11 contra-frente duplex ( piso 8 y 9). 81m2 cubiertos m\\xc3\\xa1s 38m2 de terraza.  ingreso a un estar comedor con salida a la terraza, cocina separada por barra, lavadero separado, toilette. pa 2 dormitorios y ba\\xc3\\xb1o completo. en terminaci\\xc3\\xb3n, muy buena calidad, pisos de parquet en toda la propiedad y cochera cubierta. no apto banco -  - constant propiedades',\n",
       "       'venta de departamento 1 dormitorio, la platadesarrollado en dos plantas en un 8vo y 9no piso al frente, living-comedor con cocina integrada, ba\\xc3\\xb1o completo, dormitorio con placard.escritura parte indivisa. estrenar. -  - constant propiedades',\n",
       "       \"corredor responsable: francisco d'atri - cpmcal 45contacto: gabriela rodr\\xc3\\xadguez - mls id # 420751043-8departamento en 9\\xc2\\xb0 piso lateral. ambiente de recepci\\xc3\\xb3n con espejo. living comedor de 5,70 x 3 - paso distribuidor de 1 x 3 - dormitorio de 3,20 x 3,10 con placard y biblioteca empotrados - ba\\xc3\\xb1o instalado completo de 1,90 x 1,50 - dormitorio 3 x 2,30 con placard - cocina de 2,20 x 2,80 con mesada de granito, muebles bajo y alacena en f\\xc3\\xb3rmica - lavadero de 2,80 x 1 con espacio para lavarropas y mueble colgante. vista panor\\xc3\\xa1mica en todos los ambientes.- \",\n",
       "       '**departamento en 9 piso muy luminoso en muy buen estado .** hall de recibo, amplio living-comedor con pisos de parquet, balc\\xc3\\xb3n corrido al frente con con hermosa  vista al este,. ba\\xc3\\xb1o completo reciclado a nuevo, dos dormitorios con placard y pisos de parquet. tercer dormitorio o escritorio. cocina comedor diario reciclada a nuevo con isla, muebles alto y bajo mesada. lavadero y ba\\xc3\\xb1o de servicio, entrada principal y auxiliar.- todas las aberturas son nuevas con doble vidriado. -  - juarez levar propiedades',\n",
       "       'magnifico semipiso en recoleta con cochera cubierta.living comedor muy luminoso con salida balc\\xc3\\x83\\xc2\\xb3n aterrazado. dormitorio principal en suite con salida a balc\\xc3\\x83\\xc2\\xb3n. segundo dormitorio con placares amplios , ba\\xc3\\x83\\xc2\\xb1o completo. cocina , comedor diario. habitaci\\xc3\\x83\\xc2\\xb3n de servicio amplia y soleada (puede ser utilizada como tercer dormitorio o escritorio), ba\\xc3\\x83\\xc2\\xb1o entrada de servicio y amplia baulera. calefacci\\xc3\\x83\\xc2\\xb3n central. vigilancia 24 hs.',\n",
       "       'ideal rentista o primera propiedad con creditomagnifico departamento en 9no pisovista abiertabalc\\xc3\\xb3nmuy buenos accesos muy segurodisposici\\xc3\\xb3n: contrafrenteorientaci\\xc3\\xb3n: sudoesteapto profesionalsup. cubierta: 36 m\\xc2\\xb2sup. descubierta: 3 m\\xc2\\xb2ambiente: 8 x 3hall: 2x2balcon: 3 x 1,25ba\\xc3\\xb1o completo: 3,25 x 2todo luz y airecaracter\\xc3\\xadsticas del edificio:cant. pisos: 12deptos. por piso: 4superficie total (m2):\\t277.00superficie cubierta (m2):\\t2895.00frente (m):\\t8.52fondo (m):\\t32.51pisos sobre-rasante:\\t14pisos bajo-rasante:\\t0propiedad horizontal:\\tsiunidades funcionales:\\t51locales:\\t1valor \\xc3\\x9anico de cuadra:\\t0.30identificador catastral:\\t12-012-007partida matriz:\\t218136puertas: belgrano av. /1654transportes cercanoscolectivos:\\t2, 6, 8, 12, 23, 37, 39, 50, 56, 60, 64, 84, 86, 90, 96, 98, 102, 103, 150, 151, 168datos \\xc3\\xbatilesbarrio:\\tmonserratcomuna:\\tcomuna 1\\xc3\\x81rea hospitalaria:\\thtal. dr. j.m. ramos mej\\xc3\\x8daregi\\xc3\\xb3n sanitaria:\\ti (este)comisar\\xc3\\xada:\\t6distrito escolar:\\tdistrito escolar iiic\\xc3\\xb3digo postal:\\t1093c\\xc3\\xb3digo postal argentino:\\tc1093aarc\\xc3\\xb3digo de planeamiento urbano:\\tc3 ilatitud/longitud:\\t-34.613945, -58.389668nota: valor es libre de costos  de escrituracionapto profesional',\n",
       "       'imponente piso  al frente con espectacular vista al jardin botanico, una de las mejores zonas de palermo.es un 9\\xc2\\xb0 piso al frente, con balc\\xc3\\xb3n corrido y gran living  apaisado con doble circulaci\\xc3\\xb3n.  tiene  cocina completa con lavadero independiente y dependencia de servicio con ba\\xc3\\xb1o propio. en el centro del departamento tiene una sector que puede ser usado como comedor diario o como playroom. tiene 2 dormitorios en suite y  dos dormitorios mas que comparten un ba\\xc3\\xb1o completo. la planta total es de 234  mts, posee doble entrada y  doble circulaci\\xc3\\xb3n,.2 cocheras fijas no deje de consultarnos para realizar una visita.                    ',\n",
       "       'departamento muy luminoso en el 9no piso de una torre, estar comedor con piso de granito, 2 dormitorios con placard, cocina completa y lavadero,  se calefacciona mediante estufa a gas, la caldera es central y hay vigilancia las 24hsexpensas $2100 + $1000 extraordinarias hasta fin de a\\xc3\\xb1o.venta sujeta a la obtencion del coti por parte de propietario. 6333',\n",
       "       'corredor responsable: rebeca stern - c.u.c.i.c.b.a 4824contacto: fabi\\xc3\\xa1n lukszan - mls id # 420101226-5exclusivo semipiso con palier privado. amplio living comedor con salida a gran balc\\xc3\\xb3n terraza de 30 m2. cocina y lavadero independientes, ba\\xc3\\xb1o completo con ventilaci\\xc3\\xb3n natural. estufas tiro balanceado, cortinas sun screen. placards de piso a techo en dormitorio y living. muy luminoso y ventilado en todos sus ambientes. impecable estado. excelente ubicaci\\xc3\\xb3n pr\\xc3\\xb3xima a subte, tren, avenidas, colegios, polo gastron\\xc3\\xb3mico y comercial.  se vende con renta hasta marzo de 2018. no apto cr\\xc3\\xa9dito.  expensas: $ 2756.-  nota: superficies seg\\xc3\\xban escritura: 44,01 m2 cubiertos; 7,29 m2 semucubiertos; 18,79 m2 descubierta; 3,54 m2 de balc\\xc3\\xb3n; 73,03 m2 totales.   martillero y corredor responsable: rebeca stern cucicba 4824 / maximiliano vazquez csi 5119    todas las propiedades que figuran en mi perfil se encuentran a cargo del profesional matriculado de la oficina, la intermediaci\\xc3\\xb3n y la conclusi\\xc3\\xb3n de las operaciones ser\\xc3\\xa1n llevadas exclusivamente por \\xc3\\xa9l. ',\n",
       "       'venta de ambiente unico en edificio a estrenar piso 9\\xc2\\xba dto \"b\" al cfte. living con cocina integrada. ba\\xc3\\x91o.  las medidas son aproximadas y dadas por el propietario. fecha de entrega aprox fines 2014 -  - pablo yaryura propiedades',\n",
       "       'corredor responsable: luis varela - csi 5527 / cucicba 3872contacto: walter barrios - mls id # 351104-67living comedor al frente, aire acondicionado frio/calor. mucha luz, vista abierta. cocina completa con bajo mesada y alacenas, calef\\xc3\\xb3n con solo 4 a\\xc3\\xb1os de uso, lavadero contiguo con bacha y conexi\\xc3\\xb3n para lavarropas. ba\\xc3\\xb1o completo con ducha, reciclado hace 5 a\\xc3\\xb1os.  dormitorio 1: al frente con placard mediano. 3x3 dormitorio 2: tambi\\xc3\\xa9n al frente con placard mediano. 4x3,50 dormitorio 3: vista lateral, placard grande. 2,50x4  expensas $1500.- abl $150.-  dos ascensores instalaci\\xc3\\x93n de luz en el depto toda nueva.  \"en cumplimiento de la ley 2340 cucicba, ley 10.973 de la prov. bs.as., ley nacional 25.028, ley 22.802 de lealtad comercial, ley 24.240 de defensa al consumidor, las normas del c\\xc3\\xb3digo civil y comercial de la naci\\xc3\\xb3n y constitucionales, los agentes no ejercen el corretaje inmobiliario. todas las operaciones inmobiliarias son objeto de intermediaci\\xc3\\xb3n y conclusi\\xc3\\xb3n por parte de los martilleros y corredores colegiados, cuyos datos se exhiben debajo del nombre de la inmobiliaria.\"  corredor matriculado luis mar\\xc3\\x8da varela  cucicba 3872 / csi 5527. ',\n",
       "       'corredor responsable: hernan perrone - c.u.c.i.c.b.a 2792contacto: lic. brian dubin - mls id # 151156-45hern\\xc3\\xa1n perrone martillero y corredor responsable cucicba 2792  excelente  piso de 97 mt2 totales.  86 cubiertos expensas aprox $4000 orientaci\\xc3\\xb3n nor este   living 4,2x3,6 balc\\xc3\\xb3n corrido 8x1,4 cocina 4,6x2 dormitorio con vestidor y ba\\xc3\\xb1o en suite 6x4 2 dormitorio con vestidor y ba\\xc3\\xb1o en suite 6x3 ba\\xc3\\xb1o completo 1,8x1,9 escritorio 2,6x2,2 pasillo 10x1,3 distribuci\\xc3\\xb3n 2x2  servicios por caldera individual  ',\n",
       "       'venta - departamento - argentina, buenos aires, capital federal, belgrano - 4 dormitorios - con cocheraexcelente d\\xc3\\xbaplex en muy buen estado con vista abierta sobre la copa de los arboles en jos\\xc3\\xa9 hernandez y 11 de septiembre.esta unidad se desarrolla en dos plantas. en el piso 8\\xc2\\xb0, tiene el hall de entrada con importante escalera principal que sube a la planta del 9\\xc2\\xb0 piso. luego tiene apaisada una amplia recepci\\xc3\\xb3n compuesta por 3 sectores bien definidos. un estar o living en el medio de la recepci\\xc3\\xb3n, un sector de escritorio y el comedor. todo al balc\\xc3\\xb3n corrido de casi 14 metros sobre jos\\xc3\\xa9 hernandez. en este mismo piso tiene 2 dormitorios, el principal en suite con vestidor y ba\\xc3\\xb1o completo y un 2do dormitorio que tiene otro ba\\xc3\\xb1o completo que hace las veces tambi\\xc3\\xa9n de toilette de recepci\\xc3\\xb3n. cocina, un gran comedor diario, dependencias de servicio y lavadero aparte.en el comedor diario hay una escalera \"tipo caracol\" como de servicio que desemboca al igual que la escalera principal, en un gran playroom que hay en el piso 9\\xc2\\xb0, de tal manera que se puede circular entre los 2 dormitorios y el playroom que hay en el piso 9 hacia el sector de cocina, comedor diario y servicio de la planta inferior, sin necesidad de pasar por la escalera principal ni la recepci\\xc3\\xb3n generando una perfecta doble circulaci\\xc3\\xb3n.en el piso 9\\xc2\\xb0 hay entonces adem\\xc3\\xa1s del playroom dos dormitorios mas y otro ba\\xc3\\xb1o completo y un balc\\xc3\\xb3n al que se accede desde el playroom.todos los pisos son de parquet y est\\xc3\\xa1n en muy buen estado. tiene cortinas de enrollar tipo barrio. ha sido reciclado todo en el a\\xc3\\xb1o 2005.en 9\\xc2\\xba piso, el playroom o estar \\xc3\\xadntimo mide 5,80x5,75.la seguridad por un sistema de monitoreo llamado \"ojo de halc\\xc3\\xb3n de prosegur\" ( http:// ) con un sistema de monitoreo permanente sin la necesidad de personal fisicamente en el edificio.. - cucicba mat. 2779',\n",
       "       'recoleta, piso de categor\\xc3\\x83\\xc2\\xada en venta sobre avenida callao entre quintana y alvear. noveno piso, muy luminoso. pallier privado. hall de entrada; living-comedor con pisos de madera y salida al amplio balc\\xc3\\x83\\xc2\\xb3n; escritorio, que puede ser utilizado como dormitorio (se cierra con puertas corredizas). toilette con ducha. pasillo con espacio para playroom; dos amplios dormitorios, ambos con placards y mucha luz. ba\\xc3\\x83\\xc2\\xb1o completo, renovado. muy c\\xc3\\x83\\xc2\\xb3moda cocina, con alacenas y desayunador. lavadero. dormitorio de servicio de buenas dimensiones, con ba\\xc3\\x83\\xc2\\xb1o propio. doble circulaci\\xc3\\x83\\xc2\\xb3n. baulera muy amplia propia. calefacci\\xc3\\x83\\xc2\\xb3n y agua caliente centrales. el edificio tiene 14 pisos en total; dos ascensores. dos encargados. genearador que, ante un corte de luz, permite usar los ascensores y el agua corriente. expensas: 10.000$. abl: 1500$. aysa: 1200$ (bimestral). las medidas y superficies son aproximados. los datos definitivos son los que surgen del t\\xc3\\x83\\xc2\\xadtulo de propiedad. coti en tr\\xc3\\x83\\xc2\\xa1mite.',\n",
       "       'corredor responsable: mario gabriel gerez - cucicba 6477contacto: candelaria may - mls id # 371180-12venta ph en villa crespo con terraza propia   pb  living comedor con cocina integrada y toilette  pa dormitorio principal con amplio placard segundo dormitorio/escritorio ba\\xc3\\x91o completo   terraza  parrilla y lavadero    *no es apto credito.      corredor martillero mario gabriel gerez cucicba 6477 ',\n",
       "       'corredor responsable: laura avellaneda - cucicba 4054contacto: arqta. marisa yussem - mls id # 420571014-19depto duplex:(semipiso)  en el 9\\xc2\\xb0 p .  estar ,con salida al balcon corrido y aterrazado   3 dormitorios : suite con balcon independiente , 2 dormitorios todos con mucha luz , ba\\xc3\\x91o completo y toillete de recepcion , cocina comedor amplia y muy luminosa , al 10 \\xc2\\xb0p . se llega por una escalera de madera situada en el hall distribuidor del piso de abajo a un quincho construido en material y techo de madera natural de c\\xc3\\x93modas medidas;en la terraza tiene una parrilla con pileta de lavado de amplias dimensiones  , en el mismo nivel un lavadero y patio   2 cocheras cubiertas en p.b. y una baulera.  edificio de excelente construccion y calidad. seguridad de 10 pm a 6 am el edificio ademas cuenta en el ultimo piso con laundry.',\n",
       "       '\\xc3\\xbaltimos disponibles !!semipisos a estrenar, posesi\\xc3\\xb3n inmediata. -  - eduardo reyes propiedades',\n",
       "       'corredor responsable: florencia balague - cmcpdjlm 722contacto: nancy moscovich - mls id # 420141083-11esta propiedad se encuentra a metros de la av rivadavia a pocas cuadras de la estaci\\xc3\\xb2n. a metros del paso a nivel la unidad consta de  living comedor dos dormitorios  ba\\xc3\\xb1o completo hecho a nuevo muy moderno cocina completa  patio techado con cerramiento con la posibilidad de abrirlo muy pr\\xc3\\xa0ctico. no tiene cochera con posibilidad de alquiler .'], dtype=object)"
      ]
     },
     "execution_count": 178,
     "metadata": {},
     "output_type": "execute_result"
    }
   ],
   "source": [
    "data_2017_zo_zs_caba[data_2017_zo_zs_caba[\"rooms\"] == 9][\"description\"].values"
   ]
  },
  {
   "cell_type": "code",
   "execution_count": 179,
   "metadata": {},
   "outputs": [
    {
     "name": "stdout",
     "output_type": "stream",
     "text": [
      "El promedio para: 1 ambientes es: 59.6756241142 y su desviacion estandar es :149.158556168\n",
      "El promedio para: 2 ambientes es: 179.139844895 y su desviacion estandar es :19388.9324886\n",
      "El promedio para: 3 ambientes es: 83.5486098814 y su desviacion estandar es :217.460733598\n",
      "El promedio para: 4 ambientes es: 134.175352635 y su desviacion estandar es :1303.02361402\n",
      "El promedio para: 5 ambientes es: 177.677961847 y su desviacion estandar es :93.5442418768\n",
      "El promedio para: 6 ambientes es: 239.63322884 y su desviacion estandar es :603.79688206\n",
      "El promedio para: 7 ambientes es: 233.075367647 y su desviacion estandar es :161.952007931\n",
      "El promedio para: 8 ambientes es: 195.228571429 y su desviacion estandar es :209.740182091\n"
     ]
    }
   ],
   "source": [
    "#En promedio por ambiente, cual es su superficie cubierta?\n",
    "ambs = range(1,9)\n",
    "for amb in ambs:\n",
    "    promedio = data_2017_zo_zs_caba[data_2017_zo_zs_caba[\"rooms\"] == amb][\"surface_covered_in_m2\"].mean()\n",
    "    desviacion = data_2017_zo_zs_caba[data_2017_zo_zs_caba[\"rooms\"] == amb][\"surface_covered_in_m2\"].std()\n",
    "    print \"El promedio para: \"+str(amb)+\" ambientes es: \"+str(promedio)+\" y su desviacion estandar es :\"+str(desviacion)\n"
   ]
  },
  {
   "cell_type": "code",
   "execution_count": 180,
   "metadata": {
    "collapsed": true
   },
   "outputs": [],
   "source": [
    "#Primero me quedo con las que tengan < 1500 metros cuadrados "
   ]
  },
  {
   "cell_type": "code",
   "execution_count": 181,
   "metadata": {
    "collapsed": true
   },
   "outputs": [],
   "source": [
    "#Los que tengan mas de 8 ambientes, los pongo como NaN\n",
    "def filter_ambientes(row):\n",
    "    ambientes = row[\"rooms\"]\n",
    "    if ambientes > 8:\n",
    "        return np.nan\n",
    "    elif ambientes == 2.5:\n",
    "        return 3 #Son muy pocos estos dos \n",
    "    elif ambientes == 3.5:\n",
    "        return 4 \n",
    "    else:\n",
    "        return ambientes"
   ]
  },
  {
   "cell_type": "code",
   "execution_count": 182,
   "metadata": {},
   "outputs": [
    {
     "name": "stderr",
     "output_type": "stream",
     "text": [
      "/home/tomas/anaconda2/lib/python2.7/site-packages/ipykernel_launcher.py:1: SettingWithCopyWarning: \n",
      "A value is trying to be set on a copy of a slice from a DataFrame.\n",
      "Try using .loc[row_indexer,col_indexer] = value instead\n",
      "\n",
      "See the caveats in the documentation: http://pandas.pydata.org/pandas-docs/stable/indexing.html#indexing-view-versus-copy\n",
      "  \"\"\"Entry point for launching an IPython kernel.\n"
     ]
    }
   ],
   "source": [
    "data_2017_zo_zs_caba[\"rooms\"] = data_2017_zo_zs_caba.apply(lambda row: filter_ambientes(row), axis = 1)"
   ]
  },
  {
   "cell_type": "code",
   "execution_count": 183,
   "metadata": {},
   "outputs": [
    {
     "data": {
      "text/plain": [
       "2.0    29224\n",
       "3.0    23647\n",
       "1.0    19034\n",
       "4.0    13933\n",
       "5.0     4125\n",
       "6.0     1325\n",
       "7.0      550\n",
       "8.0      293\n",
       "Name: rooms, dtype: int64"
      ]
     },
     "execution_count": 183,
     "metadata": {},
     "output_type": "execute_result"
    }
   ],
   "source": [
    "data_2017_zo_zs_caba[\"rooms\"].value_counts()"
   ]
  },
  {
   "cell_type": "code",
   "execution_count": 275,
   "metadata": {},
   "outputs": [
    {
     "name": "stdout",
     "output_type": "stream",
     "text": [
      "7832.0\n"
     ]
    }
   ],
   "source": [
    "print data_2017_zo_zs_caba[\"surface_total_in_m2\"].max()"
   ]
  },
  {
   "cell_type": "code",
   "execution_count": 276,
   "metadata": {},
   "outputs": [
    {
     "data": {
      "text/plain": [
       "'c.a.b.a - boca - precio a consultar - c\\xc3\\x93digo 0005venta con renta. espectacular dep\\xc3\\xb3sito premium en esquina de 7700 m2 construidos, completamente equipado y con oficinas de primer nivel. sobre terreno de 5500 m2 (120 mts x 45 mts.) techos  altos de 12 mts parab\\xc3\\xb3lico con aislaci\\xc3\\xb3n, playa de maniobras, docks de carga sobre nivel, salida a 3 calles. en excelente ubicaci\\xc3\\xb3n a mts. de autopista 9 de julio sur y av. regimiento de patricios. zonificaci\\xc3\\xb3n i1 2: distrito industrial, industrial exclusivo. '"
      ]
     },
     "execution_count": 276,
     "metadata": {},
     "output_type": "execute_result"
    }
   ],
   "source": [
    "\n",
    "data_2017_zo_zs_caba =data_2017_zo_zs_caba[data_2017_zo_zs_caba[\"surface_total_in_m2\"] != data_2017_zo_zs_caba[\"surface_total_in_m2\"].max()]\n",
    "data_2017_zo_zs_caba[data_2017_zo_zs_caba[\"surface_total_in_m2\"] == data_2017_zo_zs_caba[\"surface_total_in_m2\"].max()][\"description\"].values[0]"
   ]
  },
  {
   "cell_type": "code",
   "execution_count": 149,
   "metadata": {
    "collapsed": true
   },
   "outputs": [],
   "source": [
    "#De los que no tenemos datos de la superficie cubierta, volvemos a eliminarlo porque no se pueden recuperar"
   ]
  },
  {
   "cell_type": "code",
   "execution_count": 277,
   "metadata": {
    "collapsed": true
   },
   "outputs": [],
   "source": [
    "def filter_surface_total_in_m2(row):\n",
    "    surface_total = row[\"surface_total_in_m2\"]\n",
    "    if surface_total > 9500:\n",
    "        return np.nan\n",
    "    elif surface_total == 0:\n",
    "        return np.nan\n",
    "    else:\n",
    "        return surface_total"
   ]
  },
  {
   "cell_type": "code",
   "execution_count": 278,
   "metadata": {},
   "outputs": [],
   "source": [
    "def filter_surface_covered_in_m2(row):\n",
    "    surface_covered = row[\"surface_covered_in_m2\"]\n",
    "    if surface_covered > 3000: \n",
    "        return np.nan\n",
    "#https://www.clarin.com/urbano/cada-vez-vive-mas-apretado-tres_dimensiones-miguel_jurado_0_S1OIXFtvXg.html\n",
    "#un monoambiente tiene como minimo 29 mts2\n",
    "    elif surface_covered < 29:\n",
    "        return np.nan\n",
    "    else:\n",
    "        return surface_covered\n"
   ]
  },
  {
   "cell_type": "code",
   "execution_count": 279,
   "metadata": {},
   "outputs": [],
   "source": [
    "data_2017_zo_zs_caba[\"surface_total_in_m2\"] = data_2017_zo_zs_caba.apply(lambda row: filter_surface_total_in_m2(row), axis = 1)"
   ]
  },
  {
   "cell_type": "code",
   "execution_count": 280,
   "metadata": {},
   "outputs": [],
   "source": [
    "data_2017_zo_zs_caba[\"surface_covered_in_m2\"] = data_2017_zo_zs_caba.apply(lambda row: filter_surface_covered_in_m2(row), axis = 1)"
   ]
  },
  {
   "cell_type": "code",
   "execution_count": 282,
   "metadata": {},
   "outputs": [
    {
     "data": {
      "text/plain": [
       "'c.a.b.a - boca - precio a consultar - c\\xc3\\x93digo 0005venta con renta. espectacular dep\\xc3\\xb3sito premium en esquina de 7700 m2 construidos, completamente equipado y con oficinas de primer nivel. sobre terreno de 5500 m2 (120 mts x 45 mts.) techos  altos de 12 mts parab\\xc3\\xb3lico con aislaci\\xc3\\xb3n, playa de maniobras, docks de carga sobre nivel, salida a 3 calles. en excelente ubicaci\\xc3\\xb3n a mts. de autopista 9 de julio sur y av. regimiento de patricios. zonificaci\\xc3\\xb3n i1 2: distrito industrial, industrial exclusivo. '"
      ]
     },
     "execution_count": 282,
     "metadata": {},
     "output_type": "execute_result"
    }
   ],
   "source": [
    "data_2017_zo_zs_caba[data_2017_zo_zs_caba[\"surface_total_in_m2\"] == data_2017_zo_zs_caba[\"surface_total_in_m2\"].max()][\"description\"].values[0]"
   ]
  },
  {
   "cell_type": "code",
   "execution_count": null,
   "metadata": {
    "collapsed": true
   },
   "outputs": [],
   "source": []
  }
 ],
 "metadata": {
  "kernelspec": {
   "display_name": "Python 2",
   "language": "python",
   "name": "python2"
  },
  "language_info": {
   "codemirror_mode": {
    "name": "ipython",
    "version": 2
   },
   "file_extension": ".py",
   "mimetype": "text/x-python",
   "name": "python",
   "nbconvert_exporter": "python",
   "pygments_lexer": "ipython2",
   "version": "2.7.13"
  }
 },
 "nbformat": 4,
 "nbformat_minor": 2
}
