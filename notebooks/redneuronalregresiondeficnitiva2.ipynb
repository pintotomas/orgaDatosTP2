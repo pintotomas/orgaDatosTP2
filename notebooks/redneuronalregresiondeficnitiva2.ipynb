{
 "cells": [
  {
   "cell_type": "code",
   "execution_count": 4,
   "metadata": {
    "collapsed": false
   },
   "outputs": [
    {
     "name": "stderr",
     "output_type": "stream",
     "text": [
      "Using TensorFlow backend.\n"
     ]
    }
   ],
   "source": [
    "import numpy\n",
    "import pandas\n",
    "from keras.models import Sequential\n",
    "from keras.layers import Dense\n",
    "from keras.wrappers.scikit_learn import KerasRegressor\n",
    "from sklearn.model_selection import cross_val_score\n",
    "from sklearn.model_selection import KFold\n",
    "from sklearn.preprocessing import StandardScaler\n",
    "from sklearn.pipeline import Pipeline\n",
    "from sklearn.metrics import accuracy_score"
   ]
  },
  {
   "cell_type": "code",
   "execution_count": 26,
   "metadata": {
    "collapsed": false
   },
   "outputs": [],
   "source": [
    "dataframe = pandas.read_csv(\"../data/files/test_set.csv\", delimiter=',',error_bad_lines=False,compression='gzip')\n",
    "\n",
    "xtest = dataframe.values\n",
    " \n",
    "xtest=xtest[:,0:4]"
   ]
  },
  {
   "cell_type": "code",
   "execution_count": 29,
   "metadata": {
    "collapsed": false
   },
   "outputs": [
    {
     "data": {
      "text/plain": [
       "array([[ 0.78782268,         nan,  0.10434504,  0.57858404],\n",
       "       [ 0.12527474,         nan,         nan,  0.6248561 ],\n",
       "       [ 0.58223803,         nan,  0.53502828,  0.7276547 ],\n",
       "       ..., \n",
       "       [ 0.43160473,         nan,  0.29190985,  0.01032999],\n",
       "       [ 0.04497931,         nan,  0.82359407,  0.66296043],\n",
       "       [ 0.16491328,         nan,  0.68592183,  0.35741933]])"
      ]
     },
     "execution_count": 29,
     "metadata": {},
     "output_type": "execute_result"
    }
   ],
   "source": [
    "xtest "
   ]
  },
  {
   "cell_type": "code",
   "execution_count": 21,
   "metadata": {
    "collapsed": false
   },
   "outputs": [],
   "source": [
    "dataframe = pandas.read_csv(\"../data/files/training_set.csv\", delimiter=',',error_bad_lines=False,compression='gzip')\n",
    "dataset = dataframe.values\n",
    " \n",
    "X = dataset[2:,0:4]\n",
    "Y = dataset[2:,3:4]"
   ]
  },
  {
   "cell_type": "code",
   "execution_count": 22,
   "metadata": {
    "collapsed": false
   },
   "outputs": [
    {
     "data": {
      "text/plain": [
       "array([[ 2.        ,  0.70731618,  0.07063119,  0.35393478],\n",
       "       [ 3.        ,  0.6658157 ,  0.07063119,  0.65333107],\n",
       "       [ 4.        ,  0.37703471,  0.07063119,  0.44315752],\n",
       "       [ 5.        ,  0.4958097 ,  0.07063119,  0.19724265]])"
      ]
     },
     "execution_count": 22,
     "metadata": {},
     "output_type": "execute_result"
    }
   ],
   "source": [
    "X[:4]"
   ]
  },
  {
   "cell_type": "code",
   "execution_count": 23,
   "metadata": {
    "collapsed": false
   },
   "outputs": [
    {
     "data": {
      "text/plain": [
       "array([[ 0.35393478],\n",
       "       [ 0.65333107],\n",
       "       [ 0.44315752],\n",
       "       [ 0.19724265]])"
      ]
     },
     "execution_count": 23,
     "metadata": {},
     "output_type": "execute_result"
    }
   ],
   "source": [
    "Y[:4]"
   ]
  },
  {
   "cell_type": "code",
   "execution_count": null,
   "metadata": {
    "collapsed": true
   },
   "outputs": [],
   "source": [
    " \n",
    "# define base model\n",
    "def baseline_model():\n",
    "\n",
    "    # create model\n",
    "    model = Sequential()\n",
    "    model.add(Dense(4, input_dim=4, init=\"normal\", activation='relu'))#cantidad de entradas es el 4,inputdim\n",
    "    model.add(Dense(1, init=\"normal\"))#salida\n",
    "    # Compile model\n",
    "    model.compile(loss='mean_squared_error', optimizer='adam')\n",
    "    \n",
    "    \n",
    "    return model"
   ]
  },
  {
   "cell_type": "code",
   "execution_count": null,
   "metadata": {
    "collapsed": true
   },
   "outputs": [],
   "source": [
    "# fix random seed for reproducibility\n",
    "seed = 7\n",
    "numpy.random.seed(seed)\n",
    "# evaluate model with standardized dataset\n",
    "estimator = KerasRegressor(build_fn=baseline_model, nb_epoch=3, batch_size=5, verbose=2)/#epocas cantidad de ciblos 100 tomaban \n",
    "\n",
    "    # round predictions\n"
   ]
  },
  {
   "cell_type": "code",
   "execution_count": null,
   "metadata": {
    "collapsed": true
   },
   "outputs": [],
   "source": [
    "kfold = KFold(n_splits=2, random_state=seed) #splits 5 o 10 \n",
    "results = cross_val_score(estimator, X, Y, cv=kfold)\n",
    "\n",
    "print(\"Results: %.2f (%.2f) MSE\" % (results.mean(), results.std()))\n",
    "estimator.fit(X, Y)\n",
    "prediction = estimator.predict(X)\n",
    " \n",
    "# round predictionsrounded =\n",
    "print(prediction) \n"
   ]
  },
  {
   "cell_type": "code",
   "execution_count": null,
   "metadata": {
    "collapsed": true
   },
   "outputs": [],
   "source": []
  }
 ],
 "metadata": {
  "kernelspec": {
   "display_name": "Python 2",
   "language": "python",
   "name": "python2"
  },
  "language_info": {
   "codemirror_mode": {
    "name": "ipython",
    "version": 2
   },
   "file_extension": ".py",
   "mimetype": "text/x-python",
   "name": "python",
   "nbconvert_exporter": "python",
   "pygments_lexer": "ipython2",
   "version": "2.7.13"
  }
 },
 "nbformat": 4,
 "nbformat_minor": 2
}
